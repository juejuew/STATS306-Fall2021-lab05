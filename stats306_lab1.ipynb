{
 "cells": [
  {
   "cell_type": "markdown",
   "metadata": {},
   "source": [
    "# Lab 1: Installing Jupyter Notebook and Diving into ggplot\n",
    "Partial notes refer to Byoungwook Jang. \n",
    "\n",
    "## Office Hours\n",
    "\n",
    "* My Office Hours: Monday 9-10 AM https://umich.zoom.us/j/93927303067\n",
    "* Yilei Zhang OH: Tue 8:30 AM - 9:30AM https://umich.zoom.us/j/96590881156\n",
    "* Holly Palmer OH: Wed 10 - 11 AM https://umich.zoom.us/j/93829304591\n",
    "* Yanxin Jin OH : Wed 6:30 PM - 7:30 PM  https://umich.zoom.us/j/92617579650\n",
    "\n",
    "    \n",
    "## Contact\n",
    "* homework and lecture question: Piazza\n",
    "* Personal / confidential question: email me with title starting [STATS 306]\n",
    "* Email: juejuew@umich.edu\n",
    "    \n",
    "##  What will be included in a lab session?\n",
    "* The lab session provide the students a chance to have more interactions with each other as well as the respective GSI\n",
    "* We will go over some lecture materials and solve problems interactively\n",
    "* We may also discuss homework problems, do exam reviews, and talk about exam solutions\n",
    "* For each lab, I will spent about 50 minutes to talk about lab materials. The rest of the time will be used as extra office hours. You are free to leave if you do not have questions to ask\n",
    "* Let me know if you have any questions or suggestions for the lab, I will make adjustments accordingly\n",
    "    \n",
    "## Lab materials?\n",
    "* Notes are available at GitHubpage: <https://juejuew.github.io/STATS306-Fall2021-lab05/>\n",
    "* Notebook Binder: <https://hub-binder.mybinder.ovh/user/juejuew-stats306-fall2021-lab05-7yytfe8x/tree>\n",
    "\n",
    "    \n",
    "## homework submit\n",
    "Homework will be submited through Canvas.  All of the homework will be in the form of Jupyter notebook.  You should submit your homework solution either as an html file or pdf file.  You should run your code and output your results.  If there are no results, you will not receive any points even if you have the code.\n",
    "\n",
    "###### Notes: please include both the code and the results in your html file or pdf file"
   ]
  },
  {
   "cell_type": "markdown",
   "metadata": {},
   "source": [
    "## Goals for today's lab\n",
    "\n",
    "After today's lab you will:\n",
    "\n",
    "* Have R and Jupyter notebook set up on your computer\n",
    "* Be more skilled in applying the techniques covered by the lectures last week"
   ]
  },
  {
   "cell_type": "markdown",
   "metadata": {},
   "source": [
    "## Setting up R and Jupyter"
   ]
  },
  {
   "cell_type": "markdown",
   "metadata": {},
   "source": [
    "Install Anacondda Python 3.x distribution from <https://www.anaconda.com/download/>.  \n",
    "\n",
    "Then, you can:\n",
    "-  *windows* -- start up Anaconda Prompt\n",
    "-  *linux/macOS* -- start up your terminal\n",
    "\n",
    "1. Install R from https://www.r-project.org/. If you already have an existing installation from 250 or another class you don't have to do this step, but reinstalling may still be the easiest solution since it should fix any paths that were changed by conda.\n",
    "\n",
    "\n",
    "2. To install IRkernel into your jupyter notebook, you have two options:\n",
    "\n",
    "###### Option 1:\n",
    "\n",
    "1) On OSX, open Terminal (command-space, type `Terminal`), then type `R` and hit enter to open an R prompt. If you didn't reinstall `R`, instead you may need to enter something like `/Library/Frameworks/R.framework/Versions/3.6/Resources/bin/R`, where the version number `3.6` may change depending on when you originally installed `R`.\n",
    "\n",
    "    On Windows, open Anaconda Prompt (or the console from the Anaconda Navigator). You then need to type or paste the path to the `R.exe` file in quotes to the console. If you used the default installation settings it should be something like\n",
    "    ```\n",
    "    \"C:\\Program Files\\R\\R-3.6.2\\bin\\x64\\R.exe\"\n",
    "    ```\n",
    "    Then hit enter to open an R prompt.\n",
    "    \n",
    "2) Once you have an R prompt open, run \n",
    "    ```\n",
    "    install.packages(\"IRkernel\")\n",
    "    library(IRkernel)\n",
    "    installspec()\n",
    "    ```\n",
    "\n",
    "######  Option 2: use the instruction in https://docs.anaconda.com/anaconda/navigator/tutorials/r-lang/\n",
    "   \n",
    "    \n",
    "Now you should be able to open jupyter notebooks and set the kernel to R. To check, open a notebook and go to Kernel->Change kernel.\n",
    "\n",
    "###### Notes: RStudio is also useful to intall. For further learning of R after this course, RStudio is a good choice of writing R codes."
   ]
  },
  {
   "cell_type": "markdown",
   "metadata": {},
   "source": [
    "## Getting Started"
   ]
  },
  {
   "cell_type": "code",
   "execution_count": 1,
   "metadata": {},
   "outputs": [
    {
     "data": {
      "text/html": [
       "'C:/Users/jueju/Desktop/stats 306/lab material'"
      ],
      "text/latex": [
       "'C:/Users/jueju/Desktop/stats 306/lab material'"
      ],
      "text/markdown": [
       "'C:/Users/jueju/Desktop/stats 306/lab material'"
      ],
      "text/plain": [
       "[1] \"C:/Users/jueju/Desktop/stats 306/lab material\""
      ]
     },
     "metadata": {},
     "output_type": "display_data"
    },
    {
     "data": {
      "text/html": [
       "<style>\n",
       ".list-inline {list-style: none; margin:0; padding: 0}\n",
       ".list-inline>li {display: inline-block}\n",
       ".list-inline>li:not(:last-child)::after {content: \"\\00b7\"; padding: 0 .5ex}\n",
       "</style>\n",
       "<ol class=list-inline><li>'CourseInformation.html'</li><li>'lab01notes.pdf'</li><li>'Lecture1.0 - Jupyter Notebook.pdf'</li><li>'Lecture1.05 - Jupyter Notebook.pdf'</li><li>'Lecture1.1 - Jupyter Notebook.pdf'</li><li>'stats306_lab1 solution.ipynb'</li><li>'stats306_lab1.ipynb'</li></ol>\n"
      ],
      "text/latex": [
       "\\begin{enumerate*}\n",
       "\\item 'CourseInformation.html'\n",
       "\\item 'lab01notes.pdf'\n",
       "\\item 'Lecture1.0 - Jupyter Notebook.pdf'\n",
       "\\item 'Lecture1.05 - Jupyter Notebook.pdf'\n",
       "\\item 'Lecture1.1 - Jupyter Notebook.pdf'\n",
       "\\item 'stats306\\_lab1 solution.ipynb'\n",
       "\\item 'stats306\\_lab1.ipynb'\n",
       "\\end{enumerate*}\n"
      ],
      "text/markdown": [
       "1. 'CourseInformation.html'\n",
       "2. 'lab01notes.pdf'\n",
       "3. 'Lecture1.0 - Jupyter Notebook.pdf'\n",
       "4. 'Lecture1.05 - Jupyter Notebook.pdf'\n",
       "5. 'Lecture1.1 - Jupyter Notebook.pdf'\n",
       "6. 'stats306_lab1 solution.ipynb'\n",
       "7. 'stats306_lab1.ipynb'\n",
       "\n",
       "\n"
      ],
      "text/plain": [
       "[1] \"CourseInformation.html\"             \"lab01notes.pdf\"                    \n",
       "[3] \"Lecture1.0 - Jupyter Notebook.pdf\"  \"Lecture1.05 - Jupyter Notebook.pdf\"\n",
       "[5] \"Lecture1.1 - Jupyter Notebook.pdf\"  \"stats306_lab1 solution.ipynb\"      \n",
       "[7] \"stats306_lab1.ipynb\"               "
      ]
     },
     "metadata": {},
     "output_type": "display_data"
    }
   ],
   "source": [
    "# get working directory\n",
    "getwd()\n",
    "list.files()"
   ]
  },
  {
   "cell_type": "markdown",
   "metadata": {},
   "source": [
    "## Vectors"
   ]
  },
  {
   "cell_type": "markdown",
   "metadata": {},
   "source": [
    "#### 1) Atomic vectors vs lists"
   ]
  },
  {
   "cell_type": "code",
   "execution_count": 2,
   "metadata": {},
   "outputs": [
    {
     "name": "stdout",
     "output_type": "stream",
     "text": [
      "[1] 1 2 3\n"
     ]
    },
    {
     "data": {
      "text/html": [
       "'numeric'"
      ],
      "text/latex": [
       "'numeric'"
      ],
      "text/markdown": [
       "'numeric'"
      ],
      "text/plain": [
       "[1] \"numeric\""
      ]
     },
     "metadata": {},
     "output_type": "display_data"
    }
   ],
   "source": [
    "# A vector \n",
    "v = c(1,2,3)\n",
    "print(v)\n",
    "class(v)"
   ]
  },
  {
   "cell_type": "code",
   "execution_count": 3,
   "metadata": {},
   "outputs": [
    {
     "name": "stdout",
     "output_type": "stream",
     "text": [
      "[[1]]\n",
      "[1] 1\n",
      "\n",
      "[[2]]\n",
      "[1] 2\n",
      "\n",
      "[[3]]\n",
      "[1] \"haha\"\n",
      "\n"
     ]
    },
    {
     "data": {
      "text/html": [
       "'list'"
      ],
      "text/latex": [
       "'list'"
      ],
      "text/markdown": [
       "'list'"
      ],
      "text/plain": [
       "[1] \"list\""
      ]
     },
     "metadata": {},
     "output_type": "display_data"
    }
   ],
   "source": [
    "# A list\n",
    "l = list(1,2,\"haha\")\n",
    "print(l)\n",
    "typeof(l)"
   ]
  },
  {
   "cell_type": "code",
   "execution_count": 4,
   "metadata": {},
   "outputs": [
    {
     "name": "stdout",
     "output_type": "stream",
     "text": [
      "[1] \"1\"    \"2\"    \"haha\"\n"
     ]
    },
    {
     "data": {
      "text/html": [
       "'character'"
      ],
      "text/latex": [
       "'character'"
      ],
      "text/markdown": [
       "'character'"
      ],
      "text/plain": [
       "[1] \"character\""
      ]
     },
     "metadata": {},
     "output_type": "display_data"
    }
   ],
   "source": [
    "# Automatic Coercion\n",
    "v = c(1,2,\"haha\")\n",
    "print(v)\n",
    "class(v)"
   ]
  },
  {
   "cell_type": "markdown",
   "metadata": {},
   "source": [
    "\n",
    "#### 2) create a vector"
   ]
  },
  {
   "cell_type": "code",
   "execution_count": 5,
   "metadata": {},
   "outputs": [
    {
     "name": "stdout",
     "output_type": "stream",
     "text": [
      " [1]  1  2  3  4  5  6  7  8  9 10\n"
     ]
    }
   ],
   "source": [
    "x <- c(1, 2, 3, 4, 5, 6, 7, 8, 9, 10)\n",
    "print(x)"
   ]
  },
  {
   "cell_type": "code",
   "execution_count": 6,
   "metadata": {},
   "outputs": [
    {
     "name": "stdout",
     "output_type": "stream",
     "text": [
      " [1]  1  2  3  4  5  6  7  8  9 10\n"
     ]
    }
   ],
   "source": [
    "x <- 1:10\n",
    "print(x)"
   ]
  },
  {
   "cell_type": "code",
   "execution_count": 7,
   "metadata": {},
   "outputs": [
    {
     "name": "stdout",
     "output_type": "stream",
     "text": [
      " [1]  1  2  3  4  5  6  7  8  9 10\n"
     ]
    }
   ],
   "source": [
    "x <- seq(from=1, to=10, by=1)\n",
    "print(x)"
   ]
  },
  {
   "cell_type": "code",
   "execution_count": 8,
   "metadata": {},
   "outputs": [
    {
     "data": {
      "text/html": [
       "<style>\n",
       ".list-inline {list-style: none; margin:0; padding: 0}\n",
       ".list-inline>li {display: inline-block}\n",
       ".list-inline>li:not(:last-child)::after {content: \"\\00b7\"; padding: 0 .5ex}\n",
       "</style>\n",
       "<ol class=list-inline><li>10</li><li>9</li><li>8</li><li>7</li><li>6</li><li>5</li><li>4</li><li>3</li><li>2</li><li>1</li></ol>\n"
      ],
      "text/latex": [
       "\\begin{enumerate*}\n",
       "\\item 10\n",
       "\\item 9\n",
       "\\item 8\n",
       "\\item 7\n",
       "\\item 6\n",
       "\\item 5\n",
       "\\item 4\n",
       "\\item 3\n",
       "\\item 2\n",
       "\\item 1\n",
       "\\end{enumerate*}\n"
      ],
      "text/markdown": [
       "1. 10\n",
       "2. 9\n",
       "3. 8\n",
       "4. 7\n",
       "5. 6\n",
       "6. 5\n",
       "7. 4\n",
       "8. 3\n",
       "9. 2\n",
       "10. 1\n",
       "\n",
       "\n"
      ],
      "text/plain": [
       " [1] 10  9  8  7  6  5  4  3  2  1"
      ]
     },
     "metadata": {},
     "output_type": "display_data"
    },
    {
     "data": {
      "text/html": [
       "<style>\n",
       ".list-inline {list-style: none; margin:0; padding: 0}\n",
       ".list-inline>li {display: inline-block}\n",
       ".list-inline>li:not(:last-child)::after {content: \"\\00b7\"; padding: 0 .5ex}\n",
       "</style>\n",
       "<ol class=list-inline><li>10</li><li>8</li><li>6</li><li>4</li><li>2</li><li>0</li></ol>\n"
      ],
      "text/latex": [
       "\\begin{enumerate*}\n",
       "\\item 10\n",
       "\\item 8\n",
       "\\item 6\n",
       "\\item 4\n",
       "\\item 2\n",
       "\\item 0\n",
       "\\end{enumerate*}\n"
      ],
      "text/markdown": [
       "1. 10\n",
       "2. 8\n",
       "3. 6\n",
       "4. 4\n",
       "5. 2\n",
       "6. 0\n",
       "\n",
       "\n"
      ],
      "text/plain": [
       "[1] 10  8  6  4  2  0"
      ]
     },
     "metadata": {},
     "output_type": "display_data"
    }
   ],
   "source": [
    "# Reversely\n",
    "10:1\n",
    "seq(from=10, to=0, by=-2)"
   ]
  },
  {
   "cell_type": "code",
   "execution_count": 9,
   "metadata": {},
   "outputs": [
    {
     "data": {
      "text/html": [
       "<style>\n",
       ".list-inline {list-style: none; margin:0; padding: 0}\n",
       ".list-inline>li {display: inline-block}\n",
       ".list-inline>li:not(:last-child)::after {content: \"\\00b7\"; padding: 0 .5ex}\n",
       "</style>\n",
       "<ol class=list-inline><li>3</li><li>2</li><li>1</li></ol>\n"
      ],
      "text/latex": [
       "\\begin{enumerate*}\n",
       "\\item 3\n",
       "\\item 2\n",
       "\\item 1\n",
       "\\end{enumerate*}\n"
      ],
      "text/markdown": [
       "1. 3\n",
       "2. 2\n",
       "3. 1\n",
       "\n",
       "\n"
      ],
      "text/plain": [
       "[1] 3 2 1"
      ]
     },
     "metadata": {},
     "output_type": "display_data"
    }
   ],
   "source": [
    "rev(c(1,2,3))"
   ]
  },
  {
   "cell_type": "markdown",
   "metadata": {},
   "source": [
    "#### 3) Arithmetic operations and mathematical functions"
   ]
  },
  {
   "cell_type": "code",
   "execution_count": 10,
   "metadata": {},
   "outputs": [
    {
     "name": "stdout",
     "output_type": "stream",
     "text": [
      " [1]   1   4   9  16  25  36  49  64  81 100\n"
     ]
    }
   ],
   "source": [
    "print(x^2)"
   ]
  },
  {
   "cell_type": "code",
   "execution_count": 11,
   "metadata": {},
   "outputs": [
    {
     "name": "stdout",
     "output_type": "stream",
     "text": [
      "[1] 4 5 6 7 8 9\n"
     ]
    }
   ],
   "source": [
    "print(x[4:9])"
   ]
  },
  {
   "cell_type": "code",
   "execution_count": 12,
   "metadata": {},
   "outputs": [
    {
     "data": {
      "text/html": [
       "55"
      ],
      "text/latex": [
       "55"
      ],
      "text/markdown": [
       "55"
      ],
      "text/plain": [
       "[1] 55"
      ]
     },
     "metadata": {},
     "output_type": "display_data"
    }
   ],
   "source": [
    "sum(x)"
   ]
  },
  {
   "cell_type": "code",
   "execution_count": 13,
   "metadata": {},
   "outputs": [
    {
     "data": {
      "text/html": [
       "5.5"
      ],
      "text/latex": [
       "5.5"
      ],
      "text/markdown": [
       "5.5"
      ],
      "text/plain": [
       "[1] 5.5"
      ]
     },
     "metadata": {},
     "output_type": "display_data"
    }
   ],
   "source": [
    "mean(x)"
   ]
  },
  {
   "cell_type": "markdown",
   "metadata": {},
   "source": [
    "###### understand na.rm (NA remove)"
   ]
  },
  {
   "cell_type": "code",
   "execution_count": 14,
   "metadata": {},
   "outputs": [
    {
     "name": "stdout",
     "output_type": "stream",
     "text": [
      "[1] NA\n"
     ]
    }
   ],
   "source": [
    "x <- c(1, NA)\n",
    "print(sum(x))"
   ]
  },
  {
   "cell_type": "code",
   "execution_count": 15,
   "metadata": {},
   "outputs": [
    {
     "name": "stdout",
     "output_type": "stream",
     "text": [
      "[1] 1\n"
     ]
    }
   ],
   "source": [
    "print(sum(x, na.rm = TRUE))"
   ]
  },
  {
   "cell_type": "code",
   "execution_count": 16,
   "metadata": {},
   "outputs": [
    {
     "data": {
      "text/html": [
       "0.5"
      ],
      "text/latex": [
       "0.5"
      ],
      "text/markdown": [
       "0.5"
      ],
      "text/plain": [
       "[1] 0.5"
      ]
     },
     "metadata": {},
     "output_type": "display_data"
    }
   ],
   "source": [
    "sum(x, na.rm = TRUE)/length(x)"
   ]
  },
  {
   "cell_type": "code",
   "execution_count": 17,
   "metadata": {},
   "outputs": [
    {
     "data": {
      "text/html": [
       "1"
      ],
      "text/latex": [
       "1"
      ],
      "text/markdown": [
       "1"
      ],
      "text/plain": [
       "[1] 1"
      ]
     },
     "metadata": {},
     "output_type": "display_data"
    }
   ],
   "source": [
    "sum(x, na.rm = TRUE)/length(x[!is.na(x)])"
   ]
  },
  {
   "cell_type": "code",
   "execution_count": 18,
   "metadata": {},
   "outputs": [
    {
     "data": {
      "text/html": [
       "1"
      ],
      "text/latex": [
       "1"
      ],
      "text/markdown": [
       "1"
      ],
      "text/plain": [
       "[1] 1"
      ]
     },
     "metadata": {},
     "output_type": "display_data"
    }
   ],
   "source": [
    "mean(x, na.rm = TRUE)"
   ]
  },
  {
   "cell_type": "markdown",
   "metadata": {},
   "source": [
    "## Logical values"
   ]
  },
  {
   "cell_type": "code",
   "execution_count": 19,
   "metadata": {},
   "outputs": [
    {
     "data": {
      "text/html": [
       "<style>\n",
       ".list-inline {list-style: none; margin:0; padding: 0}\n",
       ".list-inline>li {display: inline-block}\n",
       ".list-inline>li:not(:last-child)::after {content: \"\\00b7\"; padding: 0 .5ex}\n",
       "</style>\n",
       "<ol class=list-inline><li>0.6</li><li>5</li><li>0.8</li><li>1</li><li>0</li><li>3</li><li>9</li><li>0.2</li><li>7</li><li>0.4</li></ol>\n"
      ],
      "text/latex": [
       "\\begin{enumerate*}\n",
       "\\item 0.6\n",
       "\\item 5\n",
       "\\item 0.8\n",
       "\\item 1\n",
       "\\item 0\n",
       "\\item 3\n",
       "\\item 9\n",
       "\\item 0.2\n",
       "\\item 7\n",
       "\\item 0.4\n",
       "\\end{enumerate*}\n"
      ],
      "text/markdown": [
       "1. 0.6\n",
       "2. 5\n",
       "3. 0.8\n",
       "4. 1\n",
       "5. 0\n",
       "6. 3\n",
       "7. 9\n",
       "8. 0.2\n",
       "9. 7\n",
       "10. 0.4\n",
       "\n",
       "\n"
      ],
      "text/plain": [
       " [1] 0.6 5.0 0.8 1.0 0.0 3.0 9.0 0.2 7.0 0.4"
      ]
     },
     "metadata": {},
     "output_type": "display_data"
    }
   ],
   "source": [
    "x <- sample(c(seq(1,10,2), seq(0,0.8,0.2)))\n",
    "x"
   ]
  },
  {
   "cell_type": "code",
   "execution_count": 20,
   "metadata": {},
   "outputs": [
    {
     "name": "stdout",
     "output_type": "stream",
     "text": [
      " [1] FALSE  TRUE FALSE FALSE FALSE  TRUE  TRUE FALSE  TRUE FALSE\n",
      "[1] 5 3 9 7\n"
     ]
    }
   ],
   "source": [
    "print(x > 1)\n",
    "print(x[x > 1])"
   ]
  },
  {
   "cell_type": "code",
   "execution_count": 21,
   "metadata": {},
   "outputs": [
    {
     "name": "stdout",
     "output_type": "stream",
     "text": [
      "[1] 2 6 7 9\n",
      "[1] 5 3 9 7\n"
     ]
    }
   ],
   "source": [
    "print(which(x > 1))\n",
    "print(x[which(x > 1)])"
   ]
  },
  {
   "cell_type": "markdown",
   "metadata": {},
   "source": [
    "## Dataframe"
   ]
  },
  {
   "cell_type": "markdown",
   "metadata": {},
   "source": [
    "#### 1) create a dataframe"
   ]
  },
  {
   "cell_type": "code",
   "execution_count": 22,
   "metadata": {},
   "outputs": [
    {
     "data": {
      "text/html": [
       "<table class=\"dataframe\">\n",
       "<caption>A data.frame: 10 × 3</caption>\n",
       "<thead>\n",
       "\t<tr><th scope=col>x</th><th scope=col>y</th><th scope=col>z</th></tr>\n",
       "\t<tr><th scope=col>&lt;dbl&gt;</th><th scope=col>&lt;fct&gt;</th><th scope=col>&lt;dbl&gt;</th></tr>\n",
       "</thead>\n",
       "<tbody>\n",
       "\t<tr><td>0.6</td><td>a</td><td> 0.36</td></tr>\n",
       "\t<tr><td>5.0</td><td>b</td><td>25.00</td></tr>\n",
       "\t<tr><td>0.8</td><td>c</td><td> 0.64</td></tr>\n",
       "\t<tr><td>1.0</td><td>a</td><td> 1.00</td></tr>\n",
       "\t<tr><td>0.0</td><td>b</td><td> 0.00</td></tr>\n",
       "\t<tr><td>3.0</td><td>c</td><td> 9.00</td></tr>\n",
       "\t<tr><td>9.0</td><td>a</td><td>81.00</td></tr>\n",
       "\t<tr><td>0.2</td><td>b</td><td> 0.04</td></tr>\n",
       "\t<tr><td>7.0</td><td>c</td><td>49.00</td></tr>\n",
       "\t<tr><td>0.4</td><td>a</td><td> 0.16</td></tr>\n",
       "</tbody>\n",
       "</table>\n"
      ],
      "text/latex": [
       "A data.frame: 10 × 3\n",
       "\\begin{tabular}{lll}\n",
       " x & y & z\\\\\n",
       " <dbl> & <fct> & <dbl>\\\\\n",
       "\\hline\n",
       "\t 0.6 & a &  0.36\\\\\n",
       "\t 5.0 & b & 25.00\\\\\n",
       "\t 0.8 & c &  0.64\\\\\n",
       "\t 1.0 & a &  1.00\\\\\n",
       "\t 0.0 & b &  0.00\\\\\n",
       "\t 3.0 & c &  9.00\\\\\n",
       "\t 9.0 & a & 81.00\\\\\n",
       "\t 0.2 & b &  0.04\\\\\n",
       "\t 7.0 & c & 49.00\\\\\n",
       "\t 0.4 & a &  0.16\\\\\n",
       "\\end{tabular}\n"
      ],
      "text/markdown": [
       "\n",
       "A data.frame: 10 × 3\n",
       "\n",
       "| x &lt;dbl&gt; | y &lt;fct&gt; | z &lt;dbl&gt; |\n",
       "|---|---|---|\n",
       "| 0.6 | a |  0.36 |\n",
       "| 5.0 | b | 25.00 |\n",
       "| 0.8 | c |  0.64 |\n",
       "| 1.0 | a |  1.00 |\n",
       "| 0.0 | b |  0.00 |\n",
       "| 3.0 | c |  9.00 |\n",
       "| 9.0 | a | 81.00 |\n",
       "| 0.2 | b |  0.04 |\n",
       "| 7.0 | c | 49.00 |\n",
       "| 0.4 | a |  0.16 |\n",
       "\n"
      ],
      "text/plain": [
       "   x   y z    \n",
       "1  0.6 a  0.36\n",
       "2  5.0 b 25.00\n",
       "3  0.8 c  0.64\n",
       "4  1.0 a  1.00\n",
       "5  0.0 b  0.00\n",
       "6  3.0 c  9.00\n",
       "7  9.0 a 81.00\n",
       "8  0.2 b  0.04\n",
       "9  7.0 c 49.00\n",
       "10 0.4 a  0.16"
      ]
     },
     "metadata": {},
     "output_type": "display_data"
    },
    {
     "name": "stdout",
     "output_type": "stream",
     "text": [
      "[1] \"data.frame\"\n"
     ]
    }
   ],
   "source": [
    "df <- data.frame(x=x, y=factor(rep(c(\"a\",\"b\",\"c\"),length.out = 10)), z=x^2)\n",
    "df\n",
    "print(class(df))"
   ]
  },
  {
   "cell_type": "markdown",
   "metadata": {},
   "source": [
    "#### 2) information of the dataset"
   ]
  },
  {
   "cell_type": "code",
   "execution_count": 23,
   "metadata": {},
   "outputs": [
    {
     "data": {
      "text/html": [
       "<table class=\"dataframe\">\n",
       "<caption>A data.frame: 6 × 3</caption>\n",
       "<thead>\n",
       "\t<tr><th></th><th scope=col>x</th><th scope=col>y</th><th scope=col>z</th></tr>\n",
       "\t<tr><th></th><th scope=col>&lt;dbl&gt;</th><th scope=col>&lt;fct&gt;</th><th scope=col>&lt;dbl&gt;</th></tr>\n",
       "</thead>\n",
       "<tbody>\n",
       "\t<tr><th scope=row>1</th><td>0.6</td><td>a</td><td> 0.36</td></tr>\n",
       "\t<tr><th scope=row>2</th><td>5.0</td><td>b</td><td>25.00</td></tr>\n",
       "\t<tr><th scope=row>3</th><td>0.8</td><td>c</td><td> 0.64</td></tr>\n",
       "\t<tr><th scope=row>4</th><td>1.0</td><td>a</td><td> 1.00</td></tr>\n",
       "\t<tr><th scope=row>5</th><td>0.0</td><td>b</td><td> 0.00</td></tr>\n",
       "\t<tr><th scope=row>6</th><td>3.0</td><td>c</td><td> 9.00</td></tr>\n",
       "</tbody>\n",
       "</table>\n"
      ],
      "text/latex": [
       "A data.frame: 6 × 3\n",
       "\\begin{tabular}{r|lll}\n",
       "  & x & y & z\\\\\n",
       "  & <dbl> & <fct> & <dbl>\\\\\n",
       "\\hline\n",
       "\t1 & 0.6 & a &  0.36\\\\\n",
       "\t2 & 5.0 & b & 25.00\\\\\n",
       "\t3 & 0.8 & c &  0.64\\\\\n",
       "\t4 & 1.0 & a &  1.00\\\\\n",
       "\t5 & 0.0 & b &  0.00\\\\\n",
       "\t6 & 3.0 & c &  9.00\\\\\n",
       "\\end{tabular}\n"
      ],
      "text/markdown": [
       "\n",
       "A data.frame: 6 × 3\n",
       "\n",
       "| <!--/--> | x &lt;dbl&gt; | y &lt;fct&gt; | z &lt;dbl&gt; |\n",
       "|---|---|---|---|\n",
       "| 1 | 0.6 | a |  0.36 |\n",
       "| 2 | 5.0 | b | 25.00 |\n",
       "| 3 | 0.8 | c |  0.64 |\n",
       "| 4 | 1.0 | a |  1.00 |\n",
       "| 5 | 0.0 | b |  0.00 |\n",
       "| 6 | 3.0 | c |  9.00 |\n",
       "\n"
      ],
      "text/plain": [
       "  x   y z    \n",
       "1 0.6 a  0.36\n",
       "2 5.0 b 25.00\n",
       "3 0.8 c  0.64\n",
       "4 1.0 a  1.00\n",
       "5 0.0 b  0.00\n",
       "6 3.0 c  9.00"
      ]
     },
     "metadata": {},
     "output_type": "display_data"
    }
   ],
   "source": [
    "head(df)"
   ]
  },
  {
   "cell_type": "code",
   "execution_count": 24,
   "metadata": {},
   "outputs": [
    {
     "data": {
      "text/html": [
       "<style>\n",
       ".list-inline {list-style: none; margin:0; padding: 0}\n",
       ".list-inline>li {display: inline-block}\n",
       ".list-inline>li:not(:last-child)::after {content: \"\\00b7\"; padding: 0 .5ex}\n",
       "</style>\n",
       "<ol class=list-inline><li>10</li><li>3</li></ol>\n"
      ],
      "text/latex": [
       "\\begin{enumerate*}\n",
       "\\item 10\n",
       "\\item 3\n",
       "\\end{enumerate*}\n"
      ],
      "text/markdown": [
       "1. 10\n",
       "2. 3\n",
       "\n",
       "\n"
      ],
      "text/plain": [
       "[1] 10  3"
      ]
     },
     "metadata": {},
     "output_type": "display_data"
    }
   ],
   "source": [
    "dim(df)"
   ]
  },
  {
   "cell_type": "code",
   "execution_count": 25,
   "metadata": {},
   "outputs": [
    {
     "name": "stdout",
     "output_type": "stream",
     "text": [
      "'data.frame':\t10 obs. of  3 variables:\n",
      " $ x: num  0.6 5 0.8 1 0 3 9 0.2 7 0.4\n",
      " $ y: Factor w/ 3 levels \"a\",\"b\",\"c\": 1 2 3 1 2 3 1 2 3 1\n",
      " $ z: num  0.36 25 0.64 1 0 9 81 0.04 49 0.16\n"
     ]
    }
   ],
   "source": [
    "str(df)"
   ]
  },
  {
   "cell_type": "code",
   "execution_count": 26,
   "metadata": {},
   "outputs": [
    {
     "data": {
      "text/plain": [
       "       x        y           z        \n",
       " Min.   :0.00   a:4   Min.   : 0.00  \n",
       " 1st Qu.:0.45   b:3   1st Qu.: 0.21  \n",
       " Median :0.90   c:3   Median : 0.82  \n",
       " Mean   :2.70         Mean   :16.62  \n",
       " 3rd Qu.:4.50         3rd Qu.:21.00  \n",
       " Max.   :9.00         Max.   :81.00  "
      ]
     },
     "metadata": {},
     "output_type": "display_data"
    }
   ],
   "source": [
    "summary(df)"
   ]
  },
  {
   "cell_type": "code",
   "execution_count": 27,
   "metadata": {},
   "outputs": [
    {
     "data": {
      "text/html": [
       "<style>\n",
       ".list-inline {list-style: none; margin:0; padding: 0}\n",
       ".list-inline>li {display: inline-block}\n",
       ".list-inline>li:not(:last-child)::after {content: \"\\00b7\"; padding: 0 .5ex}\n",
       "</style>\n",
       "<ol class=list-inline><li>a</li><li>b</li><li>c</li><li>a</li><li>b</li><li>c</li><li>a</li><li>b</li><li>c</li><li>a</li></ol>\n",
       "\n",
       "<details>\n",
       "\t<summary style=display:list-item;cursor:pointer>\n",
       "\t\t<strong>Levels</strong>:\n",
       "\t</summary>\n",
       "\t<style>\n",
       "\t.list-inline {list-style: none; margin:0; padding: 0}\n",
       "\t.list-inline>li {display: inline-block}\n",
       "\t.list-inline>li:not(:last-child)::after {content: \"\\00b7\"; padding: 0 .5ex}\n",
       "\t</style>\n",
       "\t<ol class=list-inline><li>'a'</li><li>'b'</li><li>'c'</li></ol>\n",
       "</details>"
      ],
      "text/latex": [
       "\\begin{enumerate*}\n",
       "\\item a\n",
       "\\item b\n",
       "\\item c\n",
       "\\item a\n",
       "\\item b\n",
       "\\item c\n",
       "\\item a\n",
       "\\item b\n",
       "\\item c\n",
       "\\item a\n",
       "\\end{enumerate*}\n",
       "\n",
       "\\emph{Levels}: \\begin{enumerate*}\n",
       "\\item 'a'\n",
       "\\item 'b'\n",
       "\\item 'c'\n",
       "\\end{enumerate*}\n"
      ],
      "text/markdown": [
       "1. a\n",
       "2. b\n",
       "3. c\n",
       "4. a\n",
       "5. b\n",
       "6. c\n",
       "7. a\n",
       "8. b\n",
       "9. c\n",
       "10. a\n",
       "\n",
       "\n",
       "\n",
       "**Levels**: 1. 'a'\n",
       "2. 'b'\n",
       "3. 'c'\n",
       "\n",
       "\n"
      ],
      "text/plain": [
       " [1] a b c a b c a b c a\n",
       "Levels: a b c"
      ]
     },
     "metadata": {},
     "output_type": "display_data"
    },
    {
     "data": {
      "text/html": [
       "<style>\n",
       ".list-inline {list-style: none; margin:0; padding: 0}\n",
       ".list-inline>li {display: inline-block}\n",
       ".list-inline>li:not(:last-child)::after {content: \"\\00b7\"; padding: 0 .5ex}\n",
       "</style>\n",
       "<ol class=list-inline><li>a</li><li>a</li><li>a</li><li>a</li><li>b</li><li>b</li><li>b</li><li>c</li><li>c</li><li>c</li></ol>\n",
       "\n",
       "<details>\n",
       "\t<summary style=display:list-item;cursor:pointer>\n",
       "\t\t<strong>Levels</strong>:\n",
       "\t</summary>\n",
       "\t<style>\n",
       "\t.list-inline {list-style: none; margin:0; padding: 0}\n",
       "\t.list-inline>li {display: inline-block}\n",
       "\t.list-inline>li:not(:last-child)::after {content: \"\\00b7\"; padding: 0 .5ex}\n",
       "\t</style>\n",
       "\t<ol class=list-inline><li>'a'</li><li>'b'</li><li>'c'</li></ol>\n",
       "</details>"
      ],
      "text/latex": [
       "\\begin{enumerate*}\n",
       "\\item a\n",
       "\\item a\n",
       "\\item a\n",
       "\\item a\n",
       "\\item b\n",
       "\\item b\n",
       "\\item b\n",
       "\\item c\n",
       "\\item c\n",
       "\\item c\n",
       "\\end{enumerate*}\n",
       "\n",
       "\\emph{Levels}: \\begin{enumerate*}\n",
       "\\item 'a'\n",
       "\\item 'b'\n",
       "\\item 'c'\n",
       "\\end{enumerate*}\n"
      ],
      "text/markdown": [
       "1. a\n",
       "2. a\n",
       "3. a\n",
       "4. a\n",
       "5. b\n",
       "6. b\n",
       "7. b\n",
       "8. c\n",
       "9. c\n",
       "10. c\n",
       "\n",
       "\n",
       "\n",
       "**Levels**: 1. 'a'\n",
       "2. 'b'\n",
       "3. 'c'\n",
       "\n",
       "\n"
      ],
      "text/plain": [
       " [1] a a a a b b b c c c\n",
       "Levels: a b c"
      ]
     },
     "metadata": {},
     "output_type": "display_data"
    }
   ],
   "source": [
    "y = factor(rep(c(\"a\",\"b\",\"c\"),length.out = 10))\n",
    "y\n",
    "sort(y)"
   ]
  },
  {
   "cell_type": "code",
   "execution_count": 28,
   "metadata": {},
   "outputs": [
    {
     "data": {
      "text/html": [
       "<style>\n",
       ".list-inline {list-style: none; margin:0; padding: 0}\n",
       ".list-inline>li {display: inline-block}\n",
       ".list-inline>li:not(:last-child)::after {content: \"\\00b7\"; padding: 0 .5ex}\n",
       "</style>\n",
       "<ol class=list-inline><li>a</li><li>b</li><li>c</li><li>a</li><li>b</li><li>c</li><li>a</li><li>b</li><li>c</li><li>a</li></ol>\n",
       "\n",
       "<details>\n",
       "\t<summary style=display:list-item;cursor:pointer>\n",
       "\t\t<strong>Levels</strong>:\n",
       "\t</summary>\n",
       "\t<style>\n",
       "\t.list-inline {list-style: none; margin:0; padding: 0}\n",
       "\t.list-inline>li {display: inline-block}\n",
       "\t.list-inline>li:not(:last-child)::after {content: \"\\00b7\"; padding: 0 .5ex}\n",
       "\t</style>\n",
       "\t<ol class=list-inline><li>'c'</li><li>'b'</li><li>'a'</li></ol>\n",
       "</details>"
      ],
      "text/latex": [
       "\\begin{enumerate*}\n",
       "\\item a\n",
       "\\item b\n",
       "\\item c\n",
       "\\item a\n",
       "\\item b\n",
       "\\item c\n",
       "\\item a\n",
       "\\item b\n",
       "\\item c\n",
       "\\item a\n",
       "\\end{enumerate*}\n",
       "\n",
       "\\emph{Levels}: \\begin{enumerate*}\n",
       "\\item 'c'\n",
       "\\item 'b'\n",
       "\\item 'a'\n",
       "\\end{enumerate*}\n"
      ],
      "text/markdown": [
       "1. a\n",
       "2. b\n",
       "3. c\n",
       "4. a\n",
       "5. b\n",
       "6. c\n",
       "7. a\n",
       "8. b\n",
       "9. c\n",
       "10. a\n",
       "\n",
       "\n",
       "\n",
       "**Levels**: 1. 'c'\n",
       "2. 'b'\n",
       "3. 'a'\n",
       "\n",
       "\n"
      ],
      "text/plain": [
       " [1] a b c a b c a b c a\n",
       "Levels: c b a"
      ]
     },
     "metadata": {},
     "output_type": "display_data"
    },
    {
     "data": {
      "text/html": [
       "<style>\n",
       ".list-inline {list-style: none; margin:0; padding: 0}\n",
       ".list-inline>li {display: inline-block}\n",
       ".list-inline>li:not(:last-child)::after {content: \"\\00b7\"; padding: 0 .5ex}\n",
       "</style>\n",
       "<ol class=list-inline><li>c</li><li>c</li><li>c</li><li>b</li><li>b</li><li>b</li><li>a</li><li>a</li><li>a</li><li>a</li></ol>\n",
       "\n",
       "<details>\n",
       "\t<summary style=display:list-item;cursor:pointer>\n",
       "\t\t<strong>Levels</strong>:\n",
       "\t</summary>\n",
       "\t<style>\n",
       "\t.list-inline {list-style: none; margin:0; padding: 0}\n",
       "\t.list-inline>li {display: inline-block}\n",
       "\t.list-inline>li:not(:last-child)::after {content: \"\\00b7\"; padding: 0 .5ex}\n",
       "\t</style>\n",
       "\t<ol class=list-inline><li>'c'</li><li>'b'</li><li>'a'</li></ol>\n",
       "</details>"
      ],
      "text/latex": [
       "\\begin{enumerate*}\n",
       "\\item c\n",
       "\\item c\n",
       "\\item c\n",
       "\\item b\n",
       "\\item b\n",
       "\\item b\n",
       "\\item a\n",
       "\\item a\n",
       "\\item a\n",
       "\\item a\n",
       "\\end{enumerate*}\n",
       "\n",
       "\\emph{Levels}: \\begin{enumerate*}\n",
       "\\item 'c'\n",
       "\\item 'b'\n",
       "\\item 'a'\n",
       "\\end{enumerate*}\n"
      ],
      "text/markdown": [
       "1. c\n",
       "2. c\n",
       "3. c\n",
       "4. b\n",
       "5. b\n",
       "6. b\n",
       "7. a\n",
       "8. a\n",
       "9. a\n",
       "10. a\n",
       "\n",
       "\n",
       "\n",
       "**Levels**: 1. 'c'\n",
       "2. 'b'\n",
       "3. 'a'\n",
       "\n",
       "\n"
      ],
      "text/plain": [
       " [1] c c c b b b a a a a\n",
       "Levels: c b a"
      ]
     },
     "metadata": {},
     "output_type": "display_data"
    }
   ],
   "source": [
    "y1 = factor(rep(c(\"a\",\"b\",\"c\"),length.out = 10), levels = rev(levels(y)))\n",
    "y1\n",
    "sort(y1)"
   ]
  },
  {
   "cell_type": "markdown",
   "metadata": {},
   "source": [
    "#### 3) extract values"
   ]
  },
  {
   "cell_type": "code",
   "execution_count": 29,
   "metadata": {},
   "outputs": [
    {
     "name": "stdout",
     "output_type": "stream",
     "text": [
      " [1] 0.6 5.0 0.8 1.0 0.0 3.0 9.0 0.2 7.0 0.4\n",
      "[1] 0.6\n"
     ]
    },
    {
     "data": {
      "text/html": [
       "<table class=\"dataframe\">\n",
       "<caption>A data.frame: 1 × 3</caption>\n",
       "<thead>\n",
       "\t<tr><th></th><th scope=col>x</th><th scope=col>y</th><th scope=col>z</th></tr>\n",
       "\t<tr><th></th><th scope=col>&lt;dbl&gt;</th><th scope=col>&lt;fct&gt;</th><th scope=col>&lt;dbl&gt;</th></tr>\n",
       "</thead>\n",
       "<tbody>\n",
       "\t<tr><th scope=row>1</th><td>0.6</td><td>a</td><td>0.36</td></tr>\n",
       "</tbody>\n",
       "</table>\n"
      ],
      "text/latex": [
       "A data.frame: 1 × 3\n",
       "\\begin{tabular}{r|lll}\n",
       "  & x & y & z\\\\\n",
       "  & <dbl> & <fct> & <dbl>\\\\\n",
       "\\hline\n",
       "\t1 & 0.6 & a & 0.36\\\\\n",
       "\\end{tabular}\n"
      ],
      "text/markdown": [
       "\n",
       "A data.frame: 1 × 3\n",
       "\n",
       "| <!--/--> | x &lt;dbl&gt; | y &lt;fct&gt; | z &lt;dbl&gt; |\n",
       "|---|---|---|---|\n",
       "| 1 | 0.6 | a | 0.36 |\n",
       "\n"
      ],
      "text/plain": [
       "  x   y z   \n",
       "1 0.6 a 0.36"
      ]
     },
     "metadata": {},
     "output_type": "display_data"
    },
    {
     "name": "stdout",
     "output_type": "stream",
     "text": [
      " [1] 0.6 5.0 0.8 1.0 0.0 3.0 9.0 0.2 7.0 0.4\n"
     ]
    }
   ],
   "source": [
    "print(df$x)\n",
    "print(df[1,1])\n",
    "df[1,]\n",
    "print(df[,1])"
   ]
  },
  {
   "cell_type": "code",
   "execution_count": 30,
   "metadata": {},
   "outputs": [
    {
     "data": {
      "text/html": [
       "<table class=\"dataframe\">\n",
       "<caption>A data.frame: 4 × 3</caption>\n",
       "<thead>\n",
       "\t<tr><th></th><th scope=col>x</th><th scope=col>y</th><th scope=col>z</th></tr>\n",
       "\t<tr><th></th><th scope=col>&lt;dbl&gt;</th><th scope=col>&lt;fct&gt;</th><th scope=col>&lt;dbl&gt;</th></tr>\n",
       "</thead>\n",
       "<tbody>\n",
       "\t<tr><th scope=row>1</th><td>0.6</td><td>a</td><td> 0.36</td></tr>\n",
       "\t<tr><th scope=row>2</th><td>5.0</td><td>b</td><td>25.00</td></tr>\n",
       "\t<tr><th scope=row>3</th><td>0.8</td><td>c</td><td> 0.64</td></tr>\n",
       "\t<tr><th scope=row>4</th><td>1.0</td><td>a</td><td> 1.00</td></tr>\n",
       "</tbody>\n",
       "</table>\n"
      ],
      "text/latex": [
       "A data.frame: 4 × 3\n",
       "\\begin{tabular}{r|lll}\n",
       "  & x & y & z\\\\\n",
       "  & <dbl> & <fct> & <dbl>\\\\\n",
       "\\hline\n",
       "\t1 & 0.6 & a &  0.36\\\\\n",
       "\t2 & 5.0 & b & 25.00\\\\\n",
       "\t3 & 0.8 & c &  0.64\\\\\n",
       "\t4 & 1.0 & a &  1.00\\\\\n",
       "\\end{tabular}\n"
      ],
      "text/markdown": [
       "\n",
       "A data.frame: 4 × 3\n",
       "\n",
       "| <!--/--> | x &lt;dbl&gt; | y &lt;fct&gt; | z &lt;dbl&gt; |\n",
       "|---|---|---|---|\n",
       "| 1 | 0.6 | a |  0.36 |\n",
       "| 2 | 5.0 | b | 25.00 |\n",
       "| 3 | 0.8 | c |  0.64 |\n",
       "| 4 | 1.0 | a |  1.00 |\n",
       "\n"
      ],
      "text/plain": [
       "  x   y z    \n",
       "1 0.6 a  0.36\n",
       "2 5.0 b 25.00\n",
       "3 0.8 c  0.64\n",
       "4 1.0 a  1.00"
      ]
     },
     "metadata": {},
     "output_type": "display_data"
    },
    {
     "data": {
      "text/html": [
       "<table class=\"dataframe\">\n",
       "<caption>A data.frame: 2 × 3</caption>\n",
       "<thead>\n",
       "\t<tr><th></th><th scope=col>x</th><th scope=col>y</th><th scope=col>z</th></tr>\n",
       "\t<tr><th></th><th scope=col>&lt;dbl&gt;</th><th scope=col>&lt;fct&gt;</th><th scope=col>&lt;dbl&gt;</th></tr>\n",
       "</thead>\n",
       "<tbody>\n",
       "\t<tr><th scope=row>2</th><td>5</td><td>b</td><td>25</td></tr>\n",
       "\t<tr><th scope=row>4</th><td>1</td><td>a</td><td> 1</td></tr>\n",
       "</tbody>\n",
       "</table>\n"
      ],
      "text/latex": [
       "A data.frame: 2 × 3\n",
       "\\begin{tabular}{r|lll}\n",
       "  & x & y & z\\\\\n",
       "  & <dbl> & <fct> & <dbl>\\\\\n",
       "\\hline\n",
       "\t2 & 5 & b & 25\\\\\n",
       "\t4 & 1 & a &  1\\\\\n",
       "\\end{tabular}\n"
      ],
      "text/markdown": [
       "\n",
       "A data.frame: 2 × 3\n",
       "\n",
       "| <!--/--> | x &lt;dbl&gt; | y &lt;fct&gt; | z &lt;dbl&gt; |\n",
       "|---|---|---|---|\n",
       "| 2 | 5 | b | 25 |\n",
       "| 4 | 1 | a |  1 |\n",
       "\n"
      ],
      "text/plain": [
       "  x y z \n",
       "2 5 b 25\n",
       "4 1 a  1"
      ]
     },
     "metadata": {},
     "output_type": "display_data"
    }
   ],
   "source": [
    "df[1:4,]\n",
    "df[c(2,4),]"
   ]
  },
  {
   "cell_type": "code",
   "execution_count": 31,
   "metadata": {},
   "outputs": [
    {
     "data": {
      "text/html": [
       "<table class=\"dataframe\">\n",
       "<caption>A data.frame: 10 × 2</caption>\n",
       "<thead>\n",
       "\t<tr><th scope=col>x</th><th scope=col>y</th></tr>\n",
       "\t<tr><th scope=col>&lt;dbl&gt;</th><th scope=col>&lt;fct&gt;</th></tr>\n",
       "</thead>\n",
       "<tbody>\n",
       "\t<tr><td>0.6</td><td>a</td></tr>\n",
       "\t<tr><td>5.0</td><td>b</td></tr>\n",
       "\t<tr><td>0.8</td><td>c</td></tr>\n",
       "\t<tr><td>1.0</td><td>a</td></tr>\n",
       "\t<tr><td>0.0</td><td>b</td></tr>\n",
       "\t<tr><td>3.0</td><td>c</td></tr>\n",
       "\t<tr><td>9.0</td><td>a</td></tr>\n",
       "\t<tr><td>0.2</td><td>b</td></tr>\n",
       "\t<tr><td>7.0</td><td>c</td></tr>\n",
       "\t<tr><td>0.4</td><td>a</td></tr>\n",
       "</tbody>\n",
       "</table>\n"
      ],
      "text/latex": [
       "A data.frame: 10 × 2\n",
       "\\begin{tabular}{ll}\n",
       " x & y\\\\\n",
       " <dbl> & <fct>\\\\\n",
       "\\hline\n",
       "\t 0.6 & a\\\\\n",
       "\t 5.0 & b\\\\\n",
       "\t 0.8 & c\\\\\n",
       "\t 1.0 & a\\\\\n",
       "\t 0.0 & b\\\\\n",
       "\t 3.0 & c\\\\\n",
       "\t 9.0 & a\\\\\n",
       "\t 0.2 & b\\\\\n",
       "\t 7.0 & c\\\\\n",
       "\t 0.4 & a\\\\\n",
       "\\end{tabular}\n"
      ],
      "text/markdown": [
       "\n",
       "A data.frame: 10 × 2\n",
       "\n",
       "| x &lt;dbl&gt; | y &lt;fct&gt; |\n",
       "|---|---|\n",
       "| 0.6 | a |\n",
       "| 5.0 | b |\n",
       "| 0.8 | c |\n",
       "| 1.0 | a |\n",
       "| 0.0 | b |\n",
       "| 3.0 | c |\n",
       "| 9.0 | a |\n",
       "| 0.2 | b |\n",
       "| 7.0 | c |\n",
       "| 0.4 | a |\n",
       "\n"
      ],
      "text/plain": [
       "   x   y\n",
       "1  0.6 a\n",
       "2  5.0 b\n",
       "3  0.8 c\n",
       "4  1.0 a\n",
       "5  0.0 b\n",
       "6  3.0 c\n",
       "7  9.0 a\n",
       "8  0.2 b\n",
       "9  7.0 c\n",
       "10 0.4 a"
      ]
     },
     "metadata": {},
     "output_type": "display_data"
    }
   ],
   "source": [
    "df[,1:2]"
   ]
  },
  {
   "cell_type": "code",
   "execution_count": 32,
   "metadata": {},
   "outputs": [
    {
     "data": {
      "text/html": [
       "<table class=\"dataframe\">\n",
       "<caption>A data.frame: 10 × 2</caption>\n",
       "<thead>\n",
       "\t<tr><th scope=col>x</th><th scope=col>z</th></tr>\n",
       "\t<tr><th scope=col>&lt;dbl&gt;</th><th scope=col>&lt;dbl&gt;</th></tr>\n",
       "</thead>\n",
       "<tbody>\n",
       "\t<tr><td>0.6</td><td> 0.36</td></tr>\n",
       "\t<tr><td>5.0</td><td>25.00</td></tr>\n",
       "\t<tr><td>0.8</td><td> 0.64</td></tr>\n",
       "\t<tr><td>1.0</td><td> 1.00</td></tr>\n",
       "\t<tr><td>0.0</td><td> 0.00</td></tr>\n",
       "\t<tr><td>3.0</td><td> 9.00</td></tr>\n",
       "\t<tr><td>9.0</td><td>81.00</td></tr>\n",
       "\t<tr><td>0.2</td><td> 0.04</td></tr>\n",
       "\t<tr><td>7.0</td><td>49.00</td></tr>\n",
       "\t<tr><td>0.4</td><td> 0.16</td></tr>\n",
       "</tbody>\n",
       "</table>\n"
      ],
      "text/latex": [
       "A data.frame: 10 × 2\n",
       "\\begin{tabular}{ll}\n",
       " x & z\\\\\n",
       " <dbl> & <dbl>\\\\\n",
       "\\hline\n",
       "\t 0.6 &  0.36\\\\\n",
       "\t 5.0 & 25.00\\\\\n",
       "\t 0.8 &  0.64\\\\\n",
       "\t 1.0 &  1.00\\\\\n",
       "\t 0.0 &  0.00\\\\\n",
       "\t 3.0 &  9.00\\\\\n",
       "\t 9.0 & 81.00\\\\\n",
       "\t 0.2 &  0.04\\\\\n",
       "\t 7.0 & 49.00\\\\\n",
       "\t 0.4 &  0.16\\\\\n",
       "\\end{tabular}\n"
      ],
      "text/markdown": [
       "\n",
       "A data.frame: 10 × 2\n",
       "\n",
       "| x &lt;dbl&gt; | z &lt;dbl&gt; |\n",
       "|---|---|\n",
       "| 0.6 |  0.36 |\n",
       "| 5.0 | 25.00 |\n",
       "| 0.8 |  0.64 |\n",
       "| 1.0 |  1.00 |\n",
       "| 0.0 |  0.00 |\n",
       "| 3.0 |  9.00 |\n",
       "| 9.0 | 81.00 |\n",
       "| 0.2 |  0.04 |\n",
       "| 7.0 | 49.00 |\n",
       "| 0.4 |  0.16 |\n",
       "\n"
      ],
      "text/plain": [
       "   x   z    \n",
       "1  0.6  0.36\n",
       "2  5.0 25.00\n",
       "3  0.8  0.64\n",
       "4  1.0  1.00\n",
       "5  0.0  0.00\n",
       "6  3.0  9.00\n",
       "7  9.0 81.00\n",
       "8  0.2  0.04\n",
       "9  7.0 49.00\n",
       "10 0.4  0.16"
      ]
     },
     "metadata": {},
     "output_type": "display_data"
    }
   ],
   "source": [
    "df[,c(1,3)]"
   ]
  },
  {
   "cell_type": "markdown",
   "metadata": {},
   "source": [
    "#### 4) change column names"
   ]
  },
  {
   "cell_type": "code",
   "execution_count": 33,
   "metadata": {},
   "outputs": [
    {
     "data": {
      "text/html": [
       "<table class=\"dataframe\">\n",
       "<caption>A data.frame: 10 × 3</caption>\n",
       "<thead>\n",
       "\t<tr><th scope=col>val1</th><th scope=col>val2</th><th scope=col>response</th></tr>\n",
       "\t<tr><th scope=col>&lt;dbl&gt;</th><th scope=col>&lt;fct&gt;</th><th scope=col>&lt;dbl&gt;</th></tr>\n",
       "</thead>\n",
       "<tbody>\n",
       "\t<tr><td>0.6</td><td>a</td><td> 0.36</td></tr>\n",
       "\t<tr><td>5.0</td><td>b</td><td>25.00</td></tr>\n",
       "\t<tr><td>0.8</td><td>c</td><td> 0.64</td></tr>\n",
       "\t<tr><td>1.0</td><td>a</td><td> 1.00</td></tr>\n",
       "\t<tr><td>0.0</td><td>b</td><td> 0.00</td></tr>\n",
       "\t<tr><td>3.0</td><td>c</td><td> 9.00</td></tr>\n",
       "\t<tr><td>9.0</td><td>a</td><td>81.00</td></tr>\n",
       "\t<tr><td>0.2</td><td>b</td><td> 0.04</td></tr>\n",
       "\t<tr><td>7.0</td><td>c</td><td>49.00</td></tr>\n",
       "\t<tr><td>0.4</td><td>a</td><td> 0.16</td></tr>\n",
       "</tbody>\n",
       "</table>\n"
      ],
      "text/latex": [
       "A data.frame: 10 × 3\n",
       "\\begin{tabular}{lll}\n",
       " val1 & val2 & response\\\\\n",
       " <dbl> & <fct> & <dbl>\\\\\n",
       "\\hline\n",
       "\t 0.6 & a &  0.36\\\\\n",
       "\t 5.0 & b & 25.00\\\\\n",
       "\t 0.8 & c &  0.64\\\\\n",
       "\t 1.0 & a &  1.00\\\\\n",
       "\t 0.0 & b &  0.00\\\\\n",
       "\t 3.0 & c &  9.00\\\\\n",
       "\t 9.0 & a & 81.00\\\\\n",
       "\t 0.2 & b &  0.04\\\\\n",
       "\t 7.0 & c & 49.00\\\\\n",
       "\t 0.4 & a &  0.16\\\\\n",
       "\\end{tabular}\n"
      ],
      "text/markdown": [
       "\n",
       "A data.frame: 10 × 3\n",
       "\n",
       "| val1 &lt;dbl&gt; | val2 &lt;fct&gt; | response &lt;dbl&gt; |\n",
       "|---|---|---|\n",
       "| 0.6 | a |  0.36 |\n",
       "| 5.0 | b | 25.00 |\n",
       "| 0.8 | c |  0.64 |\n",
       "| 1.0 | a |  1.00 |\n",
       "| 0.0 | b |  0.00 |\n",
       "| 3.0 | c |  9.00 |\n",
       "| 9.0 | a | 81.00 |\n",
       "| 0.2 | b |  0.04 |\n",
       "| 7.0 | c | 49.00 |\n",
       "| 0.4 | a |  0.16 |\n",
       "\n"
      ],
      "text/plain": [
       "   val1 val2 response\n",
       "1  0.6  a     0.36   \n",
       "2  5.0  b    25.00   \n",
       "3  0.8  c     0.64   \n",
       "4  1.0  a     1.00   \n",
       "5  0.0  b     0.00   \n",
       "6  3.0  c     9.00   \n",
       "7  9.0  a    81.00   \n",
       "8  0.2  b     0.04   \n",
       "9  7.0  c    49.00   \n",
       "10 0.4  a     0.16   "
      ]
     },
     "metadata": {},
     "output_type": "display_data"
    }
   ],
   "source": [
    "colnames(df) <- c('val1', 'val2', 'response')\n",
    "df"
   ]
  },
  {
   "cell_type": "markdown",
   "metadata": {},
   "source": [
    "## Playing around with ggplot\n"
   ]
  },
  {
   "cell_type": "code",
   "execution_count": 34,
   "metadata": {},
   "outputs": [
    {
     "name": "stderr",
     "output_type": "stream",
     "text": [
      "-- \u001b[1mAttaching packages\u001b[22m --------------------------------------- tidyverse 1.3.1 --\n",
      "\n",
      "\u001b[32mv\u001b[39m \u001b[34mggplot2\u001b[39m 3.3.5     \u001b[32mv\u001b[39m \u001b[34mpurrr  \u001b[39m 0.3.4\n",
      "\u001b[32mv\u001b[39m \u001b[34mtibble \u001b[39m 3.1.4     \u001b[32mv\u001b[39m \u001b[34mdplyr  \u001b[39m 1.0.7\n",
      "\u001b[32mv\u001b[39m \u001b[34mtidyr  \u001b[39m 1.1.3     \u001b[32mv\u001b[39m \u001b[34mstringr\u001b[39m 1.4.0\n",
      "\u001b[32mv\u001b[39m \u001b[34mreadr  \u001b[39m 2.0.1     \u001b[32mv\u001b[39m \u001b[34mforcats\u001b[39m 0.5.1\n",
      "\n",
      "-- \u001b[1mConflicts\u001b[22m ------------------------------------------ tidyverse_conflicts() --\n",
      "\u001b[31mx\u001b[39m \u001b[34mdplyr\u001b[39m::\u001b[32mfilter()\u001b[39m masks \u001b[34mstats\u001b[39m::filter()\n",
      "\u001b[31mx\u001b[39m \u001b[34mdplyr\u001b[39m::\u001b[32mlag()\u001b[39m    masks \u001b[34mstats\u001b[39m::lag()\n",
      "\n"
     ]
    }
   ],
   "source": [
    "# install.packages(\"tidyverse\")\n",
    "library(tidyverse)"
   ]
  },
  {
   "cell_type": "code",
   "execution_count": 35,
   "metadata": {},
   "outputs": [],
   "source": [
    "# how can I see what datasets are available?  \n",
    "# data(package = .packages(all.available = TRUE))"
   ]
  },
  {
   "cell_type": "markdown",
   "metadata": {},
   "source": [
    "#### Information of the diamonds dataset: https://ggplot2.tidyverse.org/reference/diamonds.html"
   ]
  },
  {
   "cell_type": "code",
   "execution_count": 36,
   "metadata": {},
   "outputs": [
    {
     "data": {
      "text/html": [
       "<table class=\"dataframe\">\n",
       "<caption>A tibble: 6 × 10</caption>\n",
       "<thead>\n",
       "\t<tr><th scope=col>carat</th><th scope=col>cut</th><th scope=col>color</th><th scope=col>clarity</th><th scope=col>depth</th><th scope=col>table</th><th scope=col>price</th><th scope=col>x</th><th scope=col>y</th><th scope=col>z</th></tr>\n",
       "\t<tr><th scope=col>&lt;dbl&gt;</th><th scope=col>&lt;ord&gt;</th><th scope=col>&lt;ord&gt;</th><th scope=col>&lt;ord&gt;</th><th scope=col>&lt;dbl&gt;</th><th scope=col>&lt;dbl&gt;</th><th scope=col>&lt;int&gt;</th><th scope=col>&lt;dbl&gt;</th><th scope=col>&lt;dbl&gt;</th><th scope=col>&lt;dbl&gt;</th></tr>\n",
       "</thead>\n",
       "<tbody>\n",
       "\t<tr><td>0.23</td><td>Ideal    </td><td>E</td><td>SI2 </td><td>61.5</td><td>55</td><td>326</td><td>3.95</td><td>3.98</td><td>2.43</td></tr>\n",
       "\t<tr><td>0.21</td><td>Premium  </td><td>E</td><td>SI1 </td><td>59.8</td><td>61</td><td>326</td><td>3.89</td><td>3.84</td><td>2.31</td></tr>\n",
       "\t<tr><td>0.23</td><td>Good     </td><td>E</td><td>VS1 </td><td>56.9</td><td>65</td><td>327</td><td>4.05</td><td>4.07</td><td>2.31</td></tr>\n",
       "\t<tr><td>0.29</td><td>Premium  </td><td>I</td><td>VS2 </td><td>62.4</td><td>58</td><td>334</td><td>4.20</td><td>4.23</td><td>2.63</td></tr>\n",
       "\t<tr><td>0.31</td><td>Good     </td><td>J</td><td>SI2 </td><td>63.3</td><td>58</td><td>335</td><td>4.34</td><td>4.35</td><td>2.75</td></tr>\n",
       "\t<tr><td>0.24</td><td>Very Good</td><td>J</td><td>VVS2</td><td>62.8</td><td>57</td><td>336</td><td>3.94</td><td>3.96</td><td>2.48</td></tr>\n",
       "</tbody>\n",
       "</table>\n"
      ],
      "text/latex": [
       "A tibble: 6 × 10\n",
       "\\begin{tabular}{llllllllll}\n",
       " carat & cut & color & clarity & depth & table & price & x & y & z\\\\\n",
       " <dbl> & <ord> & <ord> & <ord> & <dbl> & <dbl> & <int> & <dbl> & <dbl> & <dbl>\\\\\n",
       "\\hline\n",
       "\t 0.23 & Ideal     & E & SI2  & 61.5 & 55 & 326 & 3.95 & 3.98 & 2.43\\\\\n",
       "\t 0.21 & Premium   & E & SI1  & 59.8 & 61 & 326 & 3.89 & 3.84 & 2.31\\\\\n",
       "\t 0.23 & Good      & E & VS1  & 56.9 & 65 & 327 & 4.05 & 4.07 & 2.31\\\\\n",
       "\t 0.29 & Premium   & I & VS2  & 62.4 & 58 & 334 & 4.20 & 4.23 & 2.63\\\\\n",
       "\t 0.31 & Good      & J & SI2  & 63.3 & 58 & 335 & 4.34 & 4.35 & 2.75\\\\\n",
       "\t 0.24 & Very Good & J & VVS2 & 62.8 & 57 & 336 & 3.94 & 3.96 & 2.48\\\\\n",
       "\\end{tabular}\n"
      ],
      "text/markdown": [
       "\n",
       "A tibble: 6 × 10\n",
       "\n",
       "| carat &lt;dbl&gt; | cut &lt;ord&gt; | color &lt;ord&gt; | clarity &lt;ord&gt; | depth &lt;dbl&gt; | table &lt;dbl&gt; | price &lt;int&gt; | x &lt;dbl&gt; | y &lt;dbl&gt; | z &lt;dbl&gt; |\n",
       "|---|---|---|---|---|---|---|---|---|---|\n",
       "| 0.23 | Ideal     | E | SI2  | 61.5 | 55 | 326 | 3.95 | 3.98 | 2.43 |\n",
       "| 0.21 | Premium   | E | SI1  | 59.8 | 61 | 326 | 3.89 | 3.84 | 2.31 |\n",
       "| 0.23 | Good      | E | VS1  | 56.9 | 65 | 327 | 4.05 | 4.07 | 2.31 |\n",
       "| 0.29 | Premium   | I | VS2  | 62.4 | 58 | 334 | 4.20 | 4.23 | 2.63 |\n",
       "| 0.31 | Good      | J | SI2  | 63.3 | 58 | 335 | 4.34 | 4.35 | 2.75 |\n",
       "| 0.24 | Very Good | J | VVS2 | 62.8 | 57 | 336 | 3.94 | 3.96 | 2.48 |\n",
       "\n"
      ],
      "text/plain": [
       "  carat cut       color clarity depth table price x    y    z   \n",
       "1 0.23  Ideal     E     SI2     61.5  55    326   3.95 3.98 2.43\n",
       "2 0.21  Premium   E     SI1     59.8  61    326   3.89 3.84 2.31\n",
       "3 0.23  Good      E     VS1     56.9  65    327   4.05 4.07 2.31\n",
       "4 0.29  Premium   I     VS2     62.4  58    334   4.20 4.23 2.63\n",
       "5 0.31  Good      J     SI2     63.3  58    335   4.34 4.35 2.75\n",
       "6 0.24  Very Good J     VVS2    62.8  57    336   3.94 3.96 2.48"
      ]
     },
     "metadata": {},
     "output_type": "display_data"
    }
   ],
   "source": [
    "head(diamonds)"
   ]
  },
  {
   "cell_type": "code",
   "execution_count": 37,
   "metadata": {},
   "outputs": [
    {
     "name": "stdout",
     "output_type": "stream",
     "text": [
      "tibble [53,940 x 10] (S3: tbl_df/tbl/data.frame)\n",
      " $ carat  : num [1:53940] 0.23 0.21 0.23 0.29 0.31 0.24 0.24 0.26 0.22 0.23 ...\n",
      " $ cut    : Ord.factor w/ 5 levels \"Fair\"<\"Good\"<..: 5 4 2 4 2 3 3 3 1 3 ...\n",
      " $ color  : Ord.factor w/ 7 levels \"D\"<\"E\"<\"F\"<\"G\"<..: 2 2 2 6 7 7 6 5 2 5 ...\n",
      " $ clarity: Ord.factor w/ 8 levels \"I1\"<\"SI2\"<\"SI1\"<..: 2 3 5 4 2 6 7 3 4 5 ...\n",
      " $ depth  : num [1:53940] 61.5 59.8 56.9 62.4 63.3 62.8 62.3 61.9 65.1 59.4 ...\n",
      " $ table  : num [1:53940] 55 61 65 58 58 57 57 55 61 61 ...\n",
      " $ price  : int [1:53940] 326 326 327 334 335 336 336 337 337 338 ...\n",
      " $ x      : num [1:53940] 3.95 3.89 4.05 4.2 4.34 3.94 3.95 4.07 3.87 4 ...\n",
      " $ y      : num [1:53940] 3.98 3.84 4.07 4.23 4.35 3.96 3.98 4.11 3.78 4.05 ...\n",
      " $ z      : num [1:53940] 2.43 2.31 2.31 2.63 2.75 2.48 2.47 2.53 2.49 2.39 ...\n"
     ]
    }
   ],
   "source": [
    "str(diamonds)"
   ]
  },
  {
   "cell_type": "code",
   "execution_count": 38,
   "metadata": {},
   "outputs": [
    {
     "data": {
      "text/plain": [
       "     carat               cut        color        clarity          depth      \n",
       " Min.   :0.2000   Fair     : 1610   D: 6775   SI1    :13065   Min.   :43.00  \n",
       " 1st Qu.:0.4000   Good     : 4906   E: 9797   VS2    :12258   1st Qu.:61.00  \n",
       " Median :0.7000   Very Good:12082   F: 9542   SI2    : 9194   Median :61.80  \n",
       " Mean   :0.7979   Premium  :13791   G:11292   VS1    : 8171   Mean   :61.75  \n",
       " 3rd Qu.:1.0400   Ideal    :21551   H: 8304   VVS2   : 5066   3rd Qu.:62.50  \n",
       " Max.   :5.0100                     I: 5422   VVS1   : 3655   Max.   :79.00  \n",
       "                                    J: 2808   (Other): 2531                  \n",
       "     table           price             x                y         \n",
       " Min.   :43.00   Min.   :  326   Min.   : 0.000   Min.   : 0.000  \n",
       " 1st Qu.:56.00   1st Qu.:  950   1st Qu.: 4.710   1st Qu.: 4.720  \n",
       " Median :57.00   Median : 2401   Median : 5.700   Median : 5.710  \n",
       " Mean   :57.46   Mean   : 3933   Mean   : 5.731   Mean   : 5.735  \n",
       " 3rd Qu.:59.00   3rd Qu.: 5324   3rd Qu.: 6.540   3rd Qu.: 6.540  \n",
       " Max.   :95.00   Max.   :18823   Max.   :10.740   Max.   :58.900  \n",
       "                                                                  \n",
       "       z         \n",
       " Min.   : 0.000  \n",
       " 1st Qu.: 2.910  \n",
       " Median : 3.530  \n",
       " Mean   : 3.539  \n",
       " 3rd Qu.: 4.040  \n",
       " Max.   :31.800  \n",
       "                 "
      ]
     },
     "metadata": {},
     "output_type": "display_data"
    }
   ],
   "source": [
    "summary(diamonds)"
   ]
  },
  {
   "cell_type": "markdown",
   "metadata": {},
   "source": [
    "# Creating the first plot"
   ]
  },
  {
   "cell_type": "markdown",
   "metadata": {},
   "source": [
    "The syntax for ggplot takes the following form: \n",
    "\n",
    "```r\n",
    "ggplot(data = <DATA>) +\n",
    "    <GEOM_FUNCTION>(mapping = aes(<MAPPINGS>))\n",
    "```\n",
    "\n",
    "Now we will use the above ggplot syntax to plot a scatterplot for **carat** versus **price**"
   ]
  },
  {
   "cell_type": "markdown",
   "metadata": {},
   "source": [
    "- The first part, `ggplot(diamonds)`, tells R that we are going to make a plot using the `diamonds` data table.  \n",
    "- The second part, `geom_point()`, says we are going to make a point (a.k.a. scatter) plot.\n",
    "- The argument `mapping = aes(x = carat, y = price)` tells R what variables (columns in `diamonds`) we want to plot on each axis.\n",
    "\n",
    "Note that you can think of **ggplot** as a layer-based function.  You first create a coordinate system that you can add layers to using the function ggplot(data=mpg).   This will creates an empty graph.   You then add the data points onto this empty graph using the function geom_point().        "
   ]
  },
  {
   "cell_type": "code",
   "execution_count": 40,
   "metadata": {},
   "outputs": [],
   "source": [
    "options(repr.plot.width=12,repr.plot.height=8)"
   ]
  },
  {
   "cell_type": "code",
   "execution_count": 42,
   "metadata": {},
   "outputs": [
    {
     "data": {
      "image/png": "[encoded data removed]",
      "text/plain": [
       "plot without title"
      ]
     },
     "metadata": {
      "image/png": {
       "height": 480,
       "width": 720
      }
     },
     "output_type": "display_data"
    }
   ],
   "source": [
    "ggplot(data=diamonds) + \n",
    "    geom_point(mapping = aes(x = carat, y = price))"
   ]
  },
  {
   "cell_type": "code",
   "execution_count": 43,
   "metadata": {},
   "outputs": [
    {
     "data": {
      "image/png": "[encoded data removed]",
      "text/plain": [
       "plot without title"
      ]
     },
     "metadata": {
      "image/png": {
       "height": 480,
       "width": 720
      }
     },
     "output_type": "display_data"
    }
   ],
   "source": [
    "ggplot(data=diamonds) + \n",
    "    geom_point(mapping = aes(x = carat, y = price)) +\n",
    "    labs(x = 'Carats', y = 'Price($)') +\n",
    "    ggtitle('Diamond size by carat')"
   ]
  },
  {
   "cell_type": "code",
   "execution_count": 44,
   "metadata": {},
   "outputs": [
    {
     "data": {
      "image/png": "[encoded data removed]",
      "text/plain": [
       "plot without title"
      ]
     },
     "metadata": {
      "image/png": {
       "height": 480,
       "width": 720
      }
     },
     "output_type": "display_data"
    }
   ],
   "source": [
    "ggplot(data = diamonds) + \n",
    "    geom_point(mapping = aes(x = carat, y = price, color = clarity)) +\n",
    "    labs(x = 'Carats', y = 'Price($)') + \n",
    "    ggtitle('Diamond price by carat count')"
   ]
  },
  {
   "cell_type": "code",
   "execution_count": 49,
   "metadata": {},
   "outputs": [
    {
     "data": {
      "image/png": "[encoded data removed]",
      "text/plain": [
       "plot without title"
      ]
     },
     "metadata": {
      "image/png": {
       "height": 480,
       "width": 720
      }
     },
     "output_type": "display_data"
    }
   ],
   "source": [
    "ggplot(data = diamonds) + \n",
    "    geom_point(mapping = aes(x = carat, y = price), color = 'blue') +\n",
    "    labs(x = 'Carats', y = 'Price($)') + \n",
    "    ggtitle('Diamond price by carat count')"
   ]
  },
  {
   "cell_type": "code",
   "execution_count": 50,
   "metadata": {},
   "outputs": [
    {
     "data": {
      "image/png": "[encoded data removed]",
      "text/plain": [
       "plot without title"
      ]
     },
     "metadata": {
      "image/png": {
       "height": 480,
       "width": 720
      }
     },
     "output_type": "display_data"
    }
   ],
   "source": [
    "ggplot(data = diamonds) + \n",
    "    # geom_point(mapping = aes(x = carat, y = price, color = clarity)) +\n",
    "    geom_bar(mapping = aes(x = color, fill = cut), position = \"stack\") +\n",
    "    labs(x = 'Color', y = 'Count') + \n",
    "    ggtitle('Color counts')"
   ]
  },
  {
   "cell_type": "code",
   "execution_count": 51,
   "metadata": {},
   "outputs": [
    {
     "data": {
      "image/png": "[encoded data removed]",
      "text/plain": [
       "plot without title"
      ]
     },
     "metadata": {
      "image/png": {
       "height": 480,
       "width": 720
      }
     },
     "output_type": "display_data"
    }
   ],
   "source": [
    "ggplot(data = diamonds) + \n",
    "    # geom_point(mapping = aes(x = carat, y = price, color = clarity)) +\n",
    "    geom_bar(mapping = aes(x = color, fill = cut), position = \"dodge\") +\n",
    "    labs(x = 'Color', y = 'Count') + \n",
    "    ggtitle('Color counts')"
   ]
  },
  {
   "cell_type": "markdown",
   "metadata": {},
   "source": [
    "## Package documentation\n",
    "?head\n",
    "?tail\n",
    "?geom_bar\n",
    "    \n",
    "You can always google the package documentations as well. For example, can you find the documentation page for \"rnorm\"?\n",
    "    \n",
    "## Exercise\n",
    "1. What is the default value of the mean and standard deviation used by the \"rnorm\" function in R to generate a value from a normal distribution?\n",
    "2. Create a boxplot of 'price' grouped by the levels in the 'cut' variable."
   ]
  },
  {
   "cell_type": "code",
   "execution_count": null,
   "metadata": {},
   "outputs": [],
   "source": [
    "# boxplot helps to visualize the variability of a price for each cut\n",
    "ggplot(data = diamonds) + \n",
    "    geom_boxplot() +\n",
    "    labs() + \n",
    "    ggtitle()"
   ]
  },
  {
   "cell_type": "markdown",
   "metadata": {},
   "source": [
    "### Facets\n",
    "If we want more segmented plots"
   ]
  },
  {
   "cell_type": "code",
   "execution_count": null,
   "metadata": {},
   "outputs": [],
   "source": [
    "ggplot(data = diamonds) + \n",
    "    geom_boxplot() +\n",
    "    labs() + \n",
    "    ggtitle() + facet_wrap()"
   ]
  }
 ],
 "metadata": {
  "kernelspec": {
   "display_name": "R",
   "language": "R",
   "name": "ir"
  },
  "language_info": {
   "codemirror_mode": "r",
   "file_extension": ".r",
   "mimetype": "text/x-r-source",
   "name": "R",
   "pygments_lexer": "r",
   "version": "4.1.1"
  }
 },
 "nbformat": 4,
 "nbformat_minor": 2
}
