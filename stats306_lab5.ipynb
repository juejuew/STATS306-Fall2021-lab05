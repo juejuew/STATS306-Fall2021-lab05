{
 "cells": [
  {
   "cell_type": "markdown",
   "metadata": {},
   "source": [
    "# Lab 5: Data manipulation\n"
   ]
  },
  {
   "cell_type": "code",
   "execution_count": 25,
   "metadata": {},
   "outputs": [],
   "source": [
    "options(repr.plot.width=6, repr.plot.height=5)\n",
    "\n",
    "require(tidyverse)\n",
    "require(stringr)\n",
    "library(dplyr)\n",
    "library(ggplot2)"
   ]
  },
  {
   "cell_type": "markdown",
   "metadata": {},
   "source": [
    "## `gather` and `spread`"
   ]
  },
  {
   "cell_type": "markdown",
   "metadata": {},
   "source": [
    "To use `gather()` we need to specify three things:\n",
    "\n",
    "* which existing columns correspond to values of a variable\n",
    "* what is the name of the variable (the **key**) whose values currently appear as column names.\n",
    "* what is the name of the variable (the **value**) whose values are currently spread over the cells.\n",
    "\n",
    "(When using `gather()`, neither the **key** nor **value** column names currently exist in your data. They are \"destination\" columns in the new table.)\n",
    "![gather illustration](http://r4ds.had.co.nz/images/tidy-9.png)"
   ]
  },
  {
   "cell_type": "markdown",
   "metadata": {},
   "source": [
    "To use `spread()`, we need to specify two things:\n",
    "\n",
    "* which existing column (the **key**) has the variable names as values\n",
    "* which existing column (the **value**) has the values for those variables\n",
    "\n",
    "![spread data](http://r4ds.had.co.nz/images/tidy-8.png)"
   ]
  },
  {
   "cell_type": "markdown",
   "metadata": {},
   "source": [
    "Remember that `gather` transforms datasets from \"wide\" to \"long,\" collecting different column names into a variable. `spread` does the opposite, turning \"long\" datasets into \"wide\" ones by spreading out a variable's values into the column names."
   ]
  },
  {
   "cell_type": "code",
   "execution_count": 27,
   "metadata": {},
   "outputs": [
    {
     "data": {
      "text/html": [
       "<table class=\"dataframe\">\n",
       "<caption>A tibble: 2 × 4</caption>\n",
       "<thead>\n",
       "\t<tr><th scope=col>name</th><th scope=col>2015</th><th scope=col>2016</th><th scope=col>2017</th></tr>\n",
       "\t<tr><th scope=col>&lt;chr&gt;</th><th scope=col>&lt;dbl&gt;</th><th scope=col>&lt;dbl&gt;</th><th scope=col>&lt;dbl&gt;</th></tr>\n",
       "</thead>\n",
       "<tbody>\n",
       "\t<tr><td>Roger</td><td>83</td><td>89</td><td>93</td></tr>\n",
       "\t<tr><td>Jon  </td><td>92</td><td>90</td><td>93</td></tr>\n",
       "</tbody>\n",
       "</table>\n"
      ],
      "text/latex": [
       "A tibble: 2 × 4\n",
       "\\begin{tabular}{llll}\n",
       " name & 2015 & 2016 & 2017\\\\\n",
       " <chr> & <dbl> & <dbl> & <dbl>\\\\\n",
       "\\hline\n",
       "\t Roger & 83 & 89 & 93\\\\\n",
       "\t Jon   & 92 & 90 & 93\\\\\n",
       "\\end{tabular}\n"
      ],
      "text/markdown": [
       "\n",
       "A tibble: 2 × 4\n",
       "\n",
       "| name &lt;chr&gt; | 2015 &lt;dbl&gt; | 2016 &lt;dbl&gt; | 2017 &lt;dbl&gt; |\n",
       "|---|---|---|---|\n",
       "| Roger | 83 | 89 | 93 |\n",
       "| Jon   | 92 | 90 | 93 |\n",
       "\n"
      ],
      "text/plain": [
       "  name  2015 2016 2017\n",
       "1 Roger 83   89   93  \n",
       "2 Jon   92   90   93  "
      ]
     },
     "metadata": {},
     "output_type": "display_data"
    }
   ],
   "source": [
    "grades_wide = tribble(\n",
    "  ~name,  ~`2015`, ~`2016`, ~`2017`,\n",
    "'Roger',       83,      89,      93,\n",
    "  'Jon',       92,      90,      93)\n",
    "grades_wide"
   ]
  },
  {
   "cell_type": "code",
   "execution_count": 3,
   "metadata": {},
   "outputs": [
    {
     "data": {
      "text/html": [
       "<table class=\"dataframe\">\n",
       "<caption>A tibble: 6 × 3</caption>\n",
       "<thead>\n",
       "\t<tr><th scope=col>name</th><th scope=col>year</th><th scope=col>grade</th></tr>\n",
       "\t<tr><th scope=col>&lt;chr&gt;</th><th scope=col>&lt;chr&gt;</th><th scope=col>&lt;dbl&gt;</th></tr>\n",
       "</thead>\n",
       "<tbody>\n",
       "\t<tr><td>Roger</td><td>2015</td><td>83</td></tr>\n",
       "\t<tr><td>Jon  </td><td>2015</td><td>92</td></tr>\n",
       "\t<tr><td>Roger</td><td>2016</td><td>89</td></tr>\n",
       "\t<tr><td>Jon  </td><td>2016</td><td>90</td></tr>\n",
       "\t<tr><td>Roger</td><td>2017</td><td>93</td></tr>\n",
       "\t<tr><td>Jon  </td><td>2017</td><td>93</td></tr>\n",
       "</tbody>\n",
       "</table>\n"
      ],
      "text/latex": [
       "A tibble: 6 × 3\n",
       "\\begin{tabular}{lll}\n",
       " name & year & grade\\\\\n",
       " <chr> & <chr> & <dbl>\\\\\n",
       "\\hline\n",
       "\t Roger & 2015 & 83\\\\\n",
       "\t Jon   & 2015 & 92\\\\\n",
       "\t Roger & 2016 & 89\\\\\n",
       "\t Jon   & 2016 & 90\\\\\n",
       "\t Roger & 2017 & 93\\\\\n",
       "\t Jon   & 2017 & 93\\\\\n",
       "\\end{tabular}\n"
      ],
      "text/markdown": [
       "\n",
       "A tibble: 6 × 3\n",
       "\n",
       "| name &lt;chr&gt; | year &lt;chr&gt; | grade &lt;dbl&gt; |\n",
       "|---|---|---|\n",
       "| Roger | 2015 | 83 |\n",
       "| Jon   | 2015 | 92 |\n",
       "| Roger | 2016 | 89 |\n",
       "| Jon   | 2016 | 90 |\n",
       "| Roger | 2017 | 93 |\n",
       "| Jon   | 2017 | 93 |\n",
       "\n"
      ],
      "text/plain": [
       "  name  year grade\n",
       "1 Roger 2015 83   \n",
       "2 Jon   2015 92   \n",
       "3 Roger 2016 89   \n",
       "4 Jon   2016 90   \n",
       "5 Roger 2017 93   \n",
       "6 Jon   2017 93   "
      ]
     },
     "metadata": {},
     "output_type": "display_data"
    }
   ],
   "source": [
    "grades_long = grades_wide %>% gather(key=year, value=grade, `2015`:`2017`)\n",
    "grades_long"
   ]
  },
  {
   "cell_type": "code",
   "execution_count": 28,
   "metadata": {},
   "outputs": [
    {
     "data": {
      "text/html": [
       "<table class=\"dataframe\">\n",
       "<caption>A tibble: 2 × 4</caption>\n",
       "<thead>\n",
       "\t<tr><th scope=col>name</th><th scope=col>2015</th><th scope=col>2016</th><th scope=col>2017</th></tr>\n",
       "\t<tr><th scope=col>&lt;chr&gt;</th><th scope=col>&lt;dbl&gt;</th><th scope=col>&lt;dbl&gt;</th><th scope=col>&lt;dbl&gt;</th></tr>\n",
       "</thead>\n",
       "<tbody>\n",
       "\t<tr><td>Jon  </td><td>92</td><td>90</td><td>93</td></tr>\n",
       "\t<tr><td>Roger</td><td>83</td><td>89</td><td>93</td></tr>\n",
       "</tbody>\n",
       "</table>\n"
      ],
      "text/latex": [
       "A tibble: 2 × 4\n",
       "\\begin{tabular}{llll}\n",
       " name & 2015 & 2016 & 2017\\\\\n",
       " <chr> & <dbl> & <dbl> & <dbl>\\\\\n",
       "\\hline\n",
       "\t Jon   & 92 & 90 & 93\\\\\n",
       "\t Roger & 83 & 89 & 93\\\\\n",
       "\\end{tabular}\n"
      ],
      "text/markdown": [
       "\n",
       "A tibble: 2 × 4\n",
       "\n",
       "| name &lt;chr&gt; | 2015 &lt;dbl&gt; | 2016 &lt;dbl&gt; | 2017 &lt;dbl&gt; |\n",
       "|---|---|---|---|\n",
       "| Jon   | 92 | 90 | 93 |\n",
       "| Roger | 83 | 89 | 93 |\n",
       "\n"
      ],
      "text/plain": [
       "  name  2015 2016 2017\n",
       "1 Jon   92   90   93  \n",
       "2 Roger 83   89   93  "
      ]
     },
     "metadata": {},
     "output_type": "display_data"
    }
   ],
   "source": [
    "grades_long %>% spread(key=year, value=grade)"
   ]
  },
  {
   "cell_type": "markdown",
   "metadata": {},
   "source": [
    "## MLB Data\n",
    "\n",
    "This dataset contains information for player-seasons in the American League from 2015 to 2018. For those unfamiliar with baseball:\n",
    "* `PA`: Plate Appearances, the number of times a player came up to bat.\n",
    "* `HR`: number of home runs.\n",
    "* `BBrate`: The number of walks (BBs) as a percentage of plate appearances.\n",
    "* `BB`: The number of walks.\n",
    "* `K`: The number of strikeouts.\n",
    "* `AVG`: A batters batting average.\n",
    "* `FB`: The number of fly balls a batter hit.\n",
    "\n",
    "Note: Also recall the functions `unite`, `separate`, and `complete`."
   ]
  },
  {
   "cell_type": "code",
   "execution_count": 30,
   "metadata": {},
   "outputs": [
    {
     "name": "stderr",
     "output_type": "stream",
     "text": [
      "\u001b[1m\u001b[1mRows: \u001b[1m\u001b[22m\u001b[34m\u001b[34m1526\u001b[34m\u001b[39m \u001b[1m\u001b[1mColumns: \u001b[1m\u001b[22m\u001b[34m\u001b[34m11\u001b[34m\u001b[39m\n",
      "\n",
      "\u001b[36m--\u001b[39m \u001b[1m\u001b[1mColumn specification\u001b[1m\u001b[22m \u001b[36m------------------------------------------------------------------------------------------------\u001b[39m\n",
      "\u001b[1mDelimiter:\u001b[22m \",\"\n",
      "\u001b[31mchr\u001b[39m (5): name, team, division, BBrate, BB_K\n",
      "\u001b[32mdbl\u001b[39m (6): year, PA, HR, AVG, FB, playerid\n",
      "\n",
      "\n",
      "\u001b[36mi\u001b[39m Use \u001b[30m\u001b[47m\u001b[30m\u001b[47m`spec()`\u001b[47m\u001b[30m\u001b[49m\u001b[39m to retrieve the full column specification for this data.\n",
      "\u001b[36mi\u001b[39m Specify the column types or set \u001b[30m\u001b[47m\u001b[30m\u001b[47m`show_col_types = FALSE`\u001b[47m\u001b[30m\u001b[49m\u001b[39m to quiet this message.\n",
      "\n"
     ]
    },
    {
     "data": {
      "text/html": [
       "<table class=\"dataframe\">\n",
       "<caption>A tibble: 6 × 11</caption>\n",
       "<thead>\n",
       "\t<tr><th scope=col>year</th><th scope=col>name</th><th scope=col>team</th><th scope=col>division</th><th scope=col>PA</th><th scope=col>HR</th><th scope=col>BBrate</th><th scope=col>BB_K</th><th scope=col>AVG</th><th scope=col>FB</th><th scope=col>playerid</th></tr>\n",
       "\t<tr><th scope=col>&lt;dbl&gt;</th><th scope=col>&lt;chr&gt;</th><th scope=col>&lt;chr&gt;</th><th scope=col>&lt;chr&gt;</th><th scope=col>&lt;dbl&gt;</th><th scope=col>&lt;dbl&gt;</th><th scope=col>&lt;chr&gt;</th><th scope=col>&lt;chr&gt;</th><th scope=col>&lt;dbl&gt;</th><th scope=col>&lt;dbl&gt;</th><th scope=col>&lt;dbl&gt;</th></tr>\n",
       "</thead>\n",
       "<tbody>\n",
       "\t<tr><td>2016</td><td>Abraham Almonte</td><td>Indians</td><td>Central</td><td>194</td><td>1</td><td>4.1 % </td><td>8/42 </td><td>0.264</td><td>43</td><td> 5486</td></tr>\n",
       "\t<tr><td>2017</td><td>Abraham Almonte</td><td>Indians</td><td>Central</td><td>195</td><td>3</td><td>10.3 %</td><td>20/46</td><td>0.233</td><td>34</td><td> 5486</td></tr>\n",
       "\t<tr><td>2015</td><td>Adam Moore     </td><td>Indians</td><td>Central</td><td>  4</td><td>0</td><td>0.0 % </td><td>0/2  </td><td>0.250</td><td> 1</td><td> 9362</td></tr>\n",
       "\t<tr><td>2016</td><td>Adam Moore     </td><td>Indians</td><td>Central</td><td>  5</td><td>0</td><td>0.0 % </td><td>0/4  </td><td>0.000</td><td> 1</td><td> 9362</td></tr>\n",
       "\t<tr><td>2018</td><td>Adam Plutko    </td><td>Indians</td><td>Central</td><td>  2</td><td>0</td><td>0.0 % </td><td>0/0  </td><td>0.000</td><td> 0</td><td>15846</td></tr>\n",
       "\t<tr><td>2018</td><td>Adam Rosales   </td><td>Indians</td><td>Central</td><td> 21</td><td>1</td><td>4.8 % </td><td>1/5  </td><td>0.211</td><td> 7</td><td> 9682</td></tr>\n",
       "</tbody>\n",
       "</table>\n"
      ],
      "text/latex": [
       "A tibble: 6 × 11\n",
       "\\begin{tabular}{lllllllllll}\n",
       " year & name & team & division & PA & HR & BBrate & BB\\_K & AVG & FB & playerid\\\\\n",
       " <dbl> & <chr> & <chr> & <chr> & <dbl> & <dbl> & <chr> & <chr> & <dbl> & <dbl> & <dbl>\\\\\n",
       "\\hline\n",
       "\t 2016 & Abraham Almonte & Indians & Central & 194 & 1 & 4.1 \\%  & 8/42  & 0.264 & 43 &  5486\\\\\n",
       "\t 2017 & Abraham Almonte & Indians & Central & 195 & 3 & 10.3 \\% & 20/46 & 0.233 & 34 &  5486\\\\\n",
       "\t 2015 & Adam Moore      & Indians & Central &   4 & 0 & 0.0 \\%  & 0/2   & 0.250 &  1 &  9362\\\\\n",
       "\t 2016 & Adam Moore      & Indians & Central &   5 & 0 & 0.0 \\%  & 0/4   & 0.000 &  1 &  9362\\\\\n",
       "\t 2018 & Adam Plutko     & Indians & Central &   2 & 0 & 0.0 \\%  & 0/0   & 0.000 &  0 & 15846\\\\\n",
       "\t 2018 & Adam Rosales    & Indians & Central &  21 & 1 & 4.8 \\%  & 1/5   & 0.211 &  7 &  9682\\\\\n",
       "\\end{tabular}\n"
      ],
      "text/markdown": [
       "\n",
       "A tibble: 6 × 11\n",
       "\n",
       "| year &lt;dbl&gt; | name &lt;chr&gt; | team &lt;chr&gt; | division &lt;chr&gt; | PA &lt;dbl&gt; | HR &lt;dbl&gt; | BBrate &lt;chr&gt; | BB_K &lt;chr&gt; | AVG &lt;dbl&gt; | FB &lt;dbl&gt; | playerid &lt;dbl&gt; |\n",
       "|---|---|---|---|---|---|---|---|---|---|---|\n",
       "| 2016 | Abraham Almonte | Indians | Central | 194 | 1 | 4.1 %  | 8/42  | 0.264 | 43 |  5486 |\n",
       "| 2017 | Abraham Almonte | Indians | Central | 195 | 3 | 10.3 % | 20/46 | 0.233 | 34 |  5486 |\n",
       "| 2015 | Adam Moore      | Indians | Central |   4 | 0 | 0.0 %  | 0/2   | 0.250 |  1 |  9362 |\n",
       "| 2016 | Adam Moore      | Indians | Central |   5 | 0 | 0.0 %  | 0/4   | 0.000 |  1 |  9362 |\n",
       "| 2018 | Adam Plutko     | Indians | Central |   2 | 0 | 0.0 %  | 0/0   | 0.000 |  0 | 15846 |\n",
       "| 2018 | Adam Rosales    | Indians | Central |  21 | 1 | 4.8 %  | 1/5   | 0.211 |  7 |  9682 |\n",
       "\n"
      ],
      "text/plain": [
       "  year name            team    division PA  HR BBrate BB_K  AVG   FB playerid\n",
       "1 2016 Abraham Almonte Indians Central  194 1  4.1 %  8/42  0.264 43  5486   \n",
       "2 2017 Abraham Almonte Indians Central  195 3  10.3 % 20/46 0.233 34  5486   \n",
       "3 2015 Adam Moore      Indians Central    4 0  0.0 %  0/2   0.250  1  9362   \n",
       "4 2016 Adam Moore      Indians Central    5 0  0.0 %  0/4   0.000  1  9362   \n",
       "5 2018 Adam Plutko     Indians Central    2 0  0.0 %  0/0   0.000  0 15846   \n",
       "6 2018 Adam Rosales    Indians Central   21 1  4.8 %  1/5   0.211  7  9682   "
      ]
     },
     "metadata": {},
     "output_type": "display_data"
    }
   ],
   "source": [
    "mlb = read_csv('https://raw.githubusercontent.com/rogerfan/stats306_f18_labs/master/mlb.csv')\n",
    "head(mlb)"
   ]
  },
  {
   "cell_type": "markdown",
   "metadata": {},
   "source": [
    "### Problem 1\n",
    "\n",
    "Note that `BBrate` and `BB_K` were read in as strings. Clean up these variables and convert them to numeric variables, noting that `BB_K` should be two variables named `BB` and `K`."
   ]
  },
  {
   "cell_type": "code",
   "execution_count": 31,
   "metadata": {},
   "outputs": [
    {
     "data": {
      "text/html": [
       "<table class=\"dataframe\">\n",
       "<caption>A tibble: 6 × 12</caption>\n",
       "<thead>\n",
       "\t<tr><th scope=col>year</th><th scope=col>name</th><th scope=col>team</th><th scope=col>division</th><th scope=col>PA</th><th scope=col>HR</th><th scope=col>BBrate</th><th scope=col>BB</th><th scope=col>K</th><th scope=col>AVG</th><th scope=col>FB</th><th scope=col>playerid</th></tr>\n",
       "\t<tr><th scope=col>&lt;dbl&gt;</th><th scope=col>&lt;chr&gt;</th><th scope=col>&lt;chr&gt;</th><th scope=col>&lt;chr&gt;</th><th scope=col>&lt;dbl&gt;</th><th scope=col>&lt;dbl&gt;</th><th scope=col>&lt;dbl&gt;</th><th scope=col>&lt;int&gt;</th><th scope=col>&lt;int&gt;</th><th scope=col>&lt;dbl&gt;</th><th scope=col>&lt;dbl&gt;</th><th scope=col>&lt;dbl&gt;</th></tr>\n",
       "</thead>\n",
       "<tbody>\n",
       "\t<tr><td>2016</td><td>Abraham Almonte</td><td>Indians</td><td>Central</td><td>194</td><td>1</td><td>0.041</td><td> 8</td><td>42</td><td>0.264</td><td>43</td><td> 5486</td></tr>\n",
       "\t<tr><td>2017</td><td>Abraham Almonte</td><td>Indians</td><td>Central</td><td>195</td><td>3</td><td>0.103</td><td>20</td><td>46</td><td>0.233</td><td>34</td><td> 5486</td></tr>\n",
       "\t<tr><td>2015</td><td>Adam Moore     </td><td>Indians</td><td>Central</td><td>  4</td><td>0</td><td>0.000</td><td> 0</td><td> 2</td><td>0.250</td><td> 1</td><td> 9362</td></tr>\n",
       "\t<tr><td>2016</td><td>Adam Moore     </td><td>Indians</td><td>Central</td><td>  5</td><td>0</td><td>0.000</td><td> 0</td><td> 4</td><td>0.000</td><td> 1</td><td> 9362</td></tr>\n",
       "\t<tr><td>2018</td><td>Adam Plutko    </td><td>Indians</td><td>Central</td><td>  2</td><td>0</td><td>0.000</td><td> 0</td><td> 0</td><td>0.000</td><td> 0</td><td>15846</td></tr>\n",
       "\t<tr><td>2018</td><td>Adam Rosales   </td><td>Indians</td><td>Central</td><td> 21</td><td>1</td><td>0.048</td><td> 1</td><td> 5</td><td>0.211</td><td> 7</td><td> 9682</td></tr>\n",
       "</tbody>\n",
       "</table>\n"
      ],
      "text/latex": [
       "A tibble: 6 × 12\n",
       "\\begin{tabular}{llllllllllll}\n",
       " year & name & team & division & PA & HR & BBrate & BB & K & AVG & FB & playerid\\\\\n",
       " <dbl> & <chr> & <chr> & <chr> & <dbl> & <dbl> & <dbl> & <int> & <int> & <dbl> & <dbl> & <dbl>\\\\\n",
       "\\hline\n",
       "\t 2016 & Abraham Almonte & Indians & Central & 194 & 1 & 0.041 &  8 & 42 & 0.264 & 43 &  5486\\\\\n",
       "\t 2017 & Abraham Almonte & Indians & Central & 195 & 3 & 0.103 & 20 & 46 & 0.233 & 34 &  5486\\\\\n",
       "\t 2015 & Adam Moore      & Indians & Central &   4 & 0 & 0.000 &  0 &  2 & 0.250 &  1 &  9362\\\\\n",
       "\t 2016 & Adam Moore      & Indians & Central &   5 & 0 & 0.000 &  0 &  4 & 0.000 &  1 &  9362\\\\\n",
       "\t 2018 & Adam Plutko     & Indians & Central &   2 & 0 & 0.000 &  0 &  0 & 0.000 &  0 & 15846\\\\\n",
       "\t 2018 & Adam Rosales    & Indians & Central &  21 & 1 & 0.048 &  1 &  5 & 0.211 &  7 &  9682\\\\\n",
       "\\end{tabular}\n"
      ],
      "text/markdown": [
       "\n",
       "A tibble: 6 × 12\n",
       "\n",
       "| year &lt;dbl&gt; | name &lt;chr&gt; | team &lt;chr&gt; | division &lt;chr&gt; | PA &lt;dbl&gt; | HR &lt;dbl&gt; | BBrate &lt;dbl&gt; | BB &lt;int&gt; | K &lt;int&gt; | AVG &lt;dbl&gt; | FB &lt;dbl&gt; | playerid &lt;dbl&gt; |\n",
       "|---|---|---|---|---|---|---|---|---|---|---|---|\n",
       "| 2016 | Abraham Almonte | Indians | Central | 194 | 1 | 0.041 |  8 | 42 | 0.264 | 43 |  5486 |\n",
       "| 2017 | Abraham Almonte | Indians | Central | 195 | 3 | 0.103 | 20 | 46 | 0.233 | 34 |  5486 |\n",
       "| 2015 | Adam Moore      | Indians | Central |   4 | 0 | 0.000 |  0 |  2 | 0.250 |  1 |  9362 |\n",
       "| 2016 | Adam Moore      | Indians | Central |   5 | 0 | 0.000 |  0 |  4 | 0.000 |  1 |  9362 |\n",
       "| 2018 | Adam Plutko     | Indians | Central |   2 | 0 | 0.000 |  0 |  0 | 0.000 |  0 | 15846 |\n",
       "| 2018 | Adam Rosales    | Indians | Central |  21 | 1 | 0.048 |  1 |  5 | 0.211 |  7 |  9682 |\n",
       "\n"
      ],
      "text/plain": [
       "  year name            team    division PA  HR BBrate BB K  AVG   FB playerid\n",
       "1 2016 Abraham Almonte Indians Central  194 1  0.041   8 42 0.264 43  5486   \n",
       "2 2017 Abraham Almonte Indians Central  195 3  0.103  20 46 0.233 34  5486   \n",
       "3 2015 Adam Moore      Indians Central    4 0  0.000   0  2 0.250  1  9362   \n",
       "4 2016 Adam Moore      Indians Central    5 0  0.000   0  4 0.000  1  9362   \n",
       "5 2018 Adam Plutko     Indians Central    2 0  0.000   0  0 0.000  0 15846   \n",
       "6 2018 Adam Rosales    Indians Central   21 1  0.048   1  5 0.211  7  9682   "
      ]
     },
     "metadata": {},
     "output_type": "display_data"
    }
   ],
   "source": [
    "dat1 = mlb %>% mutate(BBrate = as.numeric(str_replace(BBrate, ' %', ''))/100) %>%\n",
    "    separate(BB_K, into = c(\"BB\", \"K\"), sep=\"/\", convert=TRUE)\n",
    "head(dat1)"
   ]
  },
  {
   "cell_type": "code",
   "execution_count": 33,
   "metadata": {},
   "outputs": [
    {
     "data": {
      "text/html": [
       "<style>\n",
       ".list-inline {list-style: none; margin:0; padding: 0}\n",
       ".list-inline>li {display: inline-block}\n",
       ".list-inline>li:not(:last-child)::after {content: \"\\00b7\"; padding: 0 .5ex}\n",
       "</style>\n",
       "<ol class=list-inline><li>'Central'</li><li>'East'</li><li>'West'</li></ol>\n"
      ],
      "text/latex": [
       "\\begin{enumerate*}\n",
       "\\item 'Central'\n",
       "\\item 'East'\n",
       "\\item 'West'\n",
       "\\end{enumerate*}\n"
      ],
      "text/markdown": [
       "1. 'Central'\n",
       "2. 'East'\n",
       "3. 'West'\n",
       "\n",
       "\n"
      ],
      "text/plain": [
       "[1] \"Central\" \"East\"    \"West\"   "
      ]
     },
     "metadata": {},
     "output_type": "display_data"
    }
   ],
   "source": [
    "unique(mlb$division)"
   ]
  },
  {
   "cell_type": "markdown",
   "metadata": {},
   "source": [
    "### Problem 2\n",
    "\n",
    "Calculate the HR per FB rate for each team and year. Convert this to a wide dataset, so your variables should be `division`, `team`, and `2015`-`2018`, where values are the HR/FB rate. Note that you should ensure that `division` is still in the dataset.\n",
    "\n",
    "Create a variable called `increased`, which checks if the HR/FB rate was higher in 2018 than it was in 2015 for that team."
   ]
  },
  {
   "cell_type": "code",
   "execution_count": 37,
   "metadata": {},
   "outputs": [
    {
     "name": "stderr",
     "output_type": "stream",
     "text": [
      "`summarise()` has grouped output by 'division', 'team'. You can override using the `.groups` argument.\n",
      "\n"
     ]
    },
    {
     "data": {
      "text/html": [
       "<table class=\"dataframe\">\n",
       "<caption>A grouped_df: 15 × 6</caption>\n",
       "<thead>\n",
       "\t<tr><th scope=col>division</th><th scope=col>team</th><th scope=col>2015</th><th scope=col>2016</th><th scope=col>2017</th><th scope=col>2018</th></tr>\n",
       "\t<tr><th scope=col>&lt;chr&gt;</th><th scope=col>&lt;chr&gt;</th><th scope=col>&lt;dbl&gt;</th><th scope=col>&lt;dbl&gt;</th><th scope=col>&lt;dbl&gt;</th><th scope=col>&lt;dbl&gt;</th></tr>\n",
       "</thead>\n",
       "<tbody>\n",
       "\t<tr><td>Central</td><td>Indians  </td><td>0.09964727</td><td>0.1198402</td><td>0.1314103</td><td>0.12936849</td></tr>\n",
       "\t<tr><td>Central</td><td>Royals   </td><td>0.08997253</td><td>0.1041215</td><td>0.1225681</td><td>0.10319635</td></tr>\n",
       "\t<tr><td>Central</td><td>Tigers   </td><td>0.09611152</td><td>0.1376147</td><td>0.1077051</td><td>0.09244314</td></tr>\n",
       "\t<tr><td>Central</td><td>Twins    </td><td>0.10641201</td><td>0.1308677</td><td>0.1312420</td><td>0.09869494</td></tr>\n",
       "\t<tr><td>Central</td><td>White_Sox</td><td>0.10594947</td><td>0.1220799</td><td>0.1352785</td><td>0.13573620</td></tr>\n",
       "\t<tr><td>East   </td><td>Blue_Jays</td><td>0.16168582</td><td>0.1460446</td><td>0.1417910</td><td>0.13721264</td></tr>\n",
       "\t<tr><td>East   </td><td>Orioles  </td><td>0.14992722</td><td>0.1571610</td><td>0.1524138</td><td>0.12285714</td></tr>\n",
       "\t<tr><td>East   </td><td>Rays     </td><td>0.11355311</td><td>0.1395179</td><td>0.1588862</td><td>0.10292634</td></tr>\n",
       "\t<tr><td>East   </td><td>Red_Sox  </td><td>0.11068111</td><td>0.1353482</td><td>0.1067762</td><td>0.13297872</td></tr>\n",
       "\t<tr><td>East   </td><td>Yankees  </td><td>0.12690665</td><td>0.1190476</td><td>0.1556157</td><td>0.16188525</td></tr>\n",
       "\t<tr><td>West   </td><td>Angels   </td><td>0.12264151</td><td>0.1029900</td><td>0.1278079</td><td>0.14545455</td></tr>\n",
       "\t<tr><td>West   </td><td>Astros   </td><td>0.14814815</td><td>0.1432814</td><td>0.1433869</td><td>0.12697410</td></tr>\n",
       "\t<tr><td>West   </td><td>Athletics</td><td>0.08695652</td><td>0.1151920</td><td>0.1479150</td><td>0.13774272</td></tr>\n",
       "\t<tr><td>West   </td><td>Mariners </td><td>0.13852459</td><td>0.1563611</td><td>0.1294278</td><td>0.12296296</td></tr>\n",
       "\t<tr><td>West   </td><td>Rangers  </td><td>0.11508220</td><td>0.1407579</td><td>0.1682379</td><td>0.14190687</td></tr>\n",
       "</tbody>\n",
       "</table>\n"
      ],
      "text/latex": [
       "A grouped\\_df: 15 × 6\n",
       "\\begin{tabular}{llllll}\n",
       " division & team & 2015 & 2016 & 2017 & 2018\\\\\n",
       " <chr> & <chr> & <dbl> & <dbl> & <dbl> & <dbl>\\\\\n",
       "\\hline\n",
       "\t Central & Indians   & 0.09964727 & 0.1198402 & 0.1314103 & 0.12936849\\\\\n",
       "\t Central & Royals    & 0.08997253 & 0.1041215 & 0.1225681 & 0.10319635\\\\\n",
       "\t Central & Tigers    & 0.09611152 & 0.1376147 & 0.1077051 & 0.09244314\\\\\n",
       "\t Central & Twins     & 0.10641201 & 0.1308677 & 0.1312420 & 0.09869494\\\\\n",
       "\t Central & White\\_Sox & 0.10594947 & 0.1220799 & 0.1352785 & 0.13573620\\\\\n",
       "\t East    & Blue\\_Jays & 0.16168582 & 0.1460446 & 0.1417910 & 0.13721264\\\\\n",
       "\t East    & Orioles   & 0.14992722 & 0.1571610 & 0.1524138 & 0.12285714\\\\\n",
       "\t East    & Rays      & 0.11355311 & 0.1395179 & 0.1588862 & 0.10292634\\\\\n",
       "\t East    & Red\\_Sox   & 0.11068111 & 0.1353482 & 0.1067762 & 0.13297872\\\\\n",
       "\t East    & Yankees   & 0.12690665 & 0.1190476 & 0.1556157 & 0.16188525\\\\\n",
       "\t West    & Angels    & 0.12264151 & 0.1029900 & 0.1278079 & 0.14545455\\\\\n",
       "\t West    & Astros    & 0.14814815 & 0.1432814 & 0.1433869 & 0.12697410\\\\\n",
       "\t West    & Athletics & 0.08695652 & 0.1151920 & 0.1479150 & 0.13774272\\\\\n",
       "\t West    & Mariners  & 0.13852459 & 0.1563611 & 0.1294278 & 0.12296296\\\\\n",
       "\t West    & Rangers   & 0.11508220 & 0.1407579 & 0.1682379 & 0.14190687\\\\\n",
       "\\end{tabular}\n"
      ],
      "text/markdown": [
       "\n",
       "A grouped_df: 15 × 6\n",
       "\n",
       "| division &lt;chr&gt; | team &lt;chr&gt; | 2015 &lt;dbl&gt; | 2016 &lt;dbl&gt; | 2017 &lt;dbl&gt; | 2018 &lt;dbl&gt; |\n",
       "|---|---|---|---|---|---|\n",
       "| Central | Indians   | 0.09964727 | 0.1198402 | 0.1314103 | 0.12936849 |\n",
       "| Central | Royals    | 0.08997253 | 0.1041215 | 0.1225681 | 0.10319635 |\n",
       "| Central | Tigers    | 0.09611152 | 0.1376147 | 0.1077051 | 0.09244314 |\n",
       "| Central | Twins     | 0.10641201 | 0.1308677 | 0.1312420 | 0.09869494 |\n",
       "| Central | White_Sox | 0.10594947 | 0.1220799 | 0.1352785 | 0.13573620 |\n",
       "| East    | Blue_Jays | 0.16168582 | 0.1460446 | 0.1417910 | 0.13721264 |\n",
       "| East    | Orioles   | 0.14992722 | 0.1571610 | 0.1524138 | 0.12285714 |\n",
       "| East    | Rays      | 0.11355311 | 0.1395179 | 0.1588862 | 0.10292634 |\n",
       "| East    | Red_Sox   | 0.11068111 | 0.1353482 | 0.1067762 | 0.13297872 |\n",
       "| East    | Yankees   | 0.12690665 | 0.1190476 | 0.1556157 | 0.16188525 |\n",
       "| West    | Angels    | 0.12264151 | 0.1029900 | 0.1278079 | 0.14545455 |\n",
       "| West    | Astros    | 0.14814815 | 0.1432814 | 0.1433869 | 0.12697410 |\n",
       "| West    | Athletics | 0.08695652 | 0.1151920 | 0.1479150 | 0.13774272 |\n",
       "| West    | Mariners  | 0.13852459 | 0.1563611 | 0.1294278 | 0.12296296 |\n",
       "| West    | Rangers   | 0.11508220 | 0.1407579 | 0.1682379 | 0.14190687 |\n",
       "\n"
      ],
      "text/plain": [
       "   division team      2015       2016      2017      2018      \n",
       "1  Central  Indians   0.09964727 0.1198402 0.1314103 0.12936849\n",
       "2  Central  Royals    0.08997253 0.1041215 0.1225681 0.10319635\n",
       "3  Central  Tigers    0.09611152 0.1376147 0.1077051 0.09244314\n",
       "4  Central  Twins     0.10641201 0.1308677 0.1312420 0.09869494\n",
       "5  Central  White_Sox 0.10594947 0.1220799 0.1352785 0.13573620\n",
       "6  East     Blue_Jays 0.16168582 0.1460446 0.1417910 0.13721264\n",
       "7  East     Orioles   0.14992722 0.1571610 0.1524138 0.12285714\n",
       "8  East     Rays      0.11355311 0.1395179 0.1588862 0.10292634\n",
       "9  East     Red_Sox   0.11068111 0.1353482 0.1067762 0.13297872\n",
       "10 East     Yankees   0.12690665 0.1190476 0.1556157 0.16188525\n",
       "11 West     Angels    0.12264151 0.1029900 0.1278079 0.14545455\n",
       "12 West     Astros    0.14814815 0.1432814 0.1433869 0.12697410\n",
       "13 West     Athletics 0.08695652 0.1151920 0.1479150 0.13774272\n",
       "14 West     Mariners  0.13852459 0.1563611 0.1294278 0.12296296\n",
       "15 West     Rangers   0.11508220 0.1407579 0.1682379 0.14190687"
      ]
     },
     "metadata": {},
     "output_type": "display_data"
    }
   ],
   "source": [
    "mlb %>% group_by(division, team, year) %>% summarize(HR_FB=sum(HR)/sum(FB)) %>%\n",
    "    spread(key=year, value=HR_FB)"
   ]
  },
  {
   "cell_type": "code",
   "execution_count": 38,
   "metadata": {},
   "outputs": [
    {
     "name": "stderr",
     "output_type": "stream",
     "text": [
      "`summarise()` has grouped output by 'division', 'team'. You can override using the `.groups` argument.\n",
      "\n"
     ]
    },
    {
     "data": {
      "text/html": [
       "<table class=\"dataframe\">\n",
       "<caption>A grouped_df: 6 × 7</caption>\n",
       "<thead>\n",
       "\t<tr><th scope=col>division</th><th scope=col>team</th><th scope=col>2015</th><th scope=col>2016</th><th scope=col>2017</th><th scope=col>2018</th><th scope=col>increased</th></tr>\n",
       "\t<tr><th scope=col>&lt;chr&gt;</th><th scope=col>&lt;chr&gt;</th><th scope=col>&lt;dbl&gt;</th><th scope=col>&lt;dbl&gt;</th><th scope=col>&lt;dbl&gt;</th><th scope=col>&lt;dbl&gt;</th><th scope=col>&lt;lgl&gt;</th></tr>\n",
       "</thead>\n",
       "<tbody>\n",
       "\t<tr><td>Central</td><td>Indians  </td><td>0.09964727</td><td>0.1198402</td><td>0.1314103</td><td>0.12936849</td><td> TRUE</td></tr>\n",
       "\t<tr><td>Central</td><td>Royals   </td><td>0.08997253</td><td>0.1041215</td><td>0.1225681</td><td>0.10319635</td><td> TRUE</td></tr>\n",
       "\t<tr><td>Central</td><td>Tigers   </td><td>0.09611152</td><td>0.1376147</td><td>0.1077051</td><td>0.09244314</td><td>FALSE</td></tr>\n",
       "\t<tr><td>Central</td><td>Twins    </td><td>0.10641201</td><td>0.1308677</td><td>0.1312420</td><td>0.09869494</td><td>FALSE</td></tr>\n",
       "\t<tr><td>Central</td><td>White_Sox</td><td>0.10594947</td><td>0.1220799</td><td>0.1352785</td><td>0.13573620</td><td> TRUE</td></tr>\n",
       "\t<tr><td>East   </td><td>Blue_Jays</td><td>0.16168582</td><td>0.1460446</td><td>0.1417910</td><td>0.13721264</td><td>FALSE</td></tr>\n",
       "</tbody>\n",
       "</table>\n"
      ],
      "text/latex": [
       "A grouped\\_df: 6 × 7\n",
       "\\begin{tabular}{lllllll}\n",
       " division & team & 2015 & 2016 & 2017 & 2018 & increased\\\\\n",
       " <chr> & <chr> & <dbl> & <dbl> & <dbl> & <dbl> & <lgl>\\\\\n",
       "\\hline\n",
       "\t Central & Indians   & 0.09964727 & 0.1198402 & 0.1314103 & 0.12936849 &  TRUE\\\\\n",
       "\t Central & Royals    & 0.08997253 & 0.1041215 & 0.1225681 & 0.10319635 &  TRUE\\\\\n",
       "\t Central & Tigers    & 0.09611152 & 0.1376147 & 0.1077051 & 0.09244314 & FALSE\\\\\n",
       "\t Central & Twins     & 0.10641201 & 0.1308677 & 0.1312420 & 0.09869494 & FALSE\\\\\n",
       "\t Central & White\\_Sox & 0.10594947 & 0.1220799 & 0.1352785 & 0.13573620 &  TRUE\\\\\n",
       "\t East    & Blue\\_Jays & 0.16168582 & 0.1460446 & 0.1417910 & 0.13721264 & FALSE\\\\\n",
       "\\end{tabular}\n"
      ],
      "text/markdown": [
       "\n",
       "A grouped_df: 6 × 7\n",
       "\n",
       "| division &lt;chr&gt; | team &lt;chr&gt; | 2015 &lt;dbl&gt; | 2016 &lt;dbl&gt; | 2017 &lt;dbl&gt; | 2018 &lt;dbl&gt; | increased &lt;lgl&gt; |\n",
       "|---|---|---|---|---|---|---|\n",
       "| Central | Indians   | 0.09964727 | 0.1198402 | 0.1314103 | 0.12936849 |  TRUE |\n",
       "| Central | Royals    | 0.08997253 | 0.1041215 | 0.1225681 | 0.10319635 |  TRUE |\n",
       "| Central | Tigers    | 0.09611152 | 0.1376147 | 0.1077051 | 0.09244314 | FALSE |\n",
       "| Central | Twins     | 0.10641201 | 0.1308677 | 0.1312420 | 0.09869494 | FALSE |\n",
       "| Central | White_Sox | 0.10594947 | 0.1220799 | 0.1352785 | 0.13573620 |  TRUE |\n",
       "| East    | Blue_Jays | 0.16168582 | 0.1460446 | 0.1417910 | 0.13721264 | FALSE |\n",
       "\n"
      ],
      "text/plain": [
       "  division team      2015       2016      2017      2018       increased\n",
       "1 Central  Indians   0.09964727 0.1198402 0.1314103 0.12936849  TRUE    \n",
       "2 Central  Royals    0.08997253 0.1041215 0.1225681 0.10319635  TRUE    \n",
       "3 Central  Tigers    0.09611152 0.1376147 0.1077051 0.09244314 FALSE    \n",
       "4 Central  Twins     0.10641201 0.1308677 0.1312420 0.09869494 FALSE    \n",
       "5 Central  White_Sox 0.10594947 0.1220799 0.1352785 0.13573620  TRUE    \n",
       "6 East     Blue_Jays 0.16168582 0.1460446 0.1417910 0.13721264 FALSE    "
      ]
     },
     "metadata": {},
     "output_type": "display_data"
    }
   ],
   "source": [
    "dat2 = mlb %>% group_by(division, team, year) %>% summarize(HR_FB=sum(HR)/sum(FB)) %>%\n",
    "    spread(key=year, value=HR_FB) %>% mutate(increased = `2018` > `2015`)\n",
    "\n",
    "head(dat2)"
   ]
  },
  {
   "cell_type": "markdown",
   "metadata": {},
   "source": [
    "Turn this back into a \"long\" dataset and create a plot of HR/FB rate on year. Color it by `team`, facet it by `division`, and choose the linetype according to the `increased` variable."
   ]
  },
  {
   "cell_type": "code",
   "execution_count": 40,
   "metadata": {},
   "outputs": [
    {
     "data": {
      "image/png": "[encoded data removed]",
      "text/plain": [
       "plot without title"
      ]
     },
     "metadata": {
      "image/png": {
       "height": 300,
       "width": 360
      }
     },
     "output_type": "display_data"
    }
   ],
   "source": [
    "dat2b = dat2 %>% gather(key=year, value=HR_FB, `2015`:`2018`)\n",
    "\n",
    "ggplot(dat2b, aes(color=team, linetype=increased, x=as.numeric(year), y=HR_FB)) + \n",
    "    geom_line() +\n",
    "    facet_wrap(~ division, nrow=3)"
   ]
  },
  {
   "cell_type": "markdown",
   "metadata": {},
   "source": [
    "### Problem 3\n",
    "\n",
    "Go back to `mlb` and calculate total HRs and PAs per year per team. Create a wide version of this dataset. So there should be a `team` variable, then eight variables tracking values: `HR_2015`, `HR_2016`, `HR_2017`, `HR_2018`, `PA_2015`, `PA_2016`, `PA_2017`, and `PA_2018`.\n",
    "\n",
    "Hint: Once you calculate the values you can use a `gather`, `unite`, and `spread` in that order to create the wide version."
   ]
  },
  {
   "cell_type": "code",
   "execution_count": 10,
   "metadata": {},
   "outputs": [
    {
     "name": "stderr",
     "output_type": "stream",
     "text": [
      "`summarise()` has grouped output by 'team'. You can override using the `.groups` argument.\n",
      "\n"
     ]
    },
    {
     "data": {
      "text/html": [
       "<table class=\"dataframe\">\n",
       "<caption>A grouped_df: 6 × 9</caption>\n",
       "<thead>\n",
       "\t<tr><th scope=col>team</th><th scope=col>HR_2015</th><th scope=col>HR_2016</th><th scope=col>HR_2017</th><th scope=col>HR_2018</th><th scope=col>PA_2015</th><th scope=col>PA_2016</th><th scope=col>PA_2017</th><th scope=col>PA_2018</th></tr>\n",
       "\t<tr><th scope=col>&lt;chr&gt;</th><th scope=col>&lt;dbl&gt;</th><th scope=col>&lt;dbl&gt;</th><th scope=col>&lt;dbl&gt;</th><th scope=col>&lt;dbl&gt;</th><th scope=col>&lt;dbl&gt;</th><th scope=col>&lt;dbl&gt;</th><th scope=col>&lt;dbl&gt;</th><th scope=col>&lt;dbl&gt;</th></tr>\n",
       "</thead>\n",
       "<tbody>\n",
       "\t<tr><td>Angels   </td><td>169</td><td>155</td><td>165</td><td>192</td><td>5519</td><td>5901</td><td>5178</td><td>5336</td></tr>\n",
       "\t<tr><td>Astros   </td><td>224</td><td>193</td><td>232</td><td>201</td><td>5866</td><td>5851</td><td>5984</td><td>5997</td></tr>\n",
       "\t<tr><td>Athletics</td><td>124</td><td>138</td><td>188</td><td>227</td><td>5573</td><td>4487</td><td>4687</td><td>6248</td></tr>\n",
       "\t<tr><td>Blue_Jays</td><td>211</td><td>216</td><td>209</td><td>191</td><td>5196</td><td>6015</td><td>5842</td><td>5313</td></tr>\n",
       "\t<tr><td>Indians  </td><td>113</td><td>180</td><td>205</td><td>211</td><td>4758</td><td>5896</td><td>6051</td><td>6219</td></tr>\n",
       "\t<tr><td>Mariners </td><td>169</td><td>220</td><td>190</td><td>166</td><td>5002</td><td>6079</td><td>5789</td><td>5609</td></tr>\n",
       "</tbody>\n",
       "</table>\n"
      ],
      "text/latex": [
       "A grouped\\_df: 6 × 9\n",
       "\\begin{tabular}{lllllllll}\n",
       " team & HR\\_2015 & HR\\_2016 & HR\\_2017 & HR\\_2018 & PA\\_2015 & PA\\_2016 & PA\\_2017 & PA\\_2018\\\\\n",
       " <chr> & <dbl> & <dbl> & <dbl> & <dbl> & <dbl> & <dbl> & <dbl> & <dbl>\\\\\n",
       "\\hline\n",
       "\t Angels    & 169 & 155 & 165 & 192 & 5519 & 5901 & 5178 & 5336\\\\\n",
       "\t Astros    & 224 & 193 & 232 & 201 & 5866 & 5851 & 5984 & 5997\\\\\n",
       "\t Athletics & 124 & 138 & 188 & 227 & 5573 & 4487 & 4687 & 6248\\\\\n",
       "\t Blue\\_Jays & 211 & 216 & 209 & 191 & 5196 & 6015 & 5842 & 5313\\\\\n",
       "\t Indians   & 113 & 180 & 205 & 211 & 4758 & 5896 & 6051 & 6219\\\\\n",
       "\t Mariners  & 169 & 220 & 190 & 166 & 5002 & 6079 & 5789 & 5609\\\\\n",
       "\\end{tabular}\n"
      ],
      "text/markdown": [
       "\n",
       "A grouped_df: 6 × 9\n",
       "\n",
       "| team &lt;chr&gt; | HR_2015 &lt;dbl&gt; | HR_2016 &lt;dbl&gt; | HR_2017 &lt;dbl&gt; | HR_2018 &lt;dbl&gt; | PA_2015 &lt;dbl&gt; | PA_2016 &lt;dbl&gt; | PA_2017 &lt;dbl&gt; | PA_2018 &lt;dbl&gt; |\n",
       "|---|---|---|---|---|---|---|---|---|\n",
       "| Angels    | 169 | 155 | 165 | 192 | 5519 | 5901 | 5178 | 5336 |\n",
       "| Astros    | 224 | 193 | 232 | 201 | 5866 | 5851 | 5984 | 5997 |\n",
       "| Athletics | 124 | 138 | 188 | 227 | 5573 | 4487 | 4687 | 6248 |\n",
       "| Blue_Jays | 211 | 216 | 209 | 191 | 5196 | 6015 | 5842 | 5313 |\n",
       "| Indians   | 113 | 180 | 205 | 211 | 4758 | 5896 | 6051 | 6219 |\n",
       "| Mariners  | 169 | 220 | 190 | 166 | 5002 | 6079 | 5789 | 5609 |\n",
       "\n"
      ],
      "text/plain": [
       "  team      HR_2015 HR_2016 HR_2017 HR_2018 PA_2015 PA_2016 PA_2017 PA_2018\n",
       "1 Angels    169     155     165     192     5519    5901    5178    5336   \n",
       "2 Astros    224     193     232     201     5866    5851    5984    5997   \n",
       "3 Athletics 124     138     188     227     5573    4487    4687    6248   \n",
       "4 Blue_Jays 211     216     209     191     5196    6015    5842    5313   \n",
       "5 Indians   113     180     205     211     4758    5896    6051    6219   \n",
       "6 Mariners  169     220     190     166     5002    6079    5789    5609   "
      ]
     },
     "metadata": {},
     "output_type": "display_data"
    }
   ],
   "source": [
    "dat3 = mlb %>% group_by(team, year) %>% summarize(HR=sum(HR), PA=sum(PA)) %>%\n",
    "    gather(key=variable, value=value, HR, PA) %>%\n",
    "    unite(var_year, variable, year) %>%\n",
    "    spread(key=var_year, value=value)\n",
    "head(dat3)"
   ]
  },
  {
   "cell_type": "markdown",
   "metadata": {},
   "source": [
    "### Problem 4\n",
    "\n",
    "Remove player-seasons with less than 200 `PA`. Then, for each player, calculate the change in `AVG` from the previous year to the current year and the change from the current year to the next year. Store these as two variables. If data on the previous or next year is not present, then the corresponding variable should be `NA`.\n",
    "\n",
    "Once you have these two variables, make two plots where the `x`-axis is current year `AVG` and the `y`-axis is each of these difference variables. Can you make both plots with a single command using faceting? (Hint: you may need to do some additional data transformations to accomplish this.) What conclusions can you draw from these plots?"
   ]
  },
  {
   "cell_type": "code",
   "execution_count": 55,
   "metadata": {},
   "outputs": [
    {
     "data": {
      "text/html": [
       "<table class=\"dataframe\">\n",
       "<caption>A tibble: 6 × 11</caption>\n",
       "<thead>\n",
       "\t<tr><th scope=col>year</th><th scope=col>name</th><th scope=col>team</th><th scope=col>division</th><th scope=col>PA</th><th scope=col>HR</th><th scope=col>BBrate</th><th scope=col>BB_K</th><th scope=col>AVG</th><th scope=col>FB</th><th scope=col>playerid</th></tr>\n",
       "\t<tr><th scope=col>&lt;dbl&gt;</th><th scope=col>&lt;chr&gt;</th><th scope=col>&lt;chr&gt;</th><th scope=col>&lt;chr&gt;</th><th scope=col>&lt;dbl&gt;</th><th scope=col>&lt;dbl&gt;</th><th scope=col>&lt;chr&gt;</th><th scope=col>&lt;chr&gt;</th><th scope=col>&lt;dbl&gt;</th><th scope=col>&lt;dbl&gt;</th><th scope=col>&lt;dbl&gt;</th></tr>\n",
       "</thead>\n",
       "<tbody>\n",
       "\t<tr><td>2016</td><td>Abraham Almonte</td><td>Indians</td><td>Central</td><td>194</td><td>1</td><td>4.1 % </td><td>8/42 </td><td>0.264</td><td>43</td><td> 5486</td></tr>\n",
       "\t<tr><td>2017</td><td>Abraham Almonte</td><td>Indians</td><td>Central</td><td>195</td><td>3</td><td>10.3 %</td><td>20/46</td><td>0.233</td><td>34</td><td> 5486</td></tr>\n",
       "\t<tr><td>2015</td><td>Adam Moore     </td><td>Indians</td><td>Central</td><td>  4</td><td>0</td><td>0.0 % </td><td>0/2  </td><td>0.250</td><td> 1</td><td> 9362</td></tr>\n",
       "\t<tr><td>2016</td><td>Adam Moore     </td><td>Indians</td><td>Central</td><td>  5</td><td>0</td><td>0.0 % </td><td>0/4  </td><td>0.000</td><td> 1</td><td> 9362</td></tr>\n",
       "\t<tr><td>2018</td><td>Adam Plutko    </td><td>Indians</td><td>Central</td><td>  2</td><td>0</td><td>0.0 % </td><td>0/0  </td><td>0.000</td><td> 0</td><td>15846</td></tr>\n",
       "\t<tr><td>2018</td><td>Adam Rosales   </td><td>Indians</td><td>Central</td><td> 21</td><td>1</td><td>4.8 % </td><td>1/5  </td><td>0.211</td><td> 7</td><td> 9682</td></tr>\n",
       "</tbody>\n",
       "</table>\n"
      ],
      "text/latex": [
       "A tibble: 6 × 11\n",
       "\\begin{tabular}{lllllllllll}\n",
       " year & name & team & division & PA & HR & BBrate & BB\\_K & AVG & FB & playerid\\\\\n",
       " <dbl> & <chr> & <chr> & <chr> & <dbl> & <dbl> & <chr> & <chr> & <dbl> & <dbl> & <dbl>\\\\\n",
       "\\hline\n",
       "\t 2016 & Abraham Almonte & Indians & Central & 194 & 1 & 4.1 \\%  & 8/42  & 0.264 & 43 &  5486\\\\\n",
       "\t 2017 & Abraham Almonte & Indians & Central & 195 & 3 & 10.3 \\% & 20/46 & 0.233 & 34 &  5486\\\\\n",
       "\t 2015 & Adam Moore      & Indians & Central &   4 & 0 & 0.0 \\%  & 0/2   & 0.250 &  1 &  9362\\\\\n",
       "\t 2016 & Adam Moore      & Indians & Central &   5 & 0 & 0.0 \\%  & 0/4   & 0.000 &  1 &  9362\\\\\n",
       "\t 2018 & Adam Plutko     & Indians & Central &   2 & 0 & 0.0 \\%  & 0/0   & 0.000 &  0 & 15846\\\\\n",
       "\t 2018 & Adam Rosales    & Indians & Central &  21 & 1 & 4.8 \\%  & 1/5   & 0.211 &  7 &  9682\\\\\n",
       "\\end{tabular}\n"
      ],
      "text/markdown": [
       "\n",
       "A tibble: 6 × 11\n",
       "\n",
       "| year &lt;dbl&gt; | name &lt;chr&gt; | team &lt;chr&gt; | division &lt;chr&gt; | PA &lt;dbl&gt; | HR &lt;dbl&gt; | BBrate &lt;chr&gt; | BB_K &lt;chr&gt; | AVG &lt;dbl&gt; | FB &lt;dbl&gt; | playerid &lt;dbl&gt; |\n",
       "|---|---|---|---|---|---|---|---|---|---|---|\n",
       "| 2016 | Abraham Almonte | Indians | Central | 194 | 1 | 4.1 %  | 8/42  | 0.264 | 43 |  5486 |\n",
       "| 2017 | Abraham Almonte | Indians | Central | 195 | 3 | 10.3 % | 20/46 | 0.233 | 34 |  5486 |\n",
       "| 2015 | Adam Moore      | Indians | Central |   4 | 0 | 0.0 %  | 0/2   | 0.250 |  1 |  9362 |\n",
       "| 2016 | Adam Moore      | Indians | Central |   5 | 0 | 0.0 %  | 0/4   | 0.000 |  1 |  9362 |\n",
       "| 2018 | Adam Plutko     | Indians | Central |   2 | 0 | 0.0 %  | 0/0   | 0.000 |  0 | 15846 |\n",
       "| 2018 | Adam Rosales    | Indians | Central |  21 | 1 | 4.8 %  | 1/5   | 0.211 |  7 |  9682 |\n",
       "\n"
      ],
      "text/plain": [
       "  year name            team    division PA  HR BBrate BB_K  AVG   FB playerid\n",
       "1 2016 Abraham Almonte Indians Central  194 1  4.1 %  8/42  0.264 43  5486   \n",
       "2 2017 Abraham Almonte Indians Central  195 3  10.3 % 20/46 0.233 34  5486   \n",
       "3 2015 Adam Moore      Indians Central    4 0  0.0 %  0/2   0.250  1  9362   \n",
       "4 2016 Adam Moore      Indians Central    5 0  0.0 %  0/4   0.000  1  9362   \n",
       "5 2018 Adam Plutko     Indians Central    2 0  0.0 %  0/0   0.000  0 15846   \n",
       "6 2018 Adam Rosales    Indians Central   21 1  4.8 %  1/5   0.211  7  9682   "
      ]
     },
     "metadata": {},
     "output_type": "display_data"
    }
   ],
   "source": [
    "head(mlb)"
   ]
  },
  {
   "cell_type": "code",
   "execution_count": 56,
   "metadata": {},
   "outputs": [
    {
     "data": {
      "text/html": [
       "<table class=\"dataframe\">\n",
       "<caption>A grouped_df: 6 × 12</caption>\n",
       "<thead>\n",
       "\t<tr><th scope=col>playerid</th><th scope=col>year</th><th scope=col>team</th><th scope=col>division</th><th scope=col>PA</th><th scope=col>HR</th><th scope=col>BBrate</th><th scope=col>BB_K</th><th scope=col>AVG</th><th scope=col>FB</th><th scope=col>AVG_diff</th><th scope=col>next_AVG_diff</th></tr>\n",
       "\t<tr><th scope=col>&lt;chr&gt;</th><th scope=col>&lt;dbl&gt;</th><th scope=col>&lt;chr&gt;</th><th scope=col>&lt;chr&gt;</th><th scope=col>&lt;dbl&gt;</th><th scope=col>&lt;dbl&gt;</th><th scope=col>&lt;chr&gt;</th><th scope=col>&lt;chr&gt;</th><th scope=col>&lt;dbl&gt;</th><th scope=col>&lt;dbl&gt;</th><th scope=col>&lt;dbl&gt;</th><th scope=col>&lt;dbl&gt;</th></tr>\n",
       "</thead>\n",
       "<tbody>\n",
       "\t<tr><td>10059_Max Stassi   </td><td>2018</td><td>Astros</td><td>West   </td><td>250</td><td> 8</td><td>9.2 % </td><td>23/74  </td><td>0.226</td><td> 45</td><td>    NA</td><td>    NA</td></tr>\n",
       "\t<tr><td>10155_Mike Trout   </td><td>2015</td><td>Angels</td><td>West   </td><td>682</td><td>41</td><td>13.5 %</td><td>92/158 </td><td>0.299</td><td>162</td><td>    NA</td><td> 0.016</td></tr>\n",
       "\t<tr><td>10155_Mike Trout   </td><td>2016</td><td>Angels</td><td>West   </td><td>681</td><td>29</td><td>17.0 %</td><td>116/137</td><td>0.315</td><td>153</td><td> 0.016</td><td>-0.009</td></tr>\n",
       "\t<tr><td>10155_Mike Trout   </td><td>2017</td><td>Angels</td><td>West   </td><td>507</td><td>33</td><td>18.5 %</td><td>94/90  </td><td>0.306</td><td>142</td><td>-0.009</td><td> 0.006</td></tr>\n",
       "\t<tr><td>10155_Mike Trout   </td><td>2018</td><td>Angels</td><td>West   </td><td>608</td><td>39</td><td>20.1 %</td><td>122/124</td><td>0.312</td><td>159</td><td> 0.006</td><td>    NA</td></tr>\n",
       "\t<tr><td>10231_Jose Iglesias</td><td>2015</td><td>Tigers</td><td>Central</td><td>454</td><td> 2</td><td>5.5 % </td><td>25/44  </td><td>0.300</td><td> 85</td><td>    NA</td><td>-0.045</td></tr>\n",
       "</tbody>\n",
       "</table>\n"
      ],
      "text/latex": [
       "A grouped\\_df: 6 × 12\n",
       "\\begin{tabular}{llllllllllll}\n",
       " playerid & year & team & division & PA & HR & BBrate & BB\\_K & AVG & FB & AVG\\_diff & next\\_AVG\\_diff\\\\\n",
       " <chr> & <dbl> & <chr> & <chr> & <dbl> & <dbl> & <chr> & <chr> & <dbl> & <dbl> & <dbl> & <dbl>\\\\\n",
       "\\hline\n",
       "\t 10059\\_Max Stassi    & 2018 & Astros & West    & 250 &  8 & 9.2 \\%  & 23/74   & 0.226 &  45 &     NA &     NA\\\\\n",
       "\t 10155\\_Mike Trout    & 2015 & Angels & West    & 682 & 41 & 13.5 \\% & 92/158  & 0.299 & 162 &     NA &  0.016\\\\\n",
       "\t 10155\\_Mike Trout    & 2016 & Angels & West    & 681 & 29 & 17.0 \\% & 116/137 & 0.315 & 153 &  0.016 & -0.009\\\\\n",
       "\t 10155\\_Mike Trout    & 2017 & Angels & West    & 507 & 33 & 18.5 \\% & 94/90   & 0.306 & 142 & -0.009 &  0.006\\\\\n",
       "\t 10155\\_Mike Trout    & 2018 & Angels & West    & 608 & 39 & 20.1 \\% & 122/124 & 0.312 & 159 &  0.006 &     NA\\\\\n",
       "\t 10231\\_Jose Iglesias & 2015 & Tigers & Central & 454 &  2 & 5.5 \\%  & 25/44   & 0.300 &  85 &     NA & -0.045\\\\\n",
       "\\end{tabular}\n"
      ],
      "text/markdown": [
       "\n",
       "A grouped_df: 6 × 12\n",
       "\n",
       "| playerid &lt;chr&gt; | year &lt;dbl&gt; | team &lt;chr&gt; | division &lt;chr&gt; | PA &lt;dbl&gt; | HR &lt;dbl&gt; | BBrate &lt;chr&gt; | BB_K &lt;chr&gt; | AVG &lt;dbl&gt; | FB &lt;dbl&gt; | AVG_diff &lt;dbl&gt; | next_AVG_diff &lt;dbl&gt; |\n",
       "|---|---|---|---|---|---|---|---|---|---|---|---|\n",
       "| 10059_Max Stassi    | 2018 | Astros | West    | 250 |  8 | 9.2 %  | 23/74   | 0.226 |  45 |     NA |     NA |\n",
       "| 10155_Mike Trout    | 2015 | Angels | West    | 682 | 41 | 13.5 % | 92/158  | 0.299 | 162 |     NA |  0.016 |\n",
       "| 10155_Mike Trout    | 2016 | Angels | West    | 681 | 29 | 17.0 % | 116/137 | 0.315 | 153 |  0.016 | -0.009 |\n",
       "| 10155_Mike Trout    | 2017 | Angels | West    | 507 | 33 | 18.5 % | 94/90   | 0.306 | 142 | -0.009 |  0.006 |\n",
       "| 10155_Mike Trout    | 2018 | Angels | West    | 608 | 39 | 20.1 % | 122/124 | 0.312 | 159 |  0.006 |     NA |\n",
       "| 10231_Jose Iglesias | 2015 | Tigers | Central | 454 |  2 | 5.5 %  | 25/44   | 0.300 |  85 |     NA | -0.045 |\n",
       "\n"
      ],
      "text/plain": [
       "  playerid            year team   division PA  HR BBrate BB_K    AVG   FB \n",
       "1 10059_Max Stassi    2018 Astros West     250  8 9.2 %  23/74   0.226  45\n",
       "2 10155_Mike Trout    2015 Angels West     682 41 13.5 % 92/158  0.299 162\n",
       "3 10155_Mike Trout    2016 Angels West     681 29 17.0 % 116/137 0.315 153\n",
       "4 10155_Mike Trout    2017 Angels West     507 33 18.5 % 94/90   0.306 142\n",
       "5 10155_Mike Trout    2018 Angels West     608 39 20.1 % 122/124 0.312 159\n",
       "6 10231_Jose Iglesias 2015 Tigers Central  454  2 5.5 %  25/44   0.300  85\n",
       "  AVG_diff next_AVG_diff\n",
       "1     NA       NA       \n",
       "2     NA    0.016       \n",
       "3  0.016   -0.009       \n",
       "4 -0.009    0.006       \n",
       "5  0.006       NA       \n",
       "6     NA   -0.045       "
      ]
     },
     "metadata": {},
     "output_type": "display_data"
    }
   ],
   "source": [
    "options(repr.plot.width=7, repr.plot.height=5)\n",
    "\n",
    "dat4 = mlb %>% filter(PA >= 200) %>%\n",
    "    unite(playerid, playerid, name) %>%\n",
    "    complete(playerid, year) %>%\n",
    "    group_by(playerid) %>%\n",
    "    arrange(playerid, year) %>%\n",
    "    mutate(AVG_diff = AVG - lag(AVG),\n",
    "           next_AVG_diff = lead(AVG) - AVG) %>%\n",
    "    filter(!is.na(AVG))\n",
    "\n",
    "head(dat4)"
   ]
  },
  {
   "cell_type": "code",
   "execution_count": 58,
   "metadata": {},
   "outputs": [
    {
     "name": "stderr",
     "output_type": "stream",
     "text": [
      "Warning message:\n",
      "\"Removed 652 rows containing missing values (geom_point).\"\n"
     ]
    },
    {
     "data": {
      "image/png": "[encoded data removed]",
      "text/plain": [
       "plot without title"
      ]
     },
     "metadata": {
      "image/png": {
       "height": 300,
       "width": 420
      }
     },
     "output_type": "display_data"
    }
   ],
   "source": [
    "dat4b = dat4 %>% gather(key=variable, value=value, AVG_diff, next_AVG_diff)\n",
    "\n",
    "ggplot(dat4b, aes(x=AVG, y=value)) + geom_point() + facet_wrap(~variable)"
   ]
  },
  {
   "cell_type": "markdown",
   "metadata": {},
   "source": [
    "## Midterm Review"
   ]
  },
  {
   "cell_type": "code",
   "execution_count": 59,
   "metadata": {},
   "outputs": [],
   "source": [
    "load(\"lab5.Rdata\")"
   ]
  },
  {
   "cell_type": "markdown",
   "metadata": {},
   "source": [
    "lab5.RData contains two data frames: listing, demo. Let's take a look. listing basically has all the info you would find on a rental page.\n",
    "Some demographic info by zipcode are in demo"
   ]
  },
  {
   "cell_type": "code",
   "execution_count": 61,
   "metadata": {},
   "outputs": [
    {
     "name": "stdout",
     "output_type": "stream",
     "text": [
      "Rows: 23,624\n",
      "Columns: 29\n",
      "$ accommodates                \u001b[3m\u001b[90m<dbl>\u001b[39m\u001b[23m 2, 2, 6, 1, 2, 2, 2, 2, 3, 1, 2, 4, 3, 4, ~\n",
      "$ amenities                   \u001b[3m\u001b[90m<chr>\u001b[39m\u001b[23m \"{}\", \"{\\\"Wireless Internet\\\",\\\"Air condit~\n",
      "$ availability_30             \u001b[3m\u001b[90m<int>\u001b[39m\u001b[23m 29, 18, 3, 0, 6, 22, 10, 0, 3, 20, 17, 27,~\n",
      "$ bathrooms                   \u001b[3m\u001b[90m<dbl>\u001b[39m\u001b[23m 1.0, 1.0, 1.0, 1.0, 1.0, NA, 1.5, 1.0, 2.0~\n",
      "$ bed_type                    \u001b[3m\u001b[90m<chr>\u001b[39m\u001b[23m \"Real Bed\", \"Real Bed\", \"Real Bed\", \"Real ~\n",
      "$ bedrooms                    \u001b[3m\u001b[90m<dbl>\u001b[39m\u001b[23m 1, 1, 1, 1, 1, 1, 1, 1, 1, 1, 1, 1, 1, 1, ~\n",
      "$ beds                        \u001b[3m\u001b[90m<dbl>\u001b[39m\u001b[23m 1, 1, 3, 1, 1, 1, 2, 1, 2, 1, 1, 1, 1, 2, ~\n",
      "$ cancellation_policy         \u001b[3m\u001b[90m<chr>\u001b[39m\u001b[23m \"flexible\", \"flexible\", \"flexible\", \"flexi~\n",
      "$ city                        \u001b[3m\u001b[90m<chr>\u001b[39m\u001b[23m \"palmdale\", \"acton\", \"acton\", \"los angeles~\n",
      "$ has_availability            \u001b[3m\u001b[90m<lgl>\u001b[39m\u001b[23m NA, NA, NA, NA, NA, NA, NA, NA, NA, NA, NA~\n",
      "$ host_id                     \u001b[3m\u001b[90m<int>\u001b[39m\u001b[23m 44800067, 84615808, 71743973, 41646908, 89~\n",
      "$ id                          \u001b[3m\u001b[90m<int>\u001b[39m\u001b[23m 8909380, 14078522, 13006928, 7898757, 1606~\n",
      "$ instant_bookable            \u001b[3m\u001b[90m<chr>\u001b[39m\u001b[23m \"f\", \"f\", \"t\", \"f\", \"f\", \"f\", \"f\", \"f\", \"f~\n",
      "$ latitude                    \u001b[3m\u001b[90m<dbl>\u001b[39m\u001b[23m 34.48543, 34.51013, 34.51549, 34.03142, 34~\n",
      "$ longitude                   \u001b[3m\u001b[90m<dbl>\u001b[39m\u001b[23m -118.1254, -118.2124, -118.2307, -118.2990~\n",
      "$ metropolitan                \u001b[3m\u001b[90m<chr>\u001b[39m\u001b[23m \"LA\", \"LA\", \"LA\", \"LA\", \"LA\", \"LA\", \"LA\", ~\n",
      "$ name                        \u001b[3m\u001b[90m<chr>\u001b[39m\u001b[23m \"Nice quiet private ranch house\", \"Room w/~\n",
      "$ price                       \u001b[3m\u001b[90m<dbl>\u001b[39m\u001b[23m 50, 55, 150, 30, 45, 56, 80, 120, 55, 50, ~\n",
      "$ property_type               \u001b[3m\u001b[90m<chr>\u001b[39m\u001b[23m \"House\", \"House\", \"Other\", \"Apartment\", \"H~\n",
      "$ review_scores_checkin       \u001b[3m\u001b[90m<dbl>\u001b[39m\u001b[23m 10, 10, 10, 10, 10, 9, 10, 10, 10, 9, 10, ~\n",
      "$ review_scores_cleanliness   \u001b[3m\u001b[90m<dbl>\u001b[39m\u001b[23m 10, 10, 10, 9, 10, 8, 10, 10, 9, 9, 10, 7,~\n",
      "$ review_scores_communication \u001b[3m\u001b[90m<dbl>\u001b[39m\u001b[23m 10, 10, 10, 10, 10, 9, 10, 10, 10, 9, 10, ~\n",
      "$ review_scores_location      \u001b[3m\u001b[90m<dbl>\u001b[39m\u001b[23m 9, 10, 10, 9, 10, 8, 9, 9, 9, 8, 9, 7, 10,~\n",
      "$ review_scores_rating        \u001b[3m\u001b[90m<dbl>\u001b[39m\u001b[23m 93, 100, 100, 93, 98, 89, 99, 99, 92, 89, ~\n",
      "$ review_scores_value         \u001b[3m\u001b[90m<dbl>\u001b[39m\u001b[23m 9, 10, 10, 10, 10, 9, 10, 10, 9, 9, 10, 8,~\n",
      "$ room_type                   \u001b[3m\u001b[90m<chr>\u001b[39m\u001b[23m \"Private room\", \"Private room\", \"Entire ho~\n",
      "$ state                       \u001b[3m\u001b[90m<chr>\u001b[39m\u001b[23m \"CA\", \"CA\", \"CA\", \"CA\", \"CA\", \"CA\", \"CA\", ~\n",
      "$ weekly_price                \u001b[3m\u001b[90m<chr>\u001b[39m\u001b[23m \"\", \"\", \"\", \"\", \"\", \"$320.00\", \"$500.00\", ~\n",
      "$ zipcode                     \u001b[3m\u001b[90m<chr>\u001b[39m\u001b[23m \"93550\", \"93510\", \"93510\", \"90007\", \"90007~\n"
     ]
    }
   ],
   "source": [
    "listing %>% glimpse()"
   ]
  },
  {
   "cell_type": "code",
   "execution_count": 64,
   "metadata": {},
   "outputs": [
    {
     "data": {
      "text/html": [
       "<table class=\"dataframe\">\n",
       "<caption>A data.frame: 6 × 4</caption>\n",
       "<thead>\n",
       "\t<tr><th></th><th scope=col>zipcode</th><th scope=col>population</th><th scope=col>median_household_income</th><th scope=col>mean_household_income</th></tr>\n",
       "\t<tr><th></th><th scope=col>&lt;chr&gt;</th><th scope=col>&lt;int&gt;</th><th scope=col>&lt;chr&gt;</th><th scope=col>&lt;chr&gt;</th></tr>\n",
       "</thead>\n",
       "<tbody>\n",
       "\t<tr><th scope=row>1</th><td>601</td><td>17982</td><td>10816</td><td>20349</td></tr>\n",
       "\t<tr><th scope=row>2</th><td>602</td><td>40260</td><td>16079</td><td>23282</td></tr>\n",
       "\t<tr><th scope=row>3</th><td>603</td><td>52408</td><td>16804</td><td>26820</td></tr>\n",
       "\t<tr><th scope=row>4</th><td>606</td><td> 6331</td><td>12512</td><td>15730</td></tr>\n",
       "\t<tr><th scope=row>5</th><td>610</td><td>28328</td><td>17475</td><td>23360</td></tr>\n",
       "\t<tr><th scope=row>6</th><td>612</td><td>64816</td><td>17229</td><td>25590</td></tr>\n",
       "</tbody>\n",
       "</table>\n"
      ],
      "text/latex": [
       "A data.frame: 6 × 4\n",
       "\\begin{tabular}{r|llll}\n",
       "  & zipcode & population & median\\_household\\_income & mean\\_household\\_income\\\\\n",
       "  & <chr> & <int> & <chr> & <chr>\\\\\n",
       "\\hline\n",
       "\t1 & 601 & 17982 & 10816 & 20349\\\\\n",
       "\t2 & 602 & 40260 & 16079 & 23282\\\\\n",
       "\t3 & 603 & 52408 & 16804 & 26820\\\\\n",
       "\t4 & 606 &  6331 & 12512 & 15730\\\\\n",
       "\t5 & 610 & 28328 & 17475 & 23360\\\\\n",
       "\t6 & 612 & 64816 & 17229 & 25590\\\\\n",
       "\\end{tabular}\n"
      ],
      "text/markdown": [
       "\n",
       "A data.frame: 6 × 4\n",
       "\n",
       "| <!--/--> | zipcode &lt;chr&gt; | population &lt;int&gt; | median_household_income &lt;chr&gt; | mean_household_income &lt;chr&gt; |\n",
       "|---|---|---|---|---|\n",
       "| 1 | 601 | 17982 | 10816 | 20349 |\n",
       "| 2 | 602 | 40260 | 16079 | 23282 |\n",
       "| 3 | 603 | 52408 | 16804 | 26820 |\n",
       "| 4 | 606 |  6331 | 12512 | 15730 |\n",
       "| 5 | 610 | 28328 | 17475 | 23360 |\n",
       "| 6 | 612 | 64816 | 17229 | 25590 |\n",
       "\n"
      ],
      "text/plain": [
       "  zipcode population median_household_income mean_household_income\n",
       "1 601     17982      10816                   20349                \n",
       "2 602     40260      16079                   23282                \n",
       "3 603     52408      16804                   26820                \n",
       "4 606      6331      12512                   15730                \n",
       "5 610     28328      17475                   23360                \n",
       "6 612     64816      17229                   25590                "
      ]
     },
     "metadata": {},
     "output_type": "display_data"
    }
   ],
   "source": [
    "demo %>% head()"
   ]
  },
  {
   "cell_type": "markdown",
   "metadata": {},
   "source": [
    "### Goal: \n",
    "Airbnb is meant for home sharing, but there are hosts with more than 20 listings. This is more like commercial hotels without regulation than home sharing. We would like to identify such users and see what their impact is on the airbnb ecosystem.\n",
    "### Step 1:\n",
    "host_id is a unique identifier for host. id is a unique identifier for listing. Construct a table where for each host_id, we have the number of unique ids, and the mean review_scores_value for that host_id. Call this table tb1. Name the 3 resulting columns host_id, nid, and mean_review."
   ]
  },
  {
   "cell_type": "code",
   "execution_count": 68,
   "metadata": {},
   "outputs": [
    {
     "data": {
      "text/html": [
       "<table class=\"dataframe\">\n",
       "<caption>A tibble: 6 × 3</caption>\n",
       "<thead>\n",
       "\t<tr><th scope=col>host_id</th><th scope=col>nid</th><th scope=col>mean_review</th></tr>\n",
       "\t<tr><th scope=col>&lt;int&gt;</th><th scope=col>&lt;int&gt;</th><th scope=col>&lt;dbl&gt;</th></tr>\n",
       "</thead>\n",
       "<tbody>\n",
       "\t<tr><td>  59</td><td>1</td><td>10.0</td></tr>\n",
       "\t<tr><td> 521</td><td>1</td><td> 8.0</td></tr>\n",
       "\t<tr><td> 767</td><td>1</td><td> 8.0</td></tr>\n",
       "\t<tr><td>1158</td><td>1</td><td>10.0</td></tr>\n",
       "\t<tr><td>3041</td><td>2</td><td> 8.5</td></tr>\n",
       "\t<tr><td>3144</td><td>1</td><td>10.0</td></tr>\n",
       "</tbody>\n",
       "</table>\n"
      ],
      "text/latex": [
       "A tibble: 6 × 3\n",
       "\\begin{tabular}{lll}\n",
       " host\\_id & nid & mean\\_review\\\\\n",
       " <int> & <int> & <dbl>\\\\\n",
       "\\hline\n",
       "\t   59 & 1 & 10.0\\\\\n",
       "\t  521 & 1 &  8.0\\\\\n",
       "\t  767 & 1 &  8.0\\\\\n",
       "\t 1158 & 1 & 10.0\\\\\n",
       "\t 3041 & 2 &  8.5\\\\\n",
       "\t 3144 & 1 & 10.0\\\\\n",
       "\\end{tabular}\n"
      ],
      "text/markdown": [
       "\n",
       "A tibble: 6 × 3\n",
       "\n",
       "| host_id &lt;int&gt; | nid &lt;int&gt; | mean_review &lt;dbl&gt; |\n",
       "|---|---|---|\n",
       "|   59 | 1 | 10.0 |\n",
       "|  521 | 1 |  8.0 |\n",
       "|  767 | 1 |  8.0 |\n",
       "| 1158 | 1 | 10.0 |\n",
       "| 3041 | 2 |  8.5 |\n",
       "| 3144 | 1 | 10.0 |\n",
       "\n"
      ],
      "text/plain": [
       "  host_id nid mean_review\n",
       "1   59    1   10.0       \n",
       "2  521    1    8.0       \n",
       "3  767    1    8.0       \n",
       "4 1158    1   10.0       \n",
       "5 3041    2    8.5       \n",
       "6 3144    1   10.0       "
      ]
     },
     "metadata": {},
     "output_type": "display_data"
    }
   ],
   "source": [
    "tb1 <- listing %>% group_by(host_id) %>% summarise(nid = length(unique(id)), mean_review = mean(review_scores_value))\n",
    "head(tb1)"
   ]
  },
  {
   "cell_type": "markdown",
   "metadata": {},
   "source": [
    "### Step 2:\n",
    "\n",
    "Look at a digital clock:\n",
    "* if the minute is odd, Create a sequence of box plots, where the x axis is nid, and y axis is mean_review.\n",
    "* if the minute is even, create a scatter plot of mean_review vs nid, add a smooth fitted line.\n",
    " \n",
    "What do you see? If you have made both, what are the things that you can pick off from one plot but not the other?"
   ]
  },
  {
   "cell_type": "code",
   "execution_count": 79,
   "metadata": {},
   "outputs": [
    {
     "name": "stderr",
     "output_type": "stream",
     "text": [
      "Warning message:\n",
      "\"Removed 71 rows containing non-finite values (stat_boxplot).\"\n"
     ]
    },
    {
     "data": {
      "image/png": "[encoded data removed]",
      "text/plain": [
       "plot without title"
      ]
     },
     "metadata": {
      "image/png": {
       "height": 300,
       "width": 420
      }
     },
     "output_type": "display_data"
    }
   ],
   "source": [
    "ggplot(data = tb1) + \n",
    "    geom_boxplot(mapping = aes(x = factor(nid), y = mean_review), outlier.shape = NA) + ylim(6,10)"
   ]
  },
  {
   "cell_type": "code",
   "execution_count": 72,
   "metadata": {},
   "outputs": [
    {
     "name": "stderr",
     "output_type": "stream",
     "text": [
      "`geom_smooth()` using method = 'gam' and formula 'y ~ s(x, bs = \"cs\")'\n",
      "\n"
     ]
    },
    {
     "data": {
      "image/png": "[encoded data removed]",
      "text/plain": [
       "plot without title"
      ]
     },
     "metadata": {
      "image/png": {
       "height": 300,
       "width": 420
      }
     },
     "output_type": "display_data"
    }
   ],
   "source": [
    "ggplot(data = tb1, mapping = aes(x = nid, y = mean_review)) + \n",
    "    geom_point() + geom_smooth()"
   ]
  },
  {
   "cell_type": "markdown",
   "metadata": {},
   "source": [
    "### Step 3:\n",
    "Let's define commercial hosts to be hosts with >= 5 listings. Create a column in listing indicating if this row has a commercial host. (hint: you need to merge tables for this, at least I needed)"
   ]
  },
  {
   "cell_type": "code",
   "execution_count": 80,
   "metadata": {},
   "outputs": [
    {
     "name": "stderr",
     "output_type": "stream",
     "text": [
      "Joining, by = \"host_id\"\n",
      "\n"
     ]
    }
   ],
   "source": [
    "tb2 <- tb1 %>% mutate(if_commer = nid >= 5) %>% select(host_id, if_commer)\n",
    "listing <- listing %>% left_join(tb2)"
   ]
  },
  {
   "cell_type": "markdown",
   "metadata": {},
   "source": [
    "### Step 4:\n",
    "In listing, find for each zipcode, the total number of listings, the number of commercial listings (any listing by a commercial host is a commercial listing), and the mean price of all listings; retain only rows with more than 25 listings. Name this table tb3, name four columns zipcode, nlist, ncomlist, and mp."
   ]
  },
  {
   "cell_type": "code",
   "execution_count": 81,
   "metadata": {},
   "outputs": [],
   "source": [
    "tb3 <- listing %>% group_by(zipcode) %>% summarise(nlist = n(), ncomlist = sum(if_commer), mp = mean(price, na.rm = T)) %>%\n",
    "filter(nlist > 25)"
   ]
  },
  {
   "cell_type": "markdown",
   "metadata": {},
   "source": [
    "### Step 5:\n",
    "In tb3, add a column of boolean value indicating if this zipcode is \"commercial heavy\". We define commercial heavy as the number commercial listings exceeding 20% of the total amount of listings. Name the result tb4."
   ]
  },
  {
   "cell_type": "code",
   "execution_count": 23,
   "metadata": {},
   "outputs": [
    {
     "data": {
      "text/html": [
       "<table class=\"dataframe\">\n",
       "<caption>A tibble: 6 × 5</caption>\n",
       "<thead>\n",
       "\t<tr><th scope=col>zipcode</th><th scope=col>nlist</th><th scope=col>ncomlist</th><th scope=col>mp</th><th scope=col>com_heavy</th></tr>\n",
       "\t<tr><th scope=col>&lt;chr&gt;</th><th scope=col>&lt;int&gt;</th><th scope=col>&lt;int&gt;</th><th scope=col>&lt;dbl&gt;</th><th scope=col>&lt;lgl&gt;</th></tr>\n",
       "</thead>\n",
       "<tbody>\n",
       "\t<tr><td>     </td><td>249</td><td> 24</td><td>134.32114</td><td>FALSE</td></tr>\n",
       "\t<tr><td>90004</td><td>290</td><td> 62</td><td>115.34028</td><td> TRUE</td></tr>\n",
       "\t<tr><td>90005</td><td>195</td><td> 69</td><td> 90.78351</td><td> TRUE</td></tr>\n",
       "\t<tr><td>90006</td><td>279</td><td>185</td><td> 60.90323</td><td> TRUE</td></tr>\n",
       "\t<tr><td>90007</td><td>113</td><td> 41</td><td> 59.18584</td><td> TRUE</td></tr>\n",
       "\t<tr><td>90008</td><td> 46</td><td>  1</td><td>111.21739</td><td>FALSE</td></tr>\n",
       "</tbody>\n",
       "</table>\n"
      ],
      "text/latex": [
       "A tibble: 6 × 5\n",
       "\\begin{tabular}{lllll}\n",
       " zipcode & nlist & ncomlist & mp & com\\_heavy\\\\\n",
       " <chr> & <int> & <int> & <dbl> & <lgl>\\\\\n",
       "\\hline\n",
       "\t       & 249 &  24 & 134.32114 & FALSE\\\\\n",
       "\t 90004 & 290 &  62 & 115.34028 &  TRUE\\\\\n",
       "\t 90005 & 195 &  69 &  90.78351 &  TRUE\\\\\n",
       "\t 90006 & 279 & 185 &  60.90323 &  TRUE\\\\\n",
       "\t 90007 & 113 &  41 &  59.18584 &  TRUE\\\\\n",
       "\t 90008 &  46 &   1 & 111.21739 & FALSE\\\\\n",
       "\\end{tabular}\n"
      ],
      "text/markdown": [
       "\n",
       "A tibble: 6 × 5\n",
       "\n",
       "| zipcode &lt;chr&gt; | nlist &lt;int&gt; | ncomlist &lt;int&gt; | mp &lt;dbl&gt; | com_heavy &lt;lgl&gt; |\n",
       "|---|---|---|---|---|\n",
       "| <!----> | 249 |  24 | 134.32114 | FALSE |\n",
       "| 90004 | 290 |  62 | 115.34028 |  TRUE |\n",
       "| 90005 | 195 |  69 |  90.78351 |  TRUE |\n",
       "| 90006 | 279 | 185 |  60.90323 |  TRUE |\n",
       "| 90007 | 113 |  41 |  59.18584 |  TRUE |\n",
       "| 90008 |  46 |   1 | 111.21739 | FALSE |\n",
       "\n"
      ],
      "text/plain": [
       "  zipcode nlist ncomlist mp        com_heavy\n",
       "1         249    24      134.32114 FALSE    \n",
       "2 90004   290    62      115.34028  TRUE    \n",
       "3 90005   195    69       90.78351  TRUE    \n",
       "4 90006   279   185       60.90323  TRUE    \n",
       "5 90007   113    41       59.18584  TRUE    \n",
       "6 90008    46     1      111.21739 FALSE    "
      ]
     },
     "metadata": {},
     "output_type": "display_data"
    }
   ],
   "source": [
    "tb4 <- tb3 %>% mutate(com_heavy = (ncomlist/nlist) > 0.2)\n",
    "tb4 %>% head"
   ]
  }
 ],
 "metadata": {
  "kernelspec": {
   "display_name": "R",
   "language": "R",
   "name": "ir"
  },
  "language_info": {
   "codemirror_mode": "r",
   "file_extension": ".r",
   "mimetype": "text/x-r-source",
   "name": "R",
   "pygments_lexer": "r",
   "version": "4.1.1"
  }
 },
 "nbformat": 4,
 "nbformat_minor": 2
}
