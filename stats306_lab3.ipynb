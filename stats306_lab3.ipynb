{
 "cells": [
  {
   "cell_type": "markdown",
   "metadata": {},
   "source": [
    "# Lab 3: Data Manipulation\n"
   ]
  },
  {
   "cell_type": "markdown",
   "metadata": {},
   "source": [
    "Partial notes refer to Brian Manzo "
   ]
  },
  {
   "cell_type": "markdown",
   "metadata": {},
   "source": [
    "# Outline\n",
    "\n",
    "* [Homework 2](#Homework-2)\n",
    "* [dplyr for data manipulation](#dplyr-functions)"
   ]
  },
  {
   "cell_type": "code",
   "execution_count": 1,
   "metadata": {
    "scrolled": true
   },
   "outputs": [
    {
     "name": "stderr",
     "output_type": "stream",
     "text": [
      "-- \u001b[1mAttaching packages\u001b[22m ------------------------------------------------------------------------------- tidyverse 1.3.1 --\n",
      "\n",
      "\u001b[32mv\u001b[39m \u001b[34mggplot2\u001b[39m 3.3.5     \u001b[32mv\u001b[39m \u001b[34mpurrr  \u001b[39m 0.3.4\n",
      "\u001b[32mv\u001b[39m \u001b[34mtibble \u001b[39m 3.1.4     \u001b[32mv\u001b[39m \u001b[34mdplyr  \u001b[39m 1.0.7\n",
      "\u001b[32mv\u001b[39m \u001b[34mtidyr  \u001b[39m 1.1.3     \u001b[32mv\u001b[39m \u001b[34mstringr\u001b[39m 1.4.0\n",
      "\u001b[32mv\u001b[39m \u001b[34mreadr  \u001b[39m 2.0.1     \u001b[32mv\u001b[39m \u001b[34mforcats\u001b[39m 0.5.1\n",
      "\n",
      "-- \u001b[1mConflicts\u001b[22m ---------------------------------------------------------------------------------- tidyverse_conflicts() --\n",
      "\u001b[31mx\u001b[39m \u001b[34mdplyr\u001b[39m::\u001b[32mfilter()\u001b[39m masks \u001b[34mstats\u001b[39m::filter()\n",
      "\u001b[31mx\u001b[39m \u001b[34mdplyr\u001b[39m::\u001b[32mlag()\u001b[39m    masks \u001b[34mstats\u001b[39m::lag()\n",
      "\n"
     ]
    }
   ],
   "source": [
    "library(tidyverse) # load tidyverse"
   ]
  },
  {
   "cell_type": "markdown",
   "metadata": {},
   "source": [
    "## Homework 2"
   ]
  },
  {
   "cell_type": "markdown",
   "metadata": {},
   "source": [
    "**Problem4 (d)** Write the code to generate the following piechart that summarizes the flights counts for each of the airlines for the `newflight` data. _4 points_\n",
    "\n",
    "![title](https://github.com/keanmingtan/stats306_fall2021/blob/main/HW/HW1/piechart.png?raw=true)"
   ]
  },
  {
   "cell_type": "code",
   "execution_count": 2,
   "metadata": {},
   "outputs": [
    {
     "name": "stderr",
     "output_type": "stream",
     "text": [
      "\n",
      "Attaching package: 'gridExtra'\n",
      "\n",
      "\n",
      "The following object is masked from 'package:dplyr':\n",
      "\n",
      "    combine\n",
      "\n",
      "\n"
     ]
    }
   ],
   "source": [
    "# install.packages(\"gridExtra\")\n",
    "library(gridExtra)"
   ]
  },
  {
   "cell_type": "code",
   "execution_count": 3,
   "metadata": {},
   "outputs": [
    {
     "data": {
      "text/html": [
       "'C:/Users/jueju/Desktop/stats 306/lab material/Lab 3'"
      ],
      "text/latex": [
       "'C:/Users/jueju/Desktop/stats 306/lab material/Lab 3'"
      ],
      "text/markdown": [
       "'C:/Users/jueju/Desktop/stats 306/lab material/Lab 3'"
      ],
      "text/plain": [
       "[1] \"C:/Users/jueju/Desktop/stats 306/lab material/Lab 3\""
      ]
     },
     "metadata": {},
     "output_type": "display_data"
    },
    {
     "data": {
      "text/html": [
       "<style>\n",
       ".list-inline {list-style: none; margin:0; padding: 0}\n",
       ".list-inline>li {display: inline-block}\n",
       ".list-inline>li:not(:last-child)::after {content: \"\\00b7\"; padding: 0 .5ex}\n",
       "</style>\n",
       "<ol class=list-inline><li>'FrenchOpen-men-2013.csv'</li><li>'newflight.RData'</li><li>'stats306_lab03.ipynb'</li><li>'stats306_lab03_draft.ipynb'</li></ol>\n"
      ],
      "text/latex": [
       "\\begin{enumerate*}\n",
       "\\item 'FrenchOpen-men-2013.csv'\n",
       "\\item 'newflight.RData'\n",
       "\\item 'stats306\\_lab03.ipynb'\n",
       "\\item 'stats306\\_lab03\\_draft.ipynb'\n",
       "\\end{enumerate*}\n"
      ],
      "text/markdown": [
       "1. 'FrenchOpen-men-2013.csv'\n",
       "2. 'newflight.RData'\n",
       "3. 'stats306_lab03.ipynb'\n",
       "4. 'stats306_lab03_draft.ipynb'\n",
       "\n",
       "\n"
      ],
      "text/plain": [
       "[1] \"FrenchOpen-men-2013.csv\"    \"newflight.RData\"           \n",
       "[3] \"stats306_lab03.ipynb\"       \"stats306_lab03_draft.ipynb\""
      ]
     },
     "metadata": {},
     "output_type": "display_data"
    }
   ],
   "source": [
    "getwd()\n",
    "list.files()"
   ]
  },
  {
   "cell_type": "code",
   "execution_count": 4,
   "metadata": {},
   "outputs": [],
   "source": [
    "load(file = \"newflight.RData\") "
   ]
  },
  {
   "cell_type": "code",
   "execution_count": 5,
   "metadata": {},
   "outputs": [
    {
     "data": {
      "image/png": "[encoded data removed]",
      "text/plain": [
       "plot without title"
      ]
     },
     "metadata": {
      "image/png": {
       "height": 600,
       "width": 960
      }
     },
     "output_type": "display_data"
    }
   ],
   "source": [
    "p1 = ggplot(data = newflight) +\n",
    "    geom_bar(mapping = aes(x = 1, fill = carrier)) # default width is 0.9\n",
    "p2 = ggplot(data = newflight) +\n",
    "    geom_bar(mapping = aes(x = 1, fill = carrier)) + # default width is 0.9\n",
    "    scale_x_continuous(breaks = c(0.5, 0.75, 1, 1.25, 1.5), limits = c(0.5, 1.5))\n",
    "p3 = ggplot(data = newflight) +\n",
    "    geom_bar(mapping = aes(x = 1, fill = carrier), width = 1)\n",
    "\n",
    "options(repr.plot.width=16,repr.plot.height=10)\n",
    "grid.arrange(p1, p2, p3, nrow=1, ncol=3)\n",
    "options(repr.plot.width=5,repr.plot.height=5)"
   ]
  },
  {
   "cell_type": "code",
   "execution_count": 6,
   "metadata": {},
   "outputs": [
    {
     "data": {
      "image/png": "[encoded data removed]",
      "text/plain": [
       "plot without title"
      ]
     },
     "metadata": {
      "image/png": {
       "height": 300,
       "width": 900
      }
     },
     "output_type": "display_data"
    }
   ],
   "source": [
    "pp1 = ggplot(data = newflight) +\n",
    "    geom_bar(mapping = aes(x = 1, fill = carrier)) +\n",
    "    labs(x = NULL) + \n",
    "    coord_polar(theta =\"y\") \n",
    "pp2 = ggplot(data = newflight) +\n",
    "    geom_bar(mapping = aes(x = 1, fill = carrier)) +\n",
    "    labs(x = NULL) + \n",
    "    coord_polar(theta =\"y\") +\n",
    "    scale_x_continuous(breaks = c(0.5, 0.75, 1, 1.25, 1.5), limits = c(0.5, 1.5))\n",
    "pp3 = ggplot(data = newflight) +\n",
    "    geom_bar(mapping = aes(x = 1, fill = carrier), width = 1) +\n",
    "    labs(x = NULL) + \n",
    "    coord_polar(theta =\"y\") \n",
    "\n",
    "options(repr.plot.width=15,repr.plot.height=5)\n",
    "grid.arrange(pp1, pp2, pp3, nrow=1, ncol=3)\n",
    "options(repr.plot.width=5,repr.plot.height=5)"
   ]
  },
  {
   "cell_type": "markdown",
   "metadata": {},
   "source": [
    "**Problem 5 (Challenging Problem)**\n",
    "Load the `diamonds` data set.  Reproduce the following plot. \n",
    "\n",
    "(Hint: for this plot, you will need figure out how to manually manipulate the ticks on the $x$ and $y$ axes.)\n",
    "\n",
    "![title](https://github.com/keanmingtan/stats306_fall2021/blob/main/HW/HW1/carat.png?raw=true)"
   ]
  },
  {
   "cell_type": "code",
   "execution_count": 7,
   "metadata": {},
   "outputs": [
    {
     "data": {
      "image/png": "[encoded data removed]",
      "text/plain": [
       "plot without title"
      ]
     },
     "metadata": {
      "image/png": {
       "height": 300,
       "width": 300
      }
     },
     "output_type": "display_data"
    }
   ],
   "source": [
    "ggplot(data=diamonds, aes(x = carat, y = price)) + \n",
    "    geom_point( )+ \n",
    "    scale_x_continuous(name = \"Carats\", breaks=c(0.2,0.5, 1.0, 2.0,5.0)) +\n",
    "  scale_y_continuous(name = \"Price\", breaks=c(500,1000, 2000, 5000,10000, 20000))"
   ]
  },
  {
   "cell_type": "code",
   "execution_count": 8,
   "metadata": {},
   "outputs": [
    {
     "data": {
      "image/png": "[encoded data removed]",
      "text/plain": [
       "plot without title"
      ]
     },
     "metadata": {
      "image/png": {
       "height": 420,
       "width": 840
      }
     },
     "output_type": "display_data"
    }
   ],
   "source": [
    "cp1 = diamonds %>% mutate(logcarat = log(carat), logprice = log(price)) %>% \n",
    "    ggplot(aes(x = logcarat, y = logprice)) + \n",
    "    geom_point( )\n",
    "\n",
    "cp2 = ggplot(data=diamonds, aes(x = carat, y = price)) + \n",
    "    geom_point( )+ \n",
    "    scale_x_continuous(name = \"Carats\", breaks=c(0.2,0.5, 1.0, 2.0,5.0), trans = \"log\") +\n",
    "    scale_y_continuous(name = \"Price\", breaks=c(500,1000, 2000, 5000,10000, 20000),trans = \"log\")\n",
    "\n",
    "options(repr.plot.width=14,repr.plot.height=7)\n",
    "grid.arrange(cp1, cp2, nrow=1, ncol=2)\n",
    "options(repr.plot.width=7,repr.plot.height=7)"
   ]
  },
  {
   "cell_type": "markdown",
   "metadata": {},
   "source": [
    "## dplyr functions"
   ]
  },
  {
   "cell_type": "code",
   "execution_count": 9,
   "metadata": {},
   "outputs": [],
   "source": [
    "tennis_data = read.csv('https://raw.githubusercontent.com/bmanzo/stats306_labs/master/lab03/FrenchOpen-men-2013.csv')"
   ]
  },
  {
   "cell_type": "code",
   "execution_count": 10,
   "metadata": {},
   "outputs": [
    {
     "data": {
      "text/html": [
       "<table class=\"dataframe\">\n",
       "<caption>A data.frame: 6 × 42</caption>\n",
       "<thead>\n",
       "\t<tr><th></th><th scope=col>Player1</th><th scope=col>Player2</th><th scope=col>Round</th><th scope=col>Result</th><th scope=col>FNL.1</th><th scope=col>FNL.2</th><th scope=col>FSP.1</th><th scope=col>FSW.1</th><th scope=col>SSP.1</th><th scope=col>SSW.1</th><th scope=col>...</th><th scope=col>BPC.2</th><th scope=col>BPW.2</th><th scope=col>NPA.2</th><th scope=col>NPW.2</th><th scope=col>TPW.2</th><th scope=col>ST1.2</th><th scope=col>ST2.2</th><th scope=col>ST3.2</th><th scope=col>ST4.2</th><th scope=col>ST5.2</th></tr>\n",
       "\t<tr><th></th><th scope=col>&lt;chr&gt;</th><th scope=col>&lt;chr&gt;</th><th scope=col>&lt;int&gt;</th><th scope=col>&lt;int&gt;</th><th scope=col>&lt;int&gt;</th><th scope=col>&lt;int&gt;</th><th scope=col>&lt;int&gt;</th><th scope=col>&lt;int&gt;</th><th scope=col>&lt;int&gt;</th><th scope=col>&lt;int&gt;</th><th scope=col>...</th><th scope=col>&lt;int&gt;</th><th scope=col>&lt;int&gt;</th><th scope=col>&lt;int&gt;</th><th scope=col>&lt;int&gt;</th><th scope=col>&lt;int&gt;</th><th scope=col>&lt;int&gt;</th><th scope=col>&lt;int&gt;</th><th scope=col>&lt;int&gt;</th><th scope=col>&lt;int&gt;</th><th scope=col>&lt;int&gt;</th></tr>\n",
       "</thead>\n",
       "<tbody>\n",
       "\t<tr><th scope=row>1</th><td>Pablo Carreno-Busta</td><td>Roger Federer          </td><td>1</td><td>0</td><td>0</td><td>3</td><td>62</td><td>27</td><td>38</td><td>11</td><td>...</td><td> 7</td><td> 7</td><td>14</td><td>18</td><td> 88</td><td>6</td><td>6</td><td>6</td><td>NA</td><td>NA</td></tr>\n",
       "\t<tr><th scope=row>2</th><td>Somdev Devvarman   </td><td>Daniel Munoz-De La Nava</td><td>1</td><td>1</td><td>3</td><td>0</td><td>62</td><td>54</td><td>38</td><td>22</td><td>...</td><td> 1</td><td>16</td><td>22</td><td>25</td><td>106</td><td>3</td><td>3</td><td>5</td><td>NA</td><td>NA</td></tr>\n",
       "\t<tr><th scope=row>3</th><td>Tobias Kamke       </td><td>Paolo Lorenzi          </td><td>1</td><td>1</td><td>3</td><td>2</td><td>62</td><td>53</td><td>38</td><td>15</td><td>...</td><td>10</td><td>18</td><td>19</td><td>27</td><td>139</td><td>3</td><td>3</td><td>6</td><td> 6</td><td> 3</td></tr>\n",
       "\t<tr><th scope=row>4</th><td>Julien Benneteau   </td><td>Ricardas Berankis      </td><td>1</td><td>1</td><td>3</td><td>1</td><td>72</td><td>87</td><td>28</td><td>19</td><td>...</td><td> 4</td><td>13</td><td>33</td><td>43</td><td>149</td><td>6</td><td>3</td><td>7</td><td> 6</td><td>NA</td></tr>\n",
       "\t<tr><th scope=row>5</th><td>Lukas Lacko        </td><td>Sam Querrey            </td><td>1</td><td>0</td><td>0</td><td>3</td><td>52</td><td>31</td><td>48</td><td>22</td><td>...</td><td> 4</td><td> 7</td><td>12</td><td>13</td><td> 93</td><td>6</td><td>6</td><td>6</td><td>NA</td><td>NA</td></tr>\n",
       "\t<tr><th scope=row>6</th><td>Jan Hajek          </td><td>Denis Kudla            </td><td>1</td><td>1</td><td>3</td><td>1</td><td>70</td><td>58</td><td>30</td><td>18</td><td>...</td><td> 1</td><td> 7</td><td> 6</td><td> 9</td><td> 93</td><td>2</td><td>7</td><td>0</td><td> 4</td><td>NA</td></tr>\n",
       "</tbody>\n",
       "</table>\n"
      ],
      "text/latex": [
       "A data.frame: 6 × 42\n",
       "\\begin{tabular}{r|lllllllllllllllllllll}\n",
       "  & Player1 & Player2 & Round & Result & FNL.1 & FNL.2 & FSP.1 & FSW.1 & SSP.1 & SSW.1 & ... & BPC.2 & BPW.2 & NPA.2 & NPW.2 & TPW.2 & ST1.2 & ST2.2 & ST3.2 & ST4.2 & ST5.2\\\\\n",
       "  & <chr> & <chr> & <int> & <int> & <int> & <int> & <int> & <int> & <int> & <int> & ... & <int> & <int> & <int> & <int> & <int> & <int> & <int> & <int> & <int> & <int>\\\\\n",
       "\\hline\n",
       "\t1 & Pablo Carreno-Busta & Roger Federer           & 1 & 0 & 0 & 3 & 62 & 27 & 38 & 11 & ... &  7 &  7 & 14 & 18 &  88 & 6 & 6 & 6 & NA & NA\\\\\n",
       "\t2 & Somdev Devvarman    & Daniel Munoz-De La Nava & 1 & 1 & 3 & 0 & 62 & 54 & 38 & 22 & ... &  1 & 16 & 22 & 25 & 106 & 3 & 3 & 5 & NA & NA\\\\\n",
       "\t3 & Tobias Kamke        & Paolo Lorenzi           & 1 & 1 & 3 & 2 & 62 & 53 & 38 & 15 & ... & 10 & 18 & 19 & 27 & 139 & 3 & 3 & 6 &  6 &  3\\\\\n",
       "\t4 & Julien Benneteau    & Ricardas Berankis       & 1 & 1 & 3 & 1 & 72 & 87 & 28 & 19 & ... &  4 & 13 & 33 & 43 & 149 & 6 & 3 & 7 &  6 & NA\\\\\n",
       "\t5 & Lukas Lacko         & Sam Querrey             & 1 & 0 & 0 & 3 & 52 & 31 & 48 & 22 & ... &  4 &  7 & 12 & 13 &  93 & 6 & 6 & 6 & NA & NA\\\\\n",
       "\t6 & Jan Hajek           & Denis Kudla             & 1 & 1 & 3 & 1 & 70 & 58 & 30 & 18 & ... &  1 &  7 &  6 &  9 &  93 & 2 & 7 & 0 &  4 & NA\\\\\n",
       "\\end{tabular}\n"
      ],
      "text/markdown": [
       "\n",
       "A data.frame: 6 × 42\n",
       "\n",
       "| <!--/--> | Player1 &lt;chr&gt; | Player2 &lt;chr&gt; | Round &lt;int&gt; | Result &lt;int&gt; | FNL.1 &lt;int&gt; | FNL.2 &lt;int&gt; | FSP.1 &lt;int&gt; | FSW.1 &lt;int&gt; | SSP.1 &lt;int&gt; | SSW.1 &lt;int&gt; | ... ... | BPC.2 &lt;int&gt; | BPW.2 &lt;int&gt; | NPA.2 &lt;int&gt; | NPW.2 &lt;int&gt; | TPW.2 &lt;int&gt; | ST1.2 &lt;int&gt; | ST2.2 &lt;int&gt; | ST3.2 &lt;int&gt; | ST4.2 &lt;int&gt; | ST5.2 &lt;int&gt; |\n",
       "|---|---|---|---|---|---|---|---|---|---|---|---|---|---|---|---|---|---|---|---|---|---|\n",
       "| 1 | Pablo Carreno-Busta | Roger Federer           | 1 | 0 | 0 | 3 | 62 | 27 | 38 | 11 | ... |  7 |  7 | 14 | 18 |  88 | 6 | 6 | 6 | NA | NA |\n",
       "| 2 | Somdev Devvarman    | Daniel Munoz-De La Nava | 1 | 1 | 3 | 0 | 62 | 54 | 38 | 22 | ... |  1 | 16 | 22 | 25 | 106 | 3 | 3 | 5 | NA | NA |\n",
       "| 3 | Tobias Kamke        | Paolo Lorenzi           | 1 | 1 | 3 | 2 | 62 | 53 | 38 | 15 | ... | 10 | 18 | 19 | 27 | 139 | 3 | 3 | 6 |  6 |  3 |\n",
       "| 4 | Julien Benneteau    | Ricardas Berankis       | 1 | 1 | 3 | 1 | 72 | 87 | 28 | 19 | ... |  4 | 13 | 33 | 43 | 149 | 6 | 3 | 7 |  6 | NA |\n",
       "| 5 | Lukas Lacko         | Sam Querrey             | 1 | 0 | 0 | 3 | 52 | 31 | 48 | 22 | ... |  4 |  7 | 12 | 13 |  93 | 6 | 6 | 6 | NA | NA |\n",
       "| 6 | Jan Hajek           | Denis Kudla             | 1 | 1 | 3 | 1 | 70 | 58 | 30 | 18 | ... |  1 |  7 |  6 |  9 |  93 | 2 | 7 | 0 |  4 | NA |\n",
       "\n"
      ],
      "text/plain": [
       "  Player1             Player2                 Round Result FNL.1 FNL.2 FSP.1\n",
       "1 Pablo Carreno-Busta Roger Federer           1     0      0     3     62   \n",
       "2 Somdev Devvarman    Daniel Munoz-De La Nava 1     1      3     0     62   \n",
       "3 Tobias Kamke        Paolo Lorenzi           1     1      3     2     62   \n",
       "4 Julien Benneteau    Ricardas Berankis       1     1      3     1     72   \n",
       "5 Lukas Lacko         Sam Querrey             1     0      0     3     52   \n",
       "6 Jan Hajek           Denis Kudla             1     1      3     1     70   \n",
       "  FSW.1 SSP.1 SSW.1 ... BPC.2 BPW.2 NPA.2 NPW.2 TPW.2 ST1.2 ST2.2 ST3.2 ST4.2\n",
       "1 27    38    11    ...  7     7    14    18     88   6     6     6     NA   \n",
       "2 54    38    22    ...  1    16    22    25    106   3     3     5     NA   \n",
       "3 53    38    15    ... 10    18    19    27    139   3     3     6      6   \n",
       "4 87    28    19    ...  4    13    33    43    149   6     3     7      6   \n",
       "5 31    48    22    ...  4     7    12    13     93   6     6     6     NA   \n",
       "6 58    30    18    ...  1     7     6     9     93   2     7     0      4   \n",
       "  ST5.2\n",
       "1 NA   \n",
       "2 NA   \n",
       "3  3   \n",
       "4 NA   \n",
       "5 NA   \n",
       "6 NA   "
      ]
     },
     "metadata": {},
     "output_type": "display_data"
    }
   ],
   "source": [
    "head(tennis_data)"
   ]
  },
  {
   "cell_type": "markdown",
   "metadata": {},
   "source": [
    "https://archive.ics.uci.edu/ml/datasets/Tennis+Major+Tournament+Match+Statistics#"
   ]
  },
  {
   "cell_type": "markdown",
   "metadata": {},
   "source": [
    "The `filter` function is used to retrieve a subset of the full dataset"
   ]
  },
  {
   "cell_type": "markdown",
   "metadata": {},
   "source": [
    "Roger Federer is a very famous tennis player. Let's use `filter` to find all the matches in which he played in the 2013 French Open."
   ]
  },
  {
   "cell_type": "code",
   "execution_count": 15,
   "metadata": {},
   "outputs": [
    {
     "data": {
      "text/html": [
       "<table class=\"dataframe\">\n",
       "<caption>A data.frame: 5 × 42</caption>\n",
       "<thead>\n",
       "\t<tr><th scope=col>Player1</th><th scope=col>Player2</th><th scope=col>Round</th><th scope=col>Result</th><th scope=col>FNL.1</th><th scope=col>FNL.2</th><th scope=col>FSP.1</th><th scope=col>FSW.1</th><th scope=col>SSP.1</th><th scope=col>SSW.1</th><th scope=col>...</th><th scope=col>BPC.2</th><th scope=col>BPW.2</th><th scope=col>NPA.2</th><th scope=col>NPW.2</th><th scope=col>TPW.2</th><th scope=col>ST1.2</th><th scope=col>ST2.2</th><th scope=col>ST3.2</th><th scope=col>ST4.2</th><th scope=col>ST5.2</th></tr>\n",
       "\t<tr><th scope=col>&lt;chr&gt;</th><th scope=col>&lt;chr&gt;</th><th scope=col>&lt;int&gt;</th><th scope=col>&lt;int&gt;</th><th scope=col>&lt;int&gt;</th><th scope=col>&lt;int&gt;</th><th scope=col>&lt;int&gt;</th><th scope=col>&lt;int&gt;</th><th scope=col>&lt;int&gt;</th><th scope=col>&lt;int&gt;</th><th scope=col>...</th><th scope=col>&lt;int&gt;</th><th scope=col>&lt;int&gt;</th><th scope=col>&lt;int&gt;</th><th scope=col>&lt;int&gt;</th><th scope=col>&lt;int&gt;</th><th scope=col>&lt;int&gt;</th><th scope=col>&lt;int&gt;</th><th scope=col>&lt;int&gt;</th><th scope=col>&lt;int&gt;</th><th scope=col>&lt;int&gt;</th></tr>\n",
       "</thead>\n",
       "<tbody>\n",
       "\t<tr><td>Pablo Carreno-Busta</td><td>Roger Federer</td><td>1</td><td>0</td><td>0</td><td>3</td><td>62</td><td>27</td><td>38</td><td>11</td><td>...</td><td>7</td><td> 7</td><td>14</td><td>18</td><td> 88</td><td>6</td><td>6</td><td>6</td><td>NA</td><td>NA</td></tr>\n",
       "\t<tr><td>Somdev Devvarman   </td><td>Roger Federer</td><td>2</td><td>0</td><td>0</td><td>3</td><td>61</td><td>19</td><td>39</td><td>16</td><td>...</td><td>7</td><td>14</td><td>19</td><td>30</td><td> 88</td><td>6</td><td>6</td><td>6</td><td>NA</td><td>NA</td></tr>\n",
       "\t<tr><td>Julien Benneteau   </td><td>Roger Federer</td><td>3</td><td>0</td><td>0</td><td>3</td><td>82</td><td>41</td><td>18</td><td> 8</td><td>...</td><td>4</td><td> 4</td><td> 8</td><td>11</td><td> 98</td><td>6</td><td>6</td><td>7</td><td>NA</td><td>NA</td></tr>\n",
       "\t<tr><td>Gilles Simon       </td><td>Roger Federer</td><td>4</td><td>0</td><td>2</td><td>3</td><td>61</td><td>65</td><td>39</td><td>28</td><td>...</td><td>6</td><td>14</td><td>25</td><td>35</td><td>147</td><td>6</td><td>4</td><td>2</td><td> 6</td><td> 6</td></tr>\n",
       "\t<tr><td>Jo-Wilfried Tsonga </td><td>Roger Federer</td><td>5</td><td>1</td><td>3</td><td>0</td><td>75</td><td>46</td><td>25</td><td>10</td><td>...</td><td>2</td><td> 3</td><td>15</td><td>30</td><td> 73</td><td>5</td><td>3</td><td>3</td><td>NA</td><td>NA</td></tr>\n",
       "</tbody>\n",
       "</table>\n"
      ],
      "text/latex": [
       "A data.frame: 5 × 42\n",
       "\\begin{tabular}{lllllllllllllllllllll}\n",
       " Player1 & Player2 & Round & Result & FNL.1 & FNL.2 & FSP.1 & FSW.1 & SSP.1 & SSW.1 & ... & BPC.2 & BPW.2 & NPA.2 & NPW.2 & TPW.2 & ST1.2 & ST2.2 & ST3.2 & ST4.2 & ST5.2\\\\\n",
       " <chr> & <chr> & <int> & <int> & <int> & <int> & <int> & <int> & <int> & <int> & ... & <int> & <int> & <int> & <int> & <int> & <int> & <int> & <int> & <int> & <int>\\\\\n",
       "\\hline\n",
       "\t Pablo Carreno-Busta & Roger Federer & 1 & 0 & 0 & 3 & 62 & 27 & 38 & 11 & ... & 7 &  7 & 14 & 18 &  88 & 6 & 6 & 6 & NA & NA\\\\\n",
       "\t Somdev Devvarman    & Roger Federer & 2 & 0 & 0 & 3 & 61 & 19 & 39 & 16 & ... & 7 & 14 & 19 & 30 &  88 & 6 & 6 & 6 & NA & NA\\\\\n",
       "\t Julien Benneteau    & Roger Federer & 3 & 0 & 0 & 3 & 82 & 41 & 18 &  8 & ... & 4 &  4 &  8 & 11 &  98 & 6 & 6 & 7 & NA & NA\\\\\n",
       "\t Gilles Simon        & Roger Federer & 4 & 0 & 2 & 3 & 61 & 65 & 39 & 28 & ... & 6 & 14 & 25 & 35 & 147 & 6 & 4 & 2 &  6 &  6\\\\\n",
       "\t Jo-Wilfried Tsonga  & Roger Federer & 5 & 1 & 3 & 0 & 75 & 46 & 25 & 10 & ... & 2 &  3 & 15 & 30 &  73 & 5 & 3 & 3 & NA & NA\\\\\n",
       "\\end{tabular}\n"
      ],
      "text/markdown": [
       "\n",
       "A data.frame: 5 × 42\n",
       "\n",
       "| Player1 &lt;chr&gt; | Player2 &lt;chr&gt; | Round &lt;int&gt; | Result &lt;int&gt; | FNL.1 &lt;int&gt; | FNL.2 &lt;int&gt; | FSP.1 &lt;int&gt; | FSW.1 &lt;int&gt; | SSP.1 &lt;int&gt; | SSW.1 &lt;int&gt; | ... ... | BPC.2 &lt;int&gt; | BPW.2 &lt;int&gt; | NPA.2 &lt;int&gt; | NPW.2 &lt;int&gt; | TPW.2 &lt;int&gt; | ST1.2 &lt;int&gt; | ST2.2 &lt;int&gt; | ST3.2 &lt;int&gt; | ST4.2 &lt;int&gt; | ST5.2 &lt;int&gt; |\n",
       "|---|---|---|---|---|---|---|---|---|---|---|---|---|---|---|---|---|---|---|---|---|\n",
       "| Pablo Carreno-Busta | Roger Federer | 1 | 0 | 0 | 3 | 62 | 27 | 38 | 11 | ... | 7 |  7 | 14 | 18 |  88 | 6 | 6 | 6 | NA | NA |\n",
       "| Somdev Devvarman    | Roger Federer | 2 | 0 | 0 | 3 | 61 | 19 | 39 | 16 | ... | 7 | 14 | 19 | 30 |  88 | 6 | 6 | 6 | NA | NA |\n",
       "| Julien Benneteau    | Roger Federer | 3 | 0 | 0 | 3 | 82 | 41 | 18 |  8 | ... | 4 |  4 |  8 | 11 |  98 | 6 | 6 | 7 | NA | NA |\n",
       "| Gilles Simon        | Roger Federer | 4 | 0 | 2 | 3 | 61 | 65 | 39 | 28 | ... | 6 | 14 | 25 | 35 | 147 | 6 | 4 | 2 |  6 |  6 |\n",
       "| Jo-Wilfried Tsonga  | Roger Federer | 5 | 1 | 3 | 0 | 75 | 46 | 25 | 10 | ... | 2 |  3 | 15 | 30 |  73 | 5 | 3 | 3 | NA | NA |\n",
       "\n"
      ],
      "text/plain": [
       "  Player1             Player2       Round Result FNL.1 FNL.2 FSP.1 FSW.1 SSP.1\n",
       "1 Pablo Carreno-Busta Roger Federer 1     0      0     3     62    27    38   \n",
       "2 Somdev Devvarman    Roger Federer 2     0      0     3     61    19    39   \n",
       "3 Julien Benneteau    Roger Federer 3     0      0     3     82    41    18   \n",
       "4 Gilles Simon        Roger Federer 4     0      2     3     61    65    39   \n",
       "5 Jo-Wilfried Tsonga  Roger Federer 5     1      3     0     75    46    25   \n",
       "  SSW.1 ... BPC.2 BPW.2 NPA.2 NPW.2 TPW.2 ST1.2 ST2.2 ST3.2 ST4.2 ST5.2\n",
       "1 11    ... 7      7    14    18     88   6     6     6     NA    NA   \n",
       "2 16    ... 7     14    19    30     88   6     6     6     NA    NA   \n",
       "3  8    ... 4      4     8    11     98   6     6     7     NA    NA   \n",
       "4 28    ... 6     14    25    35    147   6     4     2      6     6   \n",
       "5 10    ... 2      3    15    30     73   5     3     3     NA    NA   "
      ]
     },
     "metadata": {},
     "output_type": "display_data"
    }
   ],
   "source": [
    "(federer = tennis_data %>% \n",
    "            filter(Player1=='Roger Federer' | Player2=='Roger Federer')) "
   ]
  },
  {
   "cell_type": "markdown",
   "metadata": {},
   "source": [
    " * There are also doubled versions of `&` and `|` denoted `&&` and `||`. Do not use them here. We will return to these later in the course.\n",
    " * If you want to assign as well as print the variable, enclose the command in parentheses."
   ]
  },
  {
   "cell_type": "markdown",
   "metadata": {},
   "source": [
    "The above table is useful, but we don't need all of the columns. We can use `select` to only show a subset of the columns. \n",
    "\n",
    "Create a new table, `fed_select`, which only shows the fields `Player1`, `Player2`, `Round`, and `Result`."
   ]
  },
  {
   "cell_type": "code",
   "execution_count": 16,
   "metadata": {},
   "outputs": [
    {
     "data": {
      "text/html": [
       "<style>\n",
       ".list-inline {list-style: none; margin:0; padding: 0}\n",
       ".list-inline>li {display: inline-block}\n",
       ".list-inline>li:not(:last-child)::after {content: \"\\00b7\"; padding: 0 .5ex}\n",
       "</style>\n",
       "<ol class=list-inline><li>'Player1'</li><li>'Player2'</li><li>'Round'</li><li>'Result'</li><li>'FNL.1'</li><li>'FNL.2'</li><li>'FSP.1'</li><li>'FSW.1'</li><li>'SSP.1'</li><li>'SSW.1'</li><li>'ACE.1'</li><li>'DBF.1'</li><li>'WNR.1'</li><li>'UFE.1'</li><li>'BPC.1'</li><li>'BPW.1'</li><li>'NPA.1'</li><li>'NPW.1'</li><li>'TPW.1'</li><li>'ST1.1'</li><li>'ST2.1'</li><li>'ST3.1'</li><li>'ST4.1'</li><li>'ST5.1'</li><li>'FSP.2'</li><li>'FSW.2'</li><li>'SSP.2'</li><li>'SSW.2'</li><li>'ACE.2'</li><li>'DBF.2'</li><li>'WNR.2'</li><li>'UFE.2'</li><li>'BPC.2'</li><li>'BPW.2'</li><li>'NPA.2'</li><li>'NPW.2'</li><li>'TPW.2'</li><li>'ST1.2'</li><li>'ST2.2'</li><li>'ST3.2'</li><li>'ST4.2'</li><li>'ST5.2'</li></ol>\n"
      ],
      "text/latex": [
       "\\begin{enumerate*}\n",
       "\\item 'Player1'\n",
       "\\item 'Player2'\n",
       "\\item 'Round'\n",
       "\\item 'Result'\n",
       "\\item 'FNL.1'\n",
       "\\item 'FNL.2'\n",
       "\\item 'FSP.1'\n",
       "\\item 'FSW.1'\n",
       "\\item 'SSP.1'\n",
       "\\item 'SSW.1'\n",
       "\\item 'ACE.1'\n",
       "\\item 'DBF.1'\n",
       "\\item 'WNR.1'\n",
       "\\item 'UFE.1'\n",
       "\\item 'BPC.1'\n",
       "\\item 'BPW.1'\n",
       "\\item 'NPA.1'\n",
       "\\item 'NPW.1'\n",
       "\\item 'TPW.1'\n",
       "\\item 'ST1.1'\n",
       "\\item 'ST2.1'\n",
       "\\item 'ST3.1'\n",
       "\\item 'ST4.1'\n",
       "\\item 'ST5.1'\n",
       "\\item 'FSP.2'\n",
       "\\item 'FSW.2'\n",
       "\\item 'SSP.2'\n",
       "\\item 'SSW.2'\n",
       "\\item 'ACE.2'\n",
       "\\item 'DBF.2'\n",
       "\\item 'WNR.2'\n",
       "\\item 'UFE.2'\n",
       "\\item 'BPC.2'\n",
       "\\item 'BPW.2'\n",
       "\\item 'NPA.2'\n",
       "\\item 'NPW.2'\n",
       "\\item 'TPW.2'\n",
       "\\item 'ST1.2'\n",
       "\\item 'ST2.2'\n",
       "\\item 'ST3.2'\n",
       "\\item 'ST4.2'\n",
       "\\item 'ST5.2'\n",
       "\\end{enumerate*}\n"
      ],
      "text/markdown": [
       "1. 'Player1'\n",
       "2. 'Player2'\n",
       "3. 'Round'\n",
       "4. 'Result'\n",
       "5. 'FNL.1'\n",
       "6. 'FNL.2'\n",
       "7. 'FSP.1'\n",
       "8. 'FSW.1'\n",
       "9. 'SSP.1'\n",
       "10. 'SSW.1'\n",
       "11. 'ACE.1'\n",
       "12. 'DBF.1'\n",
       "13. 'WNR.1'\n",
       "14. 'UFE.1'\n",
       "15. 'BPC.1'\n",
       "16. 'BPW.1'\n",
       "17. 'NPA.1'\n",
       "18. 'NPW.1'\n",
       "19. 'TPW.1'\n",
       "20. 'ST1.1'\n",
       "21. 'ST2.1'\n",
       "22. 'ST3.1'\n",
       "23. 'ST4.1'\n",
       "24. 'ST5.1'\n",
       "25. 'FSP.2'\n",
       "26. 'FSW.2'\n",
       "27. 'SSP.2'\n",
       "28. 'SSW.2'\n",
       "29. 'ACE.2'\n",
       "30. 'DBF.2'\n",
       "31. 'WNR.2'\n",
       "32. 'UFE.2'\n",
       "33. 'BPC.2'\n",
       "34. 'BPW.2'\n",
       "35. 'NPA.2'\n",
       "36. 'NPW.2'\n",
       "37. 'TPW.2'\n",
       "38. 'ST1.2'\n",
       "39. 'ST2.2'\n",
       "40. 'ST3.2'\n",
       "41. 'ST4.2'\n",
       "42. 'ST5.2'\n",
       "\n",
       "\n"
      ],
      "text/plain": [
       " [1] \"Player1\" \"Player2\" \"Round\"   \"Result\"  \"FNL.1\"   \"FNL.2\"   \"FSP.1\"  \n",
       " [8] \"FSW.1\"   \"SSP.1\"   \"SSW.1\"   \"ACE.1\"   \"DBF.1\"   \"WNR.1\"   \"UFE.1\"  \n",
       "[15] \"BPC.1\"   \"BPW.1\"   \"NPA.1\"   \"NPW.1\"   \"TPW.1\"   \"ST1.1\"   \"ST2.1\"  \n",
       "[22] \"ST3.1\"   \"ST4.1\"   \"ST5.1\"   \"FSP.2\"   \"FSW.2\"   \"SSP.2\"   \"SSW.2\"  \n",
       "[29] \"ACE.2\"   \"DBF.2\"   \"WNR.2\"   \"UFE.2\"   \"BPC.2\"   \"BPW.2\"   \"NPA.2\"  \n",
       "[36] \"NPW.2\"   \"TPW.2\"   \"ST1.2\"   \"ST2.2\"   \"ST3.2\"   \"ST4.2\"   \"ST5.2\"  "
      ]
     },
     "metadata": {},
     "output_type": "display_data"
    }
   ],
   "source": [
    "names(tennis_data)"
   ]
  },
  {
   "cell_type": "code",
   "execution_count": 17,
   "metadata": {},
   "outputs": [
    {
     "data": {
      "text/html": [
       "<table class=\"dataframe\">\n",
       "<caption>A data.frame: 5 × 4</caption>\n",
       "<thead>\n",
       "\t<tr><th scope=col>Player1</th><th scope=col>Player2</th><th scope=col>Round</th><th scope=col>Result</th></tr>\n",
       "\t<tr><th scope=col>&lt;chr&gt;</th><th scope=col>&lt;chr&gt;</th><th scope=col>&lt;int&gt;</th><th scope=col>&lt;int&gt;</th></tr>\n",
       "</thead>\n",
       "<tbody>\n",
       "\t<tr><td>Pablo Carreno-Busta</td><td>Roger Federer</td><td>1</td><td>0</td></tr>\n",
       "\t<tr><td>Somdev Devvarman   </td><td>Roger Federer</td><td>2</td><td>0</td></tr>\n",
       "\t<tr><td>Julien Benneteau   </td><td>Roger Federer</td><td>3</td><td>0</td></tr>\n",
       "\t<tr><td>Gilles Simon       </td><td>Roger Federer</td><td>4</td><td>0</td></tr>\n",
       "\t<tr><td>Jo-Wilfried Tsonga </td><td>Roger Federer</td><td>5</td><td>1</td></tr>\n",
       "</tbody>\n",
       "</table>\n"
      ],
      "text/latex": [
       "A data.frame: 5 × 4\n",
       "\\begin{tabular}{llll}\n",
       " Player1 & Player2 & Round & Result\\\\\n",
       " <chr> & <chr> & <int> & <int>\\\\\n",
       "\\hline\n",
       "\t Pablo Carreno-Busta & Roger Federer & 1 & 0\\\\\n",
       "\t Somdev Devvarman    & Roger Federer & 2 & 0\\\\\n",
       "\t Julien Benneteau    & Roger Federer & 3 & 0\\\\\n",
       "\t Gilles Simon        & Roger Federer & 4 & 0\\\\\n",
       "\t Jo-Wilfried Tsonga  & Roger Federer & 5 & 1\\\\\n",
       "\\end{tabular}\n"
      ],
      "text/markdown": [
       "\n",
       "A data.frame: 5 × 4\n",
       "\n",
       "| Player1 &lt;chr&gt; | Player2 &lt;chr&gt; | Round &lt;int&gt; | Result &lt;int&gt; |\n",
       "|---|---|---|---|\n",
       "| Pablo Carreno-Busta | Roger Federer | 1 | 0 |\n",
       "| Somdev Devvarman    | Roger Federer | 2 | 0 |\n",
       "| Julien Benneteau    | Roger Federer | 3 | 0 |\n",
       "| Gilles Simon        | Roger Federer | 4 | 0 |\n",
       "| Jo-Wilfried Tsonga  | Roger Federer | 5 | 1 |\n",
       "\n"
      ],
      "text/plain": [
       "  Player1             Player2       Round Result\n",
       "1 Pablo Carreno-Busta Roger Federer 1     0     \n",
       "2 Somdev Devvarman    Roger Federer 2     0     \n",
       "3 Julien Benneteau    Roger Federer 3     0     \n",
       "4 Gilles Simon        Roger Federer 4     0     \n",
       "5 Jo-Wilfried Tsonga  Roger Federer 5     1     "
      ]
     },
     "metadata": {},
     "output_type": "display_data"
    }
   ],
   "source": [
    "(fed_select = tennis_data %>% \n",
    "                 filter(Player1=='Roger Federer' | Player2=='Roger Federer') %>% select(Player1:Result))"
   ]
  },
  {
   "cell_type": "markdown",
   "metadata": {},
   "source": [
    "We can use functions such as `between` or the `%in%` operator. "
   ]
  },
  {
   "cell_type": "code",
   "execution_count": 18,
   "metadata": {},
   "outputs": [],
   "source": [
    "top_three = tennis_data %>% \n",
    "                filter(Player1 %in% c('Roger Federer', 'Novak Djokovic', 'Rafael Nadal') | \n",
    "                       Player2 %in% c('Roger Federer', 'Novak Djokovic', 'Rafael Nadal'))"
   ]
  },
  {
   "cell_type": "code",
   "execution_count": 19,
   "metadata": {},
   "outputs": [],
   "source": [
    "middle_round = tennis_data %>% \n",
    "                filter(between(Round, 3, 5))"
   ]
  },
  {
   "cell_type": "markdown",
   "metadata": {},
   "source": [
    "#### Common mistake when using between()\n",
    "https://www.rdocumentation.org/packages/dplyr/versions/0.7.8/topics/between"
   ]
  },
  {
   "cell_type": "code",
   "execution_count": 20,
   "metadata": {},
   "outputs": [
    {
     "data": {
      "text/html": [
       "<style>\n",
       ".list-inline {list-style: none; margin:0; padding: 0}\n",
       ".list-inline>li {display: inline-block}\n",
       ".list-inline>li:not(:last-child)::after {content: \"\\00b7\"; padding: 0 .5ex}\n",
       "</style>\n",
       "<ol class=list-inline><li>TRUE</li><li>FALSE</li></ol>\n"
      ],
      "text/latex": [
       "\\begin{enumerate*}\n",
       "\\item TRUE\n",
       "\\item FALSE\n",
       "\\end{enumerate*}\n"
      ],
      "text/markdown": [
       "1. TRUE\n",
       "2. FALSE\n",
       "\n",
       "\n"
      ],
      "text/plain": [
       "[1]  TRUE FALSE"
      ]
     },
     "metadata": {},
     "output_type": "display_data"
    }
   ],
   "source": [
    "# Correct\n",
    "between(c(2020, 1998), 2000, 2021) # inclusive"
   ]
  },
  {
   "cell_type": "code",
   "execution_count": 21,
   "metadata": {},
   "outputs": [
    {
     "ename": "ERROR",
     "evalue": "Error: `left` must be length 1\n",
     "output_type": "error",
     "traceback": [
      "Error: `left` must be length 1\nTraceback:\n",
      "1. between(2020, c(1900, 2000), c(1999, 2020))",
      "2. abort(\"`left` must be length 1\")",
      "3. signal_abort(cnd)"
     ]
    }
   ],
   "source": [
    "# Incorrect\n",
    "between(2020, c(1900, 2000), c(1999, 2020)) "
   ]
  },
  {
   "cell_type": "code",
   "execution_count": 22,
   "metadata": {},
   "outputs": [
    {
     "data": {
      "text/html": [
       "FALSE"
      ],
      "text/latex": [
       "FALSE"
      ],
      "text/markdown": [
       "FALSE"
      ],
      "text/plain": [
       "[1] FALSE"
      ]
     },
     "metadata": {},
     "output_type": "display_data"
    },
    {
     "data": {
      "text/html": [
       "TRUE"
      ],
      "text/latex": [
       "TRUE"
      ],
      "text/markdown": [
       "TRUE"
      ],
      "text/plain": [
       "[1] TRUE"
      ]
     },
     "metadata": {},
     "output_type": "display_data"
    }
   ],
   "source": [
    "# Correct\n",
    "between(2020, 1900, 1999)\n",
    "between(2020, 2000, 2020)"
   ]
  },
  {
   "cell_type": "markdown",
   "metadata": {},
   "source": [
    "How to create a new column that is TRUE if 2020 is between the \"from\" year and the \"to\" year, and is FALSE otherwise?"
   ]
  },
  {
   "cell_type": "code",
   "execution_count": 23,
   "metadata": {},
   "outputs": [
    {
     "data": {
      "text/html": [
       "<table class=\"dataframe\">\n",
       "<caption>A data.frame: 2 × 2</caption>\n",
       "<thead>\n",
       "\t<tr><th scope=col>from</th><th scope=col>to</th></tr>\n",
       "\t<tr><th scope=col>&lt;dbl&gt;</th><th scope=col>&lt;dbl&gt;</th></tr>\n",
       "</thead>\n",
       "<tbody>\n",
       "\t<tr><td>1900</td><td>2000</td></tr>\n",
       "\t<tr><td>2000</td><td>2020</td></tr>\n",
       "</tbody>\n",
       "</table>\n"
      ],
      "text/latex": [
       "A data.frame: 2 × 2\n",
       "\\begin{tabular}{ll}\n",
       " from & to\\\\\n",
       " <dbl> & <dbl>\\\\\n",
       "\\hline\n",
       "\t 1900 & 2000\\\\\n",
       "\t 2000 & 2020\\\\\n",
       "\\end{tabular}\n"
      ],
      "text/markdown": [
       "\n",
       "A data.frame: 2 × 2\n",
       "\n",
       "| from &lt;dbl&gt; | to &lt;dbl&gt; |\n",
       "|---|---|\n",
       "| 1900 | 2000 |\n",
       "| 2000 | 2020 |\n",
       "\n"
      ],
      "text/plain": [
       "  from to  \n",
       "1 1900 2000\n",
       "2 2000 2020"
      ]
     },
     "metadata": {},
     "output_type": "display_data"
    }
   ],
   "source": [
    "df = data.frame(from = c(1900, 2000), to = c(2000, 2020))\n",
    "df"
   ]
  },
  {
   "cell_type": "code",
   "execution_count": null,
   "metadata": {},
   "outputs": [],
   "source": [
    "# Incorrect way\n",
    "df %>% mutate(inside = between(2020, from, to))"
   ]
  },
  {
   "cell_type": "code",
   "execution_count": 26,
   "metadata": {},
   "outputs": [
    {
     "data": {
      "text/html": [
       "<table class=\"dataframe\">\n",
       "<caption>A data.frame: 2 × 3</caption>\n",
       "<thead>\n",
       "\t<tr><th scope=col>from</th><th scope=col>to</th><th scope=col>inside</th></tr>\n",
       "\t<tr><th scope=col>&lt;dbl&gt;</th><th scope=col>&lt;dbl&gt;</th><th scope=col>&lt;lgl&gt;</th></tr>\n",
       "</thead>\n",
       "<tbody>\n",
       "\t<tr><td>1900</td><td>2000</td><td>FALSE</td></tr>\n",
       "\t<tr><td>2000</td><td>2020</td><td> TRUE</td></tr>\n",
       "</tbody>\n",
       "</table>\n"
      ],
      "text/latex": [
       "A data.frame: 2 × 3\n",
       "\\begin{tabular}{lll}\n",
       " from & to & inside\\\\\n",
       " <dbl> & <dbl> & <lgl>\\\\\n",
       "\\hline\n",
       "\t 1900 & 2000 & FALSE\\\\\n",
       "\t 2000 & 2020 &  TRUE\\\\\n",
       "\\end{tabular}\n"
      ],
      "text/markdown": [
       "\n",
       "A data.frame: 2 × 3\n",
       "\n",
       "| from &lt;dbl&gt; | to &lt;dbl&gt; | inside &lt;lgl&gt; |\n",
       "|---|---|---|\n",
       "| 1900 | 2000 | FALSE |\n",
       "| 2000 | 2020 |  TRUE |\n",
       "\n"
      ],
      "text/plain": [
       "  from to   inside\n",
       "1 1900 2000 FALSE \n",
       "2 2000 2020  TRUE "
      ]
     },
     "metadata": {},
     "output_type": "display_data"
    }
   ],
   "source": [
    "# correct way\n",
    "df %>% mutate(inside = ifelse(from <= 2020 & to >= 2020, TRUE, FALSE))"
   ]
  },
  {
   "cell_type": "code",
   "execution_count": 27,
   "metadata": {},
   "outputs": [
    {
     "data": {
      "text/html": [
       "<table class=\"dataframe\">\n",
       "<caption>A data.frame: 2 × 3</caption>\n",
       "<thead>\n",
       "\t<tr><th scope=col>from</th><th scope=col>to</th><th scope=col>inside</th></tr>\n",
       "\t<tr><th scope=col>&lt;dbl&gt;</th><th scope=col>&lt;dbl&gt;</th><th scope=col>&lt;lgl&gt;</th></tr>\n",
       "</thead>\n",
       "<tbody>\n",
       "\t<tr><td>1900</td><td>2000</td><td>FALSE</td></tr>\n",
       "\t<tr><td>2000</td><td>2020</td><td> TRUE</td></tr>\n",
       "</tbody>\n",
       "</table>\n"
      ],
      "text/latex": [
       "A data.frame: 2 × 3\n",
       "\\begin{tabular}{lll}\n",
       " from & to & inside\\\\\n",
       " <dbl> & <dbl> & <lgl>\\\\\n",
       "\\hline\n",
       "\t 1900 & 2000 & FALSE\\\\\n",
       "\t 2000 & 2020 &  TRUE\\\\\n",
       "\\end{tabular}\n"
      ],
      "text/markdown": [
       "\n",
       "A data.frame: 2 × 3\n",
       "\n",
       "| from &lt;dbl&gt; | to &lt;dbl&gt; | inside &lt;lgl&gt; |\n",
       "|---|---|---|\n",
       "| 1900 | 2000 | FALSE |\n",
       "| 2000 | 2020 |  TRUE |\n",
       "\n"
      ],
      "text/plain": [
       "  from to   inside\n",
       "1 1900 2000 FALSE \n",
       "2 2000 2020  TRUE "
      ]
     },
     "metadata": {},
     "output_type": "display_data"
    }
   ],
   "source": [
    "df %>% mutate(inside = from <= 2020 & to >= 2020)"
   ]
  },
  {
   "cell_type": "markdown",
   "metadata": {},
   "source": [
    "\"ifelse()\": https://www.rdocumentation.org/packages/base/versions/3.6.2/topics/ifelse"
   ]
  },
  {
   "cell_type": "markdown",
   "metadata": {},
   "source": [
    "Suppose we are interested in the later rounds of the tournament. We can use the `arrange` function to order rows instead of filtering for a subset of them. "
   ]
  },
  {
   "cell_type": "code",
   "execution_count": 28,
   "metadata": {
    "scrolled": false
   },
   "outputs": [
    {
     "data": {
      "text/html": [
       "<table class=\"dataframe\">\n",
       "<caption>A data.frame: 6 × 42</caption>\n",
       "<thead>\n",
       "\t<tr><th></th><th scope=col>Player1</th><th scope=col>Player2</th><th scope=col>Round</th><th scope=col>Result</th><th scope=col>FNL.1</th><th scope=col>FNL.2</th><th scope=col>FSP.1</th><th scope=col>FSW.1</th><th scope=col>SSP.1</th><th scope=col>SSW.1</th><th scope=col>...</th><th scope=col>BPC.2</th><th scope=col>BPW.2</th><th scope=col>NPA.2</th><th scope=col>NPW.2</th><th scope=col>TPW.2</th><th scope=col>ST1.2</th><th scope=col>ST2.2</th><th scope=col>ST3.2</th><th scope=col>ST4.2</th><th scope=col>ST5.2</th></tr>\n",
       "\t<tr><th></th><th scope=col>&lt;chr&gt;</th><th scope=col>&lt;chr&gt;</th><th scope=col>&lt;int&gt;</th><th scope=col>&lt;int&gt;</th><th scope=col>&lt;int&gt;</th><th scope=col>&lt;int&gt;</th><th scope=col>&lt;int&gt;</th><th scope=col>&lt;int&gt;</th><th scope=col>&lt;int&gt;</th><th scope=col>&lt;int&gt;</th><th scope=col>...</th><th scope=col>&lt;int&gt;</th><th scope=col>&lt;int&gt;</th><th scope=col>&lt;int&gt;</th><th scope=col>&lt;int&gt;</th><th scope=col>&lt;int&gt;</th><th scope=col>&lt;int&gt;</th><th scope=col>&lt;int&gt;</th><th scope=col>&lt;int&gt;</th><th scope=col>&lt;int&gt;</th><th scope=col>&lt;int&gt;</th></tr>\n",
       "</thead>\n",
       "<tbody>\n",
       "\t<tr><th scope=row>1</th><td>Rafael Nadal      </td><td>David Ferrer      </td><td>7</td><td>1</td><td>3</td><td>0</td><td>70</td><td>43</td><td>30</td><td>11</td><td>...</td><td>3</td><td>12</td><td>10</td><td>14</td><td> 72</td><td>3</td><td>2</td><td>3</td><td>NA</td><td>NA</td></tr>\n",
       "\t<tr><th scope=row>2</th><td>David Ferrer      </td><td>Jo-Wilfried Tsonga</td><td>6</td><td>1</td><td>3</td><td>0</td><td>60</td><td>35</td><td>40</td><td>23</td><td>...</td><td>2</td><td> 5</td><td> 7</td><td>16</td><td> 84</td><td>1</td><td>6</td><td>2</td><td>NA</td><td>NA</td></tr>\n",
       "\t<tr><th scope=row>3</th><td>Novak Djokovic    </td><td>Rafael Nadal      </td><td>6</td><td>0</td><td>2</td><td>3</td><td>67</td><td>76</td><td>33</td><td>30</td><td>...</td><td>8</td><td>16</td><td>15</td><td>26</td><td>177</td><td>6</td><td>3</td><td>6</td><td> 6</td><td> 9</td></tr>\n",
       "\t<tr><th scope=row>4</th><td>Jo-Wilfried Tsonga</td><td>Roger Federer     </td><td>5</td><td>1</td><td>3</td><td>0</td><td>75</td><td>46</td><td>25</td><td>10</td><td>...</td><td>2</td><td> 3</td><td>15</td><td>30</td><td> 73</td><td>5</td><td>3</td><td>3</td><td>NA</td><td>NA</td></tr>\n",
       "\t<tr><th scope=row>5</th><td>Tommy Robredo     </td><td>David Ferrer      </td><td>5</td><td>0</td><td>0</td><td>3</td><td>59</td><td>22</td><td>41</td><td> 9</td><td>...</td><td>7</td><td>12</td><td>13</td><td>15</td><td> 84</td><td>6</td><td>6</td><td>6</td><td>NA</td><td>NA</td></tr>\n",
       "\t<tr><th scope=row>6</th><td>Rafael Nadal      </td><td>Stanislas Wawrinka</td><td>5</td><td>1</td><td>3</td><td>0</td><td>75</td><td>40</td><td>25</td><td>11</td><td>...</td><td>1</td><td> 5</td><td>16</td><td>30</td><td> 64</td><td>2</td><td>3</td><td>1</td><td>NA</td><td>NA</td></tr>\n",
       "</tbody>\n",
       "</table>\n"
      ],
      "text/latex": [
       "A data.frame: 6 × 42\n",
       "\\begin{tabular}{r|lllllllllllllllllllll}\n",
       "  & Player1 & Player2 & Round & Result & FNL.1 & FNL.2 & FSP.1 & FSW.1 & SSP.1 & SSW.1 & ... & BPC.2 & BPW.2 & NPA.2 & NPW.2 & TPW.2 & ST1.2 & ST2.2 & ST3.2 & ST4.2 & ST5.2\\\\\n",
       "  & <chr> & <chr> & <int> & <int> & <int> & <int> & <int> & <int> & <int> & <int> & ... & <int> & <int> & <int> & <int> & <int> & <int> & <int> & <int> & <int> & <int>\\\\\n",
       "\\hline\n",
       "\t1 & Rafael Nadal       & David Ferrer       & 7 & 1 & 3 & 0 & 70 & 43 & 30 & 11 & ... & 3 & 12 & 10 & 14 &  72 & 3 & 2 & 3 & NA & NA\\\\\n",
       "\t2 & David Ferrer       & Jo-Wilfried Tsonga & 6 & 1 & 3 & 0 & 60 & 35 & 40 & 23 & ... & 2 &  5 &  7 & 16 &  84 & 1 & 6 & 2 & NA & NA\\\\\n",
       "\t3 & Novak Djokovic     & Rafael Nadal       & 6 & 0 & 2 & 3 & 67 & 76 & 33 & 30 & ... & 8 & 16 & 15 & 26 & 177 & 6 & 3 & 6 &  6 &  9\\\\\n",
       "\t4 & Jo-Wilfried Tsonga & Roger Federer      & 5 & 1 & 3 & 0 & 75 & 46 & 25 & 10 & ... & 2 &  3 & 15 & 30 &  73 & 5 & 3 & 3 & NA & NA\\\\\n",
       "\t5 & Tommy Robredo      & David Ferrer       & 5 & 0 & 0 & 3 & 59 & 22 & 41 &  9 & ... & 7 & 12 & 13 & 15 &  84 & 6 & 6 & 6 & NA & NA\\\\\n",
       "\t6 & Rafael Nadal       & Stanislas Wawrinka & 5 & 1 & 3 & 0 & 75 & 40 & 25 & 11 & ... & 1 &  5 & 16 & 30 &  64 & 2 & 3 & 1 & NA & NA\\\\\n",
       "\\end{tabular}\n"
      ],
      "text/markdown": [
       "\n",
       "A data.frame: 6 × 42\n",
       "\n",
       "| <!--/--> | Player1 &lt;chr&gt; | Player2 &lt;chr&gt; | Round &lt;int&gt; | Result &lt;int&gt; | FNL.1 &lt;int&gt; | FNL.2 &lt;int&gt; | FSP.1 &lt;int&gt; | FSW.1 &lt;int&gt; | SSP.1 &lt;int&gt; | SSW.1 &lt;int&gt; | ... ... | BPC.2 &lt;int&gt; | BPW.2 &lt;int&gt; | NPA.2 &lt;int&gt; | NPW.2 &lt;int&gt; | TPW.2 &lt;int&gt; | ST1.2 &lt;int&gt; | ST2.2 &lt;int&gt; | ST3.2 &lt;int&gt; | ST4.2 &lt;int&gt; | ST5.2 &lt;int&gt; |\n",
       "|---|---|---|---|---|---|---|---|---|---|---|---|---|---|---|---|---|---|---|---|---|---|\n",
       "| 1 | Rafael Nadal       | David Ferrer       | 7 | 1 | 3 | 0 | 70 | 43 | 30 | 11 | ... | 3 | 12 | 10 | 14 |  72 | 3 | 2 | 3 | NA | NA |\n",
       "| 2 | David Ferrer       | Jo-Wilfried Tsonga | 6 | 1 | 3 | 0 | 60 | 35 | 40 | 23 | ... | 2 |  5 |  7 | 16 |  84 | 1 | 6 | 2 | NA | NA |\n",
       "| 3 | Novak Djokovic     | Rafael Nadal       | 6 | 0 | 2 | 3 | 67 | 76 | 33 | 30 | ... | 8 | 16 | 15 | 26 | 177 | 6 | 3 | 6 |  6 |  9 |\n",
       "| 4 | Jo-Wilfried Tsonga | Roger Federer      | 5 | 1 | 3 | 0 | 75 | 46 | 25 | 10 | ... | 2 |  3 | 15 | 30 |  73 | 5 | 3 | 3 | NA | NA |\n",
       "| 5 | Tommy Robredo      | David Ferrer       | 5 | 0 | 0 | 3 | 59 | 22 | 41 |  9 | ... | 7 | 12 | 13 | 15 |  84 | 6 | 6 | 6 | NA | NA |\n",
       "| 6 | Rafael Nadal       | Stanislas Wawrinka | 5 | 1 | 3 | 0 | 75 | 40 | 25 | 11 | ... | 1 |  5 | 16 | 30 |  64 | 2 | 3 | 1 | NA | NA |\n",
       "\n"
      ],
      "text/plain": [
       "  Player1            Player2            Round Result FNL.1 FNL.2 FSP.1 FSW.1\n",
       "1 Rafael Nadal       David Ferrer       7     1      3     0     70    43   \n",
       "2 David Ferrer       Jo-Wilfried Tsonga 6     1      3     0     60    35   \n",
       "3 Novak Djokovic     Rafael Nadal       6     0      2     3     67    76   \n",
       "4 Jo-Wilfried Tsonga Roger Federer      5     1      3     0     75    46   \n",
       "5 Tommy Robredo      David Ferrer       5     0      0     3     59    22   \n",
       "6 Rafael Nadal       Stanislas Wawrinka 5     1      3     0     75    40   \n",
       "  SSP.1 SSW.1 ... BPC.2 BPW.2 NPA.2 NPW.2 TPW.2 ST1.2 ST2.2 ST3.2 ST4.2 ST5.2\n",
       "1 30    11    ... 3     12    10    14     72   3     2     3     NA    NA   \n",
       "2 40    23    ... 2      5     7    16     84   1     6     2     NA    NA   \n",
       "3 33    30    ... 8     16    15    26    177   6     3     6      6     9   \n",
       "4 25    10    ... 2      3    15    30     73   5     3     3     NA    NA   \n",
       "5 41     9    ... 7     12    13    15     84   6     6     6     NA    NA   \n",
       "6 25    11    ... 1      5    16    30     64   2     3     1     NA    NA   "
      ]
     },
     "metadata": {},
     "output_type": "display_data"
    }
   ],
   "source": [
    "head(tennis_data %>% arrange(desc(Round)))"
   ]
  },
  {
   "cell_type": "markdown",
   "metadata": {},
   "source": [
    "Notice how in the above code, we use `desc()` to sort from largest to smallest. "
   ]
  },
  {
   "cell_type": "markdown",
   "metadata": {},
   "source": [
    "Unforced errors are bad, so we might be interested in finding matches with the fewest unforced errors.  \n",
    "Again we'll use the `select` function because we are only interested in some of the columns. \n",
    "* Unforced errors: (in sports, especially tennis) a mistake in play that is attributed to one's own failure rather than to the skill or effort of one's opponent."
   ]
  },
  {
   "cell_type": "code",
   "execution_count": 29,
   "metadata": {},
   "outputs": [
    {
     "data": {
      "text/html": [
       "<table class=\"dataframe\">\n",
       "<caption>A data.frame: 6 × 6</caption>\n",
       "<thead>\n",
       "\t<tr><th></th><th scope=col>Player1</th><th scope=col>Player2</th><th scope=col>Round</th><th scope=col>Result</th><th scope=col>UFE.1</th><th scope=col>UFE.2</th></tr>\n",
       "\t<tr><th></th><th scope=col>&lt;chr&gt;</th><th scope=col>&lt;chr&gt;</th><th scope=col>&lt;int&gt;</th><th scope=col>&lt;int&gt;</th><th scope=col>&lt;int&gt;</th><th scope=col>&lt;int&gt;</th></tr>\n",
       "</thead>\n",
       "<tbody>\n",
       "\t<tr><th scope=row>1</th><td>Dmitry Tursunov</td><td>Victor Hanescu </td><td>2</td><td>0</td><td>15</td><td>10</td></tr>\n",
       "\t<tr><th scope=row>2</th><td>Alejandro Falla</td><td>Grigor Dimitrov</td><td>1</td><td>0</td><td>15</td><td>16</td></tr>\n",
       "\t<tr><th scope=row>3</th><td>Jurgen Zopp    </td><td>Tommy Robredo  </td><td>1</td><td>0</td><td>27</td><td> 7</td></tr>\n",
       "\t<tr><th scope=row>4</th><td>Blaz Kavcic    </td><td>James Duckworth</td><td>1</td><td>1</td><td> 8</td><td>27</td></tr>\n",
       "\t<tr><th scope=row>5</th><td>Igor Sijsling  </td><td>Jurgen Melzer  </td><td>1</td><td>1</td><td>16</td><td>22</td></tr>\n",
       "\t<tr><th scope=row>6</th><td>Nick Kyrgios   </td><td>Marin Cilic    </td><td>2</td><td>0</td><td>23</td><td>15</td></tr>\n",
       "</tbody>\n",
       "</table>\n"
      ],
      "text/latex": [
       "A data.frame: 6 × 6\n",
       "\\begin{tabular}{r|llllll}\n",
       "  & Player1 & Player2 & Round & Result & UFE.1 & UFE.2\\\\\n",
       "  & <chr> & <chr> & <int> & <int> & <int> & <int>\\\\\n",
       "\\hline\n",
       "\t1 & Dmitry Tursunov & Victor Hanescu  & 2 & 0 & 15 & 10\\\\\n",
       "\t2 & Alejandro Falla & Grigor Dimitrov & 1 & 0 & 15 & 16\\\\\n",
       "\t3 & Jurgen Zopp     & Tommy Robredo   & 1 & 0 & 27 &  7\\\\\n",
       "\t4 & Blaz Kavcic     & James Duckworth & 1 & 1 &  8 & 27\\\\\n",
       "\t5 & Igor Sijsling   & Jurgen Melzer   & 1 & 1 & 16 & 22\\\\\n",
       "\t6 & Nick Kyrgios    & Marin Cilic     & 2 & 0 & 23 & 15\\\\\n",
       "\\end{tabular}\n"
      ],
      "text/markdown": [
       "\n",
       "A data.frame: 6 × 6\n",
       "\n",
       "| <!--/--> | Player1 &lt;chr&gt; | Player2 &lt;chr&gt; | Round &lt;int&gt; | Result &lt;int&gt; | UFE.1 &lt;int&gt; | UFE.2 &lt;int&gt; |\n",
       "|---|---|---|---|---|---|---|\n",
       "| 1 | Dmitry Tursunov | Victor Hanescu  | 2 | 0 | 15 | 10 |\n",
       "| 2 | Alejandro Falla | Grigor Dimitrov | 1 | 0 | 15 | 16 |\n",
       "| 3 | Jurgen Zopp     | Tommy Robredo   | 1 | 0 | 27 |  7 |\n",
       "| 4 | Blaz Kavcic     | James Duckworth | 1 | 1 |  8 | 27 |\n",
       "| 5 | Igor Sijsling   | Jurgen Melzer   | 1 | 1 | 16 | 22 |\n",
       "| 6 | Nick Kyrgios    | Marin Cilic     | 2 | 0 | 23 | 15 |\n",
       "\n"
      ],
      "text/plain": [
       "  Player1         Player2         Round Result UFE.1 UFE.2\n",
       "1 Dmitry Tursunov Victor Hanescu  2     0      15    10   \n",
       "2 Alejandro Falla Grigor Dimitrov 1     0      15    16   \n",
       "3 Jurgen Zopp     Tommy Robredo   1     0      27     7   \n",
       "4 Blaz Kavcic     James Duckworth 1     1       8    27   \n",
       "5 Igor Sijsling   Jurgen Melzer   1     1      16    22   \n",
       "6 Nick Kyrgios    Marin Cilic     2     0      23    15   "
      ]
     },
     "metadata": {},
     "output_type": "display_data"
    }
   ],
   "source": [
    "tennis_data %>% \n",
    "    arrange(UFE.1+UFE.2) %>% \n",
    "    select(Player1:Result, UFE.1,UFE.2) %>% head() # use head so the whole table doesn't print out"
   ]
  },
  {
   "cell_type": "markdown",
   "metadata": {},
   "source": [
    "Remember that `select` has some helper functions. How could we rewrite the above code using `starts_with`?"
   ]
  },
  {
   "cell_type": "code",
   "execution_count": 30,
   "metadata": {
    "scrolled": true
   },
   "outputs": [
    {
     "data": {
      "text/html": [
       "<table class=\"dataframe\">\n",
       "<caption>A data.frame: 6 × 6</caption>\n",
       "<thead>\n",
       "\t<tr><th></th><th scope=col>Player1</th><th scope=col>Player2</th><th scope=col>Round</th><th scope=col>Result</th><th scope=col>UFE.1</th><th scope=col>UFE.2</th></tr>\n",
       "\t<tr><th></th><th scope=col>&lt;chr&gt;</th><th scope=col>&lt;chr&gt;</th><th scope=col>&lt;int&gt;</th><th scope=col>&lt;int&gt;</th><th scope=col>&lt;int&gt;</th><th scope=col>&lt;int&gt;</th></tr>\n",
       "</thead>\n",
       "<tbody>\n",
       "\t<tr><th scope=row>1</th><td>Dmitry Tursunov</td><td>Victor Hanescu </td><td>2</td><td>0</td><td>15</td><td>10</td></tr>\n",
       "\t<tr><th scope=row>2</th><td>Alejandro Falla</td><td>Grigor Dimitrov</td><td>1</td><td>0</td><td>15</td><td>16</td></tr>\n",
       "\t<tr><th scope=row>3</th><td>Jurgen Zopp    </td><td>Tommy Robredo  </td><td>1</td><td>0</td><td>27</td><td> 7</td></tr>\n",
       "\t<tr><th scope=row>4</th><td>Blaz Kavcic    </td><td>James Duckworth</td><td>1</td><td>1</td><td> 8</td><td>27</td></tr>\n",
       "\t<tr><th scope=row>5</th><td>Igor Sijsling  </td><td>Jurgen Melzer  </td><td>1</td><td>1</td><td>16</td><td>22</td></tr>\n",
       "\t<tr><th scope=row>6</th><td>Nick Kyrgios   </td><td>Marin Cilic    </td><td>2</td><td>0</td><td>23</td><td>15</td></tr>\n",
       "</tbody>\n",
       "</table>\n"
      ],
      "text/latex": [
       "A data.frame: 6 × 6\n",
       "\\begin{tabular}{r|llllll}\n",
       "  & Player1 & Player2 & Round & Result & UFE.1 & UFE.2\\\\\n",
       "  & <chr> & <chr> & <int> & <int> & <int> & <int>\\\\\n",
       "\\hline\n",
       "\t1 & Dmitry Tursunov & Victor Hanescu  & 2 & 0 & 15 & 10\\\\\n",
       "\t2 & Alejandro Falla & Grigor Dimitrov & 1 & 0 & 15 & 16\\\\\n",
       "\t3 & Jurgen Zopp     & Tommy Robredo   & 1 & 0 & 27 &  7\\\\\n",
       "\t4 & Blaz Kavcic     & James Duckworth & 1 & 1 &  8 & 27\\\\\n",
       "\t5 & Igor Sijsling   & Jurgen Melzer   & 1 & 1 & 16 & 22\\\\\n",
       "\t6 & Nick Kyrgios    & Marin Cilic     & 2 & 0 & 23 & 15\\\\\n",
       "\\end{tabular}\n"
      ],
      "text/markdown": [
       "\n",
       "A data.frame: 6 × 6\n",
       "\n",
       "| <!--/--> | Player1 &lt;chr&gt; | Player2 &lt;chr&gt; | Round &lt;int&gt; | Result &lt;int&gt; | UFE.1 &lt;int&gt; | UFE.2 &lt;int&gt; |\n",
       "|---|---|---|---|---|---|---|\n",
       "| 1 | Dmitry Tursunov | Victor Hanescu  | 2 | 0 | 15 | 10 |\n",
       "| 2 | Alejandro Falla | Grigor Dimitrov | 1 | 0 | 15 | 16 |\n",
       "| 3 | Jurgen Zopp     | Tommy Robredo   | 1 | 0 | 27 |  7 |\n",
       "| 4 | Blaz Kavcic     | James Duckworth | 1 | 1 |  8 | 27 |\n",
       "| 5 | Igor Sijsling   | Jurgen Melzer   | 1 | 1 | 16 | 22 |\n",
       "| 6 | Nick Kyrgios    | Marin Cilic     | 2 | 0 | 23 | 15 |\n",
       "\n"
      ],
      "text/plain": [
       "  Player1         Player2         Round Result UFE.1 UFE.2\n",
       "1 Dmitry Tursunov Victor Hanescu  2     0      15    10   \n",
       "2 Alejandro Falla Grigor Dimitrov 1     0      15    16   \n",
       "3 Jurgen Zopp     Tommy Robredo   1     0      27     7   \n",
       "4 Blaz Kavcic     James Duckworth 1     1       8    27   \n",
       "5 Igor Sijsling   Jurgen Melzer   1     1      16    22   \n",
       "6 Nick Kyrgios    Marin Cilic     2     0      23    15   "
      ]
     },
     "metadata": {},
     "output_type": "display_data"
    }
   ],
   "source": [
    "tennis_data %>% \n",
    "    arrange(UFE.1+UFE.2) %>% \n",
    "    select(Player1:Result, starts_with('UFE')) %>% \n",
    "    head()"
   ]
  },
  {
   "cell_type": "markdown",
   "metadata": {},
   "source": [
    "We can also use `contains()`"
   ]
  },
  {
   "cell_type": "code",
   "execution_count": 31,
   "metadata": {},
   "outputs": [
    {
     "data": {
      "text/html": [
       "<table class=\"dataframe\">\n",
       "<caption>A data.frame: 6 × 6</caption>\n",
       "<thead>\n",
       "\t<tr><th></th><th scope=col>Player1</th><th scope=col>Player2</th><th scope=col>Round</th><th scope=col>Result</th><th scope=col>UFE.1</th><th scope=col>UFE.2</th></tr>\n",
       "\t<tr><th></th><th scope=col>&lt;chr&gt;</th><th scope=col>&lt;chr&gt;</th><th scope=col>&lt;int&gt;</th><th scope=col>&lt;int&gt;</th><th scope=col>&lt;int&gt;</th><th scope=col>&lt;int&gt;</th></tr>\n",
       "</thead>\n",
       "<tbody>\n",
       "\t<tr><th scope=row>1</th><td>Dmitry Tursunov</td><td>Victor Hanescu </td><td>2</td><td>0</td><td>15</td><td>10</td></tr>\n",
       "\t<tr><th scope=row>2</th><td>Alejandro Falla</td><td>Grigor Dimitrov</td><td>1</td><td>0</td><td>15</td><td>16</td></tr>\n",
       "\t<tr><th scope=row>3</th><td>Jurgen Zopp    </td><td>Tommy Robredo  </td><td>1</td><td>0</td><td>27</td><td> 7</td></tr>\n",
       "\t<tr><th scope=row>4</th><td>Blaz Kavcic    </td><td>James Duckworth</td><td>1</td><td>1</td><td> 8</td><td>27</td></tr>\n",
       "\t<tr><th scope=row>5</th><td>Igor Sijsling  </td><td>Jurgen Melzer  </td><td>1</td><td>1</td><td>16</td><td>22</td></tr>\n",
       "\t<tr><th scope=row>6</th><td>Nick Kyrgios   </td><td>Marin Cilic    </td><td>2</td><td>0</td><td>23</td><td>15</td></tr>\n",
       "</tbody>\n",
       "</table>\n"
      ],
      "text/latex": [
       "A data.frame: 6 × 6\n",
       "\\begin{tabular}{r|llllll}\n",
       "  & Player1 & Player2 & Round & Result & UFE.1 & UFE.2\\\\\n",
       "  & <chr> & <chr> & <int> & <int> & <int> & <int>\\\\\n",
       "\\hline\n",
       "\t1 & Dmitry Tursunov & Victor Hanescu  & 2 & 0 & 15 & 10\\\\\n",
       "\t2 & Alejandro Falla & Grigor Dimitrov & 1 & 0 & 15 & 16\\\\\n",
       "\t3 & Jurgen Zopp     & Tommy Robredo   & 1 & 0 & 27 &  7\\\\\n",
       "\t4 & Blaz Kavcic     & James Duckworth & 1 & 1 &  8 & 27\\\\\n",
       "\t5 & Igor Sijsling   & Jurgen Melzer   & 1 & 1 & 16 & 22\\\\\n",
       "\t6 & Nick Kyrgios    & Marin Cilic     & 2 & 0 & 23 & 15\\\\\n",
       "\\end{tabular}\n"
      ],
      "text/markdown": [
       "\n",
       "A data.frame: 6 × 6\n",
       "\n",
       "| <!--/--> | Player1 &lt;chr&gt; | Player2 &lt;chr&gt; | Round &lt;int&gt; | Result &lt;int&gt; | UFE.1 &lt;int&gt; | UFE.2 &lt;int&gt; |\n",
       "|---|---|---|---|---|---|---|\n",
       "| 1 | Dmitry Tursunov | Victor Hanescu  | 2 | 0 | 15 | 10 |\n",
       "| 2 | Alejandro Falla | Grigor Dimitrov | 1 | 0 | 15 | 16 |\n",
       "| 3 | Jurgen Zopp     | Tommy Robredo   | 1 | 0 | 27 |  7 |\n",
       "| 4 | Blaz Kavcic     | James Duckworth | 1 | 1 |  8 | 27 |\n",
       "| 5 | Igor Sijsling   | Jurgen Melzer   | 1 | 1 | 16 | 22 |\n",
       "| 6 | Nick Kyrgios    | Marin Cilic     | 2 | 0 | 23 | 15 |\n",
       "\n"
      ],
      "text/plain": [
       "  Player1         Player2         Round Result UFE.1 UFE.2\n",
       "1 Dmitry Tursunov Victor Hanescu  2     0      15    10   \n",
       "2 Alejandro Falla Grigor Dimitrov 1     0      15    16   \n",
       "3 Jurgen Zopp     Tommy Robredo   1     0      27     7   \n",
       "4 Blaz Kavcic     James Duckworth 1     1       8    27   \n",
       "5 Igor Sijsling   Jurgen Melzer   1     1      16    22   \n",
       "6 Nick Kyrgios    Marin Cilic     2     0      23    15   "
      ]
     },
     "metadata": {},
     "output_type": "display_data"
    }
   ],
   "source": [
    "tennis_data %>% \n",
    "    arrange(UFE.1+UFE.2) %>% \n",
    "    select(Player1:Result, contains('UFE')) %>% \n",
    "    head()"
   ]
  },
  {
   "cell_type": "markdown",
   "metadata": {},
   "source": [
    "Notice that variables corresponding to `Player1` end in `1`. How would we select all the player 1 variables?"
   ]
  },
  {
   "cell_type": "code",
   "execution_count": 32,
   "metadata": {},
   "outputs": [
    {
     "data": {
      "text/html": [
       "<table class=\"dataframe\">\n",
       "<caption>A data.frame: 6 × 20</caption>\n",
       "<thead>\n",
       "\t<tr><th></th><th scope=col>Player1</th><th scope=col>FNL.1</th><th scope=col>FSP.1</th><th scope=col>FSW.1</th><th scope=col>SSP.1</th><th scope=col>SSW.1</th><th scope=col>ACE.1</th><th scope=col>DBF.1</th><th scope=col>WNR.1</th><th scope=col>UFE.1</th><th scope=col>BPC.1</th><th scope=col>BPW.1</th><th scope=col>NPA.1</th><th scope=col>NPW.1</th><th scope=col>TPW.1</th><th scope=col>ST1.1</th><th scope=col>ST2.1</th><th scope=col>ST3.1</th><th scope=col>ST4.1</th><th scope=col>ST5.1</th></tr>\n",
       "\t<tr><th></th><th scope=col>&lt;chr&gt;</th><th scope=col>&lt;int&gt;</th><th scope=col>&lt;int&gt;</th><th scope=col>&lt;int&gt;</th><th scope=col>&lt;int&gt;</th><th scope=col>&lt;int&gt;</th><th scope=col>&lt;int&gt;</th><th scope=col>&lt;int&gt;</th><th scope=col>&lt;int&gt;</th><th scope=col>&lt;int&gt;</th><th scope=col>&lt;int&gt;</th><th scope=col>&lt;int&gt;</th><th scope=col>&lt;int&gt;</th><th scope=col>&lt;int&gt;</th><th scope=col>&lt;int&gt;</th><th scope=col>&lt;int&gt;</th><th scope=col>&lt;int&gt;</th><th scope=col>&lt;int&gt;</th><th scope=col>&lt;int&gt;</th><th scope=col>&lt;int&gt;</th></tr>\n",
       "</thead>\n",
       "<tbody>\n",
       "\t<tr><th scope=row>1</th><td>Pablo Carreno-Busta</td><td>0</td><td>62</td><td>27</td><td>38</td><td>11</td><td> 1</td><td>3</td><td>12</td><td>29</td><td> 1</td><td> 3</td><td> 9</td><td>20</td><td> 50</td><td>2</td><td>2</td><td>3</td><td>NA</td><td>NA</td></tr>\n",
       "\t<tr><th scope=row>2</th><td>Somdev Devvarman   </td><td>3</td><td>62</td><td>54</td><td>38</td><td>22</td><td> 7</td><td>3</td><td>26</td><td>20</td><td> 5</td><td> 8</td><td>12</td><td>21</td><td>120</td><td>6</td><td>6</td><td>7</td><td>NA</td><td>NA</td></tr>\n",
       "\t<tr><th scope=row>3</th><td>Tobias Kamke       </td><td>3</td><td>62</td><td>53</td><td>38</td><td>15</td><td> 4</td><td>6</td><td>42</td><td>55</td><td>10</td><td>22</td><td>14</td><td>32</td><td>140</td><td>6</td><td>6</td><td>3</td><td> 0</td><td> 6</td></tr>\n",
       "\t<tr><th scope=row>4</th><td>Julien Benneteau   </td><td>3</td><td>72</td><td>87</td><td>28</td><td>19</td><td>14</td><td>2</td><td>48</td><td>27</td><td> 4</td><td>13</td><td>14</td><td>30</td><td>163</td><td>7</td><td>6</td><td>5</td><td> 7</td><td>NA</td></tr>\n",
       "\t<tr><th scope=row>5</th><td>Lukas Lacko        </td><td>0</td><td>52</td><td>31</td><td>48</td><td>22</td><td> 4</td><td>4</td><td>21</td><td>24</td><td> 1</td><td> 1</td><td> 3</td><td> 5</td><td> 72</td><td>3</td><td>4</td><td>4</td><td>NA</td><td>NA</td></tr>\n",
       "\t<tr><th scope=row>6</th><td>Jan Hajek          </td><td>3</td><td>70</td><td>58</td><td>30</td><td>18</td><td> 4</td><td>4</td><td>35</td><td>36</td><td> 6</td><td>12</td><td> 8</td><td>10</td><td>130</td><td>6</td><td>5</td><td>6</td><td> 6</td><td>NA</td></tr>\n",
       "</tbody>\n",
       "</table>\n"
      ],
      "text/latex": [
       "A data.frame: 6 × 20\n",
       "\\begin{tabular}{r|llllllllllllllllllll}\n",
       "  & Player1 & FNL.1 & FSP.1 & FSW.1 & SSP.1 & SSW.1 & ACE.1 & DBF.1 & WNR.1 & UFE.1 & BPC.1 & BPW.1 & NPA.1 & NPW.1 & TPW.1 & ST1.1 & ST2.1 & ST3.1 & ST4.1 & ST5.1\\\\\n",
       "  & <chr> & <int> & <int> & <int> & <int> & <int> & <int> & <int> & <int> & <int> & <int> & <int> & <int> & <int> & <int> & <int> & <int> & <int> & <int> & <int>\\\\\n",
       "\\hline\n",
       "\t1 & Pablo Carreno-Busta & 0 & 62 & 27 & 38 & 11 &  1 & 3 & 12 & 29 &  1 &  3 &  9 & 20 &  50 & 2 & 2 & 3 & NA & NA\\\\\n",
       "\t2 & Somdev Devvarman    & 3 & 62 & 54 & 38 & 22 &  7 & 3 & 26 & 20 &  5 &  8 & 12 & 21 & 120 & 6 & 6 & 7 & NA & NA\\\\\n",
       "\t3 & Tobias Kamke        & 3 & 62 & 53 & 38 & 15 &  4 & 6 & 42 & 55 & 10 & 22 & 14 & 32 & 140 & 6 & 6 & 3 &  0 &  6\\\\\n",
       "\t4 & Julien Benneteau    & 3 & 72 & 87 & 28 & 19 & 14 & 2 & 48 & 27 &  4 & 13 & 14 & 30 & 163 & 7 & 6 & 5 &  7 & NA\\\\\n",
       "\t5 & Lukas Lacko         & 0 & 52 & 31 & 48 & 22 &  4 & 4 & 21 & 24 &  1 &  1 &  3 &  5 &  72 & 3 & 4 & 4 & NA & NA\\\\\n",
       "\t6 & Jan Hajek           & 3 & 70 & 58 & 30 & 18 &  4 & 4 & 35 & 36 &  6 & 12 &  8 & 10 & 130 & 6 & 5 & 6 &  6 & NA\\\\\n",
       "\\end{tabular}\n"
      ],
      "text/markdown": [
       "\n",
       "A data.frame: 6 × 20\n",
       "\n",
       "| <!--/--> | Player1 &lt;chr&gt; | FNL.1 &lt;int&gt; | FSP.1 &lt;int&gt; | FSW.1 &lt;int&gt; | SSP.1 &lt;int&gt; | SSW.1 &lt;int&gt; | ACE.1 &lt;int&gt; | DBF.1 &lt;int&gt; | WNR.1 &lt;int&gt; | UFE.1 &lt;int&gt; | BPC.1 &lt;int&gt; | BPW.1 &lt;int&gt; | NPA.1 &lt;int&gt; | NPW.1 &lt;int&gt; | TPW.1 &lt;int&gt; | ST1.1 &lt;int&gt; | ST2.1 &lt;int&gt; | ST3.1 &lt;int&gt; | ST4.1 &lt;int&gt; | ST5.1 &lt;int&gt; |\n",
       "|---|---|---|---|---|---|---|---|---|---|---|---|---|---|---|---|---|---|---|---|---|\n",
       "| 1 | Pablo Carreno-Busta | 0 | 62 | 27 | 38 | 11 |  1 | 3 | 12 | 29 |  1 |  3 |  9 | 20 |  50 | 2 | 2 | 3 | NA | NA |\n",
       "| 2 | Somdev Devvarman    | 3 | 62 | 54 | 38 | 22 |  7 | 3 | 26 | 20 |  5 |  8 | 12 | 21 | 120 | 6 | 6 | 7 | NA | NA |\n",
       "| 3 | Tobias Kamke        | 3 | 62 | 53 | 38 | 15 |  4 | 6 | 42 | 55 | 10 | 22 | 14 | 32 | 140 | 6 | 6 | 3 |  0 |  6 |\n",
       "| 4 | Julien Benneteau    | 3 | 72 | 87 | 28 | 19 | 14 | 2 | 48 | 27 |  4 | 13 | 14 | 30 | 163 | 7 | 6 | 5 |  7 | NA |\n",
       "| 5 | Lukas Lacko         | 0 | 52 | 31 | 48 | 22 |  4 | 4 | 21 | 24 |  1 |  1 |  3 |  5 |  72 | 3 | 4 | 4 | NA | NA |\n",
       "| 6 | Jan Hajek           | 3 | 70 | 58 | 30 | 18 |  4 | 4 | 35 | 36 |  6 | 12 |  8 | 10 | 130 | 6 | 5 | 6 |  6 | NA |\n",
       "\n"
      ],
      "text/plain": [
       "  Player1             FNL.1 FSP.1 FSW.1 SSP.1 SSW.1 ACE.1 DBF.1 WNR.1 UFE.1\n",
       "1 Pablo Carreno-Busta 0     62    27    38    11     1    3     12    29   \n",
       "2 Somdev Devvarman    3     62    54    38    22     7    3     26    20   \n",
       "3 Tobias Kamke        3     62    53    38    15     4    6     42    55   \n",
       "4 Julien Benneteau    3     72    87    28    19    14    2     48    27   \n",
       "5 Lukas Lacko         0     52    31    48    22     4    4     21    24   \n",
       "6 Jan Hajek           3     70    58    30    18     4    4     35    36   \n",
       "  BPC.1 BPW.1 NPA.1 NPW.1 TPW.1 ST1.1 ST2.1 ST3.1 ST4.1 ST5.1\n",
       "1  1     3     9    20     50   2     2     3     NA    NA   \n",
       "2  5     8    12    21    120   6     6     7     NA    NA   \n",
       "3 10    22    14    32    140   6     6     3      0     6   \n",
       "4  4    13    14    30    163   7     6     5      7    NA   \n",
       "5  1     1     3     5     72   3     4     4     NA    NA   \n",
       "6  6    12     8    10    130   6     5     6      6    NA   "
      ]
     },
     "metadata": {},
     "output_type": "display_data"
    }
   ],
   "source": [
    "tennis_data %>% \n",
    "    select(ends_with('1')) %>% \n",
    "    head() "
   ]
  },
  {
   "cell_type": "markdown",
   "metadata": {},
   "source": [
    "How to find the variables whose *type* is character vector, or string."
   ]
  },
  {
   "cell_type": "code",
   "execution_count": 33,
   "metadata": {},
   "outputs": [
    {
     "data": {
      "text/html": [
       "<style>\n",
       ".list-inline {list-style: none; margin:0; padding: 0}\n",
       ".list-inline>li {display: inline-block}\n",
       ".list-inline>li:not(:last-child)::after {content: \"\\00b7\"; padding: 0 .5ex}\n",
       "</style>\n",
       "<ol class=list-inline><li>'Player1'</li><li>'Player2'</li></ol>\n"
      ],
      "text/latex": [
       "\\begin{enumerate*}\n",
       "\\item 'Player1'\n",
       "\\item 'Player2'\n",
       "\\end{enumerate*}\n"
      ],
      "text/markdown": [
       "1. 'Player1'\n",
       "2. 'Player2'\n",
       "\n",
       "\n"
      ],
      "text/plain": [
       "[1] \"Player1\" \"Player2\""
      ]
     },
     "metadata": {},
     "output_type": "display_data"
    }
   ],
   "source": [
    "tennis_data %>% \n",
    "    select(where(is.character)) %>% names()"
   ]
  },
  {
   "cell_type": "markdown",
   "metadata": {},
   "source": [
    "https://dplyr.tidyverse.org/reference/select.html"
   ]
  },
  {
   "cell_type": "markdown",
   "metadata": {},
   "source": [
    "### `mutate`"
   ]
  },
  {
   "cell_type": "markdown",
   "metadata": {},
   "source": [
    "We are likely interested in some aggregate statistics, i.e., combining the results of players 1 and 2 in a match. We'll use `mutate` to create new variables to analyze these statistics.  "
   ]
  },
  {
   "cell_type": "markdown",
   "metadata": {},
   "source": [
    "Suppose we're interested in looking at the length of matches (how many sets are played). One way to do this is to add `FNL1` (total number of sets won by player 1) to `FNL2` (total for player 2). "
   ]
  },
  {
   "cell_type": "code",
   "execution_count": 34,
   "metadata": {},
   "outputs": [],
   "source": [
    "tennis_data_2 = tennis_data %>% \n",
    "                    mutate(total_sets = FNL.1 + FNL.2)"
   ]
  },
  {
   "cell_type": "markdown",
   "metadata": {},
   "source": [
    "Now we can sort the matches from longest to shortest. "
   ]
  },
  {
   "cell_type": "code",
   "execution_count": 35,
   "metadata": {},
   "outputs": [
    {
     "data": {
      "text/html": [
       "<table class=\"dataframe\">\n",
       "<caption>A data.frame: 6 × 43</caption>\n",
       "<thead>\n",
       "\t<tr><th></th><th scope=col>Player1</th><th scope=col>Player2</th><th scope=col>Round</th><th scope=col>Result</th><th scope=col>FNL.1</th><th scope=col>FNL.2</th><th scope=col>FSP.1</th><th scope=col>FSW.1</th><th scope=col>SSP.1</th><th scope=col>SSW.1</th><th scope=col>...</th><th scope=col>BPW.2</th><th scope=col>NPA.2</th><th scope=col>NPW.2</th><th scope=col>TPW.2</th><th scope=col>ST1.2</th><th scope=col>ST2.2</th><th scope=col>ST3.2</th><th scope=col>ST4.2</th><th scope=col>ST5.2</th><th scope=col>total_sets</th></tr>\n",
       "\t<tr><th></th><th scope=col>&lt;chr&gt;</th><th scope=col>&lt;chr&gt;</th><th scope=col>&lt;int&gt;</th><th scope=col>&lt;int&gt;</th><th scope=col>&lt;int&gt;</th><th scope=col>&lt;int&gt;</th><th scope=col>&lt;int&gt;</th><th scope=col>&lt;int&gt;</th><th scope=col>&lt;int&gt;</th><th scope=col>&lt;int&gt;</th><th scope=col>...</th><th scope=col>&lt;int&gt;</th><th scope=col>&lt;int&gt;</th><th scope=col>&lt;int&gt;</th><th scope=col>&lt;int&gt;</th><th scope=col>&lt;int&gt;</th><th scope=col>&lt;int&gt;</th><th scope=col>&lt;int&gt;</th><th scope=col>&lt;int&gt;</th><th scope=col>&lt;int&gt;</th><th scope=col>&lt;int&gt;</th></tr>\n",
       "</thead>\n",
       "<tbody>\n",
       "\t<tr><th scope=row>1</th><td>Tobias Kamke    </td><td>Paolo Lorenzi       </td><td>1</td><td>1</td><td>3</td><td>2</td><td>62</td><td>53</td><td>38</td><td>15</td><td>...</td><td>18</td><td>19</td><td>27</td><td>139</td><td>3</td><td>3</td><td>6</td><td>6</td><td>3</td><td>5</td></tr>\n",
       "\t<tr><th scope=row>2</th><td>Adrian Mannarino</td><td>Pablo Cuevas        </td><td>1</td><td>0</td><td>2</td><td>3</td><td>63</td><td>71</td><td>37</td><td>38</td><td>...</td><td>20</td><td>14</td><td>22</td><td>175</td><td>6</td><td>2</td><td>6</td><td>5</td><td>7</td><td>5</td></tr>\n",
       "\t<tr><th scope=row>3</th><td>Gilles Simon    </td><td>Lleyton Hewitt      </td><td>1</td><td>1</td><td>3</td><td>2</td><td>59</td><td>42</td><td>41</td><td>25</td><td>...</td><td>10</td><td>19</td><td>35</td><td>120</td><td>6</td><td>6</td><td>4</td><td>1</td><td>5</td><td>5</td></tr>\n",
       "\t<tr><th scope=row>4</th><td>Juan Monaco     </td><td>Daniel Gimeno-Traver</td><td>1</td><td>0</td><td>2</td><td>3</td><td>78</td><td>85</td><td>22</td><td>22</td><td>...</td><td>10</td><td>11</td><td>18</td><td>177</td><td>4</td><td>4</td><td>7</td><td>6</td><td>6</td><td>5</td></tr>\n",
       "\t<tr><th scope=row>5</th><td>Jarkko Nieminen </td><td>Paul-Henri Mathieu  </td><td>1</td><td>1</td><td>3</td><td>2</td><td>69</td><td>84</td><td>31</td><td>29</td><td>...</td><td>15</td><td>24</td><td>33</td><td>163</td><td>4</td><td>6</td><td>6</td><td>6</td><td>2</td><td>5</td></tr>\n",
       "\t<tr><th scope=row>6</th><td>Steve Johnson   </td><td>Albert Montanes     </td><td>1</td><td>0</td><td>2</td><td>3</td><td>55</td><td>53</td><td>45</td><td>32</td><td>...</td><td>19</td><td>11</td><td>16</td><td>142</td><td>6</td><td>3</td><td>6</td><td>3</td><td>6</td><td>5</td></tr>\n",
       "</tbody>\n",
       "</table>\n"
      ],
      "text/latex": [
       "A data.frame: 6 × 43\n",
       "\\begin{tabular}{r|lllllllllllllllllllll}\n",
       "  & Player1 & Player2 & Round & Result & FNL.1 & FNL.2 & FSP.1 & FSW.1 & SSP.1 & SSW.1 & ... & BPW.2 & NPA.2 & NPW.2 & TPW.2 & ST1.2 & ST2.2 & ST3.2 & ST4.2 & ST5.2 & total\\_sets\\\\\n",
       "  & <chr> & <chr> & <int> & <int> & <int> & <int> & <int> & <int> & <int> & <int> & ... & <int> & <int> & <int> & <int> & <int> & <int> & <int> & <int> & <int> & <int>\\\\\n",
       "\\hline\n",
       "\t1 & Tobias Kamke     & Paolo Lorenzi        & 1 & 1 & 3 & 2 & 62 & 53 & 38 & 15 & ... & 18 & 19 & 27 & 139 & 3 & 3 & 6 & 6 & 3 & 5\\\\\n",
       "\t2 & Adrian Mannarino & Pablo Cuevas         & 1 & 0 & 2 & 3 & 63 & 71 & 37 & 38 & ... & 20 & 14 & 22 & 175 & 6 & 2 & 6 & 5 & 7 & 5\\\\\n",
       "\t3 & Gilles Simon     & Lleyton Hewitt       & 1 & 1 & 3 & 2 & 59 & 42 & 41 & 25 & ... & 10 & 19 & 35 & 120 & 6 & 6 & 4 & 1 & 5 & 5\\\\\n",
       "\t4 & Juan Monaco      & Daniel Gimeno-Traver & 1 & 0 & 2 & 3 & 78 & 85 & 22 & 22 & ... & 10 & 11 & 18 & 177 & 4 & 4 & 7 & 6 & 6 & 5\\\\\n",
       "\t5 & Jarkko Nieminen  & Paul-Henri Mathieu   & 1 & 1 & 3 & 2 & 69 & 84 & 31 & 29 & ... & 15 & 24 & 33 & 163 & 4 & 6 & 6 & 6 & 2 & 5\\\\\n",
       "\t6 & Steve Johnson    & Albert Montanes      & 1 & 0 & 2 & 3 & 55 & 53 & 45 & 32 & ... & 19 & 11 & 16 & 142 & 6 & 3 & 6 & 3 & 6 & 5\\\\\n",
       "\\end{tabular}\n"
      ],
      "text/markdown": [
       "\n",
       "A data.frame: 6 × 43\n",
       "\n",
       "| <!--/--> | Player1 &lt;chr&gt; | Player2 &lt;chr&gt; | Round &lt;int&gt; | Result &lt;int&gt; | FNL.1 &lt;int&gt; | FNL.2 &lt;int&gt; | FSP.1 &lt;int&gt; | FSW.1 &lt;int&gt; | SSP.1 &lt;int&gt; | SSW.1 &lt;int&gt; | ... ... | BPW.2 &lt;int&gt; | NPA.2 &lt;int&gt; | NPW.2 &lt;int&gt; | TPW.2 &lt;int&gt; | ST1.2 &lt;int&gt; | ST2.2 &lt;int&gt; | ST3.2 &lt;int&gt; | ST4.2 &lt;int&gt; | ST5.2 &lt;int&gt; | total_sets &lt;int&gt; |\n",
       "|---|---|---|---|---|---|---|---|---|---|---|---|---|---|---|---|---|---|---|---|---|---|\n",
       "| 1 | Tobias Kamke     | Paolo Lorenzi        | 1 | 1 | 3 | 2 | 62 | 53 | 38 | 15 | ... | 18 | 19 | 27 | 139 | 3 | 3 | 6 | 6 | 3 | 5 |\n",
       "| 2 | Adrian Mannarino | Pablo Cuevas         | 1 | 0 | 2 | 3 | 63 | 71 | 37 | 38 | ... | 20 | 14 | 22 | 175 | 6 | 2 | 6 | 5 | 7 | 5 |\n",
       "| 3 | Gilles Simon     | Lleyton Hewitt       | 1 | 1 | 3 | 2 | 59 | 42 | 41 | 25 | ... | 10 | 19 | 35 | 120 | 6 | 6 | 4 | 1 | 5 | 5 |\n",
       "| 4 | Juan Monaco      | Daniel Gimeno-Traver | 1 | 0 | 2 | 3 | 78 | 85 | 22 | 22 | ... | 10 | 11 | 18 | 177 | 4 | 4 | 7 | 6 | 6 | 5 |\n",
       "| 5 | Jarkko Nieminen  | Paul-Henri Mathieu   | 1 | 1 | 3 | 2 | 69 | 84 | 31 | 29 | ... | 15 | 24 | 33 | 163 | 4 | 6 | 6 | 6 | 2 | 5 |\n",
       "| 6 | Steve Johnson    | Albert Montanes      | 1 | 0 | 2 | 3 | 55 | 53 | 45 | 32 | ... | 19 | 11 | 16 | 142 | 6 | 3 | 6 | 3 | 6 | 5 |\n",
       "\n"
      ],
      "text/plain": [
       "  Player1          Player2              Round Result FNL.1 FNL.2 FSP.1 FSW.1\n",
       "1 Tobias Kamke     Paolo Lorenzi        1     1      3     2     62    53   \n",
       "2 Adrian Mannarino Pablo Cuevas         1     0      2     3     63    71   \n",
       "3 Gilles Simon     Lleyton Hewitt       1     1      3     2     59    42   \n",
       "4 Juan Monaco      Daniel Gimeno-Traver 1     0      2     3     78    85   \n",
       "5 Jarkko Nieminen  Paul-Henri Mathieu   1     1      3     2     69    84   \n",
       "6 Steve Johnson    Albert Montanes      1     0      2     3     55    53   \n",
       "  SSP.1 SSW.1 ... BPW.2 NPA.2 NPW.2 TPW.2 ST1.2 ST2.2 ST3.2 ST4.2 ST5.2\n",
       "1 38    15    ... 18    19    27    139   3     3     6     6     3    \n",
       "2 37    38    ... 20    14    22    175   6     2     6     5     7    \n",
       "3 41    25    ... 10    19    35    120   6     6     4     1     5    \n",
       "4 22    22    ... 10    11    18    177   4     4     7     6     6    \n",
       "5 31    29    ... 15    24    33    163   4     6     6     6     2    \n",
       "6 45    32    ... 19    11    16    142   6     3     6     3     6    \n",
       "  total_sets\n",
       "1 5         \n",
       "2 5         \n",
       "3 5         \n",
       "4 5         \n",
       "5 5         \n",
       "6 5         "
      ]
     },
     "metadata": {},
     "output_type": "display_data"
    }
   ],
   "source": [
    "tennis_data_2 %>% \n",
    "    arrange(desc(total_sets)) %>% \n",
    "    head()"
   ]
  },
  {
   "cell_type": "markdown",
   "metadata": {},
   "source": [
    "## Exercises"
   ]
  },
  {
   "cell_type": "markdown",
   "metadata": {},
   "source": [
    "1. A better measure of match length might be to measure the total number of points played. Compute `total_points` from the variables `TPW.1` and `TPW.2`. Add this to `tennis_data_2`.\n",
    "2. Create a variable `ace_rate` which is the total number of aces in a match divided by the total number of points played. Add this to `tennis_data_2`. (In tennis, an ace is a legal serve that is not touched by the receiver, winning the point. In professional tennis, aces are generally seen on a player's first serve, where the server can strike the ball with maximum force and take more chances with ball placement, such as the far corners of the service box. - by Wiki)\n",
    "3. Create a variable `cilic` that is `TRUE` for all matches in which Marin Cilic played and `FALSE` otherwise. \n",
    "4. Sort the data by `Round`, then by `ace_rate` in ascending order \n",
    "5. Create a table containing all matches before the 6th round in which both players had a first serve percentage above 65% \n",
    "6. A player wins in straight sets if his opponent does not win a single set. How many matches were *not* won in straight sets. "
   ]
  },
  {
   "cell_type": "code",
   "execution_count": 37,
   "metadata": {},
   "outputs": [],
   "source": [
    "#1 \n",
    " "
   ]
  },
  {
   "cell_type": "code",
   "execution_count": 38,
   "metadata": {},
   "outputs": [],
   "source": [
    "#2 \n"
   ]
  },
  {
   "cell_type": "code",
   "execution_count": null,
   "metadata": {},
   "outputs": [],
   "source": [
    "#3\n"
   ]
  },
  {
   "cell_type": "code",
   "execution_count": null,
   "metadata": {},
   "outputs": [],
   "source": [
    "#4\n"
   ]
  },
  {
   "cell_type": "code",
   "execution_count": null,
   "metadata": {},
   "outputs": [],
   "source": [
    "#5 \n"
   ]
  },
  {
   "cell_type": "code",
   "execution_count": null,
   "metadata": {},
   "outputs": [],
   "source": [
    "#6\n"
   ]
  },
  {
   "cell_type": "markdown",
   "metadata": {},
   "source": [
    "## `summarise`"
   ]
  },
  {
   "cell_type": "code",
   "execution_count": 43,
   "metadata": {},
   "outputs": [
    {
     "data": {
      "text/html": [
       "<table class=\"dataframe\">\n",
       "<caption>A data.frame: 1 × 3</caption>\n",
       "<thead>\n",
       "\t<tr><th scope=col>total_matches</th><th scope=col>avg_points</th><th scope=col>avg_sets</th></tr>\n",
       "\t<tr><th scope=col>&lt;int&gt;</th><th scope=col>&lt;dbl&gt;</th><th scope=col>&lt;dbl&gt;</th></tr>\n",
       "</thead>\n",
       "<tbody>\n",
       "\t<tr><td>125</td><td>219.44</td><td>3.568</td></tr>\n",
       "</tbody>\n",
       "</table>\n"
      ],
      "text/latex": [
       "A data.frame: 1 × 3\n",
       "\\begin{tabular}{lll}\n",
       " total\\_matches & avg\\_points & avg\\_sets\\\\\n",
       " <int> & <dbl> & <dbl>\\\\\n",
       "\\hline\n",
       "\t 125 & 219.44 & 3.568\\\\\n",
       "\\end{tabular}\n"
      ],
      "text/markdown": [
       "\n",
       "A data.frame: 1 × 3\n",
       "\n",
       "| total_matches &lt;int&gt; | avg_points &lt;dbl&gt; | avg_sets &lt;dbl&gt; |\n",
       "|---|---|---|\n",
       "| 125 | 219.44 | 3.568 |\n",
       "\n"
      ],
      "text/plain": [
       "  total_matches avg_points avg_sets\n",
       "1 125           219.44     3.568   "
      ]
     },
     "metadata": {},
     "output_type": "display_data"
    }
   ],
   "source": [
    "tennis_data_2 %>% \n",
    "    summarise(total_matches=n(), avg_points = mean(total_points), avg_sets = mean(total_sets))"
   ]
  },
  {
   "cell_type": "markdown",
   "metadata": {},
   "source": [
    "We can combine the summarise operation with other operations from `dplyr`"
   ]
  },
  {
   "cell_type": "code",
   "execution_count": 44,
   "metadata": {},
   "outputs": [
    {
     "data": {
      "text/html": [
       "<table class=\"dataframe\">\n",
       "<caption>A tibble: 7 × 3</caption>\n",
       "<thead>\n",
       "\t<tr><th scope=col>Round</th><th scope=col>total_matches</th><th scope=col>avg_points</th></tr>\n",
       "\t<tr><th scope=col>&lt;int&gt;</th><th scope=col>&lt;int&gt;</th><th scope=col>&lt;dbl&gt;</th></tr>\n",
       "</thead>\n",
       "<tbody>\n",
       "\t<tr><td>1</td><td>63</td><td>214.5714</td></tr>\n",
       "\t<tr><td>2</td><td>31</td><td>228.5484</td></tr>\n",
       "\t<tr><td>3</td><td>16</td><td>225.5000</td></tr>\n",
       "\t<tr><td>4</td><td> 8</td><td>231.8750</td></tr>\n",
       "\t<tr><td>5</td><td> 4</td><td>166.5000</td></tr>\n",
       "\t<tr><td>6</td><td> 2</td><td>263.0000</td></tr>\n",
       "\t<tr><td>7</td><td> 1</td><td>172.0000</td></tr>\n",
       "</tbody>\n",
       "</table>\n"
      ],
      "text/latex": [
       "A tibble: 7 × 3\n",
       "\\begin{tabular}{lll}\n",
       " Round & total\\_matches & avg\\_points\\\\\n",
       " <int> & <int> & <dbl>\\\\\n",
       "\\hline\n",
       "\t 1 & 63 & 214.5714\\\\\n",
       "\t 2 & 31 & 228.5484\\\\\n",
       "\t 3 & 16 & 225.5000\\\\\n",
       "\t 4 &  8 & 231.8750\\\\\n",
       "\t 5 &  4 & 166.5000\\\\\n",
       "\t 6 &  2 & 263.0000\\\\\n",
       "\t 7 &  1 & 172.0000\\\\\n",
       "\\end{tabular}\n"
      ],
      "text/markdown": [
       "\n",
       "A tibble: 7 × 3\n",
       "\n",
       "| Round &lt;int&gt; | total_matches &lt;int&gt; | avg_points &lt;dbl&gt; |\n",
       "|---|---|---|\n",
       "| 1 | 63 | 214.5714 |\n",
       "| 2 | 31 | 228.5484 |\n",
       "| 3 | 16 | 225.5000 |\n",
       "| 4 |  8 | 231.8750 |\n",
       "| 5 |  4 | 166.5000 |\n",
       "| 6 |  2 | 263.0000 |\n",
       "| 7 |  1 | 172.0000 |\n",
       "\n"
      ],
      "text/plain": [
       "  Round total_matches avg_points\n",
       "1 1     63            214.5714  \n",
       "2 2     31            228.5484  \n",
       "3 3     16            225.5000  \n",
       "4 4      8            231.8750  \n",
       "5 5      4            166.5000  \n",
       "6 6      2            263.0000  \n",
       "7 7      1            172.0000  "
      ]
     },
     "metadata": {},
     "output_type": "display_data"
    }
   ],
   "source": [
    "tennis_data_2 %>% \n",
    "    group_by(Round) %>% \n",
    "    summarise(total_matches=n(), avg_points = mean(total_points))"
   ]
  },
  {
   "cell_type": "code",
   "execution_count": 45,
   "metadata": {},
   "outputs": [
    {
     "data": {
      "text/html": [
       "<table class=\"dataframe\">\n",
       "<caption>A tibble: 2 × 2</caption>\n",
       "<thead>\n",
       "\t<tr><th scope=col>Player1 %in% usa_players | Player2 %in% usa_players</th><th scope=col>avg_ace</th></tr>\n",
       "\t<tr><th scope=col>&lt;lgl&gt;</th><th scope=col>&lt;dbl&gt;</th></tr>\n",
       "</thead>\n",
       "<tbody>\n",
       "\t<tr><td>FALSE</td><td>0.05600242</td></tr>\n",
       "\t<tr><td> TRUE</td><td>0.07445462</td></tr>\n",
       "</tbody>\n",
       "</table>\n"
      ],
      "text/latex": [
       "A tibble: 2 × 2\n",
       "\\begin{tabular}{ll}\n",
       " Player1 \\%in\\% usa\\_players \\textbar{} Player2 \\%in\\% usa\\_players & avg\\_ace\\\\\n",
       " <lgl> & <dbl>\\\\\n",
       "\\hline\n",
       "\t FALSE & 0.05600242\\\\\n",
       "\t  TRUE & 0.07445462\\\\\n",
       "\\end{tabular}\n"
      ],
      "text/markdown": [
       "\n",
       "A tibble: 2 × 2\n",
       "\n",
       "| Player1 %in% usa_players | Player2 %in% usa_players &lt;lgl&gt; | avg_ace &lt;dbl&gt; |\n",
       "|---|---|\n",
       "| FALSE | 0.05600242 |\n",
       "|  TRUE | 0.07445462 |\n",
       "\n"
      ],
      "text/plain": [
       "  Player1 %in% usa_players | Player2 %in% usa_players avg_ace   \n",
       "1 FALSE                                               0.05600242\n",
       "2  TRUE                                               0.07445462"
      ]
     },
     "metadata": {},
     "output_type": "display_data"
    }
   ],
   "source": [
    "usa_players = c('Sam Querrey', 'John Isner')\n",
    "tennis_data_2 %>% \n",
    "    group_by(Player1 %in% usa_players | Player2 %in% usa_players) %>% \n",
    "    summarise(avg_ace = mean(ace_rate))"
   ]
  },
  {
   "cell_type": "markdown",
   "metadata": {},
   "source": [
    "We can even sort the summary table based on the results of the summary statistics"
   ]
  },
  {
   "cell_type": "code",
   "execution_count": 46,
   "metadata": {},
   "outputs": [
    {
     "data": {
      "text/html": [
       "<table class=\"dataframe\">\n",
       "<caption>A tibble: 4 × 2</caption>\n",
       "<thead>\n",
       "\t<tr><th scope=col>Round</th><th scope=col>avg_FSP</th></tr>\n",
       "\t<tr><th scope=col>&lt;int&gt;</th><th scope=col>&lt;dbl&gt;</th></tr>\n",
       "</thead>\n",
       "<tbody>\n",
       "\t<tr><td>3</td><td>64.71875</td></tr>\n",
       "\t<tr><td>4</td><td>63.93750</td></tr>\n",
       "\t<tr><td>2</td><td>62.59677</td></tr>\n",
       "\t<tr><td>1</td><td>61.42857</td></tr>\n",
       "</tbody>\n",
       "</table>\n"
      ],
      "text/latex": [
       "A tibble: 4 × 2\n",
       "\\begin{tabular}{ll}\n",
       " Round & avg\\_FSP\\\\\n",
       " <int> & <dbl>\\\\\n",
       "\\hline\n",
       "\t 3 & 64.71875\\\\\n",
       "\t 4 & 63.93750\\\\\n",
       "\t 2 & 62.59677\\\\\n",
       "\t 1 & 61.42857\\\\\n",
       "\\end{tabular}\n"
      ],
      "text/markdown": [
       "\n",
       "A tibble: 4 × 2\n",
       "\n",
       "| Round &lt;int&gt; | avg_FSP &lt;dbl&gt; |\n",
       "|---|---|\n",
       "| 3 | 64.71875 |\n",
       "| 4 | 63.93750 |\n",
       "| 2 | 62.59677 |\n",
       "| 1 | 61.42857 |\n",
       "\n"
      ],
      "text/plain": [
       "  Round avg_FSP \n",
       "1 3     64.71875\n",
       "2 4     63.93750\n",
       "3 2     62.59677\n",
       "4 1     61.42857"
      ]
     },
     "metadata": {},
     "output_type": "display_data"
    }
   ],
   "source": [
    "tennis_data_2 %>% \n",
    "    filter(Round < 5) %>% \n",
    "    group_by(Round) %>% \n",
    "    summarise(avg_FSP = mean((FSP.1 + FSP.2)/2)) %>% \n",
    "    arrange(desc(avg_FSP))"
   ]
  },
  {
   "cell_type": "markdown",
   "metadata": {},
   "source": [
    "We can assign summary tables to variables and then plot them."
   ]
  },
  {
   "cell_type": "code",
   "execution_count": 47,
   "metadata": {},
   "outputs": [],
   "source": [
    "round = tennis_data_2 %>% \n",
    "        filter(total_sets > 2) %>%\n",
    "        group_by(Round) %>%\n",
    "        summarise(avg_ace = mean(ace_rate), avg_points = mean(total_points))"
   ]
  },
  {
   "cell_type": "code",
   "execution_count": 49,
   "metadata": {},
   "outputs": [
    {
     "data": {
      "image/png": "[encoded data removed]",
      "text/plain": [
       "plot without title"
      ]
     },
     "metadata": {
      "image/png": {
       "height": 420,
       "width": 420
      }
     },
     "output_type": "display_data"
    }
   ],
   "source": [
    "ggplot(round) + \n",
    "    geom_bar(aes(x=as.factor(Round), y=avg_points),stat='identity', fill='green') "
   ]
  },
  {
   "cell_type": "markdown",
   "metadata": {},
   "source": [
    "Other choices for color/fill: http://sape.inf.usi.ch/quick-reference/ggplot2/colour"
   ]
  }
 ],
 "metadata": {
  "kernelspec": {
   "display_name": "R",
   "language": "R",
   "name": "ir"
  },
  "language_info": {
   "codemirror_mode": "r",
   "file_extension": ".r",
   "mimetype": "text/x-r-source",
   "name": "R",
   "pygments_lexer": "r",
   "version": "4.1.1"
  }
 },
 "nbformat": 4,
 "nbformat_minor": 2
}
