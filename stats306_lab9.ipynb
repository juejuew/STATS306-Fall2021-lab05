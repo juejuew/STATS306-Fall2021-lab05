{
 "cells": [
  {
   "cell_type": "markdown",
   "metadata": {},
   "source": [
    "# Lab 9: Regular Expressions and Factors\n"
   ]
  },
  {
   "cell_type": "markdown",
   "metadata": {},
   "source": [
    "# Preliminaries\n",
    "\n"
   ]
  },
  {
   "cell_type": "markdown",
   "metadata": {},
   "source": [
    "# Regular Expressions\n"
   ]
  },
  {
   "cell_type": "code",
   "execution_count": 43,
   "metadata": {},
   "outputs": [],
   "source": [
    "library(tidyverse)"
   ]
  },
  {
   "cell_type": "markdown",
   "metadata": {},
   "source": [
    "## Regular Expressions are Hard"
   ]
  },
  {
   "cell_type": "markdown",
   "metadata": {},
   "source": [
    "-  Even seasoned programmers often struggle with regular expressions; they require a lot of practice to master.\n",
    "-  Many people have written entire books with different animals on the cover just on the topic, and this is just from one publisher.\n"
   ]
  },
  {
   "cell_type": "markdown",
   "metadata": {},
   "source": [
    "![owl](https://raw.githubusercontent.com/dereklhansen/stats306_lab/master/lab8/owl.jpg)\n",
    "![weasel](https://raw.githubusercontent.com/dereklhansen/stats306_lab/master/lab8/weasel.jpg)\n",
    "![bat](https://raw.githubusercontent.com/dereklhansen/stats306_lab/master/lab8/bat.jpg)\n"
   ]
  },
  {
   "cell_type": "markdown",
   "metadata": {},
   "source": [
    "-  This website will let you test out regular expressions on the fly: https://www.regexpal.com/ or https://regex101.com/\n",
    "-  Be sure to check the \"multiline\" box under \"flags\""
   ]
  },
  {
   "cell_type": "markdown",
   "metadata": {},
   "source": [
    "![](https://raw.githubusercontent.com/dereklhansen/stats306_lab/master/lab8/regex_pal2.png)"
   ]
  },
  {
   "cell_type": "markdown",
   "metadata": {},
   "source": [
    "## RegExr\n",
    "-  RegExr is a more powerful website that color-codes expressions as you build them: https://regexr.com/"
   ]
  },
  {
   "cell_type": "markdown",
   "metadata": {},
   "source": [
    "![](https://raw.githubusercontent.com/dereklhansen/stats306_lab/master/lab8/regexr.png)"
   ]
  },
  {
   "cell_type": "markdown",
   "metadata": {},
   "source": [
    "## Using Regular Expressions in dplyr\n",
    "- Regular expressions aren't just useful for text data. It is also useful when data comes in a wide format with many columns that are hard to reconcile.\n",
    "- Here we have a table of crime data by age, sex, and race from the ICSPR at the University of Michigan (original source here: https://www.icpsr.umich.edu/web/NACJD/studies/36115)\n",
    "- As you'll see below, each row corresponds to a particular agency, month, and offense. The subsequent columns denotes counts of gender-age crimes (e.g. \"F20\" is how many reports for females age 20), or of different racial groups which are broken up by juvenile-status and race (\"AW\" is Adult White).\n",
    "- While high-quality, this data is not very tidy; it is good example of how data actually comes in the real world.\n"
   ]
  },
  {
   "cell_type": "markdown",
   "metadata": {},
   "source": [
    "## Tidy data\n",
    "There are many different ways to represent data in a table, but some are better than others.\n",
    "We say that a data table is \"[tidy](http://vita.had.co.nz/papers/tidy-data.pdf)\" if:\n",
    "- Each row represents an observation.\n",
    "- Each column represents a variable.\n",
    "- Each value gets its own cell.\n",
    "- Each different type of data set gets its own table."
   ]
  },
  {
   "cell_type": "code",
   "execution_count": 44,
   "metadata": {
    "scrolled": true
   },
   "outputs": [
    {
     "name": "stderr",
     "output_type": "stream",
     "text": [
      "\u001b[1m\u001b[1mRows: \u001b[1m\u001b[22m\u001b[34m\u001b[34m58277\u001b[34m\u001b[39m \u001b[1m\u001b[1mColumns: \u001b[1m\u001b[22m\u001b[34m\u001b[34m89\u001b[34m\u001b[39m\n",
      "\n",
      "\u001b[36m--\u001b[39m \u001b[1m\u001b[1mColumn specification\u001b[1m\u001b[22m \u001b[36m------------------------------------------------------------------------------------------------\u001b[39m\n",
      "\u001b[1mDelimiter:\u001b[22m \",\"\n",
      "\u001b[31mchr\u001b[39m  (6): ORI, GROUP, CORE, AGENCY, STNAME, OFFENSE\n",
      "\u001b[32mdbl\u001b[39m (83): ASR_ID, CONTENTS, STATE, DIV, AGHEADER, YEAR, MSA, COUNTY, SEQNO, ...\n",
      "\n",
      "\n",
      "\u001b[36mi\u001b[39m Use \u001b[30m\u001b[47m\u001b[30m\u001b[47m`spec()`\u001b[47m\u001b[30m\u001b[49m\u001b[39m to retrieve the full column specification for this data.\n",
      "\u001b[36mi\u001b[39m Specify the column types or set \u001b[30m\u001b[47m\u001b[30m\u001b[47m`show_col_types = FALSE`\u001b[47m\u001b[30m\u001b[49m\u001b[39m to quiet this message.\n",
      "\n"
     ]
    }
   ],
   "source": [
    "icpsr_raw <- read_csv(\"https://raw.githubusercontent.com/dereklhansen/stats306_lab/master/lab8/icpsr_raw.csv\")"
   ]
  },
  {
   "cell_type": "code",
   "execution_count": 45,
   "metadata": {},
   "outputs": [
    {
     "name": "stdout",
     "output_type": "stream",
     "text": [
      "Rows: 58,277\n",
      "Columns: 89\n",
      "$ ASR_ID   \u001b[3m\u001b[90m<dbl>\u001b[39m\u001b[23m 3, 3, 3, 3, 3, 3, 3, 3, 3, 3, 3, 3, 3, 3, 3, 3, 3, 3, 3, 3, 3~\n",
      "$ CONTENTS \u001b[3m\u001b[90m<dbl>\u001b[39m\u001b[23m 3, 3, 3, 3, 3, 3, 3, 3, 3, 3, 3, 3, 3, 3, 3, 3, 3, 3, 3, 3, 3~\n",
      "$ STATE    \u001b[3m\u001b[90m<dbl>\u001b[39m\u001b[23m 21, 21, 21, 21, 21, 21, 21, 21, 21, 21, 21, 21, 21, 21, 21, 2~\n",
      "$ ORI      \u001b[3m\u001b[90m<chr>\u001b[39m\u001b[23m \"MI01001\", \"MI01001\", \"MI01001\", \"MI01001\", \"MI01001\", \"MI010~\n",
      "$ GROUP    \u001b[3m\u001b[90m<chr>\u001b[39m\u001b[23m \"8D\", \"8D\", \"8D\", \"8D\", \"8D\", \"8D\", \"8D\", \"8D\", \"8D\", \"8D\", \"~\n",
      "$ DIV      \u001b[3m\u001b[90m<dbl>\u001b[39m\u001b[23m 3, 3, 3, 3, 3, 3, 3, 3, 3, 3, 3, 3, 3, 3, 3, 3, 3, 3, 3, 3, 3~\n",
      "$ AGHEADER \u001b[3m\u001b[90m<dbl>\u001b[39m\u001b[23m 0, 0, 0, 0, 0, 0, 0, 0, 0, 0, 0, 0, 0, 0, 0, 0, 0, 0, 0, 0, 0~\n",
      "$ YEAR     \u001b[3m\u001b[90m<dbl>\u001b[39m\u001b[23m 2013, 2013, 2013, 2013, 2013, 2013, 2013, 2013, 2013, 2013, 2~\n",
      "$ MSA      \u001b[3m\u001b[90m<dbl>\u001b[39m\u001b[23m 998, 998, 998, 998, 998, 998, 998, 998, 998, 998, 998, 998, 9~\n",
      "$ COUNTY   \u001b[3m\u001b[90m<dbl>\u001b[39m\u001b[23m 1, 1, 1, 1, 1, 1, 1, 1, 1, 1, 1, 1, 1, 1, 1, 1, 1, 1, 1, 1, 1~\n",
      "$ SEQNO    \u001b[3m\u001b[90m<dbl>\u001b[39m\u001b[23m 70480, 70480, 70480, 70480, 70480, 70480, 70480, 70480, 70480~\n",
      "$ SUB      \u001b[3m\u001b[90m<dbl>\u001b[39m\u001b[23m 0, 0, 0, 0, 0, 0, 0, 0, 0, 0, 0, 0, 0, 0, 0, 0, 0, 0, 0, 0, 0~\n",
      "$ CORE     \u001b[3m\u001b[90m<chr>\u001b[39m\u001b[23m \"N\", \"N\", \"N\", \"N\", \"N\", \"N\", \"N\", \"N\", \"N\", \"N\", \"N\", \"N\", \"~\n",
      "$ COVBY    \u001b[3m\u001b[90m<dbl>\u001b[39m\u001b[23m 0, 0, 0, 0, 0, 0, 0, 0, 0, 0, 0, 0, 0, 0, 0, 0, 0, 0, 0, 0, 0~\n",
      "$ POP      \u001b[3m\u001b[90m<dbl>\u001b[39m\u001b[23m 0, 0, 0, 0, 0, 0, 0, 0, 0, 0, 0, 0, 0, 0, 0, 0, 0, 0, 0, 0, 0~\n",
      "$ AGENCY   \u001b[3m\u001b[90m<chr>\u001b[39m\u001b[23m \"SP: ALCONA COUNTY\", \"SP: ALCONA COUNTY\", \"SP: ALCONA COUNTY\"~\n",
      "$ STNAME   \u001b[3m\u001b[90m<chr>\u001b[39m\u001b[23m \"MICH\", \"MICH\", \"MICH\", \"MICH\", \"MICH\", \"MICH\", \"MICH\", \"MICH~\n",
      "$ MONTH    \u001b[3m\u001b[90m<dbl>\u001b[39m\u001b[23m 1, 2, 3, 3, 3, 4, 4, 4, 5, 5, 5, 6, 6, 6, 6, 6, 6, 6, 7, 8, 8~\n",
      "$ MOHEADER \u001b[3m\u001b[90m<dbl>\u001b[39m\u001b[23m 0, 0, 0, 0, 0, 0, 0, 0, 0, 0, 0, 0, 0, 0, 0, 0, 0, 0, 0, 0, 0~\n",
      "$ BREAK    \u001b[3m\u001b[90m<dbl>\u001b[39m\u001b[23m 0, 0, 3, 3, 3, 3, 3, 3, 3, 3, 3, 3, 3, 3, 3, 3, 3, 3, 0, 3, 3~\n",
      "$ AREO     \u001b[3m\u001b[90m<dbl>\u001b[39m\u001b[23m 3, 3, 3, 3, 3, 3, 3, 3, 3, 3, 3, 3, 3, 3, 3, 3, 3, 3, 3, 3, 3~\n",
      "$ ZERO     \u001b[3m\u001b[90m<dbl>\u001b[39m\u001b[23m 0, 0, 0, 0, 0, 0, 0, 0, 0, 0, 0, 0, 0, 0, 0, 0, 0, 0, 0, 0, 0~\n",
      "$ DTLASTUP \u001b[3m\u001b[90m<dbl>\u001b[39m\u001b[23m 11415, 11415, 11415, 11415, 11415, 11415, 11415, 11415, 11415~\n",
      "$ DTPRUP1  \u001b[3m\u001b[90m<dbl>\u001b[39m\u001b[23m 0, 0, 0, 0, 0, 0, 0, 0, 0, 0, 0, 0, 0, 0, 0, 0, 0, 0, 0, 0, 0~\n",
      "$ DTPRUP2  \u001b[3m\u001b[90m<dbl>\u001b[39m\u001b[23m 0, 0, 0, 0, 0, 0, 0, 0, 0, 0, 0, 0, 0, 0, 0, 0, 0, 0, 0, 0, 0~\n",
      "$ JUVDISP  \u001b[3m\u001b[90m<dbl>\u001b[39m\u001b[23m 1, 1, 1, 1, 1, 1, 1, 1, 1, 1, 1, 1, 1, 1, 1, 1, 1, 1, 1, 1, 1~\n",
      "$ JDHANDDP \u001b[3m\u001b[90m<dbl>\u001b[39m\u001b[23m 0, 0, 0, 0, 0, 0, 0, 0, 0, 0, 0, 0, 0, 0, 0, 0, 0, 0, 0, 0, 0~\n",
      "$ JDREFJC  \u001b[3m\u001b[90m<dbl>\u001b[39m\u001b[23m 0, 0, 0, 0, 0, 0, 0, 0, 0, 0, 0, 0, 0, 0, 0, 0, 0, 0, 0, 0, 0~\n",
      "$ JDREFWA  \u001b[3m\u001b[90m<dbl>\u001b[39m\u001b[23m 0, 0, 0, 0, 0, 0, 0, 0, 0, 0, 0, 0, 0, 0, 0, 0, 0, 0, 0, 0, 0~\n",
      "$ JDREFOPA \u001b[3m\u001b[90m<dbl>\u001b[39m\u001b[23m 0, 0, 0, 0, 0, 0, 0, 0, 0, 0, 0, 0, 0, 0, 0, 0, 0, 0, 0, 0, 0~\n",
      "$ JDREFCC  \u001b[3m\u001b[90m<dbl>\u001b[39m\u001b[23m 0, 0, 0, 0, 0, 0, 0, 0, 0, 0, 0, 0, 0, 0, 0, 0, 0, 0, 0, 0, 0~\n",
      "$ OFFENSE  \u001b[3m\u001b[90m<chr>\u001b[39m\u001b[23m \"26\", \"26\", \"18\", \"185\", \"18F\", \"18\", \"180\", \"18D\", \"18\", \"18~\n",
      "$ OCCUR    \u001b[3m\u001b[90m<dbl>\u001b[39m\u001b[23m 2, 2, 4, 4, 4, 3, 2, 2, 3, 3, 3, 2, 2, 4, 4, 3, 3, 2, 2, 2, 2~\n",
      "$ M0_9     \u001b[3m\u001b[90m<dbl>\u001b[39m\u001b[23m 99999, 99999, 99999, 99999, 99999, 99999, 99999, 99999, 99999~\n",
      "$ M10_12   \u001b[3m\u001b[90m<dbl>\u001b[39m\u001b[23m 99999, 99999, 99999, 99999, 99999, 99999, 99999, 99999, 99999~\n",
      "$ M13_14   \u001b[3m\u001b[90m<dbl>\u001b[39m\u001b[23m 99999, 99999, 99999, 99999, 99999, 99999, 99999, 99999, 99999~\n",
      "$ M15      \u001b[3m\u001b[90m<dbl>\u001b[39m\u001b[23m 99999, 99999, 99999, 99999, 99999, 99999, 99999, 99999, 99999~\n",
      "$ M16      \u001b[3m\u001b[90m<dbl>\u001b[39m\u001b[23m 99999, 99999, 99999, 99999, 99999, 99999, 99999, 99999, 99999~\n",
      "$ M17      \u001b[3m\u001b[90m<dbl>\u001b[39m\u001b[23m 99999, 99999, 99999, 99999, 99999, 99999, 99999, 99999, 99999~\n",
      "$ M18      \u001b[3m\u001b[90m<dbl>\u001b[39m\u001b[23m 99999, 99999, 99999, 99999, 99999, 99999, 99999, 99999, 99999~\n",
      "$ M19      \u001b[3m\u001b[90m<dbl>\u001b[39m\u001b[23m 99999, 99999, 99999, 99999, 99999, 99999, 99999, 99999, 99999~\n",
      "$ M20      \u001b[3m\u001b[90m<dbl>\u001b[39m\u001b[23m 99999, 99999, 99999, 99999, 99999, 99999, 99999, 99999, 99999~\n",
      "$ M21      \u001b[3m\u001b[90m<dbl>\u001b[39m\u001b[23m 99999, 99999, 99999, 99999, 99999, 99999, 99999, 99999, 99999~\n",
      "$ M22      \u001b[3m\u001b[90m<dbl>\u001b[39m\u001b[23m 99999, 99999, 99999, 99999, 99999, 99999, 99999, 99999, 99999~\n",
      "$ M23      \u001b[3m\u001b[90m<dbl>\u001b[39m\u001b[23m 99999, 99999, 1, 1, 1, 99999, 99999, 99999, 99999, 99999, 999~\n",
      "$ M24      \u001b[3m\u001b[90m<dbl>\u001b[39m\u001b[23m 99999, 99999, 1, 1, 1, 99999, 99999, 99999, 99999, 99999, 999~\n",
      "$ M25_29   \u001b[3m\u001b[90m<dbl>\u001b[39m\u001b[23m 99999, 99999, 2, 2, 2, 99999, 99999, 99999, 2, 2, 2, 99999, 1~\n",
      "$ M30_34   \u001b[3m\u001b[90m<dbl>\u001b[39m\u001b[23m 99999, 99999, 99999, 99999, 99999, 1, 99999, 99999, 1, 1, 1, ~\n",
      "$ M35_39   \u001b[3m\u001b[90m<dbl>\u001b[39m\u001b[23m 99999, 1, 99999, 99999, 99999, 99999, 99999, 99999, 99999, 99~\n",
      "$ M40_44   \u001b[3m\u001b[90m<dbl>\u001b[39m\u001b[23m 99999, 99999, 99999, 99999, 99999, 99999, 99999, 99999, 99999~\n",
      "$ M45_49   \u001b[3m\u001b[90m<dbl>\u001b[39m\u001b[23m 99999, 99999, 99999, 99999, 99999, 99999, 99999, 99999, 99999~\n",
      "$ M50_54   \u001b[3m\u001b[90m<dbl>\u001b[39m\u001b[23m 99999, 99999, 99999, 99999, 99999, 99999, 99999, 99999, 99999~\n",
      "$ M55_59   \u001b[3m\u001b[90m<dbl>\u001b[39m\u001b[23m 99999, 99999, 99999, 99999, 99999, 1, 1, 1, 99999, 99999, 999~\n",
      "$ M60_64   \u001b[3m\u001b[90m<dbl>\u001b[39m\u001b[23m 99999, 99999, 99999, 99999, 99999, 99999, 99999, 99999, 99999~\n",
      "$ M65      \u001b[3m\u001b[90m<dbl>\u001b[39m\u001b[23m 99999, 99999, 99999, 99999, 99999, 99999, 99999, 99999, 99999~\n",
      "$ F0_9     \u001b[3m\u001b[90m<dbl>\u001b[39m\u001b[23m 99999, 99999, 99999, 99999, 99999, 99999, 99999, 99999, 99999~\n",
      "$ F10_12   \u001b[3m\u001b[90m<dbl>\u001b[39m\u001b[23m 99999, 99999, 99999, 99999, 99999, 99999, 99999, 99999, 99999~\n",
      "$ F13_14   \u001b[3m\u001b[90m<dbl>\u001b[39m\u001b[23m 99999, 99999, 99999, 99999, 99999, 99999, 99999, 99999, 99999~\n",
      "$ F15      \u001b[3m\u001b[90m<dbl>\u001b[39m\u001b[23m 99999, 99999, 99999, 99999, 99999, 99999, 99999, 99999, 99999~\n",
      "$ F16      \u001b[3m\u001b[90m<dbl>\u001b[39m\u001b[23m 99999, 99999, 99999, 99999, 99999, 99999, 99999, 99999, 99999~\n",
      "$ F17      \u001b[3m\u001b[90m<dbl>\u001b[39m\u001b[23m 99999, 99999, 99999, 99999, 99999, 99999, 99999, 99999, 99999~\n",
      "$ F18      \u001b[3m\u001b[90m<dbl>\u001b[39m\u001b[23m 99999, 99999, 99999, 99999, 99999, 99999, 99999, 99999, 99999~\n",
      "$ F19      \u001b[3m\u001b[90m<dbl>\u001b[39m\u001b[23m 99999, 99999, 99999, 99999, 99999, 99999, 99999, 99999, 99999~\n",
      "$ F20      \u001b[3m\u001b[90m<dbl>\u001b[39m\u001b[23m 99999, 99999, 99999, 99999, 99999, 99999, 99999, 99999, 99999~\n",
      "$ F21      \u001b[3m\u001b[90m<dbl>\u001b[39m\u001b[23m 99999, 99999, 99999, 99999, 99999, 99999, 99999, 99999, 99999~\n",
      "$ F22      \u001b[3m\u001b[90m<dbl>\u001b[39m\u001b[23m 99999, 99999, 99999, 99999, 99999, 99999, 99999, 99999, 99999~\n",
      "$ F23      \u001b[3m\u001b[90m<dbl>\u001b[39m\u001b[23m 99999, 99999, 99999, 99999, 99999, 99999, 99999, 99999, 99999~\n",
      "$ F24      \u001b[3m\u001b[90m<dbl>\u001b[39m\u001b[23m 99999, 99999, 99999, 99999, 99999, 99999, 99999, 99999, 99999~\n",
      "$ F25_29   \u001b[3m\u001b[90m<dbl>\u001b[39m\u001b[23m 99999, 99999, 99999, 99999, 99999, 99999, 99999, 99999, 99999~\n",
      "$ F30_34   \u001b[3m\u001b[90m<dbl>\u001b[39m\u001b[23m 99999, 99999, 99999, 99999, 99999, 99999, 99999, 99999, 99999~\n",
      "$ F35_39   \u001b[3m\u001b[90m<dbl>\u001b[39m\u001b[23m 99999, 99999, 99999, 99999, 99999, 99999, 99999, 99999, 99999~\n",
      "$ F40_44   \u001b[3m\u001b[90m<dbl>\u001b[39m\u001b[23m 1, 99999, 99999, 99999, 99999, 99999, 99999, 99999, 99999, 99~\n",
      "$ F45_49   \u001b[3m\u001b[90m<dbl>\u001b[39m\u001b[23m 99999, 99999, 99999, 99999, 99999, 99999, 99999, 99999, 99999~\n",
      "$ F50_54   \u001b[3m\u001b[90m<dbl>\u001b[39m\u001b[23m 99999, 99999, 99999, 99999, 99999, 99999, 99999, 99999, 99999~\n",
      "$ F55_59   \u001b[3m\u001b[90m<dbl>\u001b[39m\u001b[23m 99999, 99999, 99999, 99999, 99999, 99999, 99999, 99999, 99999~\n",
      "$ F60_64   \u001b[3m\u001b[90m<dbl>\u001b[39m\u001b[23m 99999, 99999, 99999, 99999, 99999, 99999, 99999, 99999, 99999~\n",
      "$ F65      \u001b[3m\u001b[90m<dbl>\u001b[39m\u001b[23m 99999, 99999, 99999, 99999, 99999, 99999, 99999, 99999, 99999~\n",
      "$ AW       \u001b[3m\u001b[90m<dbl>\u001b[39m\u001b[23m 1, 1, 4, 4, 4, 2, 1, 1, 3, 3, 3, 1, 1, 4, 4, 2, 2, 1, 1, 1, 1~\n",
      "$ AB       \u001b[3m\u001b[90m<dbl>\u001b[39m\u001b[23m 99999, 99999, 99999, 99999, 99999, 99999, 99999, 99999, 99999~\n",
      "$ AI       \u001b[3m\u001b[90m<dbl>\u001b[39m\u001b[23m 99999, 99999, 99999, 99999, 99999, 99999, 99999, 99999, 99999~\n",
      "$ AA       \u001b[3m\u001b[90m<dbl>\u001b[39m\u001b[23m 99999, 99999, 99999, 99999, 99999, 99999, 99999, 99999, 99999~\n",
      "$ JW       \u001b[3m\u001b[90m<dbl>\u001b[39m\u001b[23m 99999, 99999, 99999, 99999, 99999, 99999, 99999, 99999, 99999~\n",
      "$ JB       \u001b[3m\u001b[90m<dbl>\u001b[39m\u001b[23m 99999, 99999, 99999, 99999, 99999, 99999, 99999, 99999, 99999~\n",
      "$ JI       \u001b[3m\u001b[90m<dbl>\u001b[39m\u001b[23m 99999, 99999, 99999, 99999, 99999, 99999, 99999, 99999, 99999~\n",
      "$ JA       \u001b[3m\u001b[90m<dbl>\u001b[39m\u001b[23m 99999, 99999, 99999, 99999, 99999, 99999, 99999, 99999, 99999~\n",
      "$ AH       \u001b[3m\u001b[90m<dbl>\u001b[39m\u001b[23m 99999, 99999, 99999, 99999, 99999, 99999, 99999, 99999, 99999~\n",
      "$ AN       \u001b[3m\u001b[90m<dbl>\u001b[39m\u001b[23m 99999, 99999, 99999, 99999, 99999, 99999, 99999, 99999, 99999~\n",
      "$ JH       \u001b[3m\u001b[90m<dbl>\u001b[39m\u001b[23m 99999, 99999, 99999, 99999, 99999, 99999, 99999, 99999, 99999~\n",
      "$ JN       \u001b[3m\u001b[90m<dbl>\u001b[39m\u001b[23m 99999, 99999, 99999, 99999, 99999, 99999, 99999, 99999, 99999~\n"
     ]
    }
   ],
   "source": [
    "glimpse(icpsr_raw)"
   ]
  },
  {
   "cell_type": "markdown",
   "metadata": {},
   "source": [
    "- We want to form a table of the crime data of gender and age groups. We use regular expressions to select the columns that match the age-gender format we saw\n",
    "- We can print out our columns, then copy-pasted them into RegExr"
   ]
  },
  {
   "cell_type": "code",
   "execution_count": 46,
   "metadata": {},
   "outputs": [
    {
     "name": "stderr",
     "output_type": "stream",
     "text": [
      "ASR_ID\n",
      "CONTENTS\n",
      "STATE\n",
      "ORI\n",
      "GROUP\n",
      "DIV\n",
      "AGHEADER\n",
      "YEAR\n",
      "MSA\n",
      "COUNTY\n",
      "SEQNO\n",
      "SUB\n",
      "CORE\n",
      "COVBY\n",
      "POP\n",
      "AGENCY\n",
      "STNAME\n",
      "MONTH\n",
      "MOHEADER\n",
      "BREAK\n",
      "AREO\n",
      "ZERO\n",
      "DTLASTUP\n",
      "DTPRUP1\n",
      "DTPRUP2\n",
      "JUVDISP\n",
      "JDHANDDP\n",
      "JDREFJC\n",
      "JDREFWA\n",
      "JDREFOPA\n",
      "JDREFCC\n",
      "OFFENSE\n",
      "OCCUR\n",
      "M0_9\n",
      "M10_12\n",
      "M13_14\n",
      "M15\n",
      "M16\n",
      "M17\n",
      "M18\n",
      "M19\n",
      "M20\n",
      "M21\n",
      "M22\n",
      "M23\n",
      "M24\n",
      "M25_29\n",
      "M30_34\n",
      "M35_39\n",
      "M40_44\n",
      "M45_49\n",
      "M50_54\n",
      "M55_59\n",
      "M60_64\n",
      "M65\n",
      "F0_9\n",
      "F10_12\n",
      "F13_14\n",
      "F15\n",
      "F16\n",
      "F17\n",
      "F18\n",
      "F19\n",
      "F20\n",
      "F21\n",
      "F22\n",
      "F23\n",
      "F24\n",
      "F25_29\n",
      "F30_34\n",
      "F35_39\n",
      "F40_44\n",
      "F45_49\n",
      "F50_54\n",
      "F55_59\n",
      "F60_64\n",
      "F65\n",
      "AW\n",
      "AB\n",
      "AI\n",
      "AA\n",
      "JW\n",
      "JB\n",
      "JI\n",
      "JA\n",
      "AH\n",
      "AN\n",
      "JH\n",
      "JN\n",
      "\n"
     ]
    }
   ],
   "source": [
    "message(paste0(names(icpsr_raw), collapse=\"\\n\"))"
   ]
  },
  {
   "cell_type": "markdown",
   "metadata": {},
   "source": [
    "![](https://raw.githubusercontent.com/dereklhansen/stats306_lab/master/lab8/gender_age2.png)"
   ]
  },
  {
   "cell_type": "markdown",
   "metadata": {},
   "source": [
    "-  We then use the ```matches``` function within ```select```. ```matches``` will keep all columns that match our regular expression.\n",
    "-  Matches works with tidyr functions as well"
   ]
  },
  {
   "cell_type": "code",
   "execution_count": 47,
   "metadata": {},
   "outputs": [],
   "source": [
    "icpsr_gender_age <- icpsr_raw %>%\n",
    "  filter(CONTENTS == 3) %>%\n",
    "  select(originating_agency = ORI,\n",
    "         month = MONTH,\n",
    "         offense = OFFENSE,\n",
    "         matches(\"^(M|F)[0-9]+\")) %>%\n",
    "  gather(matches(\"^(M|F)[0-9]+\"), \n",
    "         key = \"gender_age\",\n",
    "         value = \"count\") %>%\n",
    "  mutate(count = ifelse(count == 99999, 0, count)) %>%\n",
    "  mutate(count = ifelse(count == 99998, NA_real_, count)) %>%\n",
    "  separate(gender_age, into = c(\"gender\", \"age\"), sep=1)"
   ]
  },
  {
   "cell_type": "code",
   "execution_count": 48,
   "metadata": {
    "scrolled": false
   },
   "outputs": [
    {
     "name": "stdout",
     "output_type": "stream",
     "text": [
      "\u001b[90m# A tibble: 2,521,640 x 6\u001b[39m\n",
      "   originating_agency month offense gender age   count\n",
      "   \u001b[3m\u001b[90m<chr>\u001b[39m\u001b[23m              \u001b[3m\u001b[90m<dbl>\u001b[39m\u001b[23m \u001b[3m\u001b[90m<chr>\u001b[39m\u001b[23m   \u001b[3m\u001b[90m<chr>\u001b[39m\u001b[23m  \u001b[3m\u001b[90m<chr>\u001b[39m\u001b[23m \u001b[3m\u001b[90m<dbl>\u001b[39m\u001b[23m\n",
      "\u001b[90m 1\u001b[39m MI01001                1 26      M      0_9       0\n",
      "\u001b[90m 2\u001b[39m MI01001                2 26      M      0_9       0\n",
      "\u001b[90m 3\u001b[39m MI01001                3 18      M      0_9       0\n",
      "\u001b[90m 4\u001b[39m MI01001                3 185     M      0_9       0\n",
      "\u001b[90m 5\u001b[39m MI01001                3 18F     M      0_9       0\n",
      "\u001b[90m 6\u001b[39m MI01001                4 18      M      0_9       0\n",
      "\u001b[90m 7\u001b[39m MI01001                4 180     M      0_9       0\n",
      "\u001b[90m 8\u001b[39m MI01001                4 18D     M      0_9       0\n",
      "\u001b[90m 9\u001b[39m MI01001                5 18      M      0_9       0\n",
      "\u001b[90m10\u001b[39m MI01001                5 185     M      0_9       0\n",
      "\u001b[90m# ... with 2,521,630 more rows\u001b[39m\n"
     ]
    }
   ],
   "source": [
    "print(icpsr_gender_age)"
   ]
  },
  {
   "cell_type": "markdown",
   "metadata": {},
   "source": [
    "- In this simple case, we could just use the tidyr ```separate``` function with an index (1) \n",
    "- The ```extract``` function from ```tidyr``` is more powerful, as we can have it search for particular patterns"
   ]
  },
  {
   "cell_type": "code",
   "execution_count": 49,
   "metadata": {},
   "outputs": [
    {
     "name": "stdout",
     "output_type": "stream",
     "text": [
      "\u001b[90m# A tibble: 2,521,640 x 6\u001b[39m\n",
      "   originating_agency month offense gender age   count\n",
      "   \u001b[3m\u001b[90m<chr>\u001b[39m\u001b[23m              \u001b[3m\u001b[90m<dbl>\u001b[39m\u001b[23m \u001b[3m\u001b[90m<chr>\u001b[39m\u001b[23m   \u001b[3m\u001b[90m<chr>\u001b[39m\u001b[23m  \u001b[3m\u001b[90m<chr>\u001b[39m\u001b[23m \u001b[3m\u001b[90m<dbl>\u001b[39m\u001b[23m\n",
      "\u001b[90m 1\u001b[39m MI01001                1 26      M      0         0\n",
      "\u001b[90m 2\u001b[39m MI01001                2 26      M      0         0\n",
      "\u001b[90m 3\u001b[39m MI01001                3 18      M      0         0\n",
      "\u001b[90m 4\u001b[39m MI01001                3 185     M      0         0\n",
      "\u001b[90m 5\u001b[39m MI01001                3 18F     M      0         0\n",
      "\u001b[90m 6\u001b[39m MI01001                4 18      M      0         0\n",
      "\u001b[90m 7\u001b[39m MI01001                4 180     M      0         0\n",
      "\u001b[90m 8\u001b[39m MI01001                4 18D     M      0         0\n",
      "\u001b[90m 9\u001b[39m MI01001                5 18      M      0         0\n",
      "\u001b[90m10\u001b[39m MI01001                5 185     M      0         0\n",
      "\u001b[90m# ... with 2,521,630 more rows\u001b[39m\n"
     ]
    }
   ],
   "source": [
    "icpsr_gender_age <- icpsr_raw %>%\n",
    "  filter(CONTENTS == 3) %>%\n",
    "  select(originating_agency = ORI,\n",
    "         month = MONTH,\n",
    "         offense = OFFENSE,\n",
    "         matches(\"^(M|F)[0-9]+\")) %>%\n",
    "  gather(matches(\"^(M|F)[0-9]+\"), \n",
    "         key = \"gender_age\",\n",
    "         value = \"count\") %>%\n",
    "  mutate(count = ifelse(count == 99999, 0, count)) %>%\n",
    "  mutate(count = ifelse(count == 99998, NA_real_, count)) %>%\n",
    "  extract(gender_age, into = c(\"gender\", \"age\"), regex=(\"(M|F)([0-9]+)\"))\n",
    "print(icpsr_gender_age )"
   ]
  },
  {
   "cell_type": "markdown",
   "metadata": {},
   "source": [
    "-  What happened? Try looking back at our website code\n",
    "-  Our regular expression was good enough to find the right columns, but \"[0-9]+\" doesn't match to any of the names with underscores (such as \"M0_9\")\n",
    "-  This is why regular expressions are tricky to master!"
   ]
  },
  {
   "cell_type": "code",
   "execution_count": 50,
   "metadata": {},
   "outputs": [
    {
     "name": "stdout",
     "output_type": "stream",
     "text": [
      "\u001b[90m# A tibble: 2,521,640 x 6\u001b[39m\n",
      "   originating_agency month offense gender age   count\n",
      "   \u001b[3m\u001b[90m<chr>\u001b[39m\u001b[23m              \u001b[3m\u001b[90m<dbl>\u001b[39m\u001b[23m \u001b[3m\u001b[90m<chr>\u001b[39m\u001b[23m   \u001b[3m\u001b[90m<chr>\u001b[39m\u001b[23m  \u001b[3m\u001b[90m<chr>\u001b[39m\u001b[23m \u001b[3m\u001b[90m<dbl>\u001b[39m\u001b[23m\n",
      "\u001b[90m 1\u001b[39m MI01001                1 26      M      0_9       0\n",
      "\u001b[90m 2\u001b[39m MI01001                2 26      M      0_9       0\n",
      "\u001b[90m 3\u001b[39m MI01001                3 18      M      0_9       0\n",
      "\u001b[90m 4\u001b[39m MI01001                3 185     M      0_9       0\n",
      "\u001b[90m 5\u001b[39m MI01001                3 18F     M      0_9       0\n",
      "\u001b[90m 6\u001b[39m MI01001                4 18      M      0_9       0\n",
      "\u001b[90m 7\u001b[39m MI01001                4 180     M      0_9       0\n",
      "\u001b[90m 8\u001b[39m MI01001                4 18D     M      0_9       0\n",
      "\u001b[90m 9\u001b[39m MI01001                5 18      M      0_9       0\n",
      "\u001b[90m10\u001b[39m MI01001                5 185     M      0_9       0\n",
      "\u001b[90m# ... with 2,521,630 more rows\u001b[39m\n"
     ]
    }
   ],
   "source": [
    "icpsr_gender_age <- icpsr_raw %>%\n",
    "  filter(CONTENTS == 3) %>%\n",
    "  select(originating_agency = ORI,\n",
    "         month = MONTH,\n",
    "         offense = OFFENSE,\n",
    "         matches(\"^(M|F)[0-9]+\")) %>%\n",
    "  gather(matches(\"^(M|F)[0-9]+\"), \n",
    "         key = \"gender_age\",\n",
    "         value = \"count\") %>%\n",
    "  mutate(count = ifelse(count == 99999, 0, count)) %>%\n",
    "  mutate(count = ifelse(count == 99998, NA_real_, count)) %>%\n",
    "  extract(gender_age, into = c(\"gender\", \"age\"), regex=(\"(M|F)([0-9]+$|[0-9]+_[0-9]+)\"))\n",
    "print(icpsr_gender_age)"
   ]
  },
  {
   "cell_type": "markdown",
   "metadata": {},
   "source": [
    "**Exercise:**\n",
    "\n",
    "Instead of age being a character, split the range into age_min and age_max. If there is just one age, set age_min=age_max"
   ]
  },
  {
   "cell_type": "markdown",
   "metadata": {},
   "source": [
    "**Solution:**\n",
    "\n",
    "You could just do ```separate``` on the \"age\" column. Or you can do it directly, all with regular expressions!\n",
    "\n",
    "We need to make sure that we handle all cases properly. We define three groups to define gender_age:\n",
    "-  ```\"(M|F)\"``` matches either male or female\n",
    "-  ```\"([0-9]+)\"``` matches \"9\", \"20\", etc.\n",
    "-  ```\"((_[0-9]+|)\"``` matches ```\"_10\"```, ```\"_100\"```, **or nothing**. If we don't specify this, the rows where the string does not match this pattern will return \"NA\" for all values."
   ]
  },
  {
   "cell_type": "code",
   "execution_count": 51,
   "metadata": {},
   "outputs": [
    {
     "name": "stdout",
     "output_type": "stream",
     "text": [
      "\u001b[90m# A tibble: 2,521,640 x 9\u001b[39m\n",
      "   originating_agency month offense gender age_min_str age_max_str count age_min\n",
      "   \u001b[3m\u001b[90m<chr>\u001b[39m\u001b[23m              \u001b[3m\u001b[90m<dbl>\u001b[39m\u001b[23m \u001b[3m\u001b[90m<chr>\u001b[39m\u001b[23m   \u001b[3m\u001b[90m<chr>\u001b[39m\u001b[23m  \u001b[3m\u001b[90m<chr>\u001b[39m\u001b[23m       \u001b[3m\u001b[90m<chr>\u001b[39m\u001b[23m       \u001b[3m\u001b[90m<dbl>\u001b[39m\u001b[23m   \u001b[3m\u001b[90m<int>\u001b[39m\u001b[23m\n",
      "\u001b[90m 1\u001b[39m MI01001                1 26      M      0           _9              0       0\n",
      "\u001b[90m 2\u001b[39m MI01001                2 26      M      0           _9              0       0\n",
      "\u001b[90m 3\u001b[39m MI01001                3 18      M      0           _9              0       0\n",
      "\u001b[90m 4\u001b[39m MI01001                3 185     M      0           _9              0       0\n",
      "\u001b[90m 5\u001b[39m MI01001                3 18F     M      0           _9              0       0\n",
      "\u001b[90m 6\u001b[39m MI01001                4 18      M      0           _9              0       0\n",
      "\u001b[90m 7\u001b[39m MI01001                4 180     M      0           _9              0       0\n",
      "\u001b[90m 8\u001b[39m MI01001                4 18D     M      0           _9              0       0\n",
      "\u001b[90m 9\u001b[39m MI01001                5 18      M      0           _9              0       0\n",
      "\u001b[90m10\u001b[39m MI01001                5 185     M      0           _9              0       0\n",
      "\u001b[90m# ... with 2,521,630 more rows, and 1 more variable: age_max <int>\u001b[39m\n"
     ]
    }
   ],
   "source": [
    "icpsr_gender_age2 <- icpsr_raw %>%\n",
    "  filter(CONTENTS == 3) %>%\n",
    "  select(originating_agency = ORI,\n",
    "         month = MONTH,\n",
    "         offense = OFFENSE,\n",
    "         matches(\"^(M|F)[0-9]+\")) %>%\n",
    "  gather(matches(\"^(M|F)[0-9]+\"), \n",
    "         key = \"gender_age\",\n",
    "         value = \"count\") %>%\n",
    "  mutate(count = ifelse(count == 99999, 0, count)) %>%\n",
    "  mutate(count = ifelse(count == 99998, NA_real_, count)) %>%\n",
    "  extract(gender_age, into = c(\"gender\", \"age_min_str\", \"age_max_str\"), regex=(\"(M|F)([0-9]+)(_[0-9]+|)\")) %>%\n",
    "  mutate(age_min = as.integer(age_min_str), age_max=as.integer(str_sub(age_max_str, 2))) %>%\n",
    "  mutate(age_max = ifelse(is.na(age_max), age_min, age_max))\n",
    "print(icpsr_gender_age2)\n"
   ]
  },
  {
   "cell_type": "code",
   "execution_count": 52,
   "metadata": {},
   "outputs": [
    {
     "name": "stdout",
     "output_type": "stream",
     "text": [
      "\u001b[90m# A tibble: 114,620 x 9\u001b[39m\n",
      "   originating_agency month offense gender age_min_str age_max_str count age_min\n",
      "   \u001b[3m\u001b[90m<chr>\u001b[39m\u001b[23m              \u001b[3m\u001b[90m<dbl>\u001b[39m\u001b[23m \u001b[3m\u001b[90m<chr>\u001b[39m\u001b[23m   \u001b[3m\u001b[90m<chr>\u001b[39m\u001b[23m  \u001b[3m\u001b[90m<chr>\u001b[39m\u001b[23m       \u001b[3m\u001b[90m<chr>\u001b[39m\u001b[23m       \u001b[3m\u001b[90m<dbl>\u001b[39m\u001b[23m   \u001b[3m\u001b[90m<int>\u001b[39m\u001b[23m\n",
      "\u001b[90m 1\u001b[39m MI01001                1 26      M      20          \u001b[90m\"\u001b[39m\u001b[90m\"\u001b[39m              0      20\n",
      "\u001b[90m 2\u001b[39m MI01001                2 26      M      20          \u001b[90m\"\u001b[39m\u001b[90m\"\u001b[39m              0      20\n",
      "\u001b[90m 3\u001b[39m MI01001                3 18      M      20          \u001b[90m\"\u001b[39m\u001b[90m\"\u001b[39m              0      20\n",
      "\u001b[90m 4\u001b[39m MI01001                3 185     M      20          \u001b[90m\"\u001b[39m\u001b[90m\"\u001b[39m              0      20\n",
      "\u001b[90m 5\u001b[39m MI01001                3 18F     M      20          \u001b[90m\"\u001b[39m\u001b[90m\"\u001b[39m              0      20\n",
      "\u001b[90m 6\u001b[39m MI01001                4 18      M      20          \u001b[90m\"\u001b[39m\u001b[90m\"\u001b[39m              0      20\n",
      "\u001b[90m 7\u001b[39m MI01001                4 180     M      20          \u001b[90m\"\u001b[39m\u001b[90m\"\u001b[39m              0      20\n",
      "\u001b[90m 8\u001b[39m MI01001                4 18D     M      20          \u001b[90m\"\u001b[39m\u001b[90m\"\u001b[39m              0      20\n",
      "\u001b[90m 9\u001b[39m MI01001                5 18      M      20          \u001b[90m\"\u001b[39m\u001b[90m\"\u001b[39m              0      20\n",
      "\u001b[90m10\u001b[39m MI01001                5 185     M      20          \u001b[90m\"\u001b[39m\u001b[90m\"\u001b[39m              0      20\n",
      "\u001b[90m# ... with 114,610 more rows, and 1 more variable: age_max <int>\u001b[39m\n"
     ]
    }
   ],
   "source": [
    "print(filter(icpsr_gender_age2, age_min==20))"
   ]
  },
  {
   "cell_type": "markdown",
   "metadata": {},
   "source": [
    "# Factors\n",
    "- Factors are the traditional way to represent categorical data in R. To create a factor, we must specify the levels and the values\n",
    "- If you specify the factor levels using the levels= option, then that will specify the default order. If you do not specify the levels, then they will be sorted alphabetically by default\n",
    "- It's best to be explicit about the factor levels. This way, if you there are typos or data entry errors, you will catch them more easily"
   ]
  },
  {
   "cell_type": "code",
   "execution_count": 53,
   "metadata": {
    "scrolled": false
   },
   "outputs": [
    {
     "name": "stdout",
     "output_type": "stream",
     "text": [
      "\u001b[90m# A tibble: 2,521,640 x 6\u001b[39m\n",
      "   originating_agency month offense gender age   count\n",
      "   \u001b[3m\u001b[90m<fct>\u001b[39m\u001b[23m              \u001b[3m\u001b[90m<dbl>\u001b[39m\u001b[23m \u001b[3m\u001b[90m<fct>\u001b[39m\u001b[23m   \u001b[3m\u001b[90m<fct>\u001b[39m\u001b[23m  \u001b[3m\u001b[90m<fct>\u001b[39m\u001b[23m \u001b[3m\u001b[90m<dbl>\u001b[39m\u001b[23m\n",
      "\u001b[90m 1\u001b[39m MI01001                1 26      M      0_9       0\n",
      "\u001b[90m 2\u001b[39m MI01001                2 26      M      0_9       0\n",
      "\u001b[90m 3\u001b[39m MI01001                3 18      M      0_9       0\n",
      "\u001b[90m 4\u001b[39m MI01001                3 185     M      0_9       0\n",
      "\u001b[90m 5\u001b[39m MI01001                3 18F     M      0_9       0\n",
      "\u001b[90m 6\u001b[39m MI01001                4 18      M      0_9       0\n",
      "\u001b[90m 7\u001b[39m MI01001                4 180     M      0_9       0\n",
      "\u001b[90m 8\u001b[39m MI01001                4 18D     M      0_9       0\n",
      "\u001b[90m 9\u001b[39m MI01001                5 18      M      0_9       0\n",
      "\u001b[90m10\u001b[39m MI01001                5 185     M      0_9       0\n",
      "\u001b[90m# ... with 2,521,630 more rows\u001b[39m\n"
     ]
    }
   ],
   "source": [
    "icpsr_gender_age_fctr <- icpsr_gender_age %>%\n",
    "    mutate(originating_agency=factor(originating_agency), offense=factor(offense), gender=factor(gender), age=factor(age))\n",
    "print(icpsr_gender_age_fctr)"
   ]
  },
  {
   "cell_type": "markdown",
   "metadata": {},
   "source": [
    "Suppose we want to make the age groupings more clear (i.e. say \"0 to 9\" instead of \"0_9\"). the ```fct_recode``` is useful for making quick changes https://forcats.tidyverse.org/reference/fct_recode.html"
   ]
  },
  {
   "cell_type": "code",
   "execution_count": 55,
   "metadata": {
    "scrolled": true
   },
   "outputs": [
    {
     "name": "stdout",
     "output_type": "stream",
     "text": [
      "\u001b[90m# A tibble: 2,521,640 x 6\u001b[39m\n",
      "   originating_agency month offense gender age    count\n",
      "   \u001b[3m\u001b[90m<fct>\u001b[39m\u001b[23m              \u001b[3m\u001b[90m<dbl>\u001b[39m\u001b[23m \u001b[3m\u001b[90m<fct>\u001b[39m\u001b[23m   \u001b[3m\u001b[90m<fct>\u001b[39m\u001b[23m  \u001b[3m\u001b[90m<fct>\u001b[39m\u001b[23m  \u001b[3m\u001b[90m<dbl>\u001b[39m\u001b[23m\n",
      "\u001b[90m 1\u001b[39m MI01001                1 26      M      0 to 9     0\n",
      "\u001b[90m 2\u001b[39m MI01001                2 26      M      0 to 9     0\n",
      "\u001b[90m 3\u001b[39m MI01001                3 18      M      0 to 9     0\n",
      "\u001b[90m 4\u001b[39m MI01001                3 185     M      0 to 9     0\n",
      "\u001b[90m 5\u001b[39m MI01001                3 18F     M      0 to 9     0\n",
      "\u001b[90m 6\u001b[39m MI01001                4 18      M      0 to 9     0\n",
      "\u001b[90m 7\u001b[39m MI01001                4 180     M      0 to 9     0\n",
      "\u001b[90m 8\u001b[39m MI01001                4 18D     M      0 to 9     0\n",
      "\u001b[90m 9\u001b[39m MI01001                5 18      M      0 to 9     0\n",
      "\u001b[90m10\u001b[39m MI01001                5 185     M      0 to 9     0\n",
      "\u001b[90m# ... with 2,521,630 more rows\u001b[39m\n"
     ]
    }
   ],
   "source": [
    "mutate(icpsr_gender_age_fctr, age=fct_recode(age, \"0 to 9\"=\"0_9\", \"10 to 12\"=\"10_12\", \"13 to 14\"=\"13_14\")) %>%\n",
    "    print()"
   ]
  },
  {
   "cell_type": "markdown",
   "metadata": {},
   "source": [
    "However, in our case, it would be tedious to make this same change for every group. Instead, we can manipulate the ```levels``` directly, which lets us use regular expressions."
   ]
  },
  {
   "cell_type": "code",
   "execution_count": 56,
   "metadata": {},
   "outputs": [
    {
     "data": {
      "text/html": [
       "<style>\n",
       ".list-inline {list-style: none; margin:0; padding: 0}\n",
       ".list-inline>li {display: inline-block}\n",
       ".list-inline>li:not(:last-child)::after {content: \"\\00b7\"; padding: 0 .5ex}\n",
       "</style>\n",
       "<ol class=list-inline><li>'0_9'</li><li>'10_12'</li><li>'13_14'</li><li>'15'</li><li>'16'</li><li>'17'</li><li>'18'</li><li>'19'</li><li>'20'</li><li>'21'</li><li>'22'</li><li>'23'</li><li>'24'</li><li>'25_29'</li><li>'30_34'</li><li>'35_39'</li><li>'40_44'</li><li>'45_49'</li><li>'50_54'</li><li>'55_59'</li><li>'60_64'</li><li>'65'</li></ol>\n"
      ],
      "text/latex": [
       "\\begin{enumerate*}\n",
       "\\item '0\\_9'\n",
       "\\item '10\\_12'\n",
       "\\item '13\\_14'\n",
       "\\item '15'\n",
       "\\item '16'\n",
       "\\item '17'\n",
       "\\item '18'\n",
       "\\item '19'\n",
       "\\item '20'\n",
       "\\item '21'\n",
       "\\item '22'\n",
       "\\item '23'\n",
       "\\item '24'\n",
       "\\item '25\\_29'\n",
       "\\item '30\\_34'\n",
       "\\item '35\\_39'\n",
       "\\item '40\\_44'\n",
       "\\item '45\\_49'\n",
       "\\item '50\\_54'\n",
       "\\item '55\\_59'\n",
       "\\item '60\\_64'\n",
       "\\item '65'\n",
       "\\end{enumerate*}\n"
      ],
      "text/markdown": [
       "1. '0_9'\n",
       "2. '10_12'\n",
       "3. '13_14'\n",
       "4. '15'\n",
       "5. '16'\n",
       "6. '17'\n",
       "7. '18'\n",
       "8. '19'\n",
       "9. '20'\n",
       "10. '21'\n",
       "11. '22'\n",
       "12. '23'\n",
       "13. '24'\n",
       "14. '25_29'\n",
       "15. '30_34'\n",
       "16. '35_39'\n",
       "17. '40_44'\n",
       "18. '45_49'\n",
       "19. '50_54'\n",
       "20. '55_59'\n",
       "21. '60_64'\n",
       "22. '65'\n",
       "\n",
       "\n"
      ],
      "text/plain": [
       " [1] \"0_9\"   \"10_12\" \"13_14\" \"15\"    \"16\"    \"17\"    \"18\"    \"19\"    \"20\"   \n",
       "[10] \"21\"    \"22\"    \"23\"    \"24\"    \"25_29\" \"30_34\" \"35_39\" \"40_44\" \"45_49\"\n",
       "[19] \"50_54\" \"55_59\" \"60_64\" \"65\"   "
      ]
     },
     "metadata": {},
     "output_type": "display_data"
    }
   ],
   "source": [
    "levels(icpsr_gender_age_fctr$age)"
   ]
  },
  {
   "cell_type": "code",
   "execution_count": 57,
   "metadata": {},
   "outputs": [],
   "source": [
    "levels(icpsr_gender_age_fctr$age) <- str_replace(levels(icpsr_gender_age_fctr$age), \"_\", \" to \")"
   ]
  },
  {
   "cell_type": "code",
   "execution_count": 58,
   "metadata": {
    "scrolled": true
   },
   "outputs": [
    {
     "name": "stdout",
     "output_type": "stream",
     "text": [
      "\u001b[90m# A tibble: 2,521,640 x 6\u001b[39m\n",
      "   originating_agency month offense gender age    count\n",
      "   \u001b[3m\u001b[90m<fct>\u001b[39m\u001b[23m              \u001b[3m\u001b[90m<dbl>\u001b[39m\u001b[23m \u001b[3m\u001b[90m<fct>\u001b[39m\u001b[23m   \u001b[3m\u001b[90m<fct>\u001b[39m\u001b[23m  \u001b[3m\u001b[90m<fct>\u001b[39m\u001b[23m  \u001b[3m\u001b[90m<dbl>\u001b[39m\u001b[23m\n",
      "\u001b[90m 1\u001b[39m MI01001                1 26      M      0 to 9     0\n",
      "\u001b[90m 2\u001b[39m MI01001                2 26      M      0 to 9     0\n",
      "\u001b[90m 3\u001b[39m MI01001                3 18      M      0 to 9     0\n",
      "\u001b[90m 4\u001b[39m MI01001                3 185     M      0 to 9     0\n",
      "\u001b[90m 5\u001b[39m MI01001                3 18F     M      0 to 9     0\n",
      "\u001b[90m 6\u001b[39m MI01001                4 18      M      0 to 9     0\n",
      "\u001b[90m 7\u001b[39m MI01001                4 180     M      0 to 9     0\n",
      "\u001b[90m 8\u001b[39m MI01001                4 18D     M      0 to 9     0\n",
      "\u001b[90m 9\u001b[39m MI01001                5 18      M      0 to 9     0\n",
      "\u001b[90m10\u001b[39m MI01001                5 185     M      0 to 9     0\n",
      "\u001b[90m# ... with 2,521,630 more rows\u001b[39m\n",
      " [1] \"0 to 9\"   \"10 to 12\" \"13 to 14\" \"15\"       \"16\"       \"17\"      \n",
      " [7] \"18\"       \"19\"       \"20\"       \"21\"       \"22\"       \"23\"      \n",
      "[13] \"24\"       \"25 to 29\" \"30 to 34\" \"35 to 39\" \"40 to 44\" \"45 to 49\"\n",
      "[19] \"50 to 54\" \"55 to 59\" \"60 to 64\" \"65\"      \n"
     ]
    }
   ],
   "source": [
    "print(icpsr_gender_age_fctr)\n",
    "print(levels(icpsr_gender_age_fctr$age))"
   ]
  },
  {
   "cell_type": "markdown",
   "metadata": {},
   "source": [
    "For our last example, we use the ```gss_cat``` dataset. We want to extract different features of ```partyid```\n",
    "\n",
    "https://forcats.tidyverse.org/reference/gss_cat.html"
   ]
  },
  {
   "cell_type": "code",
   "execution_count": 59,
   "metadata": {
    "scrolled": true
   },
   "outputs": [
    {
     "name": "stdout",
     "output_type": "stream",
     "text": [
      "\u001b[90m# A tibble: 21,483 x 9\u001b[39m\n",
      "    year marital         age race  rincome        partyid  relig  denom  tvhours\n",
      "   \u001b[3m\u001b[90m<int>\u001b[39m\u001b[23m \u001b[3m\u001b[90m<fct>\u001b[39m\u001b[23m         \u001b[3m\u001b[90m<int>\u001b[39m\u001b[23m \u001b[3m\u001b[90m<fct>\u001b[39m\u001b[23m \u001b[3m\u001b[90m<fct>\u001b[39m\u001b[23m          \u001b[3m\u001b[90m<fct>\u001b[39m\u001b[23m    \u001b[3m\u001b[90m<fct>\u001b[39m\u001b[23m  \u001b[3m\u001b[90m<fct>\u001b[39m\u001b[23m    \u001b[3m\u001b[90m<int>\u001b[39m\u001b[23m\n",
      "\u001b[90m 1\u001b[39m  \u001b[4m2\u001b[24m000 Never married    26 White $8000 to 9999  Ind,nea~ Prote~ South~      12\n",
      "\u001b[90m 2\u001b[39m  \u001b[4m2\u001b[24m000 Divorced         48 White $8000 to 9999  Not str~ Prote~ Bapti~      \u001b[31mNA\u001b[39m\n",
      "\u001b[90m 3\u001b[39m  \u001b[4m2\u001b[24m000 Widowed          67 White Not applicable Indepen~ Prote~ No de~       2\n",
      "\u001b[90m 4\u001b[39m  \u001b[4m2\u001b[24m000 Never married    39 White Not applicable Ind,nea~ Ortho~ Not a~       4\n",
      "\u001b[90m 5\u001b[39m  \u001b[4m2\u001b[24m000 Divorced         25 White Not applicable Not str~ None   Not a~       1\n",
      "\u001b[90m 6\u001b[39m  \u001b[4m2\u001b[24m000 Married          25 White $20000 - 24999 Strong ~ Prote~ South~      \u001b[31mNA\u001b[39m\n",
      "\u001b[90m 7\u001b[39m  \u001b[4m2\u001b[24m000 Never married    36 White $25000 or more Not str~ Chris~ Not a~       3\n",
      "\u001b[90m 8\u001b[39m  \u001b[4m2\u001b[24m000 Divorced         44 White $7000 to 7999  Ind,nea~ Prote~ Luthe~      \u001b[31mNA\u001b[39m\n",
      "\u001b[90m 9\u001b[39m  \u001b[4m2\u001b[24m000 Married          44 White $25000 or more Not str~ Prote~ Other        0\n",
      "\u001b[90m10\u001b[39m  \u001b[4m2\u001b[24m000 Married          47 White $25000 or more Strong ~ Prote~ South~       3\n",
      "\u001b[90m# ... with 21,473 more rows\u001b[39m\n"
     ]
    }
   ],
   "source": [
    "print(gss_cat)"
   ]
  },
  {
   "cell_type": "code",
   "execution_count": 60,
   "metadata": {
    "scrolled": true
   },
   "outputs": [
    {
     "name": "stdout",
     "output_type": "stream",
     "text": [
      " [1] \"No answer\"          \"Don't know\"         \"Other party\"       \n",
      " [4] \"Strong republican\"  \"Not str republican\" \"Ind,near rep\"      \n",
      " [7] \"Independent\"        \"Ind,near dem\"       \"Not str democrat\"  \n",
      "[10] \"Strong democrat\"   \n"
     ]
    }
   ],
   "source": [
    "print(levels(gss_cat$partyid))"
   ]
  },
  {
   "cell_type": "markdown",
   "metadata": {},
   "source": [
    "Regular expressions don't need to be complicated to be useful! Even simple ones can save you a lot of time"
   ]
  },
  {
   "cell_type": "code",
   "execution_count": 61,
   "metadata": {},
   "outputs": [],
   "source": [
    "gss_splitup <- mutate(gss_cat, \n",
    "       party    = str_extract(partyid, \"(Ind|rep|dem|Other party|No answer|Don't know)\"),\n",
    "       leaning  = str_extract(partyid, \"(rep|dem)\"),\n",
    "       strength_of_leaning = str_extract(partyid, \"(Strong|Not str|Ind,near)\")\n",
    "      ) "
   ]
  },
  {
   "cell_type": "code",
   "execution_count": 62,
   "metadata": {
    "scrolled": true
   },
   "outputs": [
    {
     "name": "stdout",
     "output_type": "stream",
     "text": [
      "\u001b[90m# A tibble: 21,483 x 4\u001b[39m\n",
      "   partyid            party leaning strength_of_leaning\n",
      "   \u001b[3m\u001b[90m<fct>\u001b[39m\u001b[23m              \u001b[3m\u001b[90m<chr>\u001b[39m\u001b[23m \u001b[3m\u001b[90m<chr>\u001b[39m\u001b[23m   \u001b[3m\u001b[90m<chr>\u001b[39m\u001b[23m              \n",
      "\u001b[90m 1\u001b[39m Ind,near rep       Ind   rep     Ind,near           \n",
      "\u001b[90m 2\u001b[39m Not str republican rep   rep     Not str            \n",
      "\u001b[90m 3\u001b[39m Independent        Ind   \u001b[31mNA\u001b[39m      \u001b[31mNA\u001b[39m                 \n",
      "\u001b[90m 4\u001b[39m Ind,near rep       Ind   rep     Ind,near           \n",
      "\u001b[90m 5\u001b[39m Not str democrat   dem   dem     Not str            \n",
      "\u001b[90m 6\u001b[39m Strong democrat    dem   dem     Strong             \n",
      "\u001b[90m 7\u001b[39m Not str republican rep   rep     Not str            \n",
      "\u001b[90m 8\u001b[39m Ind,near dem       Ind   dem     Ind,near           \n",
      "\u001b[90m 9\u001b[39m Not str democrat   dem   dem     Not str            \n",
      "\u001b[90m10\u001b[39m Strong republican  rep   rep     Strong             \n",
      "\u001b[90m# ... with 21,473 more rows\u001b[39m\n"
     ]
    }
   ],
   "source": [
    "print(select(gss_splitup, partyid, party, leaning, strength_of_leaning))"
   ]
  },
  {
   "cell_type": "code",
   "execution_count": 63,
   "metadata": {},
   "outputs": [
    {
     "data": {
      "image/png": "[encoded data removed]",
      "text/plain": [
       "plot without title"
      ]
     },
     "metadata": {
      "image/png": {
       "height": 420,
       "width": 420
      }
     },
     "output_type": "display_data"
    }
   ],
   "source": [
    "ggplot(gss_splitup) + geom_bar(aes(x=party, fill=paste0(leaning))) +\n",
    "    scale_fill_manual(values = c(dem=\"blue\", rep=\"red\", `NA`=\"grey\"))"
   ]
  },
  {
   "cell_type": "code",
   "execution_count": 64,
   "metadata": {},
   "outputs": [
    {
     "data": {
      "image/png": "[encoded data removed]",
      "text/plain": [
       "plot without title"
      ]
     },
     "metadata": {
      "image/png": {
       "height": 420,
       "width": 420
      }
     },
     "output_type": "display_data"
    }
   ],
   "source": [
    "ggplot(filter(gss_splitup, !is.na(leaning))) + geom_bar(aes(x=leaning, fill=strength_of_leaning))"
   ]
  },
  {
   "cell_type": "code",
   "execution_count": 65,
   "metadata": {},
   "outputs": [
    {
     "data": {
      "image/png": "[encoded data removed]",
      "text/plain": [
       "plot without title"
      ]
     },
     "metadata": {
      "image/png": {
       "height": 420,
       "width": 420
      }
     },
     "output_type": "display_data"
    }
   ],
   "source": [
    "ggplot(filter(gss_splitup, !is.na(leaning))) + geom_bar(aes(x=leaning, fill=strength_of_leaning), position=\"fill\")"
   ]
  }
 ],
 "metadata": {
  "kernelspec": {
   "display_name": "R",
   "language": "R",
   "name": "ir"
  },
  "language_info": {
   "codemirror_mode": "r",
   "file_extension": ".r",
   "mimetype": "text/x-r-source",
   "name": "R",
   "pygments_lexer": "r",
   "version": "4.1.1"
  }
 },
 "nbformat": 4,
 "nbformat_minor": 2
}
