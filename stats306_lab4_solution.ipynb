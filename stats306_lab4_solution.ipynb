{
 "cells": [
  {
   "cell_type": "markdown",
   "metadata": {},
   "source": [
    "# Lab 4: Visualizing Distributions of IMDB Title Ratings\n"
   ]
  },
  {
   "cell_type": "markdown",
   "metadata": {},
   "source": [
    "# Preliminaries\n",
    "\n",
    "1. Comments about Homework 3 submissions\n",
    "  -  Most of you did well, but we have some general comments\n",
    "  -  Remember to read the questions carefully before submitting your answers. Many of you lost points because you didn't follow the exact instructions. Examples:\n",
    "      -  ```n2```, ```n4```, and ```nspooky``` were supposed to be the number of rows; many of you set them to tibbles\n",
    "      -  Many of you didn't explain in words what you saw in the Arya name plot.\n",
    "  -  When you output a tibble, please use the ```print()``` or ```head()``` functions so that it shows up nicely"
   ]
  },
  {
   "cell_type": "markdown",
   "metadata": {},
   "source": [
    "# Outline\n",
    "\n",
    "* [Homework 3](#HW2-Challenge-Question)\n",
    "* [Visualizing IMDB Movie Ratings](#Visualizing-IMDB-Movie-Ratings)"
   ]
  },
  {
   "cell_type": "markdown",
   "metadata": {},
   "source": [
    "# HW3 Challenge Question"
   ]
  },
  {
   "cell_type": "markdown",
   "metadata": {},
   "source": [
    "Sort the rows of `flights` such that the months are arranged in the following order: spring, summer, fall, winter. (Here we define winter to be January-March, spring is April-June, etc.) Within each season, the months should be sorted in ascending order. After sorting, drop all columns except for month, day and tail number. Store the sorted and subsetted table in a variable called `season`. _2 points_"
   ]
  },
  {
   "cell_type": "code",
   "execution_count": 1,
   "metadata": {},
   "outputs": [],
   "source": [
    "# install.packages(\"nycflights13\")"
   ]
  },
  {
   "cell_type": "code",
   "execution_count": 2,
   "metadata": {},
   "outputs": [
    {
     "name": "stderr",
     "output_type": "stream",
     "text": [
      "-- \u001b[1mAttaching packages\u001b[22m ------------------------------------------------------------------------------- tidyverse 1.3.1 --\n",
      "\n",
      "\u001b[32mv\u001b[39m \u001b[34mggplot2\u001b[39m 3.3.5     \u001b[32mv\u001b[39m \u001b[34mpurrr  \u001b[39m 0.3.4\n",
      "\u001b[32mv\u001b[39m \u001b[34mtibble \u001b[39m 3.1.4     \u001b[32mv\u001b[39m \u001b[34mdplyr  \u001b[39m 1.0.7\n",
      "\u001b[32mv\u001b[39m \u001b[34mtidyr  \u001b[39m 1.1.3     \u001b[32mv\u001b[39m \u001b[34mstringr\u001b[39m 1.4.0\n",
      "\u001b[32mv\u001b[39m \u001b[34mreadr  \u001b[39m 2.0.1     \u001b[32mv\u001b[39m \u001b[34mforcats\u001b[39m 0.5.1\n",
      "\n",
      "-- \u001b[1mConflicts\u001b[22m ---------------------------------------------------------------------------------- tidyverse_conflicts() --\n",
      "\u001b[31mx\u001b[39m \u001b[34mdplyr\u001b[39m::\u001b[32mfilter()\u001b[39m masks \u001b[34mstats\u001b[39m::filter()\n",
      "\u001b[31mx\u001b[39m \u001b[34mdplyr\u001b[39m::\u001b[32mlag()\u001b[39m    masks \u001b[34mstats\u001b[39m::lag()\n",
      "\n"
     ]
    }
   ],
   "source": [
    "library(nycflights13)\n",
    "library(tidyverse)"
   ]
  },
  {
   "cell_type": "code",
   "execution_count": 3,
   "metadata": {},
   "outputs": [
    {
     "data": {
      "text/html": [
       "<style>\n",
       ".list-inline {list-style: none; margin:0; padding: 0}\n",
       ".list-inline>li {display: inline-block}\n",
       ".list-inline>li:not(:last-child)::after {content: \"\\00b7\"; padding: 0 .5ex}\n",
       "</style>\n",
       "<ol class=list-inline><li>1</li><li>2</li><li>3</li><li>4</li><li>5</li><li>6</li><li>7</li><li>8</li><li>9</li><li>10</li><li>11</li><li>12</li></ol>\n"
      ],
      "text/latex": [
       "\\begin{enumerate*}\n",
       "\\item 1\n",
       "\\item 2\n",
       "\\item 3\n",
       "\\item 4\n",
       "\\item 5\n",
       "\\item 6\n",
       "\\item 7\n",
       "\\item 8\n",
       "\\item 9\n",
       "\\item 10\n",
       "\\item 11\n",
       "\\item 12\n",
       "\\end{enumerate*}\n"
      ],
      "text/markdown": [
       "1. 1\n",
       "2. 2\n",
       "3. 3\n",
       "4. 4\n",
       "5. 5\n",
       "6. 6\n",
       "7. 7\n",
       "8. 8\n",
       "9. 9\n",
       "10. 10\n",
       "11. 11\n",
       "12. 12\n",
       "\n",
       "\n"
      ],
      "text/plain": [
       " [1]  1  2  3  4  5  6  7  8  9 10 11 12"
      ]
     },
     "metadata": {},
     "output_type": "display_data"
    },
    {
     "data": {
      "text/html": [
       "<style>\n",
       ".list-inline {list-style: none; margin:0; padding: 0}\n",
       ".list-inline>li {display: inline-block}\n",
       ".list-inline>li:not(:last-child)::after {content: \"\\00b7\"; padding: 0 .5ex}\n",
       "</style>\n",
       "<ol class=list-inline><li>10</li><li>11</li><li>12</li><li>1</li><li>2</li><li>3</li><li>4</li><li>5</li><li>6</li><li>7</li><li>8</li><li>9</li></ol>\n"
      ],
      "text/latex": [
       "\\begin{enumerate*}\n",
       "\\item 10\n",
       "\\item 11\n",
       "\\item 12\n",
       "\\item 1\n",
       "\\item 2\n",
       "\\item 3\n",
       "\\item 4\n",
       "\\item 5\n",
       "\\item 6\n",
       "\\item 7\n",
       "\\item 8\n",
       "\\item 9\n",
       "\\end{enumerate*}\n"
      ],
      "text/markdown": [
       "1. 10\n",
       "2. 11\n",
       "3. 12\n",
       "4. 1\n",
       "5. 2\n",
       "6. 3\n",
       "7. 4\n",
       "8. 5\n",
       "9. 6\n",
       "10. 7\n",
       "11. 8\n",
       "12. 9\n",
       "\n",
       "\n"
      ],
      "text/plain": [
       " [1] 10 11 12  1  2  3  4  5  6  7  8  9"
      ]
     },
     "metadata": {},
     "output_type": "display_data"
    }
   ],
   "source": [
    "month = 1:12 \n",
    "month\n",
    "(month - 4) %% 12 + 1  # ‘%%’ indicates ‘(month - 4) mod 12’"
   ]
  },
  {
   "cell_type": "code",
   "execution_count": 4,
   "metadata": {},
   "outputs": [
    {
     "data": {
      "text/html": [
       "<table class=\"dataframe\">\n",
       "<caption>A tibble: 12 × 2</caption>\n",
       "<thead>\n",
       "\t<tr><th scope=col>month</th><th scope=col>shifted_month</th></tr>\n",
       "\t<tr><th scope=col>&lt;int&gt;</th><th scope=col>&lt;dbl&gt;</th></tr>\n",
       "</thead>\n",
       "<tbody>\n",
       "\t<tr><td> 1</td><td> 9</td></tr>\n",
       "\t<tr><td> 2</td><td>10</td></tr>\n",
       "\t<tr><td> 3</td><td>11</td></tr>\n",
       "\t<tr><td> 4</td><td> 0</td></tr>\n",
       "\t<tr><td> 5</td><td> 1</td></tr>\n",
       "\t<tr><td> 6</td><td> 2</td></tr>\n",
       "\t<tr><td> 7</td><td> 3</td></tr>\n",
       "\t<tr><td> 8</td><td> 4</td></tr>\n",
       "\t<tr><td> 9</td><td> 5</td></tr>\n",
       "\t<tr><td>10</td><td> 6</td></tr>\n",
       "\t<tr><td>11</td><td> 7</td></tr>\n",
       "\t<tr><td>12</td><td> 8</td></tr>\n",
       "</tbody>\n",
       "</table>\n"
      ],
      "text/latex": [
       "A tibble: 12 × 2\n",
       "\\begin{tabular}{ll}\n",
       " month & shifted\\_month\\\\\n",
       " <int> & <dbl>\\\\\n",
       "\\hline\n",
       "\t  1 &  9\\\\\n",
       "\t  2 & 10\\\\\n",
       "\t  3 & 11\\\\\n",
       "\t  4 &  0\\\\\n",
       "\t  5 &  1\\\\\n",
       "\t  6 &  2\\\\\n",
       "\t  7 &  3\\\\\n",
       "\t  8 &  4\\\\\n",
       "\t  9 &  5\\\\\n",
       "\t 10 &  6\\\\\n",
       "\t 11 &  7\\\\\n",
       "\t 12 &  8\\\\\n",
       "\\end{tabular}\n"
      ],
      "text/markdown": [
       "\n",
       "A tibble: 12 × 2\n",
       "\n",
       "| month &lt;int&gt; | shifted_month &lt;dbl&gt; |\n",
       "|---|---|\n",
       "|  1 |  9 |\n",
       "|  2 | 10 |\n",
       "|  3 | 11 |\n",
       "|  4 |  0 |\n",
       "|  5 |  1 |\n",
       "|  6 |  2 |\n",
       "|  7 |  3 |\n",
       "|  8 |  4 |\n",
       "|  9 |  5 |\n",
       "| 10 |  6 |\n",
       "| 11 |  7 |\n",
       "| 12 |  8 |\n",
       "\n"
      ],
      "text/plain": [
       "   month shifted_month\n",
       "1   1     9           \n",
       "2   2    10           \n",
       "3   3    11           \n",
       "4   4     0           \n",
       "5   5     1           \n",
       "6   6     2           \n",
       "7   7     3           \n",
       "8   8     4           \n",
       "9   9     5           \n",
       "10 10     6           \n",
       "11 11     7           \n",
       "12 12     8           "
      ]
     },
     "metadata": {},
     "output_type": "display_data"
    }
   ],
   "source": [
    "flights %>% mutate(shifted_month=(month - 4) %% 12) %>% distinct(month, shifted_month) %>% arrange(month)"
   ]
  },
  {
   "cell_type": "code",
   "execution_count": 5,
   "metadata": {},
   "outputs": [
    {
     "data": {
      "text/html": [
       "<table class=\"dataframe\">\n",
       "<caption>A tibble: 12 × 2</caption>\n",
       "<thead>\n",
       "\t<tr><th scope=col>month</th><th scope=col>shifted_month</th></tr>\n",
       "\t<tr><th scope=col>&lt;int&gt;</th><th scope=col>&lt;dbl&gt;</th></tr>\n",
       "</thead>\n",
       "<tbody>\n",
       "\t<tr><td> 4</td><td> 0</td></tr>\n",
       "\t<tr><td> 5</td><td> 1</td></tr>\n",
       "\t<tr><td> 6</td><td> 2</td></tr>\n",
       "\t<tr><td> 7</td><td> 3</td></tr>\n",
       "\t<tr><td> 8</td><td> 4</td></tr>\n",
       "\t<tr><td> 9</td><td> 5</td></tr>\n",
       "\t<tr><td>10</td><td> 6</td></tr>\n",
       "\t<tr><td>11</td><td> 7</td></tr>\n",
       "\t<tr><td>12</td><td> 8</td></tr>\n",
       "\t<tr><td> 1</td><td> 9</td></tr>\n",
       "\t<tr><td> 2</td><td>10</td></tr>\n",
       "\t<tr><td> 3</td><td>11</td></tr>\n",
       "</tbody>\n",
       "</table>\n"
      ],
      "text/latex": [
       "A tibble: 12 × 2\n",
       "\\begin{tabular}{ll}\n",
       " month & shifted\\_month\\\\\n",
       " <int> & <dbl>\\\\\n",
       "\\hline\n",
       "\t  4 &  0\\\\\n",
       "\t  5 &  1\\\\\n",
       "\t  6 &  2\\\\\n",
       "\t  7 &  3\\\\\n",
       "\t  8 &  4\\\\\n",
       "\t  9 &  5\\\\\n",
       "\t 10 &  6\\\\\n",
       "\t 11 &  7\\\\\n",
       "\t 12 &  8\\\\\n",
       "\t  1 &  9\\\\\n",
       "\t  2 & 10\\\\\n",
       "\t  3 & 11\\\\\n",
       "\\end{tabular}\n"
      ],
      "text/markdown": [
       "\n",
       "A tibble: 12 × 2\n",
       "\n",
       "| month &lt;int&gt; | shifted_month &lt;dbl&gt; |\n",
       "|---|---|\n",
       "|  4 |  0 |\n",
       "|  5 |  1 |\n",
       "|  6 |  2 |\n",
       "|  7 |  3 |\n",
       "|  8 |  4 |\n",
       "|  9 |  5 |\n",
       "| 10 |  6 |\n",
       "| 11 |  7 |\n",
       "| 12 |  8 |\n",
       "|  1 |  9 |\n",
       "|  2 | 10 |\n",
       "|  3 | 11 |\n",
       "\n"
      ],
      "text/plain": [
       "   month shifted_month\n",
       "1   4     0           \n",
       "2   5     1           \n",
       "3   6     2           \n",
       "4   7     3           \n",
       "5   8     4           \n",
       "6   9     5           \n",
       "7  10     6           \n",
       "8  11     7           \n",
       "9  12     8           \n",
       "10  1     9           \n",
       "11  2    10           \n",
       "12  3    11           "
      ]
     },
     "metadata": {},
     "output_type": "display_data"
    }
   ],
   "source": [
    "flights %>% mutate(shifted_month=(month - 4) %% 12) %>% distinct(month, shifted_month) %>% arrange(shifted_month)"
   ]
  },
  {
   "cell_type": "code",
   "execution_count": 6,
   "metadata": {},
   "outputs": [
    {
     "name": "stdout",
     "output_type": "stream",
     "text": [
      "\u001b[90m# A tibble: 336,776 x 3\u001b[39m\n",
      "   month   day tailnum\n",
      "   \u001b[3m\u001b[90m<int>\u001b[39m\u001b[23m \u001b[3m\u001b[90m<int>\u001b[39m\u001b[23m \u001b[3m\u001b[90m<chr>\u001b[39m\u001b[23m  \n",
      "\u001b[90m 1\u001b[39m     4     1 N566UW \n",
      "\u001b[90m 2\u001b[39m     4     1 N76288 \n",
      "\u001b[90m 3\u001b[39m     4     1 N76517 \n",
      "\u001b[90m 4\u001b[39m     4     1 N5DSAA \n",
      "\u001b[90m 5\u001b[39m     4     1 N784JB \n",
      "\u001b[90m 6\u001b[39m     4     1 N590JB \n",
      "\u001b[90m 7\u001b[39m     4     1 N737US \n",
      "\u001b[90m 8\u001b[39m     4     1 N750UW \n",
      "\u001b[90m 9\u001b[39m     4     1 N510MQ \n",
      "\u001b[90m10\u001b[39m     4     1 N723EV \n",
      "\u001b[90m# ... with 336,766 more rows\u001b[39m\n"
     ]
    }
   ],
   "source": [
    "season <- flights %>% mutate(shifted_month=(month - 4) %% 12) %>%\n",
    "         arrange(shifted_month) %>% select(month, day, tailnum)\n",
    "print(season)"
   ]
  },
  {
   "cell_type": "markdown",
   "metadata": {},
   "source": [
    "A few of you realized that constructing the seasons variable can be easily done using the ```case_when``` function from dplyr. ```case_when``` lets you construct a single variable from multiple if-else statements.\n",
    "https://www.rdocumentation.org/packages/dplyr/versions/0.7.8/topics/case_when"
   ]
  },
  {
   "cell_type": "code",
   "execution_count": 7,
   "metadata": {},
   "outputs": [
    {
     "name": "stdout",
     "output_type": "stream",
     "text": [
      "\u001b[90m# A tibble: 336,776 x 19\u001b[39m\n",
      "    year month   day dep_time sched_dep_time dep_delay arr_time sched_arr_time\n",
      "   \u001b[3m\u001b[90m<int>\u001b[39m\u001b[23m \u001b[3m\u001b[90m<int>\u001b[39m\u001b[23m \u001b[3m\u001b[90m<int>\u001b[39m\u001b[23m    \u001b[3m\u001b[90m<int>\u001b[39m\u001b[23m          \u001b[3m\u001b[90m<int>\u001b[39m\u001b[23m     \u001b[3m\u001b[90m<dbl>\u001b[39m\u001b[23m    \u001b[3m\u001b[90m<int>\u001b[39m\u001b[23m          \u001b[3m\u001b[90m<int>\u001b[39m\u001b[23m\n",
      "\u001b[90m 1\u001b[39m  \u001b[4m2\u001b[24m013     1     1      517            515         2      830            819\n",
      "\u001b[90m 2\u001b[39m  \u001b[4m2\u001b[24m013     1     1      533            529         4      850            830\n",
      "\u001b[90m 3\u001b[39m  \u001b[4m2\u001b[24m013     1     1      542            540         2      923            850\n",
      "\u001b[90m 4\u001b[39m  \u001b[4m2\u001b[24m013     1     1      544            545        -\u001b[31m1\u001b[39m     \u001b[4m1\u001b[24m004           \u001b[4m1\u001b[24m022\n",
      "\u001b[90m 5\u001b[39m  \u001b[4m2\u001b[24m013     1     1      554            600        -\u001b[31m6\u001b[39m      812            837\n",
      "\u001b[90m 6\u001b[39m  \u001b[4m2\u001b[24m013     1     1      554            558        -\u001b[31m4\u001b[39m      740            728\n",
      "\u001b[90m 7\u001b[39m  \u001b[4m2\u001b[24m013     1     1      555            600        -\u001b[31m5\u001b[39m      913            854\n",
      "\u001b[90m 8\u001b[39m  \u001b[4m2\u001b[24m013     1     1      557            600        -\u001b[31m3\u001b[39m      709            723\n",
      "\u001b[90m 9\u001b[39m  \u001b[4m2\u001b[24m013     1     1      557            600        -\u001b[31m3\u001b[39m      838            846\n",
      "\u001b[90m10\u001b[39m  \u001b[4m2\u001b[24m013     1     1      558            600        -\u001b[31m2\u001b[39m      753            745\n",
      "\u001b[90m# ... with 336,766 more rows, and 11 more variables: arr_delay <dbl>,\u001b[39m\n",
      "\u001b[90m#   carrier <chr>, flight <int>, tailnum <chr>, origin <chr>, dest <chr>,\u001b[39m\n",
      "\u001b[90m#   air_time <dbl>, distance <dbl>, hour <dbl>, minute <dbl>, time_hour <dttm>\u001b[39m\n"
     ]
    }
   ],
   "source": [
    "print(flights)"
   ]
  },
  {
   "cell_type": "code",
   "execution_count": 8,
   "metadata": {},
   "outputs": [
    {
     "name": "stdout",
     "output_type": "stream",
     "text": [
      "\u001b[90m# A tibble: 336,776 x 20\u001b[39m\n",
      "   season month  year   day dep_time sched_dep_time dep_delay arr_time\n",
      "   \u001b[3m\u001b[90m<chr>\u001b[39m\u001b[23m  \u001b[3m\u001b[90m<int>\u001b[39m\u001b[23m \u001b[3m\u001b[90m<int>\u001b[39m\u001b[23m \u001b[3m\u001b[90m<int>\u001b[39m\u001b[23m    \u001b[3m\u001b[90m<int>\u001b[39m\u001b[23m          \u001b[3m\u001b[90m<int>\u001b[39m\u001b[23m     \u001b[3m\u001b[90m<dbl>\u001b[39m\u001b[23m    \u001b[3m\u001b[90m<int>\u001b[39m\u001b[23m\n",
      "\u001b[90m 1\u001b[39m Winter     1  \u001b[4m2\u001b[24m013     1      517            515         2      830\n",
      "\u001b[90m 2\u001b[39m Winter     1  \u001b[4m2\u001b[24m013     1      533            529         4      850\n",
      "\u001b[90m 3\u001b[39m Winter     1  \u001b[4m2\u001b[24m013     1      542            540         2      923\n",
      "\u001b[90m 4\u001b[39m Winter     1  \u001b[4m2\u001b[24m013     1      544            545        -\u001b[31m1\u001b[39m     \u001b[4m1\u001b[24m004\n",
      "\u001b[90m 5\u001b[39m Winter     1  \u001b[4m2\u001b[24m013     1      554            600        -\u001b[31m6\u001b[39m      812\n",
      "\u001b[90m 6\u001b[39m Winter     1  \u001b[4m2\u001b[24m013     1      554            558        -\u001b[31m4\u001b[39m      740\n",
      "\u001b[90m 7\u001b[39m Winter     1  \u001b[4m2\u001b[24m013     1      555            600        -\u001b[31m5\u001b[39m      913\n",
      "\u001b[90m 8\u001b[39m Winter     1  \u001b[4m2\u001b[24m013     1      557            600        -\u001b[31m3\u001b[39m      709\n",
      "\u001b[90m 9\u001b[39m Winter     1  \u001b[4m2\u001b[24m013     1      557            600        -\u001b[31m3\u001b[39m      838\n",
      "\u001b[90m10\u001b[39m Winter     1  \u001b[4m2\u001b[24m013     1      558            600        -\u001b[31m2\u001b[39m      753\n",
      "\u001b[90m# ... with 336,766 more rows, and 12 more variables: sched_arr_time <int>,\u001b[39m\n",
      "\u001b[90m#   arr_delay <dbl>, carrier <chr>, flight <int>, tailnum <chr>, origin <chr>,\u001b[39m\n",
      "\u001b[90m#   dest <chr>, air_time <dbl>, distance <dbl>, hour <dbl>, minute <dbl>,\u001b[39m\n",
      "\u001b[90m#   time_hour <dttm>\u001b[39m\n"
     ]
    }
   ],
   "source": [
    "flights_with_seasons <- mutate(flights, season=case_when(\n",
    "    between(month, 4, 6) ~ \"Spring\",\n",
    "    between(month, 7,9) ~ \"Summer\",\n",
    "    between(month, 10, 12) ~ \"Fall\",\n",
    "    between(month, 1, 3) ~ \"Winter\"\n",
    ")) %>%\n",
    "    select(season, month, everything())\n",
    "print(flights_with_seasons)"
   ]
  },
  {
   "cell_type": "markdown",
   "metadata": {},
   "source": [
    "Next we need to establish an order in the season variable. This can be done by making it into a factor variable."
   ]
  },
  {
   "cell_type": "code",
   "execution_count": 9,
   "metadata": {
    "scrolled": true
   },
   "outputs": [
    {
     "name": "stdout",
     "output_type": "stream",
     "text": [
      "\u001b[90m# A tibble: 336,776 x 20\u001b[39m\n",
      "   season month  year   day dep_time sched_dep_time dep_delay arr_time\n",
      "   \u001b[3m\u001b[90m<ord>\u001b[39m\u001b[23m  \u001b[3m\u001b[90m<int>\u001b[39m\u001b[23m \u001b[3m\u001b[90m<int>\u001b[39m\u001b[23m \u001b[3m\u001b[90m<int>\u001b[39m\u001b[23m    \u001b[3m\u001b[90m<int>\u001b[39m\u001b[23m          \u001b[3m\u001b[90m<int>\u001b[39m\u001b[23m     \u001b[3m\u001b[90m<dbl>\u001b[39m\u001b[23m    \u001b[3m\u001b[90m<int>\u001b[39m\u001b[23m\n",
      "\u001b[90m 1\u001b[39m Spring     4  \u001b[4m2\u001b[24m013     1      454            500        -\u001b[31m6\u001b[39m      636\n",
      "\u001b[90m 2\u001b[39m Spring     4  \u001b[4m2\u001b[24m013     1      509            515        -\u001b[31m6\u001b[39m      743\n",
      "\u001b[90m 3\u001b[39m Spring     4  \u001b[4m2\u001b[24m013     1      526            530        -\u001b[31m4\u001b[39m      812\n",
      "\u001b[90m 4\u001b[39m Spring     4  \u001b[4m2\u001b[24m013     1      534            540        -\u001b[31m6\u001b[39m      833\n",
      "\u001b[90m 5\u001b[39m Spring     4  \u001b[4m2\u001b[24m013     1      542            545        -\u001b[31m3\u001b[39m      914\n",
      "\u001b[90m 6\u001b[39m Spring     4  \u001b[4m2\u001b[24m013     1      543            545        -\u001b[31m2\u001b[39m      921\n",
      "\u001b[90m 7\u001b[39m Spring     4  \u001b[4m2\u001b[24m013     1      551            600        -\u001b[31m9\u001b[39m      748\n",
      "\u001b[90m 8\u001b[39m Spring     4  \u001b[4m2\u001b[24m013     1      552            600        -\u001b[31m8\u001b[39m      641\n",
      "\u001b[90m 9\u001b[39m Spring     4  \u001b[4m2\u001b[24m013     1      553            600        -\u001b[31m7\u001b[39m      725\n",
      "\u001b[90m10\u001b[39m Spring     4  \u001b[4m2\u001b[24m013     1      554            600        -\u001b[31m6\u001b[39m      752\n",
      "\u001b[90m# ... with 336,766 more rows, and 12 more variables: sched_arr_time <int>,\u001b[39m\n",
      "\u001b[90m#   arr_delay <dbl>, carrier <chr>, flight <int>, tailnum <chr>, origin <chr>,\u001b[39m\n",
      "\u001b[90m#   dest <chr>, air_time <dbl>, distance <dbl>, hour <dbl>, minute <dbl>,\u001b[39m\n",
      "\u001b[90m#   time_hour <dttm>\u001b[39m\n"
     ]
    }
   ],
   "source": [
    "flights_with_seasons_ordered <- mutate(flights_with_seasons, \n",
    "                                       season=factor(season, \n",
    "                                                     levels=c(\"Spring\", \"Summer\", \"Fall\", \"Winter\"), \n",
    "                                                     ordered=TRUE)) %>%\n",
    "    arrange(season, month)\n",
    "print(flights_with_seasons_ordered)"
   ]
  },
  {
   "cell_type": "markdown",
   "metadata": {},
   "source": [
    "Finally we pare down the dataset to the columns requested by the prompt."
   ]
  },
  {
   "cell_type": "code",
   "execution_count": 10,
   "metadata": {},
   "outputs": [
    {
     "name": "stdout",
     "output_type": "stream",
     "text": [
      "\u001b[90m# A tibble: 336,776 x 3\u001b[39m\n",
      "   month   day tailnum\n",
      "   \u001b[3m\u001b[90m<int>\u001b[39m\u001b[23m \u001b[3m\u001b[90m<int>\u001b[39m\u001b[23m \u001b[3m\u001b[90m<chr>\u001b[39m\u001b[23m  \n",
      "\u001b[90m 1\u001b[39m     4     1 N566UW \n",
      "\u001b[90m 2\u001b[39m     4     1 N76288 \n",
      "\u001b[90m 3\u001b[39m     4     1 N76517 \n",
      "\u001b[90m 4\u001b[39m     4     1 N5DSAA \n",
      "\u001b[90m 5\u001b[39m     4     1 N784JB \n",
      "\u001b[90m 6\u001b[39m     4     1 N590JB \n",
      "\u001b[90m 7\u001b[39m     4     1 N737US \n",
      "\u001b[90m 8\u001b[39m     4     1 N750UW \n",
      "\u001b[90m 9\u001b[39m     4     1 N510MQ \n",
      "\u001b[90m10\u001b[39m     4     1 N723EV \n",
      "\u001b[90m# ... with 336,766 more rows\u001b[39m\n"
     ]
    }
   ],
   "source": [
    "season <- select(flights_with_seasons_ordered, month, day, tailnum)\n",
    "print(season)"
   ]
  },
  {
   "cell_type": "code",
   "execution_count": 11,
   "metadata": {},
   "outputs": [
    {
     "name": "stdout",
     "output_type": "stream",
     "text": [
      "\u001b[90m# A tibble: 336,776 x 3\u001b[39m\n",
      "   month   day tailnum\n",
      "   \u001b[3m\u001b[90m<int>\u001b[39m\u001b[23m \u001b[3m\u001b[90m<int>\u001b[39m\u001b[23m \u001b[3m\u001b[90m<chr>\u001b[39m\u001b[23m  \n",
      "\u001b[90m 1\u001b[39m     4     1 N566UW \n",
      "\u001b[90m 2\u001b[39m     4     1 N76288 \n",
      "\u001b[90m 3\u001b[39m     4     1 N76517 \n",
      "\u001b[90m 4\u001b[39m     4     1 N5DSAA \n",
      "\u001b[90m 5\u001b[39m     4     1 N784JB \n",
      "\u001b[90m 6\u001b[39m     4     1 N590JB \n",
      "\u001b[90m 7\u001b[39m     4     1 N737US \n",
      "\u001b[90m 8\u001b[39m     4     1 N750UW \n",
      "\u001b[90m 9\u001b[39m     4     1 N510MQ \n",
      "\u001b[90m10\u001b[39m     4     1 N723EV \n",
      "\u001b[90m# ... with 336,766 more rows\u001b[39m\n"
     ]
    }
   ],
   "source": [
    "season <- flights %>% mutate(season = ifelse(month %in% c(1,2,3), \"winter\",\n",
    "                                  ifelse(month %in% c(4,5,6), \"spring\", \n",
    "                                   ifelse(month %in% c(7,8,9), \"fall\", \"winter\")))) %>%\n",
    "    mutate(season = factor(season, levels = c(\"spring\", \"summer\", \"fall\", \"winter\"), ordered=TRUE)) %>% \n",
    "    arrange(season, month) %>%\n",
    "    select(month, day, tailnum)\n",
    "print(season)"
   ]
  },
  {
   "cell_type": "markdown",
   "metadata": {},
   "source": [
    "# Visualizing IMDB Movie Ratings"
   ]
  },
  {
   "cell_type": "markdown",
   "metadata": {},
   "source": [
    "Original source: https://www.imdb.com/interfaces/"
   ]
  },
  {
   "cell_type": "markdown",
   "metadata": {},
   "source": [
    "In many cases, you can read compressed files directly with the ```read_*``` family of functions in tidyverse."
   ]
  },
  {
   "cell_type": "code",
   "execution_count": 12,
   "metadata": {
    "scrolled": true
   },
   "outputs": [
    {
     "name": "stderr",
     "output_type": "stream",
     "text": [
      "\u001b[1m\u001b[1mRows: \u001b[1m\u001b[22m\u001b[34m\u001b[34m1077114\u001b[34m\u001b[39m \u001b[1m\u001b[1mColumns: \u001b[1m\u001b[22m\u001b[34m\u001b[34m3\u001b[34m\u001b[39m\n",
      "\n",
      "\u001b[36m--\u001b[39m \u001b[1m\u001b[1mColumn specification\u001b[1m\u001b[22m \u001b[36m------------------------------------------------------------------------------------------------\u001b[39m\n",
      "\u001b[1mDelimiter:\u001b[22m \"\\t\"\n",
      "\u001b[31mchr\u001b[39m (1): tconst\n",
      "\u001b[32mdbl\u001b[39m (2): averageRating, numVotes\n",
      "\n",
      "\n",
      "\u001b[36mi\u001b[39m Use \u001b[30m\u001b[47m\u001b[30m\u001b[47m`spec()`\u001b[47m\u001b[30m\u001b[49m\u001b[39m to retrieve the full column specification for this data.\n",
      "\u001b[36mi\u001b[39m Specify the column types or set \u001b[30m\u001b[47m\u001b[30m\u001b[47m`show_col_types = FALSE`\u001b[47m\u001b[30m\u001b[49m\u001b[39m to quiet this message.\n",
      "\n"
     ]
    }
   ],
   "source": [
    "ratings <- read_tsv('https://raw.githubusercontent.com/dereklhansen/stats306_lab/master/lab4/title.ratings.tsv.gz')"
   ]
  },
  {
   "cell_type": "code",
   "execution_count": 13,
   "metadata": {},
   "outputs": [
    {
     "name": "stdout",
     "output_type": "stream",
     "text": [
      "\u001b[90m# A tibble: 1,077,114 x 3\u001b[39m\n",
      "   tconst    averageRating numVotes\n",
      "   \u001b[3m\u001b[90m<chr>\u001b[39m\u001b[23m             \u001b[3m\u001b[90m<dbl>\u001b[39m\u001b[23m    \u001b[3m\u001b[90m<dbl>\u001b[39m\u001b[23m\n",
      "\u001b[90m 1\u001b[39m tt0000001           5.6     \u001b[4m1\u001b[24m647\n",
      "\u001b[90m 2\u001b[39m tt0000002           6.1      198\n",
      "\u001b[90m 3\u001b[39m tt0000003           6.5     \u001b[4m1\u001b[24m349\n",
      "\u001b[90m 4\u001b[39m tt0000004           6.2      120\n",
      "\u001b[90m 5\u001b[39m tt0000005           6.2     \u001b[4m2\u001b[24m137\n",
      "\u001b[90m 6\u001b[39m tt0000006           5.3      115\n",
      "\u001b[90m 7\u001b[39m tt0000007           5.5      655\n",
      "\u001b[90m 8\u001b[39m tt0000008           5.4     \u001b[4m1\u001b[24m816\n",
      "\u001b[90m 9\u001b[39m tt0000009           5.9      155\n",
      "\u001b[90m10\u001b[39m tt0000010           6.9     \u001b[4m6\u001b[24m034\n",
      "\u001b[90m# ... with 1,077,104 more rows\u001b[39m\n"
     ]
    }
   ],
   "source": [
    "print(ratings)"
   ]
  },
  {
   "cell_type": "code",
   "execution_count": 14,
   "metadata": {},
   "outputs": [
    {
     "data": {
      "image/png": "[encoded data removed]",
      "text/plain": [
       "plot without title"
      ]
     },
     "metadata": {
      "image/png": {
       "height": 420,
       "width": 420
      }
     },
     "output_type": "display_data"
    }
   ],
   "source": [
    "ggplot(ratings) + geom_histogram(aes(x=averageRating), bins = 30) # or binwidth"
   ]
  },
  {
   "cell_type": "markdown",
   "metadata": {},
   "source": [
    "What can we say about the distribution ratings?\n",
    "\n",
    "-  The peak is around 7.5\n",
    "-  The distribution is skewed left"
   ]
  },
  {
   "cell_type": "markdown",
   "metadata": {},
   "source": [
    "https://dcl-data-vis.stanford.edu/distributions.html\n",
    "\n",
    "* geom_histogram()\n",
    "* geom_freqpoly()\n",
    "* geom_density()\n",
    "* geom_boxplot()\n",
    "* geom_violin()\n",
    "* geom_vline()\n",
    "* geom_hline()"
   ]
  },
  {
   "cell_type": "code",
   "execution_count": 15,
   "metadata": {},
   "outputs": [
    {
     "data": {
      "image/png": "[encoded data removed]",
      "text/plain": [
       "plot without title"
      ]
     },
     "metadata": {
      "image/png": {
       "height": 420,
       "width": 420
      }
     },
     "output_type": "display_data"
    }
   ],
   "source": [
    "#'geom_density' a smoothed version of the histogram. \n",
    "#This is a useful alternative to the histogram for continuous data that comes from an underlying smooth distribution.\n",
    "ggplot(ratings) + geom_density(aes(x=averageRating))"
   ]
  },
  {
   "cell_type": "markdown",
   "metadata": {},
   "source": [
    "geom_density estimates the probability density function of your data. It relies on a smoothing parameter called the \"bandwidth\". If you select a higher bandwidth, the result will be smoother, but may discard local features. You can see what the default choice of bandwidth is by looking in the documentation."
   ]
  },
  {
   "cell_type": "markdown",
   "metadata": {},
   "source": [
    "* geom_density: https://ggplot2.tidyverse.org/reference/geom_density.html\n",
    "* stats::bw.nrd0: https://www.rdocumentation.org/packages/stats/versions/3.6.2/topics/bandwidth"
   ]
  },
  {
   "cell_type": "code",
   "execution_count": 16,
   "metadata": {},
   "outputs": [
    {
     "data": {
      "text/html": [
       "0.0709797226945649"
      ],
      "text/latex": [
       "0.0709797226945649"
      ],
      "text/markdown": [
       "0.0709797226945649"
      ],
      "text/plain": [
       "[1] 0.07097972"
      ]
     },
     "metadata": {},
     "output_type": "display_data"
    }
   ],
   "source": [
    "default_bw = stats::bw.nrd0(ratings$averageRating)\n",
    "default_bw"
   ]
  },
  {
   "cell_type": "code",
   "execution_count": 17,
   "metadata": {
    "scrolled": true
   },
   "outputs": [
    {
     "data": {
      "image/png": "[encoded data removed]",
      "text/plain": [
       "plot without title"
      ]
     },
     "metadata": {
      "image/png": {
       "height": 420,
       "width": 420
      }
     },
     "output_type": "display_data"
    },
    {
     "data": {
      "image/png": "[encoded data removed]",
      "text/plain": [
       "plot without title"
      ]
     },
     "metadata": {
      "image/png": {
       "height": 420,
       "width": 420
      }
     },
     "output_type": "display_data"
    },
    {
     "data": {
      "image/png": "[encoded data removed]",
      "text/plain": [
       "plot without title"
      ]
     },
     "metadata": {
      "image/png": {
       "height": 420,
       "width": 420
      }
     },
     "output_type": "display_data"
    },
    {
     "data": {
      "image/png": "[encoded data removed]",
      "text/plain": [
       "plot without title"
      ]
     },
     "metadata": {
      "image/png": {
       "height": 420,
       "width": 420
      }
     },
     "output_type": "display_data"
    },
    {
     "data": {
      "image/png": "[encoded data removed]",
      "text/plain": [
       "plot without title"
      ]
     },
     "metadata": {
      "image/png": {
       "height": 420,
       "width": 420
      }
     },
     "output_type": "display_data"
    }
   ],
   "source": [
    "multipliers = c(1,1.25, 1.5, 10, 1000)\n",
    "for(m in multipliers) {\n",
    "    g <- ggplot(ratings) + \n",
    "        geom_density(aes(x=averageRating), bw=m*default_bw) + \n",
    "        ggtitle(paste0(\"Distribution of IMDB Movie ratings, bw=\", m*default_bw))\n",
    "    plot(g)\n",
    "}"
   ]
  },
  {
   "cell_type": "code",
   "execution_count": 18,
   "metadata": {},
   "outputs": [
    {
     "name": "stderr",
     "output_type": "stream",
     "text": [
      "\u001b[1m\u001b[1mRows: \u001b[1m\u001b[22m\u001b[34m\u001b[34m46438162\u001b[34m\u001b[39m \u001b[1m\u001b[1mColumns: \u001b[1m\u001b[22m\u001b[34m\u001b[34m6\u001b[34m\u001b[39m\n",
      "\n",
      "\u001b[36m--\u001b[39m \u001b[1m\u001b[1mColumn specification\u001b[1m\u001b[22m \u001b[36m------------------------------------------------------------------------------------------------\u001b[39m\n",
      "\u001b[1mDelimiter:\u001b[22m \"\\t\"\n",
      "\u001b[31mchr\u001b[39m (5): tconst, nconst, category, job, characters\n",
      "\u001b[32mdbl\u001b[39m (1): ordering\n",
      "\n",
      "\n",
      "\u001b[36mi\u001b[39m Use \u001b[30m\u001b[47m\u001b[30m\u001b[47m`spec()`\u001b[47m\u001b[30m\u001b[49m\u001b[39m to retrieve the full column specification for this data.\n",
      "\u001b[36mi\u001b[39m Specify the column types or set \u001b[30m\u001b[47m\u001b[30m\u001b[47m`show_col_types = FALSE`\u001b[47m\u001b[30m\u001b[49m\u001b[39m to quiet this message.\n",
      "\n"
     ]
    }
   ],
   "source": [
    "principals <- read_tsv('https://datasets.imdbws.com/title.principals.tsv.gz')"
   ]
  },
  {
   "cell_type": "code",
   "execution_count": 19,
   "metadata": {
    "scrolled": true
   },
   "outputs": [
    {
     "name": "stderr",
     "output_type": "stream",
     "text": [
      "Warning message:\n",
      "\"One or more parsing issues, see `problems()` for details\"\n"
     ]
    },
    {
     "name": "stdout",
     "output_type": "stream",
     "text": [
      "\u001b[90m# A tibble: 46,438,162 x 6\u001b[39m\n",
      "   tconst    ordering nconst    category        job                       characters\n",
      "   \u001b[3m\u001b[90m<chr>\u001b[39m\u001b[23m        \u001b[3m\u001b[90m<dbl>\u001b[39m\u001b[23m \u001b[3m\u001b[90m<chr>\u001b[39m\u001b[23m     \u001b[3m\u001b[90m<chr>\u001b[39m\u001b[23m           \u001b[3m\u001b[90m<chr>\u001b[39m\u001b[23m                     \u001b[3m\u001b[90m<chr>\u001b[39m\u001b[23m     \n",
      "\u001b[90m 1\u001b[39m tt0000001        1 nm1588970 self            \u001b[90m\"\u001b[39m\\\\N\u001b[90m\"\u001b[39m                     \u001b[90m\"\u001b[39m[\\\"Self\\~\n",
      "\u001b[90m 2\u001b[39m tt0000001        2 nm0005690 director        \u001b[90m\"\u001b[39m\\\\N\u001b[90m\"\u001b[39m                     \u001b[90m\"\u001b[39m\\\\N\u001b[90m\"\u001b[39m     \n",
      "\u001b[90m 3\u001b[39m tt0000001        3 nm0374658 cinematographer \u001b[90m\"\u001b[39mdirector of photography\u001b[90m\"\u001b[39m \u001b[90m\"\u001b[39m\\\\N\u001b[90m\"\u001b[39m     \n",
      "\u001b[90m 4\u001b[39m tt0000002        1 nm0721526 director        \u001b[90m\"\u001b[39m\\\\N\u001b[90m\"\u001b[39m                     \u001b[90m\"\u001b[39m\\\\N\u001b[90m\"\u001b[39m     \n",
      "\u001b[90m 5\u001b[39m tt0000002        2 nm1335271 composer        \u001b[90m\"\u001b[39m\\\\N\u001b[90m\"\u001b[39m                     \u001b[90m\"\u001b[39m\\\\N\u001b[90m\"\u001b[39m     \n",
      "\u001b[90m 6\u001b[39m tt0000003        1 nm0721526 director        \u001b[90m\"\u001b[39m\\\\N\u001b[90m\"\u001b[39m                     \u001b[90m\"\u001b[39m\\\\N\u001b[90m\"\u001b[39m     \n",
      "\u001b[90m 7\u001b[39m tt0000003        2 nm1770680 producer        \u001b[90m\"\u001b[39mproducer\u001b[90m\"\u001b[39m                \u001b[90m\"\u001b[39m\\\\N\u001b[90m\"\u001b[39m     \n",
      "\u001b[90m 8\u001b[39m tt0000003        3 nm1335271 composer        \u001b[90m\"\u001b[39m\\\\N\u001b[90m\"\u001b[39m                     \u001b[90m\"\u001b[39m\\\\N\u001b[90m\"\u001b[39m     \n",
      "\u001b[90m 9\u001b[39m tt0000003        4 nm5442200 editor          \u001b[90m\"\u001b[39m\\\\N\u001b[90m\"\u001b[39m                     \u001b[90m\"\u001b[39m\\\\N\u001b[90m\"\u001b[39m     \n",
      "\u001b[90m10\u001b[39m tt0000004        1 nm0721526 director        \u001b[90m\"\u001b[39m\\\\N\u001b[90m\"\u001b[39m                     \u001b[90m\"\u001b[39m\\\\N\u001b[90m\"\u001b[39m     \n",
      "\u001b[90m# ... with 46,438,152 more rows\u001b[39m\n"
     ]
    }
   ],
   "source": [
    "print(principals)"
   ]
  },
  {
   "cell_type": "code",
   "execution_count": 20,
   "metadata": {
    "scrolled": true
   },
   "outputs": [
    {
     "data": {
      "text/html": [
       "<table class=\"dataframe\">\n",
       "<caption>A tibble: 1 × 5</caption>\n",
       "<thead>\n",
       "\t<tr><th scope=col>row</th><th scope=col>col</th><th scope=col>expected</th><th scope=col>actual</th><th scope=col>file</th></tr>\n",
       "\t<tr><th scope=col>&lt;int&gt;</th><th scope=col>&lt;int&gt;</th><th scope=col>&lt;chr&gt;</th><th scope=col>&lt;chr&gt;</th><th scope=col>&lt;chr&gt;</th></tr>\n",
       "</thead>\n",
       "<tbody>\n",
       "\t<tr><td>16976238</td><td>5</td><td>6 columns</td><td>5 columns</td><td></td></tr>\n",
       "</tbody>\n",
       "</table>\n"
      ],
      "text/latex": [
       "A tibble: 1 × 5\n",
       "\\begin{tabular}{lllll}\n",
       " row & col & expected & actual & file\\\\\n",
       " <int> & <int> & <chr> & <chr> & <chr>\\\\\n",
       "\\hline\n",
       "\t 16976238 & 5 & 6 columns & 5 columns & \\\\\n",
       "\\end{tabular}\n"
      ],
      "text/markdown": [
       "\n",
       "A tibble: 1 × 5\n",
       "\n",
       "| row &lt;int&gt; | col &lt;int&gt; | expected &lt;chr&gt; | actual &lt;chr&gt; | file &lt;chr&gt; |\n",
       "|---|---|---|---|---|\n",
       "| 16976238 | 5 | 6 columns | 5 columns | <!----> |\n",
       "\n"
      ],
      "text/plain": [
       "  row      col expected  actual    file\n",
       "1 16976238 5   6 columns 5 columns     "
      ]
     },
     "metadata": {},
     "output_type": "display_data"
    }
   ],
   "source": [
    "problems()"
   ]
  },
  {
   "cell_type": "code",
   "execution_count": 21,
   "metadata": {},
   "outputs": [],
   "source": [
    "library(stringi)"
   ]
  },
  {
   "cell_type": "markdown",
   "metadata": {},
   "source": [
    "Suppose we want to compare the two greatest actors of our generation:\n",
    "\n",
    "![nic](https://raw.githubusercontent.com/dereklhansen/stats306_lab/master/lab4/nic.jpg) ![leo](https://raw.githubusercontent.com/dereklhansen/stats306_lab/master/lab4/leo.jpg)\n",
    "\n",
    "The dataset containing all actors and characters is really large, so I ran this code to generate a table which will tell us if Nicolas Cage or Leonardo DiCaprio were in a movie, and saved it to \"greatest_actors.csv.gz\". Note that write_csv will automatically compress the output if we have \".gz\" as the extension."
   ]
  },
  {
   "cell_type": "code",
   "execution_count": 22,
   "metadata": {},
   "outputs": [],
   "source": [
    "greatest_actors <- principals %>% \n",
    "    mutate(actor=case_when(\n",
    "        nconst==\"nm0000115\"~\"Nicolas Cage\",\n",
    "        nconst==\"nm0000138\"~\"Leonardo DiCaprio\",\n",
    "        TRUE~\"Somebody else\"\n",
    "    )) %>%\n",
    "    group_by(tconst) %>%\n",
    "    summarize(has_nic=any(nconst==\"nm0000115\"), has_leo=any(nconst==\"nm0000138\"))\n",
    "write_csv(greatest_actors, \"greatest_actors.csv.gz\")"
   ]
  },
  {
   "cell_type": "code",
   "execution_count": 23,
   "metadata": {},
   "outputs": [
    {
     "name": "stderr",
     "output_type": "stream",
     "text": [
      "\u001b[1m\u001b[1mRows: \u001b[1m\u001b[22m\u001b[34m\u001b[34m6344650\u001b[34m\u001b[39m \u001b[1m\u001b[1mColumns: \u001b[1m\u001b[22m\u001b[34m\u001b[34m3\u001b[34m\u001b[39m\n",
      "\n",
      "\u001b[36m--\u001b[39m \u001b[1m\u001b[1mColumn specification\u001b[1m\u001b[22m \u001b[36m------------------------------------------------------------------------------------------------\u001b[39m\n",
      "\u001b[1mDelimiter:\u001b[22m \",\"\n",
      "\u001b[31mchr\u001b[39m (1): tconst\n",
      "\u001b[33mlgl\u001b[39m (2): has_nic, has_leo\n",
      "\n",
      "\n",
      "\u001b[36mi\u001b[39m Use \u001b[30m\u001b[47m\u001b[30m\u001b[47m`spec()`\u001b[47m\u001b[30m\u001b[49m\u001b[39m to retrieve the full column specification for this data.\n",
      "\u001b[36mi\u001b[39m Specify the column types or set \u001b[30m\u001b[47m\u001b[30m\u001b[47m`show_col_types = FALSE`\u001b[47m\u001b[30m\u001b[49m\u001b[39m to quiet this message.\n",
      "\n"
     ]
    }
   ],
   "source": [
    "greatest_actors <- read_csv(\"https://raw.githubusercontent.com/dereklhansen/stats306_lab/master/lab4/greatest_actors.csv.gz\")"
   ]
  },
  {
   "cell_type": "code",
   "execution_count": 24,
   "metadata": {
    "scrolled": true
   },
   "outputs": [
    {
     "name": "stdout",
     "output_type": "stream",
     "text": [
      "\u001b[90m# A tibble: 6,344,650 x 3\u001b[39m\n",
      "   tconst    has_nic has_leo\n",
      "   \u001b[3m\u001b[90m<chr>\u001b[39m\u001b[23m     \u001b[3m\u001b[90m<lgl>\u001b[39m\u001b[23m   \u001b[3m\u001b[90m<lgl>\u001b[39m\u001b[23m  \n",
      "\u001b[90m 1\u001b[39m tt0000001 FALSE   FALSE  \n",
      "\u001b[90m 2\u001b[39m tt0000002 FALSE   FALSE  \n",
      "\u001b[90m 3\u001b[39m tt0000003 FALSE   FALSE  \n",
      "\u001b[90m 4\u001b[39m tt0000004 FALSE   FALSE  \n",
      "\u001b[90m 5\u001b[39m tt0000005 FALSE   FALSE  \n",
      "\u001b[90m 6\u001b[39m tt0000006 FALSE   FALSE  \n",
      "\u001b[90m 7\u001b[39m tt0000007 FALSE   FALSE  \n",
      "\u001b[90m 8\u001b[39m tt0000008 FALSE   FALSE  \n",
      "\u001b[90m 9\u001b[39m tt0000009 FALSE   FALSE  \n",
      "\u001b[90m10\u001b[39m tt0000010 FALSE   FALSE  \n",
      "\u001b[90m# ... with 6,344,640 more rows\u001b[39m\n"
     ]
    }
   ],
   "source": [
    "print(greatest_actors)"
   ]
  },
  {
   "cell_type": "markdown",
   "metadata": {},
   "source": [
    "We now join this table to our ratings table via the title identifier \"tconst\"\n",
    "https://www.rdocumentation.org/packages/tidyft/versions/0.4.5/topics/inner_join"
   ]
  },
  {
   "cell_type": "code",
   "execution_count": 25,
   "metadata": {},
   "outputs": [],
   "source": [
    "ratings_actors <- inner_join(ratings, greatest_actors, by=\"tconst\")"
   ]
  },
  {
   "cell_type": "code",
   "execution_count": 26,
   "metadata": {
    "scrolled": true
   },
   "outputs": [
    {
     "name": "stdout",
     "output_type": "stream",
     "text": [
      "\u001b[90m# A tibble: 1,033,078 x 5\u001b[39m\n",
      "   tconst    averageRating numVotes has_nic has_leo\n",
      "   \u001b[3m\u001b[90m<chr>\u001b[39m\u001b[23m             \u001b[3m\u001b[90m<dbl>\u001b[39m\u001b[23m    \u001b[3m\u001b[90m<dbl>\u001b[39m\u001b[23m \u001b[3m\u001b[90m<lgl>\u001b[39m\u001b[23m   \u001b[3m\u001b[90m<lgl>\u001b[39m\u001b[23m  \n",
      "\u001b[90m 1\u001b[39m tt0000001           5.6     \u001b[4m1\u001b[24m647 FALSE   FALSE  \n",
      "\u001b[90m 2\u001b[39m tt0000002           6.1      198 FALSE   FALSE  \n",
      "\u001b[90m 3\u001b[39m tt0000003           6.5     \u001b[4m1\u001b[24m349 FALSE   FALSE  \n",
      "\u001b[90m 4\u001b[39m tt0000004           6.2      120 FALSE   FALSE  \n",
      "\u001b[90m 5\u001b[39m tt0000005           6.2     \u001b[4m2\u001b[24m137 FALSE   FALSE  \n",
      "\u001b[90m 6\u001b[39m tt0000006           5.3      115 FALSE   FALSE  \n",
      "\u001b[90m 7\u001b[39m tt0000007           5.5      655 FALSE   FALSE  \n",
      "\u001b[90m 8\u001b[39m tt0000008           5.4     \u001b[4m1\u001b[24m816 FALSE   FALSE  \n",
      "\u001b[90m 9\u001b[39m tt0000009           5.9      155 FALSE   FALSE  \n",
      "\u001b[90m10\u001b[39m tt0000010           6.9     \u001b[4m6\u001b[24m034 FALSE   FALSE  \n",
      "\u001b[90m# ... with 1,033,068 more rows\u001b[39m\n"
     ]
    }
   ],
   "source": [
    "print(ratings_actors)"
   ]
  },
  {
   "cell_type": "markdown",
   "metadata": {},
   "source": [
    "A nifty use of the \"case_when\" function lets us construct a single variable, \"cast\", which will categorize movies into four groups:\n",
    "-  Has Nicolas Cage (\"Nic\"), but not Leonardo DiCaprio (\"Leo\")\n",
    "-  Has Leo, but not Nic\n",
    "-  Has both Leo and Nic\n",
    "-  Has neither Leo nor Nic"
   ]
  },
  {
   "cell_type": "code",
   "execution_count": 27,
   "metadata": {},
   "outputs": [],
   "source": [
    "ratings_nic_vs_leo <- ratings_actors %>%\n",
    "    mutate(cast = case_when(\n",
    "        has_nic & !has_leo  ~ \"nic_only\",\n",
    "        !has_nic & has_leo  ~ \"leo_only\",\n",
    "        has_nic & has_leo   ~ \"both\",\n",
    "        !has_nic & !has_leo ~ \"neither\")) %>%\n",
    "    mutate(cast = as.factor(cast)) %>%\n",
    "    filter(numVotes > 10000)"
   ]
  },
  {
   "cell_type": "code",
   "execution_count": 28,
   "metadata": {},
   "outputs": [
    {
     "data": {
      "text/html": [
       "<table class=\"dataframe\">\n",
       "<caption>A tibble: 6 × 6</caption>\n",
       "<thead>\n",
       "\t<tr><th scope=col>tconst</th><th scope=col>averageRating</th><th scope=col>numVotes</th><th scope=col>has_nic</th><th scope=col>has_leo</th><th scope=col>cast</th></tr>\n",
       "\t<tr><th scope=col>&lt;chr&gt;</th><th scope=col>&lt;dbl&gt;</th><th scope=col>&lt;dbl&gt;</th><th scope=col>&lt;lgl&gt;</th><th scope=col>&lt;lgl&gt;</th><th scope=col>&lt;fct&gt;</th></tr>\n",
       "</thead>\n",
       "<tbody>\n",
       "\t<tr><td>tt0000012</td><td>7.4</td><td>10329</td><td>FALSE</td><td>FALSE</td><td>neither</td></tr>\n",
       "\t<tr><td>tt0000417</td><td>8.2</td><td>42934</td><td>FALSE</td><td>FALSE</td><td>neither</td></tr>\n",
       "\t<tr><td>tt0000439</td><td>7.3</td><td>16909</td><td>FALSE</td><td>FALSE</td><td>neither</td></tr>\n",
       "\t<tr><td>tt0004972</td><td>6.3</td><td>22306</td><td>FALSE</td><td>FALSE</td><td>neither</td></tr>\n",
       "\t<tr><td>tt0006864</td><td>7.7</td><td>13934</td><td>FALSE</td><td>FALSE</td><td>neither</td></tr>\n",
       "\t<tr><td>tt0010323</td><td>8.1</td><td>55862</td><td>FALSE</td><td>FALSE</td><td>neither</td></tr>\n",
       "</tbody>\n",
       "</table>\n"
      ],
      "text/latex": [
       "A tibble: 6 × 6\n",
       "\\begin{tabular}{llllll}\n",
       " tconst & averageRating & numVotes & has\\_nic & has\\_leo & cast\\\\\n",
       " <chr> & <dbl> & <dbl> & <lgl> & <lgl> & <fct>\\\\\n",
       "\\hline\n",
       "\t tt0000012 & 7.4 & 10329 & FALSE & FALSE & neither\\\\\n",
       "\t tt0000417 & 8.2 & 42934 & FALSE & FALSE & neither\\\\\n",
       "\t tt0000439 & 7.3 & 16909 & FALSE & FALSE & neither\\\\\n",
       "\t tt0004972 & 6.3 & 22306 & FALSE & FALSE & neither\\\\\n",
       "\t tt0006864 & 7.7 & 13934 & FALSE & FALSE & neither\\\\\n",
       "\t tt0010323 & 8.1 & 55862 & FALSE & FALSE & neither\\\\\n",
       "\\end{tabular}\n"
      ],
      "text/markdown": [
       "\n",
       "A tibble: 6 × 6\n",
       "\n",
       "| tconst &lt;chr&gt; | averageRating &lt;dbl&gt; | numVotes &lt;dbl&gt; | has_nic &lt;lgl&gt; | has_leo &lt;lgl&gt; | cast &lt;fct&gt; |\n",
       "|---|---|---|---|---|---|\n",
       "| tt0000012 | 7.4 | 10329 | FALSE | FALSE | neither |\n",
       "| tt0000417 | 8.2 | 42934 | FALSE | FALSE | neither |\n",
       "| tt0000439 | 7.3 | 16909 | FALSE | FALSE | neither |\n",
       "| tt0004972 | 6.3 | 22306 | FALSE | FALSE | neither |\n",
       "| tt0006864 | 7.7 | 13934 | FALSE | FALSE | neither |\n",
       "| tt0010323 | 8.1 | 55862 | FALSE | FALSE | neither |\n",
       "\n"
      ],
      "text/plain": [
       "  tconst    averageRating numVotes has_nic has_leo cast   \n",
       "1 tt0000012 7.4           10329    FALSE   FALSE   neither\n",
       "2 tt0000417 8.2           42934    FALSE   FALSE   neither\n",
       "3 tt0000439 7.3           16909    FALSE   FALSE   neither\n",
       "4 tt0004972 6.3           22306    FALSE   FALSE   neither\n",
       "5 tt0006864 7.7           13934    FALSE   FALSE   neither\n",
       "6 tt0010323 8.1           55862    FALSE   FALSE   neither"
      ]
     },
     "metadata": {},
     "output_type": "display_data"
    }
   ],
   "source": [
    "head(ratings_nic_vs_leo)"
   ]
  },
  {
   "cell_type": "markdown",
   "metadata": {},
   "source": [
    "Let's look at the ratings of movies with Leonardo DiCaprio vs movies without him."
   ]
  },
  {
   "cell_type": "code",
   "execution_count": 29,
   "metadata": {},
   "outputs": [
    {
     "name": "stderr",
     "output_type": "stream",
     "text": [
      "`stat_bin()` using `bins = 30`. Pick better value with `binwidth`.\n",
      "\n"
     ]
    },
    {
     "data": {
      "image/png": "[encoded data removed]",
      "text/plain": [
       "plot without title"
      ]
     },
     "metadata": {
      "image/png": {
       "height": 420,
       "width": 420
      }
     },
     "output_type": "display_data"
    }
   ],
   "source": [
    "ggplot(ratings_nic_vs_leo, aes(x=averageRating, fill=has_leo)) + geom_histogram()"
   ]
  },
  {
   "cell_type": "markdown",
   "metadata": {},
   "source": [
    "Wait, what happened? Since the y-axis is count, the number of movies with Leo in them is dwarfed by the number of total titles in the dataset. Even the most prolific actors can't star in that many movies.\n",
    "\n",
    "There's a way to fix the histogram to be proportional and compare groups; this is left as an exercise."
   ]
  },
  {
   "cell_type": "code",
   "execution_count": 30,
   "metadata": {},
   "outputs": [
    {
     "data": {
      "image/png": "[encoded data removed]",
      "text/plain": [
       "plot without title"
      ]
     },
     "metadata": {
      "image/png": {
       "height": 420,
       "width": 420
      }
     },
     "output_type": "display_data"
    }
   ],
   "source": [
    "ggplot(ratings_nic_vs_leo,aes(x=averageRating,fill=has_leo))+\n",
    "  geom_histogram(aes(y=0.5*..density..),\n",
    "                 alpha=0.5,position='identity',binwidth=0.5)"
   ]
  },
  {
   "cell_type": "markdown",
   "metadata": {},
   "source": [
    "Instead, we can use geom_density to compare the distribution of a variable between different groups."
   ]
  },
  {
   "cell_type": "code",
   "execution_count": 31,
   "metadata": {},
   "outputs": [
    {
     "data": {
      "image/png": "[encoded data removed]",
      "text/plain": [
       "plot without title"
      ]
     },
     "metadata": {
      "image/png": {
       "height": 420,
       "width": 420
      }
     },
     "output_type": "display_data"
    }
   ],
   "source": [
    "ggplot(ratings_nic_vs_leo, aes(x=averageRating, color=has_leo， group=has_leo)) + geom_density()"
   ]
  },
  {
   "cell_type": "code",
   "execution_count": 32,
   "metadata": {
    "scrolled": false
   },
   "outputs": [
    {
     "data": {
      "image/png": "[encoded data removed]",
      "text/plain": [
       "plot without title"
      ]
     },
     "metadata": {
      "image/png": {
       "height": 420,
       "width": 420
      }
     },
     "output_type": "display_data"
    }
   ],
   "source": [
    "ggplot(ratings_nic_vs_leo, aes(x=averageRating, color=has_nic, group=has_nic)) + geom_density()"
   ]
  },
  {
   "cell_type": "markdown",
   "metadata": {},
   "source": [
    "We can look at the distributions of all four of our groups. Note that this gets a bit messy and hard to read."
   ]
  },
  {
   "cell_type": "code",
   "execution_count": 33,
   "metadata": {
    "scrolled": false
   },
   "outputs": [
    {
     "data": {
      "image/png": "[encoded data removed]",
      "text/plain": [
       "plot without title"
      ]
     },
     "metadata": {
      "image/png": {
       "height": 420,
       "width": 420
      }
     },
     "output_type": "display_data"
    }
   ],
   "source": [
    "ggplot(ratings_nic_vs_leo, aes(x=averageRating, color=cast, group=cast)) + geom_density()"
   ]
  },
  {
   "cell_type": "markdown",
   "metadata": {},
   "source": [
    "The \"geom_boxplot\" function is another handy way to visualize distributions. It is arguably more foolproof than geom_density because it directly plots the quartiles of distributions. It also makes it easier to visually compare many distributions"
   ]
  },
  {
   "cell_type": "code",
   "execution_count": 34,
   "metadata": {},
   "outputs": [
    {
     "data": {
      "image/png": "[encoded data removed]",
      "text/plain": [
       "plot without title"
      ]
     },
     "metadata": {
      "image/png": {
       "height": 420,
       "width": 420
      }
     },
     "output_type": "display_data"
    }
   ],
   "source": [
    "ggplot(ratings_nic_vs_leo, aes(x=averageRating, color=cast, group=cast)) + geom_boxplot()"
   ]
  },
  {
   "cell_type": "markdown",
   "metadata": {},
   "source": [
    "Here we see that Nic does generally worse in his movie ratings than Leo. Moreover, Nic has been in some particularly low-rated titles, shown by the outlier dots."
   ]
  },
  {
   "cell_type": "markdown",
   "metadata": {},
   "source": [
    "The summary statistics for each group can be seen here:"
   ]
  },
  {
   "cell_type": "code",
   "execution_count": 35,
   "metadata": {},
   "outputs": [
    {
     "data": {
      "text/html": [
       "<table class=\"dataframe\">\n",
       "<caption>A tibble: 3 × 6</caption>\n",
       "<thead>\n",
       "\t<tr><th scope=col>cast</th><th scope=col>worst</th><th scope=col>q25</th><th scope=col>q50</th><th scope=col>q75</th><th scope=col>best</th></tr>\n",
       "\t<tr><th scope=col>&lt;fct&gt;</th><th scope=col>&lt;dbl&gt;</th><th scope=col>&lt;dbl&gt;</th><th scope=col>&lt;dbl&gt;</th><th scope=col>&lt;dbl&gt;</th><th scope=col>&lt;dbl&gt;</th></tr>\n",
       "</thead>\n",
       "<tbody>\n",
       "\t<tr><td>leo_only</td><td>5.3</td><td>6.6</td><td>7.25</td><td>7.95</td><td> 8.8</td></tr>\n",
       "\t<tr><td>neither </td><td>1.0</td><td>6.2</td><td>7.00</td><td>7.60</td><td>10.0</td></tr>\n",
       "\t<tr><td>nic_only</td><td>3.1</td><td>5.8</td><td>6.30</td><td>6.90</td><td> 7.7</td></tr>\n",
       "</tbody>\n",
       "</table>\n"
      ],
      "text/latex": [
       "A tibble: 3 × 6\n",
       "\\begin{tabular}{llllll}\n",
       " cast & worst & q25 & q50 & q75 & best\\\\\n",
       " <fct> & <dbl> & <dbl> & <dbl> & <dbl> & <dbl>\\\\\n",
       "\\hline\n",
       "\t leo\\_only & 5.3 & 6.6 & 7.25 & 7.95 &  8.8\\\\\n",
       "\t neither  & 1.0 & 6.2 & 7.00 & 7.60 & 10.0\\\\\n",
       "\t nic\\_only & 3.1 & 5.8 & 6.30 & 6.90 &  7.7\\\\\n",
       "\\end{tabular}\n"
      ],
      "text/markdown": [
       "\n",
       "A tibble: 3 × 6\n",
       "\n",
       "| cast &lt;fct&gt; | worst &lt;dbl&gt; | q25 &lt;dbl&gt; | q50 &lt;dbl&gt; | q75 &lt;dbl&gt; | best &lt;dbl&gt; |\n",
       "|---|---|---|---|---|---|\n",
       "| leo_only | 5.3 | 6.6 | 7.25 | 7.95 |  8.8 |\n",
       "| neither  | 1.0 | 6.2 | 7.00 | 7.60 | 10.0 |\n",
       "| nic_only | 3.1 | 5.8 | 6.30 | 6.90 |  7.7 |\n",
       "\n"
      ],
      "text/plain": [
       "  cast     worst q25 q50  q75  best\n",
       "1 leo_only 5.3   6.6 7.25 7.95  8.8\n",
       "2 neither  1.0   6.2 7.00 7.60 10.0\n",
       "3 nic_only 3.1   5.8 6.30 6.90  7.7"
      ]
     },
     "metadata": {},
     "output_type": "display_data"
    }
   ],
   "source": [
    "ratings_nic_vs_leo %>%\n",
    "    group_by(cast) %>%\n",
    "    summarize(\n",
    "        worst=min(averageRating),\n",
    "        q25=quantile(averageRating, 0.25),\n",
    "        q50=quantile(averageRating, 0.50),\n",
    "        q75=quantile(averageRating, 0.75),\n",
    "        best=max(averageRating))"
   ]
  }
 ],
 "metadata": {
  "kernelspec": {
   "display_name": "R",
   "language": "R",
   "name": "ir"
  },
  "language_info": {
   "codemirror_mode": "r",
   "file_extension": ".r",
   "mimetype": "text/x-r-source",
   "name": "R",
   "pygments_lexer": "r",
   "version": "4.1.1"
  }
 },
 "nbformat": 4,
 "nbformat_minor": 2
}
